{
 "cells": [
  {
   "cell_type": "code",
   "execution_count": 30,
   "metadata": {},
   "outputs": [],
   "source": [
    "using Pkg\n",
    "#Pkg.activate(\"/media/mat/HDD/VortexModels\")\n",
    "#Pkg.add(\"JLD\")\n",
    "#Pkg.add(\"FileIO\")\n",
    "using RigidBodyTools\n",
    "using Revise\n",
    "using ViscousFlow\n",
    "using RigidBodyTools\n",
    "using ProgressMeter\n",
    "using LinearAlgebra\n",
    "import LinearAlgebra: dot\n",
    "using ColorSchemes\n",
    "using Statistics\n",
    "using Interpolations\n",
    "using SparseArrays\n",
    "using Plots\n",
    "using JLD\n",
    "using FileIO"
   ]
  },
  {
   "cell_type": "code",
   "execution_count": 8,
   "metadata": {},
   "outputs": [],
   "source": [
    "import Base: *, diff\n",
    "#pyplot()\n",
    "#clibrary(:colorbrewer)\n",
    "using ColorBrewer\n",
    "default(grid = false)"
   ]
  },
  {
   "cell_type": "markdown",
   "metadata": {},
   "source": [
    "# Functions for Flapping Wing Kinematics"
   ]
  },
  {
   "cell_type": "code",
   "execution_count": 9,
   "metadata": {},
   "outputs": [],
   "source": [
    "struct TriangleWave <: RigidBodyTools.Profile\n",
    "    w::Float64\n",
    "    round_factor::Float64\n",
    "end\n",
    "\n",
    "(T::TriangleWave)(t) = 1/(1-2/pi*acos(1-T.round_factor))*(1-2/pi*acos((1-T.round_factor)*sin(T.w*t - pi/2)))"
   ]
  },
  {
   "cell_type": "code",
   "execution_count": 11,
   "metadata": {},
   "outputs": [],
   "source": [
    "struct SquareWave <: RigidBodyTools.Profile\n",
    "    w::Float64\n",
    "    round_factor::Float64\n",
    "end\n",
    "\n",
    "(s::SquareWave)(t) = 1/atan(1/s.round_factor)*atan(sin(s.w*t)/s.round_factor)"
   ]
  },
  {
   "cell_type": "code",
   "execution_count": 13,
   "metadata": {},
   "outputs": [],
   "source": [
    "struct PitchHeaveTest <: Kinematics\n",
    "    \"Freestream velocity\"\n",
    "    U₀::Float64\n",
    "\n",
    "    \"Axis of pitch rotation, relative to the plate centroid\"\n",
    "    a::Float64\n",
    "\n",
    "    \"Reduced frequency ``K = \\\\frac{\\\\Omega c}{2U_0}``\"\n",
    "    K::Float64\n",
    "\n",
    "    \"Phase lag of pitch to heave (in radians)\"\n",
    "    ϕ::Float64\n",
    "\n",
    "    \"Mean angle of attack\"\n",
    "    α₀::Float64\n",
    "\n",
    "    \"Amplitude of pitching\"\n",
    "    Δα::Float64\n",
    "\n",
    "    \"Amplitude of translational heaving\"\n",
    "    A::Float64\n",
    "    \n",
    "    \"Sinusoidal nature of pitching/heaving\"\n",
    "    delta_pitch::Float64\n",
    "    delta_heave::Float64\n",
    "\n",
    "    Y::RigidBodyTools.Profile\n",
    "    Ẏ::RigidBodyTools.Profile\n",
    "    Ÿ::RigidBodyTools.Profile\n",
    "\n",
    "    α::RigidBodyTools.Profile\n",
    "    α̇::RigidBodyTools.Profile\n",
    "    α̈::RigidBodyTools.Profile\n",
    "    \n",
    "end"
   ]
  },
  {
   "cell_type": "code",
   "execution_count": 14,
   "metadata": {},
   "outputs": [
    {
     "data": {
      "text/plain": [
       "PitchHeaveTest"
      ]
     },
     "execution_count": 14,
     "metadata": {},
     "output_type": "execute_result"
    }
   ],
   "source": [
    "function PitchHeaveTest(U₀, a, K, ϕ, α₀, Δα, A)\n",
    "    p = A*RigidBodyTools.Sinusoid(2K)\n",
    "    ṗ = d_dt(p)\n",
    "    p̈ = d_dt(ṗ)\n",
    "    α = RigidBodyTools.ConstantProfile(α₀) + Δα*(RigidBodyTools.Sinusoid(2K) >> (ϕ/(2K)))\n",
    "    α̇ = d_dt(α)\n",
    "    α̈ = d_dt(α̇)\n",
    "    PitchHeaveTest(U₀, a, K, ϕ, α₀, Δα, A, 1, 1, p, ṗ, p̈, α, α̇, α̈)\n",
    "end"
   ]
  },
  {
   "cell_type": "code",
   "execution_count": 17,
   "metadata": {},
   "outputs": [
    {
     "data": {
      "text/plain": [
       "PitchHeaveTest"
      ]
     },
     "execution_count": 17,
     "metadata": {},
     "output_type": "execute_result"
    }
   ],
   "source": [
    "function PitchHeaveTest(U₀, a, K, ϕ, α₀, Δα, A, delta_pitch, delta_heave)\n",
    "    p = A*TriangleWave(2K, delta_heave)\n",
    "    ṗ = d_dt(p)\n",
    "    p̈ = d_dt(ṗ)\n",
    "    # α = RigidBodyMotions.ConstantProfile(α₀) + Δα*(SquareWave(2K, delta_pitch) >> (ϕ/(2K)))\n",
    "    α = RigidBodyTools.ConstantProfile(α₀) + Δα*(SquareWave(2K, delta_pitch))\n",
    "    α̇ = d_dt(α)\n",
    "    α̈ = d_dt(α̇)\n",
    "    PitchHeaveTest(U₀, a, K, ϕ, α₀, Δα, A, delta_pitch, delta_heave, p, ṗ, p̈, α, α̇, α̈)\n",
    "end"
   ]
  },
  {
   "cell_type": "code",
   "execution_count": 18,
   "metadata": {},
   "outputs": [],
   "source": [
    "function (p::PitchHeaveTest)(t)\n",
    "    α = p.α(t)\n",
    "    α̇ = p.α̇(t)\n",
    "    α̈ = p.α̈(t)\n",
    "\n",
    "    c = p.U₀*t + im*p.Y(t) - p.a*exp(im*α)\n",
    "    ċ = p.U₀ + im*p.Ẏ(t) - p.a*im*α*exp(im*α)*α̇ \n",
    "    c̈ = im*p.Ÿ(t) - p.a*im*α̇ *exp(im*α)*α̇  + p.a*α^2*exp(im*α)*α̇ ^2 - p.a*im*α*exp(im*α)*α̈ \n",
    "\n",
    "    return c, ċ, c̈, α, α̇, α̈\n",
    "end"
   ]
  },
  {
   "cell_type": "markdown",
   "metadata": {},
   "source": [
    "# Setting Up the Body and Environment"
   ]
  },
  {
   "cell_type": "code",
   "execution_count": 19,
   "metadata": {},
   "outputs": [],
   "source": [
    "Re = 200;\n",
    "U = 0.0;\n",
    "U∞ = (U,0.0);\n",
    "\n",
    "n = 51;\n",
    "a = 1.0; # b = 0.1;\n",
    "# thicc = 0.05;\n",
    "body = Plate(a, n);"
   ]
  },
  {
   "cell_type": "code",
   "execution_count": 22,
   "metadata": {},
   "outputs": [
    {
     "data": {
      "text/plain": [
       "Rigid Body Motion:\n",
       "  ċ = 0.0 + 1.57im\n",
       "  c̈ = -0.68 + 1.17im\n",
       "  α̇ = 0.0\n",
       "  α̈ = -5.17\n",
       "  PitchHeaveTest(0.0, 0.5, 1.5707963267948966, -1.5707963267948966, 0.0, 0.5235987755982988, 0.5, 1.0, 1.0, 0.5 × (Sinusoid (ω = 3.14)), d/dt (0.5 × (Sinusoid (ω = 3.14))), d/dt (d/dt (0.5 × (Sinusoid (ω = 3.14)))), AddedProfiles:\n",
       "  Constant (0)\n",
       "  0.5235987755982988 × (Sinusoid (ω = 3.14) >> -0.5)\n",
       ", d/dt (AddedProfiles:\n",
       "  Constant (0)\n",
       "  0.5235987755982988 × (Sinusoid (ω = 3.14) >> -0.5)\n",
       "), d/dt (d/dt (AddedProfiles:\n",
       "  Constant (0)\n",
       "  0.5235987755982988 × (Sinusoid (ω = 3.14) >> -0.5)\n",
       ")))"
      ]
     },
     "execution_count": 22,
     "metadata": {},
     "output_type": "execute_result"
    }
   ],
   "source": [
    "a = 0.5 # location of pitch axis, a = 0.5 is leading edge. Try 0.1, 0.25, 0.4, and 0.5\n",
    "ϕ = -pi/2  # phase lag of pitch to heave\n",
    "A = 0.5  # amplitude/chord\n",
    "fstar = 1.0/2 # fc/U\n",
    "α₀ = 0 # mean angle of attack\n",
    "Δα = 30π/180 # amplitude of pitching, try 5, 15, 30, and 45\n",
    "U₀ = 0.0 # translational motion (set to zero in place of free stream)\n",
    "\n",
    "K = π*fstar # reduced frequency, K = πfc/U\n",
    "\n",
    "oscil = PitchHeaveTest(U₀,a,K,ϕ,α₀,Δα,A);\n",
    "motion = RigidBodyMotion(oscil)\n",
    "\n"
   ]
  },
  {
   "cell_type": "code",
   "execution_count": 23,
   "metadata": {},
   "outputs": [
    {
     "data": {
      "text/plain": [
       "(-0.43301270189221935 - 0.24999999999999997im, 1.318463107291888e-17 + 1.5707963267948966im, -0.6764520210694611 + 1.1716492693749596im, 0.5235987755982988, 1.0072316198870592e-16, -5.167712780049969)"
      ]
     },
     "execution_count": 23,
     "metadata": {},
     "output_type": "execute_result"
    }
   ],
   "source": [
    "m = motion(0.0)"
   ]
  },
  {
   "cell_type": "code",
   "execution_count": 24,
   "metadata": {},
   "outputs": [
    {
     "data": {
      "image/svg+xml": [
       "<?xml version=\"1.0\" encoding=\"utf-8\"?>\n",
       "<svg xmlns=\"http://www.w3.org/2000/svg\" xmlns:xlink=\"http://www.w3.org/1999/xlink\" width=\"600\" height=\"400\" viewBox=\"0 0 2400 1600\">\n",
       "<defs>\n",
       "  <clipPath id=\"clip380\">\n",
       "    <rect x=\"0\" y=\"0\" width=\"2400\" height=\"1600\"/>\n",
       "  </clipPath>\n",
       "</defs>\n",
       "<path clip-path=\"url(#clip380)\" d=\"\n",
       "M0 1600 L2400 1600 L2400 0 L0 0  Z\n",
       "  \" fill=\"#ffffff\" fill-rule=\"evenodd\" fill-opacity=\"1\"/>\n",
       "<defs>\n",
       "  <clipPath id=\"clip381\">\n",
       "    <rect x=\"480\" y=\"0\" width=\"1681\" height=\"1600\"/>\n",
       "  </clipPath>\n",
       "</defs>\n",
       "<path clip-path=\"url(#clip380)\" d=\"\n",
       "M528.003 1486.45 L1967.21 1486.45 L1967.21 47.2441 L528.003 47.2441  Z\n",
       "  \" fill=\"#ffffff\" fill-rule=\"evenodd\" fill-opacity=\"1\"/>\n",
       "<defs>\n",
       "  <clipPath id=\"clip382\">\n",
       "    <rect x=\"528\" y=\"47\" width=\"1440\" height=\"1440\"/>\n",
       "  </clipPath>\n",
       "</defs>\n",
       "<polyline clip-path=\"url(#clip380)\" style=\"stroke:#000000; stroke-width:4; stroke-opacity:1; fill:none\" points=\"\n",
       "  528.003,1486.45 1967.21,1486.45 \n",
       "  \"/>\n",
       "<polyline clip-path=\"url(#clip380)\" style=\"stroke:#000000; stroke-width:4; stroke-opacity:1; fill:none\" points=\"\n",
       "  528.003,1486.45 528.003,1469.18 \n",
       "  \"/>\n",
       "<polyline clip-path=\"url(#clip380)\" style=\"stroke:#000000; stroke-width:4; stroke-opacity:1; fill:none\" points=\"\n",
       "  887.804,1486.45 887.804,1469.18 \n",
       "  \"/>\n",
       "<polyline clip-path=\"url(#clip380)\" style=\"stroke:#000000; stroke-width:4; stroke-opacity:1; fill:none\" points=\"\n",
       "  1247.61,1486.45 1247.61,1469.18 \n",
       "  \"/>\n",
       "<polyline clip-path=\"url(#clip380)\" style=\"stroke:#000000; stroke-width:4; stroke-opacity:1; fill:none\" points=\"\n",
       "  1607.41,1486.45 1607.41,1469.18 \n",
       "  \"/>\n",
       "<polyline clip-path=\"url(#clip380)\" style=\"stroke:#000000; stroke-width:4; stroke-opacity:1; fill:none\" points=\"\n",
       "  1967.21,1486.45 1967.21,1469.18 \n",
       "  \"/>\n",
       "<path clip-path=\"url(#clip380)\" d=\"M 0 0 M500.457 1530.29 L530.133 1530.29 L530.133 1534.23 L500.457 1534.23 L500.457 1530.29 Z\" fill=\"#000000\" fill-rule=\"evenodd\" fill-opacity=\"1\" /><path clip-path=\"url(#clip380)\" d=\"M 0 0 M539.23 1543.18 L555.55 1543.18 L555.55 1547.12 L533.605 1547.12 L533.605 1543.18 Q536.267 1540.43 540.851 1535.8 Q545.457 1531.15 546.638 1529.81 Q548.883 1527.28 549.763 1525.55 Q550.665 1523.79 550.665 1522.1 Q550.665 1519.34 548.721 1517.61 Q546.8 1515.87 543.698 1515.87 Q541.499 1515.87 539.045 1516.63 Q536.615 1517.4 533.837 1518.95 L533.837 1514.23 Q536.661 1513.09 539.115 1512.51 Q541.568 1511.93 543.605 1511.93 Q548.976 1511.93 552.17 1514.62 Q555.364 1517.31 555.364 1521.8 Q555.364 1523.93 554.554 1525.85 Q553.767 1527.74 551.661 1530.34 Q551.082 1531.01 547.98 1534.23 Q544.878 1537.42 539.23 1543.18 Z\" fill=\"#000000\" fill-rule=\"evenodd\" fill-opacity=\"1\" /><path clip-path=\"url(#clip380)\" d=\"M 0 0 M860.073 1530.29 L889.749 1530.29 L889.749 1534.23 L860.073 1534.23 L860.073 1530.29 Z\" fill=\"#000000\" fill-rule=\"evenodd\" fill-opacity=\"1\" /><path clip-path=\"url(#clip380)\" d=\"M 0 0 M895.628 1543.18 L903.267 1543.18 L903.267 1516.82 L894.957 1518.49 L894.957 1514.23 L903.221 1512.56 L907.897 1512.56 L907.897 1543.18 L915.536 1543.18 L915.536 1547.12 L895.628 1547.12 L895.628 1543.18 Z\" fill=\"#000000\" fill-rule=\"evenodd\" fill-opacity=\"1\" /><path clip-path=\"url(#clip380)\" d=\"M 0 0 M1247.61 1515.64 Q1243.99 1515.64 1242.17 1519.2 Q1240.36 1522.75 1240.36 1529.87 Q1240.36 1536.98 1242.17 1540.55 Q1243.99 1544.09 1247.61 1544.09 Q1251.24 1544.09 1253.05 1540.55 Q1254.87 1536.98 1254.87 1529.87 Q1254.87 1522.75 1253.05 1519.2 Q1251.24 1515.64 1247.61 1515.64 M1247.61 1511.93 Q1253.42 1511.93 1256.47 1516.54 Q1259.55 1521.12 1259.55 1529.87 Q1259.55 1538.6 1256.47 1543.21 Q1253.42 1547.79 1247.61 1547.79 Q1241.8 1547.79 1238.72 1543.21 Q1235.66 1538.6 1235.66 1529.87 Q1235.66 1521.12 1238.72 1516.54 Q1241.8 1511.93 1247.61 1511.93 Z\" fill=\"#000000\" fill-rule=\"evenodd\" fill-opacity=\"1\" /><path clip-path=\"url(#clip380)\" d=\"M 0 0 M1597.79 1543.18 L1605.43 1543.18 L1605.43 1516.82 L1597.12 1518.49 L1597.12 1514.23 L1605.38 1512.56 L1610.06 1512.56 L1610.06 1543.18 L1617.7 1543.18 L1617.7 1547.12 L1597.79 1547.12 L1597.79 1543.18 Z\" fill=\"#000000\" fill-rule=\"evenodd\" fill-opacity=\"1\" /><path clip-path=\"url(#clip380)\" d=\"M 0 0 M1961.86 1543.18 L1978.18 1543.18 L1978.18 1547.12 L1956.24 1547.12 L1956.24 1543.18 Q1958.9 1540.43 1963.48 1535.8 Q1968.09 1531.15 1969.27 1529.81 Q1971.51 1527.28 1972.39 1525.55 Q1973.3 1523.79 1973.3 1522.1 Q1973.3 1519.34 1971.35 1517.61 Q1969.43 1515.87 1966.33 1515.87 Q1964.13 1515.87 1961.67 1516.63 Q1959.24 1517.4 1956.47 1518.95 L1956.47 1514.23 Q1959.29 1513.09 1961.74 1512.51 Q1964.2 1511.93 1966.24 1511.93 Q1971.61 1511.93 1974.8 1514.62 Q1977.99 1517.31 1977.99 1521.8 Q1977.99 1523.93 1977.18 1525.85 Q1976.4 1527.74 1974.29 1530.34 Q1973.71 1531.01 1970.61 1534.23 Q1967.51 1537.42 1961.86 1543.18 Z\" fill=\"#000000\" fill-rule=\"evenodd\" fill-opacity=\"1\" /><polyline clip-path=\"url(#clip380)\" style=\"stroke:#000000; stroke-width:4; stroke-opacity:1; fill:none\" points=\"\n",
       "  528.003,1486.45 528.003,47.2441 \n",
       "  \"/>\n",
       "<polyline clip-path=\"url(#clip380)\" style=\"stroke:#000000; stroke-width:4; stroke-opacity:1; fill:none\" points=\"\n",
       "  528.003,1486.45 545.274,1486.45 \n",
       "  \"/>\n",
       "<polyline clip-path=\"url(#clip380)\" style=\"stroke:#000000; stroke-width:4; stroke-opacity:1; fill:none\" points=\"\n",
       "  528.003,1126.65 545.274,1126.65 \n",
       "  \"/>\n",
       "<polyline clip-path=\"url(#clip380)\" style=\"stroke:#000000; stroke-width:4; stroke-opacity:1; fill:none\" points=\"\n",
       "  528.003,766.846 545.274,766.846 \n",
       "  \"/>\n",
       "<polyline clip-path=\"url(#clip380)\" style=\"stroke:#000000; stroke-width:4; stroke-opacity:1; fill:none\" points=\"\n",
       "  528.003,407.045 545.274,407.045 \n",
       "  \"/>\n",
       "<polyline clip-path=\"url(#clip380)\" style=\"stroke:#000000; stroke-width:4; stroke-opacity:1; fill:none\" points=\"\n",
       "  528.003,47.2441 545.274,47.2441 \n",
       "  \"/>\n",
       "<path clip-path=\"url(#clip380)\" d=\"M 0 0 M436.911 1486.9 L466.587 1486.9 L466.587 1490.83 L436.911 1490.83 L436.911 1486.9 Z\" fill=\"#000000\" fill-rule=\"evenodd\" fill-opacity=\"1\" /><path clip-path=\"url(#clip380)\" d=\"M 0 0 M475.684 1499.79 L492.003 1499.79 L492.003 1503.73 L470.059 1503.73 L470.059 1499.79 Q472.721 1497.04 477.304 1492.41 Q481.911 1487.76 483.091 1486.41 Q485.337 1483.89 486.216 1482.15 Q487.119 1480.39 487.119 1478.7 Q487.119 1475.95 485.175 1474.21 Q483.254 1472.48 480.152 1472.48 Q477.953 1472.48 475.499 1473.24 Q473.068 1474.01 470.291 1475.56 L470.291 1470.83 Q473.115 1469.7 475.568 1469.12 Q478.022 1468.54 480.059 1468.54 Q485.429 1468.54 488.624 1471.23 Q491.818 1473.91 491.818 1478.4 Q491.818 1480.53 491.008 1482.45 Q490.221 1484.35 488.115 1486.95 Q487.536 1487.62 484.434 1490.83 Q481.332 1494.03 475.684 1499.79 Z\" fill=\"#000000\" fill-rule=\"evenodd\" fill-opacity=\"1\" /><path clip-path=\"url(#clip380)\" d=\"M 0 0 M436.541 1127.1 L466.217 1127.1 L466.217 1131.03 L436.541 1131.03 L436.541 1127.1 Z\" fill=\"#000000\" fill-rule=\"evenodd\" fill-opacity=\"1\" /><path clip-path=\"url(#clip380)\" d=\"M 0 0 M472.096 1139.99 L479.735 1139.99 L479.735 1113.63 L471.425 1115.29 L471.425 1111.03 L479.689 1109.37 L484.365 1109.37 L484.365 1139.99 L492.003 1139.99 L492.003 1143.93 L472.096 1143.93 L472.096 1139.99 Z\" fill=\"#000000\" fill-rule=\"evenodd\" fill-opacity=\"1\" /><path clip-path=\"url(#clip380)\" d=\"M 0 0 M480.059 752.645 Q476.448 752.645 474.619 756.209 Q472.814 759.751 472.814 766.881 Q472.814 773.987 474.619 777.552 Q476.448 781.094 480.059 781.094 Q483.693 781.094 485.499 777.552 Q487.328 773.987 487.328 766.881 Q487.328 759.751 485.499 756.209 Q483.693 752.645 480.059 752.645 M480.059 748.941 Q485.869 748.941 488.925 753.547 Q492.003 758.131 492.003 766.881 Q492.003 775.608 488.925 780.214 Q485.869 784.797 480.059 784.797 Q474.249 784.797 471.17 780.214 Q468.115 775.608 468.115 766.881 Q468.115 758.131 471.17 753.547 Q474.249 748.941 480.059 748.941 Z\" fill=\"#000000\" fill-rule=\"evenodd\" fill-opacity=\"1\" /><path clip-path=\"url(#clip380)\" d=\"M 0 0 M472.096 420.39 L479.735 420.39 L479.735 394.024 L471.425 395.691 L471.425 391.432 L479.689 389.765 L484.365 389.765 L484.365 420.39 L492.003 420.39 L492.003 424.325 L472.096 424.325 L472.096 420.39 Z\" fill=\"#000000\" fill-rule=\"evenodd\" fill-opacity=\"1\" /><path clip-path=\"url(#clip380)\" d=\"M 0 0 M475.684 60.5889 L492.003 60.5889 L492.003 64.5241 L470.059 64.5241 L470.059 60.5889 Q472.721 57.8343 477.304 53.2047 Q481.911 48.552 483.091 47.2094 Q485.337 44.6862 486.216 42.9501 Q487.119 41.1909 487.119 39.5011 Q487.119 36.7465 485.175 35.0104 Q483.254 33.2743 480.152 33.2743 Q477.953 33.2743 475.499 34.0381 Q473.068 34.802 470.291 36.3529 L470.291 31.6308 Q473.115 30.4965 475.568 29.9178 Q478.022 29.3391 480.059 29.3391 Q485.429 29.3391 488.624 32.0243 Q491.818 34.7094 491.818 39.2002 Q491.818 41.3298 491.008 43.2511 Q490.221 45.1492 488.115 47.7418 Q487.536 48.4131 484.434 51.6306 Q481.332 54.8251 475.684 60.5889 Z\" fill=\"#000000\" fill-rule=\"evenodd\" fill-opacity=\"1\" /><path clip-path=\"url(#clip382)\" d=\"\n",
       "M936.009 946.746 L942.241 943.148 L948.472 939.55 L954.704 935.952 L960.936 932.354 L967.168 928.756 L973.4 925.158 L979.632 921.56 L985.864 917.962 L992.096 914.364 \n",
       "  L998.328 910.766 L1004.56 907.168 L1010.79 903.57 L1017.02 899.972 L1023.26 896.374 L1029.49 892.776 L1035.72 889.178 L1041.95 885.58 L1048.18 881.982 L1054.42 878.384 \n",
       "  L1060.65 874.786 L1066.88 871.188 L1073.11 867.59 L1079.34 863.992 L1085.58 860.394 L1091.81 856.796 L1098.04 853.198 L1104.27 849.6 L1110.5 846.002 L1116.73 842.404 \n",
       "  L1122.97 838.806 L1129.2 835.208 L1135.43 831.61 L1141.66 828.012 L1147.89 824.414 L1154.13 820.816 L1160.36 817.218 L1166.59 813.62 L1172.82 810.022 L1179.05 806.424 \n",
       "  L1185.29 802.826 L1191.52 799.228 L1197.75 795.63 L1203.98 792.032 L1210.21 788.434 L1216.45 784.836 L1222.68 781.238 L1228.91 777.64 L1235.14 774.042 L1241.37 770.444 \n",
       "  L1247.61 766.846 L936.009 946.746 L936.009 766.846 L1247.61 766.846 L1241.37 766.846 L1235.14 766.846 L1228.91 766.846 L1222.68 766.846 L1216.45 766.846 L1210.21 766.846 \n",
       "  L1203.98 766.846 L1197.75 766.846 L1191.52 766.846 L1185.29 766.846 L1179.05 766.846 L1172.82 766.846 L1166.59 766.846 L1160.36 766.846 L1154.13 766.846 L1147.89 766.846 \n",
       "  L1141.66 766.846 L1135.43 766.846 L1129.2 766.846 L1122.97 766.846 L1116.73 766.846 L1110.5 766.846 L1104.27 766.846 L1098.04 766.846 L1091.81 766.846 L1085.58 766.846 \n",
       "  L1079.34 766.846 L1073.11 766.846 L1066.88 766.846 L1060.65 766.846 L1054.42 766.846 L1048.18 766.846 L1041.95 766.846 L1035.72 766.846 L1029.49 766.846 L1023.26 766.846 \n",
       "  L1017.02 766.846 L1010.79 766.846 L1004.56 766.846 L998.328 766.846 L992.096 766.846 L985.864 766.846 L979.632 766.846 L973.4 766.846 L967.168 766.846 L960.936 766.846 \n",
       "  L954.704 766.846 L948.472 766.846 L942.241 766.846 L936.009 766.846  Z\n",
       "  \" fill=\"#97b476\" fill-rule=\"evenodd\" fill-opacity=\"1\"/>\n",
       "<polyline clip-path=\"url(#clip382)\" style=\"stroke:#97b476; stroke-width:4; stroke-opacity:1; fill:none\" points=\"\n",
       "  936.009,946.746 942.241,943.148 948.472,939.55 954.704,935.952 960.936,932.354 967.168,928.756 973.4,925.158 979.632,921.56 985.864,917.962 992.096,914.364 \n",
       "  998.328,910.766 1004.56,907.168 1010.79,903.57 1017.02,899.972 1023.26,896.374 1029.49,892.776 1035.72,889.178 1041.95,885.58 1048.18,881.982 1054.42,878.384 \n",
       "  1060.65,874.786 1066.88,871.188 1073.11,867.59 1079.34,863.992 1085.58,860.394 1091.81,856.796 1098.04,853.198 1104.27,849.6 1110.5,846.002 1116.73,842.404 \n",
       "  1122.97,838.806 1129.2,835.208 1135.43,831.61 1141.66,828.012 1147.89,824.414 1154.13,820.816 1160.36,817.218 1166.59,813.62 1172.82,810.022 1179.05,806.424 \n",
       "  1185.29,802.826 1191.52,799.228 1197.75,795.63 1203.98,792.032 1210.21,788.434 1216.45,784.836 1222.68,781.238 1228.91,777.64 1235.14,774.042 1241.37,770.444 \n",
       "  1247.61,766.846 936.009,946.746 \n",
       "  \"/>\n",
       "</svg>\n"
      ]
     },
     "execution_count": 24,
     "metadata": {},
     "output_type": "execute_result"
    }
   ],
   "source": [
    "cent = m[1];\n",
    "α = m[4];\n",
    "#cent = 0.0 + 0.0*im # change to 0.0 - A*im for flapping using square and triangle waves, otherwise 0.0 + 0.0im\n",
    "#α = Δα # change to -Δα for flapping using sinusoidal waves, otherwise 0.0\n",
    "T = RigidTransform(cent,m[4]);\n",
    "T(body) # transform the body to the current configuration\n",
    "\n",
    "xlim = (-2.0,2.0)\n",
    "ylim = (-2.0,2.0)\n",
    "\n",
    "plot(xlim=xlim, ylim=ylim, body)\n"
   ]
  },
  {
   "cell_type": "code",
   "execution_count": 25,
   "metadata": {},
   "outputs": [],
   "source": [
    "X = VectorData(body.x,body.y);\n",
    "X̃ = VectorData(body.x̃,body.ỹ);\n",
    "\n",
    "Umax = 0.25*pi/(2*K*2*a)\n",
    "\n",
    "Δx = 0.02;\n",
    "Δt = 0.005;"
   ]
  },
  {
   "cell_type": "code",
   "execution_count": 26,
   "metadata": {},
   "outputs": [
    {
     "name": "stdout",
     "output_type": "stream",
     "text": [
      "K = 0.9803921568627451\n",
      "body.len = 1.0\n",
      "length(body) = 51\n"
     ]
    },
    {
     "data": {
      "text/plain": [
       "51"
      ]
     },
     "execution_count": 26,
     "metadata": {},
     "output_type": "execute_result"
    }
   ],
   "source": [
    "K = body.len/length(body)/Δx;\n",
    "@show K\n",
    "@show body.len\n",
    "@show length(body)"
   ]
  },
  {
   "cell_type": "markdown",
   "metadata": {},
   "source": [
    "# Setting Up the System and Solver"
   ]
  },
  {
   "cell_type": "code",
   "execution_count": 33,
   "metadata": {},
   "outputs": [
    {
     "data": {
      "text/plain": [
       "Navier-Stokes system on a grid of size 208 x 208"
      ]
     },
     "execution_count": 33,
     "metadata": {},
     "output_type": "execute_result"
    }
   ],
   "source": [
    "sys = NavierStokes(Re, Δx, xlim, ylim, Δt, X̃ = X̃, \n",
    "    isstore = true, \n",
    "    isstatic = false, \n",
    "    ddftype=CartesianGrids.Yang3, \n",
    "    isfilter = false)"
   ]
  },
  {
   "cell_type": "code",
   "execution_count": 63,
   "metadata": {},
   "outputs": [],
   "source": [
    "w₀ = Nodes(Dual,size(sys));\n",
    "u = (w₀,[real(motion(0.0)[1]),imag(motion(0.0)[1]), motion(0.0)[4]])\n",
    "xg, yg = coordinates(w₀,dx=Δx,I0=origin(sys))\n",
    "f = (VectorData(X̃),Vector{Float64}());\n",
    "\n",
    "#f = VectorData(X̃);"
   ]
  },
  {
   "cell_type": "code",
   "execution_count": 56,
   "metadata": {},
   "outputs": [
    {
     "data": {
      "text/plain": [
       "(plan_intfact1, plan_intfact2)"
      ]
     },
     "execution_count": 56,
     "metadata": {},
     "output_type": "execute_result"
    }
   ],
   "source": [
    "using LinearAlgebra\n",
    "plan_intfact1(t,u) = CartesianGrids.plan_intfact(t,u,sys)\n",
    "plan_intfact2(t,u) = I\n",
    "plans = (plan_intfact1,plan_intfact2)    "
   ]
  },
  {
   "cell_type": "code",
   "execution_count": 69,
   "metadata": {},
   "outputs": [],
   "source": [
    "function ConstrainedSystems.plan_constraints(u::Tuple{Nodes{Dual,NX,NY},Vector{Float64}},t,sys::NavierStokes{NX,NY,N,false}) where {NX,NY,N}\n",
    "\n",
    "  # for now, just assume that there is only one body. will fix later.\n",
    "\n",
    "  xc, yc, α = u[2]\n",
    "  T = RigidTransform((xc,yc),α)\n",
    "  # should be able to save some time and memory allocation here...\n",
    "  x, y = T(sys.X̃.u,sys.X̃.v)\n",
    "  X = VectorData(x,y)\n",
    "  regop = Regularize(X,cellsize(sys);issymmetric=true,I0=origin(sys))\n",
    "  if sys._isstore\n",
    "#     Hmat, Emat = RegularizationMatrix(regop,VectorData{N}(),Edges{Primal,NX,NY}())\n",
    "    Hmat, Emat = RegularizationMatrix(regop, VectorData(X), Edges(Primal, u[1]))\n",
    "      \n",
    "    sys.Hmat = Hmat\n",
    "    sys.Emat = Emat\n",
    "    return (f->ConstrainedSystems.B₁ᵀ(f,regop,sys), f->zeros(Float64,size(u[2]))),\n",
    "           (w->ConstrainedSystems.B₂(w,regop,sys), u->Vector{Float64}())\n",
    "    #return (f->ConstrainedSystems.B₁ᵀ(f,sys), f->zeros(Float64,size(u[2]))),\n",
    "    #       (w->ConstrainedSystems.B₂(w,sys), u->Vector{Float64}())\n",
    "  else\n",
    "    return (f->ConstrainedSystems.B₁ᵀ(f,regop,sys), f->zeros(Float64,size(u[2]))),\n",
    "           (w->ConstrainedSystems.B₂(w,regop,sys), u->Vector{Float64}())\n",
    "  end\n",
    "\n",
    "\n",
    "end"
   ]
  },
  {
   "cell_type": "code",
   "execution_count": 70,
   "metadata": {},
   "outputs": [
    {
     "data": {
      "text/plain": [
       "Order-3 IF-HERK integrator with\n",
       "   State of type Tuple{Nodes{Dual,208,208,Float64,Array{Float64,2}},Array{Float64,1}}\n",
       "   Force of type Tuple{VectorData{51,Float64,Array{Float64,1}},Array{Float64,1}}\n",
       "   Time step size 0.005\n"
      ]
     },
     "execution_count": 70,
     "metadata": {},
     "output_type": "execute_result"
    }
   ],
   "source": [
    "plan_constraints(u,t) = ConstrainedSystems.plan_constraints(u,t,sys)\n",
    "ConstrainedSystems.r₁(u,t) = ConstrainedSystems.r₁(u,t,sys,motion)\n",
    "ConstrainedSystems.r₂(u,t) = ConstrainedSystems.r₂(u,t,sys,motion)\n",
    "ifherk = IFHERK(u,f,sys.Δt,\n",
    "                plans,plan_constraints,\n",
    "                (ConstrainedSystems.r₁,ConstrainedSystems.r₂),rk=ConstrainedSystems.RK31,isstaticconstraints=false)"
   ]
  },
  {
   "cell_type": "markdown",
   "metadata": {},
   "source": [
    "# Running the Solver"
   ]
  },
  {
   "cell_type": "code",
   "execution_count": 76,
   "metadata": {},
   "outputs": [],
   "source": [
    "t = 0.0\n",
    "w₀ .= 0.0\n",
    "# u = (deepcopy(w₀),[real(cent),imag(cent),α₀])\n",
    "u = (deepcopy(w₀),[real(motion(0.0)[1]),imag(motion(0.0)[1]), motion(0.0)[4]])\n",
    "f = (VectorData(X̃),Vector{Float64}());\n",
    "fx = Float64[];\n",
    "fy = Float64[];\n",
    "kin_hist = []\n",
    "dp = [];\n",
    "thist = [];\n",
    "uhist = [];\n",
    "tsample = 0.02; # rate at which to store field data\n",
    "tf = 5;\n",
    "T = Δt:Δt:tf;"
   ]
  },
  {
   "cell_type": "code",
   "execution_count": 77,
   "metadata": {},
   "outputs": [
    {
     "ename": "LoadError",
     "evalue": "MethodError: Cannot `convert` an object of type Float64 to an object of type Nodes{Dual,208,208,Float64,Array{Float64,2}}\nClosest candidates are:\n  convert(::Type{T}, !Matched::T) where T<:AbstractArray at abstractarray.jl:14\n  convert(::Type{T}, !Matched::Factorization) where T<:AbstractArray at /buildworker/worker/package_linux64/build/usr/share/julia/stdlib/v1.5/LinearAlgebra/src/factorization.jl:55\n  convert(::Type{T}, !Matched::T) where T at essentials.jl:171",
     "output_type": "error",
     "traceback": [
      "MethodError: Cannot `convert` an object of type Float64 to an object of type Nodes{Dual,208,208,Float64,Array{Float64,2}}\nClosest candidates are:\n  convert(::Type{T}, !Matched::T) where T<:AbstractArray at abstractarray.jl:14\n  convert(::Type{T}, !Matched::Factorization) where T<:AbstractArray at /buildworker/worker/package_linux64/build/usr/share/julia/stdlib/v1.5/LinearAlgebra/src/factorization.jl:55\n  convert(::Type{T}, !Matched::T) where T at essentials.jl:171",
      "",
      "Stacktrace:",
      " [1] _totuple at ./tuple.jl:243 [inlined]",
      " [2] Tuple{Nodes{Dual,208,208,Float64,Array{Float64,2}},Array{Float64,1}}(::Array{Float64,1}) at ./tuple.jl:230",
      " [3] (::IFHERK{3,Tuple{CartesianGrids.IntFact{208,208,a,false} where a,UniformScaling{Bool}},typeof(r₁),typeof(r₂),typeof(plan_constraints),Tuple{SaddleSystem{Float64,43264,102,Nodes{Dual,208,208,Float64,Array{Float64,2}},VectorData{51,Float64,Array{Float64,1}},Direct},SaddleSystem{Float64,3,0,Array{Float64,1},Array{Float64,1},Direct}},Tuple{Nodes{Dual,208,208,Float64,Array{Float64,2}},Array{Float64,1}},Tuple{VectorData{51,Float64,Array{Float64,1}},Array{Float64,1}}})(::Float64, ::Tuple{Nodes{Dual,208,208,Float64,Array{Float64,2}},Array{Float64,1}}) at /home/sinan/.julia/packages/ConstrainedSystems/pgefJ/src/timemarching/ifherk.jl:273",
      " [4] macro expansion at ./In[77]:2 [inlined]",
      " [5] top-level scope at /home/sinan/.julia/packages/ProgressMeter/poEzd/src/ProgressMeter.jl:754",
      " [6] include_string(::Function, ::Module, ::String, ::String) at ./loading.jl:1091",
      " [7] execute_code(::String, ::String) at /home/sinan/.julia/packages/IJulia/a1SNk/src/execute_request.jl:27",
      " [8] execute_request(::ZMQ.Socket, ::IJulia.Msg) at /home/sinan/.julia/packages/IJulia/a1SNk/src/execute_request.jl:86",
      " [9] #invokelatest#1 at ./essentials.jl:710 [inlined]",
      " [10] invokelatest at ./essentials.jl:709 [inlined]",
      " [11] eventloop(::ZMQ.Socket) at /home/sinan/.julia/packages/IJulia/a1SNk/src/eventloop.jl:8",
      " [12] (::IJulia.var\"#15#18\")() at ./task.jl:356"
     ]
    }
   ],
   "source": [
    "@showprogress for ti in T\n",
    "    global t, u, f = ifherk(t,u)\n",
    "    \n",
    "    push!(thist,t)\n",
    "    \n",
    "    fp = deepcopy(f[1])\n",
    "    fp.u .*= Δx^2\n",
    "    fp.v .*= Δx^2\n",
    "    \n",
    "    push!(dp,fp)\n",
    "    push!(kin_hist, deepcopy(u[2]))\n",
    "    \n",
    "    push!(fx,sum(f[1].u)*Δx^2)\n",
    "    push!(fy,sum(f[1].v)*Δx^2)\n",
    "\n",
    "    if (isapprox(mod(t,tsample),0,atol=1e-12) || isapprox(mod(t,tsample),tsample,atol=1e-12))\n",
    "      push!(uhist, deepcopy(u))\n",
    "    end\n",
    "\n",
    "end\n",
    "println(\"solution completed through time t = \",t)"
   ]
  },
  {
   "cell_type": "code",
   "execution_count": 73,
   "metadata": {},
   "outputs": [
    {
     "name": "stdout",
     "output_type": "stream",
     "text": [
      "kin_hist = Any[]\n",
      "uhist = Any[]\n"
     ]
    },
    {
     "data": {
      "text/plain": [
       "Any[]"
      ]
     },
     "execution_count": 73,
     "metadata": {},
     "output_type": "execute_result"
    }
   ],
   "source": [
    "@show kin_hist\n",
    "@show uhist"
   ]
  },
  {
   "cell_type": "code",
   "execution_count": 75,
   "metadata": {},
   "outputs": [
    {
     "ename": "LoadError",
     "evalue": "ArgumentError: Cannot build empty animations",
     "output_type": "error",
     "traceback": [
      "ArgumentError: Cannot build empty animations",
      "",
      "Stacktrace:",
      " [1] buildanimation(::Animation, ::String, ::Bool; fps::Int64, loop::Int64, variable_palette::Bool, verbose::Bool, show_msg::Bool) at /home/sinan/.julia/packages/Plots/vsE7b/src/animation.jl:79",
      " [2] buildanimation at /home/sinan/.julia/packages/Plots/vsE7b/src/animation.jl:78 [inlined] (repeats 2 times)",
      " [3] #gif#213 at /home/sinan/.julia/packages/Plots/vsE7b/src/animation.jl:64 [inlined]",
      " [4] gif(::Animation, ::String) at /home/sinan/.julia/packages/Plots/vsE7b/src/animation.jl:64",
      " [5] top-level scope at In[75]:12",
      " [6] include_string(::Function, ::Module, ::String, ::String) at ./loading.jl:1091",
      " [7] execute_code(::String, ::String) at /home/sinan/.julia/packages/IJulia/a1SNk/src/execute_request.jl:27",
      " [8] execute_request(::ZMQ.Socket, ::IJulia.Msg) at /home/sinan/.julia/packages/IJulia/a1SNk/src/execute_request.jl:86",
      " [9] #invokelatest#1 at ./essentials.jl:710 [inlined]",
      " [10] invokelatest at ./essentials.jl:709 [inlined]",
      " [11] eventloop(::ZMQ.Socket) at /home/sinan/.julia/packages/IJulia/a1SNk/src/eventloop.jl:8",
      " [12] (::IJulia.var\"#15#18\")() at ./task.jl:356"
     ]
    }
   ],
   "source": [
    "#clibrary(:colorbrewer)\n",
    "default(clim = (-0.25, 0.25), markerstrokealpha = 0, markersize = 3, grid = false, \n",
    "     legend = false, colorbar = :right, colorbar_title = \"\\$\\\\Gamma\\$\")\n",
    "\n",
    "newanim = @animate for i = 1:length(uhist)\n",
    "    T = RigidTransform(uhist[i][2])\n",
    "    T(body)\n",
    "    plot(xg,yg,uhist[i],levels=range(-0.5,stop=0.5,length=30), color = :RdBu)\n",
    "    plot!(xlim=xlim, ylim=ylim, body)\n",
    "end\n",
    "\n",
    "gif(newanim, \"Sinusoid_30_5T.gif\") "
   ]
  },
  {
   "cell_type": "code",
   "execution_count": 29,
   "metadata": {},
   "outputs": [
    {
     "ename": "LoadError",
     "evalue": "UndefVarError: fy not defined",
     "output_type": "error",
     "traceback": [
      "UndefVarError: fy not defined",
      "",
      "Stacktrace:",
      " [1] top-level scope at In[29]:1",
      " [2] include_string(::Function, ::Module, ::String, ::String) at ./loading.jl:1091",
      " [3] execute_code(::String, ::String) at /home/sinan/.julia/packages/IJulia/a1SNk/src/execute_request.jl:27",
      " [4] execute_request(::ZMQ.Socket, ::IJulia.Msg) at /home/sinan/.julia/packages/IJulia/a1SNk/src/execute_request.jl:86",
      " [5] #invokelatest#1 at ./essentials.jl:710 [inlined]",
      " [6] invokelatest at ./essentials.jl:709 [inlined]",
      " [7] eventloop(::ZMQ.Socket) at /home/sinan/.julia/packages/IJulia/a1SNk/src/eventloop.jl:8",
      " [8] (::IJulia.var\"#15#18\")() at ./task.jl:356"
     ]
    }
   ],
   "source": [
    "px = plot(thist,2*fy,ylim=(-50,50),xlabel=\"Convective time\",ylabel=\"CD\",legend=false)\n",
    "py = plot(thist,2*fx,ylim=(-50,50),xlabel=\"Convective time\",ylabel=\"CL\",legend=false)\n",
    "plot(px,py)"
   ]
  },
  {
   "cell_type": "markdown",
   "metadata": {},
   "source": [
    "# Obtaining Pressure Distributions"
   ]
  },
  {
   "cell_type": "code",
   "execution_count": 30,
   "metadata": {},
   "outputs": [
    {
     "ename": "LoadError",
     "evalue": "UndefVarError: Kinematics not defined",
     "output_type": "error",
     "traceback": [
      "UndefVarError: Kinematics not defined",
      "",
      "Stacktrace:",
      " [1] top-level scope at In[30]:1",
      " [2] include_string(::Function, ::Module, ::String, ::String) at ./loading.jl:1091",
      " [3] execute_code(::String, ::String) at /home/sinan/.julia/packages/IJulia/a1SNk/src/execute_request.jl:27",
      " [4] execute_request(::ZMQ.Socket, ::IJulia.Msg) at /home/sinan/.julia/packages/IJulia/a1SNk/src/execute_request.jl:86",
      " [5] #invokelatest#1 at ./essentials.jl:710 [inlined]",
      " [6] invokelatest at ./essentials.jl:709 [inlined]",
      " [7] eventloop(::ZMQ.Socket) at /home/sinan/.julia/packages/IJulia/a1SNk/src/eventloop.jl:8",
      " [8] (::IJulia.var\"#15#18\")() at ./task.jl:356"
     ]
    }
   ],
   "source": [
    "RigidTransform(kin::Kinematics, t) = RigidTransform(kin(t)[1], kin(t)[4])"
   ]
  },
  {
   "cell_type": "code",
   "execution_count": 31,
   "metadata": {},
   "outputs": [
    {
     "ename": "LoadError",
     "evalue": "UndefVarError: Body not defined",
     "output_type": "error",
     "traceback": [
      "UndefVarError: Body not defined",
      "",
      "Stacktrace:",
      " [1] top-level scope at In[31]:1",
      " [2] include_string(::Function, ::Module, ::String, ::String) at ./loading.jl:1091",
      " [3] execute_code(::String, ::String) at /home/sinan/.julia/packages/IJulia/a1SNk/src/execute_request.jl:27",
      " [4] execute_request(::ZMQ.Socket, ::IJulia.Msg) at /home/sinan/.julia/packages/IJulia/a1SNk/src/execute_request.jl:86",
      " [5] #invokelatest#1 at ./essentials.jl:710 [inlined]",
      " [6] invokelatest at ./essentials.jl:709 [inlined]",
      " [7] eventloop(::ZMQ.Socket) at /home/sinan/.julia/packages/IJulia/a1SNk/src/eventloop.jl:8",
      " [8] (::IJulia.var\"#15#18\")() at ./task.jl:356"
     ]
    }
   ],
   "source": [
    "function diff(b::Body{N}) where {N}\n",
    "  ip1(i) = 1 + mod(i,N)\n",
    "  im1(i) = 1 + mod(i-2,N)\n",
    "  dxtmp = [0.5*(b.x[ip1(i)] - b.x[im1(i)]) for i = 1:N]\n",
    "  dytmp = [0.5*(b.y[ip1(i)] - b.y[im1(i)]) for i = 1:N]\n",
    "\n",
    "  if typeof(body) <:Plate\n",
    "    dxtmp[1] = 0.5*(b.x[2] - b.x[1])\n",
    "    dxtmp[N] = 0.5*(b.x[N] - b.x[N-1])\n",
    "\n",
    "    dytmp[1] = 0.5*(b.y[2] - b.y[1])\n",
    "    dytmp[N] = 0.5*(b.y[N] - b.y[N-1])\n",
    "  end\n",
    "  return dxtmp,dytmp\n",
    "end"
   ]
  },
  {
   "cell_type": "code",
   "execution_count": 32,
   "metadata": {},
   "outputs": [
    {
     "ename": "LoadError",
     "evalue": "UndefVarError: body not defined",
     "output_type": "error",
     "traceback": [
      "UndefVarError: body not defined",
      "",
      "Stacktrace:",
      " [1] top-level scope at In[32]:1",
      " [2] include_string(::Function, ::Module, ::String, ::String) at ./loading.jl:1091",
      " [3] execute_code(::String, ::String) at /home/sinan/.julia/packages/IJulia/a1SNk/src/execute_request.jl:27",
      " [4] execute_request(::ZMQ.Socket, ::IJulia.Msg) at /home/sinan/.julia/packages/IJulia/a1SNk/src/execute_request.jl:86",
      " [5] #invokelatest#1 at ./essentials.jl:710 [inlined]",
      " [6] invokelatest at ./essentials.jl:709 [inlined]",
      " [7] eventloop(::ZMQ.Socket) at /home/sinan/.julia/packages/IJulia/a1SNk/src/eventloop.jl:8",
      " [8] (::IJulia.var\"#15#18\")() at ./task.jl:356"
     ]
    }
   ],
   "source": [
    "ds = sqrt.(diff(body)[1].^2+diff(body)[2].^2);"
   ]
  },
  {
   "cell_type": "code",
   "execution_count": 33,
   "metadata": {},
   "outputs": [
    {
     "ename": "LoadError",
     "evalue": "UndefVarError: u not defined",
     "output_type": "error",
     "traceback": [
      "UndefVarError: u not defined",
      "",
      "Stacktrace:",
      " [1] top-level scope at In[33]:1",
      " [2] include_string(::Function, ::Module, ::String, ::String) at ./loading.jl:1091",
      " [3] execute_code(::String, ::String) at /home/sinan/.julia/packages/IJulia/a1SNk/src/execute_request.jl:27",
      " [4] execute_request(::ZMQ.Socket, ::IJulia.Msg) at /home/sinan/.julia/packages/IJulia/a1SNk/src/execute_request.jl:86",
      " [5] #invokelatest#1 at ./essentials.jl:710 [inlined]",
      " [6] invokelatest at ./essentials.jl:709 [inlined]",
      " [7] eventloop(::ZMQ.Socket) at /home/sinan/.julia/packages/IJulia/a1SNk/src/eventloop.jl:8",
      " [8] (::IJulia.var\"#15#18\")() at ./task.jl:356"
     ]
    }
   ],
   "source": [
    "q = Edges(Primal,u[1])\n",
    "f = VectorData(X)\n",
    "\n",
    "regop = Regularize(X,Δx;I0=Fields.origin(sys.grid),issymmetric=true)\n",
    "Hmat, Emat = RegularizationMatrix(regop,f,q)\n",
    "\n",
    "regopfilt = Regularize(X,Δx;I0=Fields.origin(sys.grid),filter=true,weights=Δx^2)\n",
    "Ēmat = InterpolationMatrix(regopfilt,q,f)\n",
    "# Cmat = sparse(Ēmat*Hmat);\n",
    "P(f) = Ēmat*(Hmat*f)"
   ]
  },
  {
   "cell_type": "code",
   "execution_count": 34,
   "metadata": {},
   "outputs": [
    {
     "data": {
      "text/plain": [
       "normal (generic function with 1 method)"
      ]
     },
     "execution_count": 34,
     "metadata": {},
     "output_type": "execute_result"
    }
   ],
   "source": [
    "normal(β) = (-sin(β), cos(β))"
   ]
  },
  {
   "cell_type": "code",
   "execution_count": 35,
   "metadata": {},
   "outputs": [
    {
     "ename": "LoadError",
     "evalue": "UndefVarError: VectorData not defined",
     "output_type": "error",
     "traceback": [
      "UndefVarError: VectorData not defined",
      "",
      "Stacktrace:",
      " [1] top-level scope at In[35]:1",
      " [2] include_string(::Function, ::Module, ::String, ::String) at ./loading.jl:1091",
      " [3] execute_code(::String, ::String) at /home/sinan/.julia/packages/IJulia/a1SNk/src/execute_request.jl:27",
      " [4] execute_request(::ZMQ.Socket, ::IJulia.Msg) at /home/sinan/.julia/packages/IJulia/a1SNk/src/execute_request.jl:86",
      " [5] #invokelatest#1 at ./essentials.jl:710 [inlined]",
      " [6] invokelatest at ./essentials.jl:709 [inlined]",
      " [7] eventloop(::ZMQ.Socket) at /home/sinan/.julia/packages/IJulia/a1SNk/src/eventloop.jl:8",
      " [8] (::IJulia.var\"#15#18\")() at ./task.jl:356"
     ]
    }
   ],
   "source": [
    "function dot(A::Tuple{T,T},B::VectorData) where {T<:Number}\n",
    "    C = ScalarData(B)\n",
    "    x, y = A\n",
    "    C.data .= x*B.u + y*B.v\n",
    "    return C\n",
    "end"
   ]
  },
  {
   "cell_type": "code",
   "execution_count": 36,
   "metadata": {},
   "outputs": [
    {
     "ename": "LoadError",
     "evalue": "UndefVarError: kin_hist not defined",
     "output_type": "error",
     "traceback": [
      "UndefVarError: kin_hist not defined",
      "",
      "Stacktrace:",
      " [1] top-level scope at In[36]:1",
      " [2] include_string(::Function, ::Module, ::String, ::String) at ./loading.jl:1091",
      " [3] execute_code(::String, ::String) at /home/sinan/.julia/packages/IJulia/a1SNk/src/execute_request.jl:27",
      " [4] execute_request(::ZMQ.Socket, ::IJulia.Msg) at /home/sinan/.julia/packages/IJulia/a1SNk/src/execute_request.jl:86",
      " [5] #invokelatest#1 at ./essentials.jl:710 [inlined]",
      " [6] invokelatest at ./essentials.jl:709 [inlined]",
      " [7] eventloop(::ZMQ.Socket) at /home/sinan/.julia/packages/IJulia/a1SNk/src/eventloop.jl:8",
      " [8] (::IJulia.var\"#15#18\")() at ./task.jl:356"
     ]
    }
   ],
   "source": [
    "length(kin_hist)"
   ]
  },
  {
   "cell_type": "code",
   "execution_count": 37,
   "metadata": {},
   "outputs": [
    {
     "ename": "LoadError",
     "evalue": "LoadError: UndefVarError: @showprogress not defined\nin expression starting at In[37]:3",
     "output_type": "error",
     "traceback": [
      "LoadError: UndefVarError: @showprogress not defined\nin expression starting at In[37]:3",
      "",
      "Stacktrace:",
      " [1] top-level scope",
      " [2] include_string(::Function, ::Module, ::String, ::String) at ./loading.jl:1091",
      " [3] execute_code(::String, ::String) at /home/sinan/.julia/packages/IJulia/a1SNk/src/execute_request.jl:27",
      " [4] execute_request(::ZMQ.Socket, ::IJulia.Msg) at /home/sinan/.julia/packages/IJulia/a1SNk/src/execute_request.jl:86",
      " [5] #invokelatest#1 at ./essentials.jl:710 [inlined]",
      " [6] invokelatest at ./essentials.jl:709 [inlined]",
      " [7] eventloop(::ZMQ.Socket) at /home/sinan/.julia/packages/IJulia/a1SNk/src/eventloop.jl:8",
      " [8] (::IJulia.var\"#15#18\")() at ./task.jl:356"
     ]
    }
   ],
   "source": [
    "pressure = []\n",
    "Fn = []\n",
    "@showprogress for (i, dpi) in enumerate(dp)\n",
    "    xc, yc, α = kin_hist[i]\n",
    "#     n = (-sin(α), cos(α))\n",
    "    \n",
    "    T = Bodies.RigidTransform((xc,yc),α)\n",
    "    # should be able to save some time and memory allocation here...\n",
    "    x, y = T(sys.X̃.u,sys.X̃.v)\n",
    "    X = VectorData(x,y)\n",
    "    \n",
    "    regop = Regularize(X,Δx;I0=Fields.origin(sys.grid),issymmetric=true)\n",
    "    Hmat, Emat = RegularizationMatrix(regop,f,q)\n",
    "\n",
    "    regopfilt = Regularize(X,Δx;I0=Fields.origin(sys.grid),filter=true,weights=Δx^2)\n",
    "    Ēmat = InterpolationMatrix(regopfilt,q,f)\n",
    "\n",
    "    \n",
    "    push!(pressure, deepcopy(dot(normal(α), (Ēmat*(Hmat*dpi))) ./(K*Δx)))\n",
    "    push!(Fn, deepcopy([(-fx*sin(α)+fy*cos(α))]))\n",
    "end"
   ]
  },
  {
   "cell_type": "code",
   "execution_count": 38,
   "metadata": {},
   "outputs": [
    {
     "ename": "LoadError",
     "evalue": "BoundsError: attempt to access 0-element Array{Any,1} at index [1]",
     "output_type": "error",
     "traceback": [
      "BoundsError: attempt to access 0-element Array{Any,1} at index [1]",
      "",
      "Stacktrace:",
      " [1] getindex(::Array{Any,1}, ::Int64) at ./array.jl:809",
      " [2] top-level scope at In[38]:1",
      " [3] include_string(::Function, ::Module, ::String, ::String) at ./loading.jl:1091",
      " [4] execute_code(::String, ::String) at /home/sinan/.julia/packages/IJulia/a1SNk/src/execute_request.jl:27",
      " [5] execute_request(::ZMQ.Socket, ::IJulia.Msg) at /home/sinan/.julia/packages/IJulia/a1SNk/src/execute_request.jl:86",
      " [6] #invokelatest#1 at ./essentials.jl:710 [inlined]",
      " [7] invokelatest at ./essentials.jl:709 [inlined]",
      " [8] eventloop(::ZMQ.Socket) at /home/sinan/.julia/packages/IJulia/a1SNk/src/eventloop.jl:8",
      " [9] (::IJulia.var\"#15#18\")() at ./task.jl:356"
     ]
    }
   ],
   "source": [
    "length(pressure[1])"
   ]
  },
  {
   "cell_type": "code",
   "execution_count": 39,
   "metadata": {},
   "outputs": [
    {
     "ename": "LoadError",
     "evalue": "UndefVarError: Δt not defined",
     "output_type": "error",
     "traceback": [
      "UndefVarError: Δt not defined",
      "",
      "Stacktrace:",
      " [1] top-level scope at In[39]:1",
      " [2] include_string(::Function, ::Module, ::String, ::String) at ./loading.jl:1091",
      " [3] execute_code(::String, ::String) at /home/sinan/.julia/packages/IJulia/a1SNk/src/execute_request.jl:27",
      " [4] execute_request(::ZMQ.Socket, ::IJulia.Msg) at /home/sinan/.julia/packages/IJulia/a1SNk/src/execute_request.jl:86",
      " [5] #invokelatest#1 at ./essentials.jl:710 [inlined]",
      " [6] invokelatest at ./essentials.jl:709 [inlined]",
      " [7] eventloop(::ZMQ.Socket) at /home/sinan/.julia/packages/IJulia/a1SNk/src/eventloop.jl:8",
      " [8] (::IJulia.var\"#15#18\")() at ./task.jl:356"
     ]
    }
   ],
   "source": [
    "time = Δt:Δt:tf;\n",
    "\n",
    "newanim2 = @animate for i = 1:length(kin_hist)\n",
    "    println(i/length(kin_hist)*100)\n",
    "    plot(K*body.x̃, pressure[i], ylim = (-20, 20), title = string(string(round(time[i]*fstar*100)/100), \" Periods\"))\n",
    "end\n",
    "\n",
    "gif(newanim2, \"Sinusoid_30_5T_p.gif\") "
   ]
  },
  {
   "cell_type": "code",
   "execution_count": 40,
   "metadata": {},
   "outputs": [
    {
     "ename": "LoadError",
     "evalue": "UndefVarError: body not defined",
     "output_type": "error",
     "traceback": [
      "UndefVarError: body not defined",
      "",
      "Stacktrace:",
      " [1] top-level scope at In[40]:1",
      " [2] include_string(::Function, ::Module, ::String, ::String) at ./loading.jl:1091",
      " [3] execute_code(::String, ::String) at /home/sinan/.julia/packages/IJulia/a1SNk/src/execute_request.jl:27",
      " [4] execute_request(::ZMQ.Socket, ::IJulia.Msg) at /home/sinan/.julia/packages/IJulia/a1SNk/src/execute_request.jl:86",
      " [5] #invokelatest#1 at ./essentials.jl:710 [inlined]",
      " [6] invokelatest at ./essentials.jl:709 [inlined]",
      " [7] eventloop(::ZMQ.Socket) at /home/sinan/.julia/packages/IJulia/a1SNk/src/eventloop.jl:8",
      " [8] (::IJulia.var\"#15#18\")() at ./task.jl:356"
     ]
    }
   ],
   "source": [
    "s = K*body.x̃;\n",
    "t = time;\n",
    "p = pressure;"
   ]
  },
  {
   "cell_type": "code",
   "execution_count": 41,
   "metadata": {},
   "outputs": [
    {
     "ename": "LoadError",
     "evalue": "LoadError: UndefVarError: @save not defined\nin expression starting at In[41]:1",
     "output_type": "error",
     "traceback": [
      "LoadError: UndefVarError: @save not defined\nin expression starting at In[41]:1",
      "",
      "Stacktrace:",
      " [1] top-level scope",
      " [2] include_string(::Function, ::Module, ::String, ::String) at ./loading.jl:1091",
      " [3] execute_code(::String, ::String) at /home/sinan/.julia/packages/IJulia/a1SNk/src/execute_request.jl:27",
      " [4] execute_request(::ZMQ.Socket, ::IJulia.Msg) at /home/sinan/.julia/packages/IJulia/a1SNk/src/execute_request.jl:86",
      " [5] #invokelatest#1 at ./essentials.jl:710 [inlined]",
      " [6] invokelatest at ./essentials.jl:709 [inlined]",
      " [7] eventloop(::ZMQ.Socket) at /home/sinan/.julia/packages/IJulia/a1SNk/src/eventloop.jl:8",
      " [8] (::IJulia.var\"#15#18\")() at ./task.jl:356"
     ]
    }
   ],
   "source": [
    "@save \"Re_200_Sinusoid.jld2\" s t p fx fy Fn"
   ]
  }
 ],
 "metadata": {
  "kernelspec": {
   "display_name": "JuliaPro_v1.5.3-1 1.5.3",
   "language": "julia",
   "name": "juliapro_v1.5.3-1-1.5"
  },
  "language_info": {
   "file_extension": ".jl",
   "mimetype": "application/julia",
   "name": "julia",
   "version": "1.5.3"
  }
 },
 "nbformat": 4,
 "nbformat_minor": 2
}
