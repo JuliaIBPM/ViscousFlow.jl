{
 "cells": [
  {
   "cell_type": "markdown",
   "metadata": {},
   "source": [
    "# Solving Navier-Stokes with a stationary body subject to a gust"
   ]
  },
  {
   "cell_type": "code",
   "execution_count": 1,
   "metadata": {},
   "outputs": [],
   "source": [
    "using ViscousFlow"
   ]
  },
  {
   "cell_type": "code",
   "execution_count": 2,
   "metadata": {
    "scrolled": true
   },
   "outputs": [
    {
     "ename": "LoadError",
     "evalue": "InitError: PyError (PyImport_ImportModule\n\nThe Python package matplotlib could not be imported by pyimport. Usually this means\nthat you did not install matplotlib in the Python version being used by PyCall.\n\nPyCall is currently configured to use the Python version at:\n\n/usr/bin/python3\n\nand you should use whatever mechanism you usually use (apt-get, pip, conda,\netcetera) to install the Python package containing the matplotlib module.\n\nOne alternative is to re-configure PyCall to use a different Python\nversion on your system: set ENV[\"PYTHON\"] to the path/name of the python\nexecutable you want to use, run Pkg.build(\"PyCall\"), and re-launch Julia.\n\nAnother alternative is to configure PyCall to use a Julia-specific Python\ndistribution via the Conda.jl package (which installs a private Anaconda\nPython distribution), which has the advantage that packages can be installed\nand kept up-to-date via Julia.  As explained in the PyCall documentation,\nset ENV[\"PYTHON\"]=\"\", run Pkg.build(\"PyCall\"), and re-launch Julia. Then,\nTo install the matplotlib module, you can use `pyimport_conda(\"matplotlib\", PKG)`,\nwhere PKG is the Anaconda package the contains the module matplotlib,\nor alternatively you can use the Conda package directly (via\n`using Conda` followed by `Conda.add` etcetera).\n\n) <class 'ImportError'>\nImportError('\\n\\nIMPORTANT: PLEASE READ THIS FOR ADVICE ON HOW TO SOLVE THIS ISSUE!\\n\\nImporting the numpy c-extensions failed.\\n- Try uninstalling and reinstalling numpy.\\n- If you have already done that, then:\\n  1. Check that you expected to use Python3.7 from \"/usr/bin/python3\",\\n     and that you have no directories in your PATH or PYTHONPATH that can\\n     interfere with the Python and numpy version \"1.17.4\" you\\'re trying to use.\\n  2. If (1) looks fine, you can open a new issue at\\n     https://github.com/numpy/numpy/issues.  Please include details on:\\n     - how you installed Python\\n     - how you installed numpy\\n     - your operating system\\n     - whether or not you have multiple versions of Python installed\\n     - if you built from source, your compiler versions and ideally a build log\\n\\n- If you\\'re working with a numpy git repository, try `git clean -xdf`\\n  (removes all files not under version control) and rebuild numpy.\\n\\nNote: this error has many possible causes, so please don\\'t comment on\\nan existing issue about this - open a new one instead.\\n\\nOriginal error was: No module named \\'numpy.core._multiarray_umath\\'\\n')\n  File \"/usr/lib/python3/dist-packages/matplotlib/__init__.py\", line 138, in <module>\n    from . import cbook, rcsetup\n  File \"/usr/lib/python3/dist-packages/matplotlib/cbook/__init__.py\", line 31, in <module>\n    import numpy as np\n  File \"/usr/lib/python3/dist-packages/numpy/__init__.py\", line 142, in <module>\n    from . import core\n  File \"/usr/lib/python3/dist-packages/numpy/core/__init__.py\", line 47, in <module>\n    raise ImportError(msg)\n\nduring initialization of module PyPlot",
     "output_type": "error",
     "traceback": [
      "InitError: PyError (PyImport_ImportModule\n\nThe Python package matplotlib could not be imported by pyimport. Usually this means\nthat you did not install matplotlib in the Python version being used by PyCall.\n\nPyCall is currently configured to use the Python version at:\n\n/usr/bin/python3\n\nand you should use whatever mechanism you usually use (apt-get, pip, conda,\netcetera) to install the Python package containing the matplotlib module.\n\nOne alternative is to re-configure PyCall to use a different Python\nversion on your system: set ENV[\"PYTHON\"] to the path/name of the python\nexecutable you want to use, run Pkg.build(\"PyCall\"), and re-launch Julia.\n\nAnother alternative is to configure PyCall to use a Julia-specific Python\ndistribution via the Conda.jl package (which installs a private Anaconda\nPython distribution), which has the advantage that packages can be installed\nand kept up-to-date via Julia.  As explained in the PyCall documentation,\nset ENV[\"PYTHON\"]=\"\", run Pkg.build(\"PyCall\"), and re-launch Julia. Then,\nTo install the matplotlib module, you can use `pyimport_conda(\"matplotlib\", PKG)`,\nwhere PKG is the Anaconda package the contains the module matplotlib,\nor alternatively you can use the Conda package directly (via\n`using Conda` followed by `Conda.add` etcetera).\n\n) <class 'ImportError'>\nImportError('\\n\\nIMPORTANT: PLEASE READ THIS FOR ADVICE ON HOW TO SOLVE THIS ISSUE!\\n\\nImporting the numpy c-extensions failed.\\n- Try uninstalling and reinstalling numpy.\\n- If you have already done that, then:\\n  1. Check that you expected to use Python3.7 from \"/usr/bin/python3\",\\n     and that you have no directories in your PATH or PYTHONPATH that can\\n     interfere with the Python and numpy version \"1.17.4\" you\\'re trying to use.\\n  2. If (1) looks fine, you can open a new issue at\\n     https://github.com/numpy/numpy/issues.  Please include details on:\\n     - how you installed Python\\n     - how you installed numpy\\n     - your operating system\\n     - whether or not you have multiple versions of Python installed\\n     - if you built from source, your compiler versions and ideally a build log\\n\\n- If you\\'re working with a numpy git repository, try `git clean -xdf`\\n  (removes all files not under version control) and rebuild numpy.\\n\\nNote: this error has many possible causes, so please don\\'t comment on\\nan existing issue about this - open a new one instead.\\n\\nOriginal error was: No module named \\'numpy.core._multiarray_umath\\'\\n')\n  File \"/usr/lib/python3/dist-packages/matplotlib/__init__.py\", line 138, in <module>\n    from . import cbook, rcsetup\n  File \"/usr/lib/python3/dist-packages/matplotlib/cbook/__init__.py\", line 31, in <module>\n    import numpy as np\n  File \"/usr/lib/python3/dist-packages/numpy/__init__.py\", line 142, in <module>\n    from . import core\n  File \"/usr/lib/python3/dist-packages/numpy/core/__init__.py\", line 47, in <module>\n    raise ImportError(msg)\n\nduring initialization of module PyPlot",
      "",
      "Stacktrace:",
      " [1] pyimport(::String) at /home/sinan/.julia/packages/PyCall/BcTLp/src/PyCall.jl:547",
      " [2] pyimport_conda(::String, ::String, ::String) at /home/sinan/.julia/packages/PyCall/BcTLp/src/PyCall.jl:705",
      " [3] pyimport_conda at /home/sinan/.julia/packages/PyCall/BcTLp/src/PyCall.jl:704 [inlined]",
      " [4] __init__() at /home/sinan/.julia/packages/PyPlot/XHEG0/src/init.jl:179",
      " [5] _include_from_serialized(::String, ::Array{Any,1}) at ./loading.jl:697",
      " [6] _require_search_from_serialized(::Base.PkgId, ::String) at ./loading.jl:782",
      " [7] _require(::Base.PkgId) at ./loading.jl:1007",
      " [8] require(::Base.PkgId) at ./loading.jl:928",
      " [9] require(::Module, ::Symbol) at ./loading.jl:923",
      " [10] top-level scope at /home/sinan/.julia/packages/Plots/vsE7b/src/backends.jl:505",
      " [11] eval at ./boot.jl:331 [inlined]",
      " [12] _initialize_backend(::Plots.PyPlotBackend) at /home/sinan/.julia/packages/Plots/vsE7b/src/backends.jl:504",
      " [13] backend at /home/sinan/.julia/packages/Plots/vsE7b/src/backends.jl:174 [inlined]",
      " [14] pyplot(; kw::Base.Iterators.Pairs{Union{},Union{},Tuple{},NamedTuple{(),Tuple{}}}) at /home/sinan/.julia/packages/Plots/vsE7b/src/backends.jl:31",
      " [15] pyplot() at /home/sinan/.julia/packages/Plots/vsE7b/src/backends.jl:31",
      " [16] top-level scope at In[2]:2",
      " [17] include_string(::Function, ::Module, ::String, ::String) at ./loading.jl:1091",
      " [18] execute_code(::String, ::String) at /home/sinan/.julia/packages/IJulia/a1SNk/src/execute_request.jl:27",
      " [19] execute_request(::ZMQ.Socket, ::IJulia.Msg) at /home/sinan/.julia/packages/IJulia/a1SNk/src/execute_request.jl:86",
      " [20] #invokelatest#1 at ./essentials.jl:710 [inlined]",
      " [21] invokelatest at ./essentials.jl:709 [inlined]",
      " [22] eventloop(::ZMQ.Socket) at /home/sinan/.julia/packages/IJulia/a1SNk/src/eventloop.jl:8",
      " [23] (::IJulia.var\"#15#18\")() at ./task.jl:356"
     ]
    }
   ],
   "source": [
    "using Plots\n",
    "pyplot()"
   ]
  },
  {
   "cell_type": "markdown",
   "metadata": {},
   "source": [
    "Set the flow parameters"
   ]
  },
  {
   "cell_type": "code",
   "execution_count": 3,
   "metadata": {},
   "outputs": [],
   "source": [
    "Re = 200; # Reynolds number\n",
    "U = 1.0; # Free stream velocity\n",
    "U∞ = (U,0.0);"
   ]
  },
  {
   "cell_type": "markdown",
   "metadata": {},
   "source": [
    "Set up the domain, grid spacing, and time step size"
   ]
  },
  {
   "cell_type": "code",
   "execution_count": 4,
   "metadata": {},
   "outputs": [
    {
     "data": {
      "text/plain": [
       "(0.01, 0.005)"
      ]
     },
     "execution_count": 4,
     "metadata": {},
     "output_type": "execute_result"
    }
   ],
   "source": [
    "xlim = (-2.0,3.0)\n",
    "ylim = (-1.0,1.0)\n",
    "\n",
    "Δx, Δt = setstepsizes(Re)"
   ]
  },
  {
   "cell_type": "markdown",
   "metadata": {},
   "source": [
    "#### Set up points on the body. We set the points so that the spacing between them is 1.5 times the grid spacing."
   ]
  },
  {
   "cell_type": "markdown",
   "metadata": {},
   "source": [
    "Here is a plate:"
   ]
  },
  {
   "cell_type": "code",
   "execution_count": 5,
   "metadata": {},
   "outputs": [
    {
     "data": {
      "text/plain": [
       "Plate with 66 points and length 1.0 and thickness 0.0\n",
       "   Current position: (0.0,0.0)\n",
       "   Current angle (rad): 0.0\n"
      ]
     },
     "execution_count": 5,
     "metadata": {},
     "output_type": "execute_result"
    }
   ],
   "source": [
    "body = Plate(1.0,1.5Δx)"
   ]
  },
  {
   "cell_type": "markdown",
   "metadata": {},
   "source": [
    "or here is a NACA 0012 airfoil"
   ]
  },
  {
   "cell_type": "code",
   "execution_count": 6,
   "metadata": {},
   "outputs": [],
   "source": [
    "#body = NACA4(0.0,0.0,0.12,1.5Δx)"
   ]
  },
  {
   "cell_type": "markdown",
   "metadata": {},
   "source": [
    "#### Transform the body to a specified initial position and orientation."
   ]
  },
  {
   "cell_type": "code",
   "execution_count": 7,
   "metadata": {},
   "outputs": [
    {
     "data": {
      "text/plain": [
       "Plate with 66 points and length 1.0 and thickness 0.0\n",
       "   Current position: (0.0,0.0)\n",
       "   Current angle (rad): -0.0\n"
      ]
     },
     "execution_count": 7,
     "metadata": {},
     "output_type": "execute_result"
    }
   ],
   "source": [
    "cent = (0.0,0.0)\n",
    "α = 0π/180 #π/3 #π/4\n",
    "T = RigidTransform(cent,-α)\n",
    "T(body) # transform the body to the current configuration"
   ]
  },
  {
   "cell_type": "code",
   "execution_count": 8,
   "metadata": {},
   "outputs": [
    {
     "data": {
      "image/svg+xml": [
       "<?xml version=\"1.0\" encoding=\"utf-8\"?>\n",
       "<svg xmlns=\"http://www.w3.org/2000/svg\" xmlns:xlink=\"http://www.w3.org/1999/xlink\" width=\"600\" height=\"400\" viewBox=\"0 0 2400 1600\">\n",
       "<defs>\n",
       "  <clipPath id=\"clip280\">\n",
       "    <rect x=\"0\" y=\"0\" width=\"2400\" height=\"1600\"/>\n",
       "  </clipPath>\n",
       "</defs>\n",
       "<path clip-path=\"url(#clip280)\" d=\"\n",
       "M0 1600 L2400 1600 L2400 0 L0 0  Z\n",
       "  \" fill=\"#ffffff\" fill-rule=\"evenodd\" fill-opacity=\"1\"/>\n",
       "<defs>\n",
       "  <clipPath id=\"clip281\">\n",
       "    <rect x=\"480\" y=\"0\" width=\"1681\" height=\"1600\"/>\n",
       "  </clipPath>\n",
       "</defs>\n",
       "<path clip-path=\"url(#clip280)\" d=\"\n",
       "M179.654 1201.47 L2352.76 1201.47 L2352.76 332.226 L179.654 332.226  Z\n",
       "  \" fill=\"#ffffff\" fill-rule=\"evenodd\" fill-opacity=\"1\"/>\n",
       "<defs>\n",
       "  <clipPath id=\"clip282\">\n",
       "    <rect x=\"179\" y=\"332\" width=\"2174\" height=\"870\"/>\n",
       "  </clipPath>\n",
       "</defs>\n",
       "<polyline clip-path=\"url(#clip280)\" style=\"stroke:#000000; stroke-width:4; stroke-opacity:1; fill:none\" points=\"\n",
       "  179.654,1201.47 2352.76,1201.47 \n",
       "  \"/>\n",
       "<polyline clip-path=\"url(#clip280)\" style=\"stroke:#000000; stroke-width:4; stroke-opacity:1; fill:none\" points=\"\n",
       "  179.654,1201.47 179.654,1191.04 \n",
       "  \"/>\n",
       "<polyline clip-path=\"url(#clip280)\" style=\"stroke:#000000; stroke-width:4; stroke-opacity:1; fill:none\" points=\"\n",
       "  614.274,1201.47 614.274,1191.04 \n",
       "  \"/>\n",
       "<polyline clip-path=\"url(#clip280)\" style=\"stroke:#000000; stroke-width:4; stroke-opacity:1; fill:none\" points=\"\n",
       "  1048.89,1201.47 1048.89,1191.04 \n",
       "  \"/>\n",
       "<polyline clip-path=\"url(#clip280)\" style=\"stroke:#000000; stroke-width:4; stroke-opacity:1; fill:none\" points=\"\n",
       "  1483.52,1201.47 1483.52,1191.04 \n",
       "  \"/>\n",
       "<polyline clip-path=\"url(#clip280)\" style=\"stroke:#000000; stroke-width:4; stroke-opacity:1; fill:none\" points=\"\n",
       "  1918.14,1201.47 1918.14,1191.04 \n",
       "  \"/>\n",
       "<polyline clip-path=\"url(#clip280)\" style=\"stroke:#000000; stroke-width:4; stroke-opacity:1; fill:none\" points=\"\n",
       "  2352.76,1201.47 2352.76,1191.04 \n",
       "  \"/>\n",
       "<path clip-path=\"url(#clip280)\" d=\"M 0 0 M152.108 1245.31 L181.783 1245.31 L181.783 1249.24 L152.108 1249.24 L152.108 1245.31 Z\" fill=\"#000000\" fill-rule=\"evenodd\" fill-opacity=\"1\" /><path clip-path=\"url(#clip280)\" d=\"M 0 0 M190.88 1258.2 L207.2 1258.2 L207.2 1262.14 L185.255 1262.14 L185.255 1258.2 Q187.918 1255.45 192.501 1250.82 Q197.107 1246.17 198.288 1244.82 Q200.533 1242.3 201.413 1240.56 Q202.316 1238.81 202.316 1237.12 Q202.316 1234.36 200.371 1232.62 Q198.45 1230.89 195.348 1230.89 Q193.149 1230.89 190.695 1231.65 Q188.265 1232.42 185.487 1233.97 L185.487 1229.25 Q188.311 1228.11 190.765 1227.53 Q193.218 1226.95 195.255 1226.95 Q200.626 1226.95 203.82 1229.64 Q207.015 1232.32 207.015 1236.81 Q207.015 1238.94 206.204 1240.87 Q205.417 1242.76 203.311 1245.36 Q202.732 1246.03 199.63 1249.24 Q196.529 1252.44 190.88 1258.2 Z\" fill=\"#000000\" fill-rule=\"evenodd\" fill-opacity=\"1\" /><path clip-path=\"url(#clip280)\" d=\"M 0 0 M586.543 1245.31 L616.219 1245.31 L616.219 1249.24 L586.543 1249.24 L586.543 1245.31 Z\" fill=\"#000000\" fill-rule=\"evenodd\" fill-opacity=\"1\" /><path clip-path=\"url(#clip280)\" d=\"M 0 0 M622.098 1258.2 L629.737 1258.2 L629.737 1231.84 L621.427 1233.5 L621.427 1229.25 L629.691 1227.58 L634.367 1227.58 L634.367 1258.2 L642.005 1258.2 L642.005 1262.14 L622.098 1262.14 L622.098 1258.2 Z\" fill=\"#000000\" fill-rule=\"evenodd\" fill-opacity=\"1\" /><path clip-path=\"url(#clip280)\" d=\"M 0 0 M1048.89 1230.66 Q1045.28 1230.66 1043.45 1234.22 Q1041.65 1237.76 1041.65 1244.89 Q1041.65 1252 1043.45 1255.56 Q1045.28 1259.11 1048.89 1259.11 Q1052.53 1259.11 1054.33 1255.56 Q1056.16 1252 1056.16 1244.89 Q1056.16 1237.76 1054.33 1234.22 Q1052.53 1230.66 1048.89 1230.66 M1048.89 1226.95 Q1054.7 1226.95 1057.76 1231.56 Q1060.84 1236.14 1060.84 1244.89 Q1060.84 1253.62 1057.76 1258.23 Q1054.7 1262.81 1048.89 1262.81 Q1043.08 1262.81 1040.01 1258.23 Q1036.95 1253.62 1036.95 1244.89 Q1036.95 1236.14 1040.01 1231.56 Q1043.08 1226.95 1048.89 1226.95 Z\" fill=\"#000000\" fill-rule=\"evenodd\" fill-opacity=\"1\" /><path clip-path=\"url(#clip280)\" d=\"M 0 0 M1473.9 1258.2 L1481.54 1258.2 L1481.54 1231.84 L1473.23 1233.5 L1473.23 1229.25 L1481.49 1227.58 L1486.17 1227.58 L1486.17 1258.2 L1493.8 1258.2 L1493.8 1262.14 L1473.9 1262.14 L1473.9 1258.2 Z\" fill=\"#000000\" fill-rule=\"evenodd\" fill-opacity=\"1\" /><path clip-path=\"url(#clip280)\" d=\"M 0 0 M1912.79 1258.2 L1929.11 1258.2 L1929.11 1262.14 L1907.16 1262.14 L1907.16 1258.2 Q1909.83 1255.45 1914.41 1250.82 Q1919.02 1246.17 1920.2 1244.82 Q1922.44 1242.3 1923.32 1240.56 Q1924.22 1238.81 1924.22 1237.12 Q1924.22 1234.36 1922.28 1232.62 Q1920.36 1230.89 1917.26 1230.89 Q1915.06 1230.89 1912.6 1231.65 Q1910.17 1232.42 1907.39 1233.97 L1907.39 1229.25 Q1910.22 1228.11 1912.67 1227.53 Q1915.13 1226.95 1917.16 1226.95 Q1922.53 1226.95 1925.73 1229.64 Q1928.92 1232.32 1928.92 1236.81 Q1928.92 1238.94 1928.11 1240.87 Q1927.33 1242.76 1925.22 1245.36 Q1924.64 1246.03 1921.54 1249.24 Q1918.44 1252.44 1912.79 1258.2 Z\" fill=\"#000000\" fill-rule=\"evenodd\" fill-opacity=\"1\" /><path clip-path=\"url(#clip280)\" d=\"M 0 0 M2357 1243.5 Q2360.36 1244.22 2362.24 1246.49 Q2364.13 1248.76 2364.13 1252.09 Q2364.13 1257.21 2360.61 1260.01 Q2357.1 1262.81 2350.61 1262.81 Q2348.44 1262.81 2346.12 1262.37 Q2343.83 1261.95 2341.38 1261.1 L2341.38 1256.58 Q2343.32 1257.72 2345.64 1258.3 Q2347.95 1258.87 2350.48 1258.87 Q2354.87 1258.87 2357.17 1257.14 Q2359.48 1255.4 2359.48 1252.09 Q2359.48 1249.04 2357.33 1247.32 Q2355.2 1245.59 2351.38 1245.59 L2347.35 1245.59 L2347.35 1241.75 L2351.56 1241.75 Q2355.01 1241.75 2356.84 1240.38 Q2358.67 1238.99 2358.67 1236.4 Q2358.67 1233.74 2356.77 1232.32 Q2354.9 1230.89 2351.38 1230.89 Q2349.46 1230.89 2347.26 1231.31 Q2345.06 1231.72 2342.42 1232.6 L2342.42 1228.43 Q2345.08 1227.69 2347.4 1227.32 Q2349.74 1226.95 2351.8 1226.95 Q2357.12 1226.95 2360.22 1229.38 Q2363.32 1231.79 2363.32 1235.91 Q2363.32 1238.78 2361.68 1240.77 Q2360.04 1242.74 2357 1243.5 Z\" fill=\"#000000\" fill-rule=\"evenodd\" fill-opacity=\"1\" /><polyline clip-path=\"url(#clip280)\" style=\"stroke:#000000; stroke-width:4; stroke-opacity:1; fill:none\" points=\"\n",
       "  179.654,1201.47 179.654,332.226 \n",
       "  \"/>\n",
       "<polyline clip-path=\"url(#clip280)\" style=\"stroke:#000000; stroke-width:4; stroke-opacity:1; fill:none\" points=\"\n",
       "  179.654,1201.47 205.731,1201.47 \n",
       "  \"/>\n",
       "<polyline clip-path=\"url(#clip280)\" style=\"stroke:#000000; stroke-width:4; stroke-opacity:1; fill:none\" points=\"\n",
       "  179.654,984.156 205.731,984.156 \n",
       "  \"/>\n",
       "<polyline clip-path=\"url(#clip280)\" style=\"stroke:#000000; stroke-width:4; stroke-opacity:1; fill:none\" points=\"\n",
       "  179.654,766.846 205.731,766.846 \n",
       "  \"/>\n",
       "<polyline clip-path=\"url(#clip280)\" style=\"stroke:#000000; stroke-width:4; stroke-opacity:1; fill:none\" points=\"\n",
       "  179.654,549.536 205.731,549.536 \n",
       "  \"/>\n",
       "<polyline clip-path=\"url(#clip280)\" style=\"stroke:#000000; stroke-width:4; stroke-opacity:1; fill:none\" points=\"\n",
       "  179.654,332.226 205.731,332.226 \n",
       "  \"/>\n",
       "<path clip-path=\"url(#clip280)\" d=\"M 0 0 M51.2236 1201.92 L80.8994 1201.92 L80.8994 1205.85 L51.2236 1205.85 L51.2236 1201.92 Z\" fill=\"#000000\" fill-rule=\"evenodd\" fill-opacity=\"1\" /><path clip-path=\"url(#clip280)\" d=\"M 0 0 M86.779 1214.81 L94.4178 1214.81 L94.4178 1188.45 L86.1077 1190.11 L86.1077 1185.85 L94.3715 1184.19 L99.0474 1184.19 L99.0474 1214.81 L106.686 1214.81 L106.686 1218.75 L86.779 1218.75 L86.779 1214.81 Z\" fill=\"#000000\" fill-rule=\"evenodd\" fill-opacity=\"1\" /><path clip-path=\"url(#clip280)\" d=\"M 0 0 M111.756 1212.87 L116.64 1212.87 L116.64 1218.75 L111.756 1218.75 L111.756 1212.87 Z\" fill=\"#000000\" fill-rule=\"evenodd\" fill-opacity=\"1\" /><path clip-path=\"url(#clip280)\" d=\"M 0 0 M131.709 1187.27 Q128.098 1187.27 126.27 1190.83 Q124.464 1194.37 124.464 1201.5 Q124.464 1208.61 126.27 1212.17 Q128.098 1215.71 131.709 1215.71 Q135.344 1215.71 137.149 1212.17 Q138.978 1208.61 138.978 1201.5 Q138.978 1194.37 137.149 1190.83 Q135.344 1187.27 131.709 1187.27 M131.709 1183.56 Q137.519 1183.56 140.575 1188.17 Q143.654 1192.75 143.654 1201.5 Q143.654 1210.23 140.575 1214.83 Q137.519 1219.42 131.709 1219.42 Q125.899 1219.42 122.82 1214.83 Q119.765 1210.23 119.765 1201.5 Q119.765 1192.75 122.82 1188.17 Q125.899 1183.56 131.709 1183.56 Z\" fill=\"#000000\" fill-rule=\"evenodd\" fill-opacity=\"1\" /><path clip-path=\"url(#clip280)\" d=\"M 0 0 M50.9921 984.608 L80.6679 984.608 L80.6679 988.543 L50.9921 988.543 L50.9921 984.608 Z\" fill=\"#000000\" fill-rule=\"evenodd\" fill-opacity=\"1\" /><path clip-path=\"url(#clip280)\" d=\"M 0 0 M95.7373 969.955 Q92.1262 969.955 90.2975 973.52 Q88.4919 977.061 88.4919 984.191 Q88.4919 991.297 90.2975 994.862 Q92.1262 998.404 95.7373 998.404 Q99.3715 998.404 101.177 994.862 Q103.006 991.297 103.006 984.191 Q103.006 977.061 101.177 973.52 Q99.3715 969.955 95.7373 969.955 M95.7373 966.251 Q101.547 966.251 104.603 970.858 Q107.682 975.441 107.682 984.191 Q107.682 992.918 104.603 997.524 Q101.547 1002.11 95.7373 1002.11 Q89.9271 1002.11 86.8484 997.524 Q83.7929 992.918 83.7929 984.191 Q83.7929 975.441 86.8484 970.858 Q89.9271 966.251 95.7373 966.251 Z\" fill=\"#000000\" fill-rule=\"evenodd\" fill-opacity=\"1\" /><path clip-path=\"url(#clip280)\" d=\"M 0 0 M112.751 995.557 L117.635 995.557 L117.635 1001.44 L112.751 1001.44 L112.751 995.557 Z\" fill=\"#000000\" fill-rule=\"evenodd\" fill-opacity=\"1\" /><path clip-path=\"url(#clip280)\" d=\"M 0 0 M122.751 966.876 L141.107 966.876 L141.107 970.811 L127.033 970.811 L127.033 979.284 Q128.052 978.936 129.07 978.774 Q130.089 978.589 131.107 978.589 Q136.894 978.589 140.274 981.76 Q143.654 984.932 143.654 990.348 Q143.654 995.927 140.181 999.029 Q136.709 1002.11 130.39 1002.11 Q128.214 1002.11 125.945 1001.74 Q123.7 1001.37 121.293 1000.63 L121.293 995.927 Q123.376 997.061 125.598 997.617 Q127.82 998.172 130.297 998.172 Q134.302 998.172 136.64 996.066 Q138.978 993.959 138.978 990.348 Q138.978 986.737 136.64 984.631 Q134.302 982.524 130.297 982.524 Q128.422 982.524 126.547 982.941 Q124.695 983.358 122.751 984.237 L122.751 966.876 Z\" fill=\"#000000\" fill-rule=\"evenodd\" fill-opacity=\"1\" /><path clip-path=\"url(#clip280)\" d=\"M 0 0 M94.7419 752.645 Q91.1308 752.645 89.3021 756.209 Q87.4966 759.751 87.4966 766.881 Q87.4966 773.987 89.3021 777.552 Q91.1308 781.094 94.7419 781.094 Q98.3761 781.094 100.182 777.552 Q102.01 773.987 102.01 766.881 Q102.01 759.751 100.182 756.209 Q98.3761 752.645 94.7419 752.645 M94.7419 748.941 Q100.552 748.941 103.608 753.547 Q106.686 758.131 106.686 766.881 Q106.686 775.608 103.608 780.214 Q100.552 784.797 94.7419 784.797 Q88.9317 784.797 85.8531 780.214 Q82.7975 775.608 82.7975 766.881 Q82.7975 758.131 85.8531 753.547 Q88.9317 748.941 94.7419 748.941 Z\" fill=\"#000000\" fill-rule=\"evenodd\" fill-opacity=\"1\" /><path clip-path=\"url(#clip280)\" d=\"M 0 0 M111.756 778.246 L116.64 778.246 L116.64 784.126 L111.756 784.126 L111.756 778.246 Z\" fill=\"#000000\" fill-rule=\"evenodd\" fill-opacity=\"1\" /><path clip-path=\"url(#clip280)\" d=\"M 0 0 M131.709 752.645 Q128.098 752.645 126.27 756.209 Q124.464 759.751 124.464 766.881 Q124.464 773.987 126.27 777.552 Q128.098 781.094 131.709 781.094 Q135.344 781.094 137.149 777.552 Q138.978 773.987 138.978 766.881 Q138.978 759.751 137.149 756.209 Q135.344 752.645 131.709 752.645 M131.709 748.941 Q137.519 748.941 140.575 753.547 Q143.654 758.131 143.654 766.881 Q143.654 775.608 140.575 780.214 Q137.519 784.797 131.709 784.797 Q125.899 784.797 122.82 780.214 Q119.765 775.608 119.765 766.881 Q119.765 758.131 122.82 753.547 Q125.899 748.941 131.709 748.941 Z\" fill=\"#000000\" fill-rule=\"evenodd\" fill-opacity=\"1\" /><path clip-path=\"url(#clip280)\" d=\"M 0 0 M95.7373 535.334 Q92.1262 535.334 90.2975 538.899 Q88.4919 542.441 88.4919 549.57 Q88.4919 556.677 90.2975 560.242 Q92.1262 563.783 95.7373 563.783 Q99.3715 563.783 101.177 560.242 Q103.006 556.677 103.006 549.57 Q103.006 542.441 101.177 538.899 Q99.3715 535.334 95.7373 535.334 M95.7373 531.631 Q101.547 531.631 104.603 536.237 Q107.682 540.821 107.682 549.57 Q107.682 558.297 104.603 562.904 Q101.547 567.487 95.7373 567.487 Q89.9271 567.487 86.8484 562.904 Q83.7929 558.297 83.7929 549.57 Q83.7929 540.821 86.8484 536.237 Q89.9271 531.631 95.7373 531.631 Z\" fill=\"#000000\" fill-rule=\"evenodd\" fill-opacity=\"1\" /><path clip-path=\"url(#clip280)\" d=\"M 0 0 M112.751 560.936 L117.635 560.936 L117.635 566.816 L112.751 566.816 L112.751 560.936 Z\" fill=\"#000000\" fill-rule=\"evenodd\" fill-opacity=\"1\" /><path clip-path=\"url(#clip280)\" d=\"M 0 0 M122.751 532.256 L141.107 532.256 L141.107 536.191 L127.033 536.191 L127.033 544.663 Q128.052 544.316 129.07 544.154 Q130.089 543.969 131.107 543.969 Q136.894 543.969 140.274 547.14 Q143.654 550.311 143.654 555.728 Q143.654 561.307 140.181 564.408 Q136.709 567.487 130.39 567.487 Q128.214 567.487 125.945 567.117 Q123.7 566.746 121.293 566.006 L121.293 561.307 Q123.376 562.441 125.598 562.996 Q127.82 563.552 130.297 563.552 Q134.302 563.552 136.64 561.445 Q138.978 559.339 138.978 555.728 Q138.978 552.117 136.64 550.01 Q134.302 547.904 130.297 547.904 Q128.422 547.904 126.547 548.32 Q124.695 548.737 122.751 549.617 L122.751 532.256 Z\" fill=\"#000000\" fill-rule=\"evenodd\" fill-opacity=\"1\" /><path clip-path=\"url(#clip280)\" d=\"M 0 0 M86.779 345.57 L94.4178 345.57 L94.4178 319.205 L86.1077 320.871 L86.1077 316.612 L94.3715 314.946 L99.0474 314.946 L99.0474 345.57 L106.686 345.57 L106.686 349.506 L86.779 349.506 L86.779 345.57 Z\" fill=\"#000000\" fill-rule=\"evenodd\" fill-opacity=\"1\" /><path clip-path=\"url(#clip280)\" d=\"M 0 0 M111.756 343.626 L116.64 343.626 L116.64 349.506 L111.756 349.506 L111.756 343.626 Z\" fill=\"#000000\" fill-rule=\"evenodd\" fill-opacity=\"1\" /><path clip-path=\"url(#clip280)\" d=\"M 0 0 M131.709 318.024 Q128.098 318.024 126.27 321.589 Q124.464 325.131 124.464 332.26 Q124.464 339.367 126.27 342.931 Q128.098 346.473 131.709 346.473 Q135.344 346.473 137.149 342.931 Q138.978 339.367 138.978 332.26 Q138.978 325.131 137.149 321.589 Q135.344 318.024 131.709 318.024 M131.709 314.321 Q137.519 314.321 140.575 318.927 Q143.654 323.51 143.654 332.26 Q143.654 340.987 140.575 345.594 Q137.519 350.177 131.709 350.177 Q125.899 350.177 122.82 345.594 Q119.765 340.987 119.765 332.26 Q119.765 323.51 122.82 318.927 Q125.899 314.321 131.709 314.321 Z\" fill=\"#000000\" fill-rule=\"evenodd\" fill-opacity=\"1\" /><path clip-path=\"url(#clip282)\" d=\"\n",
       "M831.584 766.846 L838.271 766.846 L844.957 766.846 L851.644 766.846 L858.33 766.846 L865.017 766.846 L871.703 766.846 L878.39 766.846 L885.076 766.846 L891.763 766.846 \n",
       "  L898.449 766.846 L905.135 766.846 L911.822 766.846 L918.508 766.846 L925.195 766.846 L931.881 766.846 L938.568 766.846 L945.254 766.846 L951.941 766.846 L958.627 766.846 \n",
       "  L965.314 766.846 L972 766.846 L978.687 766.846 L985.373 766.846 L992.06 766.846 L998.746 766.846 L1005.43 766.846 L1012.12 766.846 L1018.81 766.846 L1025.49 766.846 \n",
       "  L1032.18 766.846 L1038.86 766.846 L1045.55 766.846 L1052.24 766.846 L1058.92 766.846 L1065.61 766.846 L1072.3 766.846 L1078.98 766.846 L1085.67 766.846 L1092.36 766.846 \n",
       "  L1099.04 766.846 L1105.73 766.846 L1112.42 766.846 L1119.1 766.846 L1125.79 766.846 L1132.48 766.846 L1139.16 766.846 L1145.85 766.846 L1152.53 766.846 L1159.22 766.846 \n",
       "  L1165.91 766.846 L1172.59 766.846 L1179.28 766.846 L1185.97 766.846 L1192.65 766.846 L1199.34 766.846 L1206.03 766.846 L1212.71 766.846 L1219.4 766.846 L1226.09 766.846 \n",
       "  L1232.77 766.846 L1239.46 766.846 L1246.15 766.846 L1252.83 766.846 L1259.52 766.846 L1266.2 766.846 L831.584 766.846 L831.584 766.846 L1266.2 766.846 L1259.52 766.846 \n",
       "  L1252.83 766.846 L1246.15 766.846 L1239.46 766.846 L1232.77 766.846 L1226.09 766.846 L1219.4 766.846 L1212.71 766.846 L1206.03 766.846 L1199.34 766.846 L1192.65 766.846 \n",
       "  L1185.97 766.846 L1179.28 766.846 L1172.59 766.846 L1165.91 766.846 L1159.22 766.846 L1152.53 766.846 L1145.85 766.846 L1139.16 766.846 L1132.48 766.846 L1125.79 766.846 \n",
       "  L1119.1 766.846 L1112.42 766.846 L1105.73 766.846 L1099.04 766.846 L1092.36 766.846 L1085.67 766.846 L1078.98 766.846 L1072.3 766.846 L1065.61 766.846 L1058.92 766.846 \n",
       "  L1052.24 766.846 L1045.55 766.846 L1038.86 766.846 L1032.18 766.846 L1025.49 766.846 L1018.81 766.846 L1012.12 766.846 L1005.43 766.846 L998.746 766.846 L992.06 766.846 \n",
       "  L985.373 766.846 L978.687 766.846 L972 766.846 L965.314 766.846 L958.627 766.846 L951.941 766.846 L945.254 766.846 L938.568 766.846 L931.881 766.846 L925.195 766.846 \n",
       "  L918.508 766.846 L911.822 766.846 L905.135 766.846 L898.449 766.846 L891.763 766.846 L885.076 766.846 L878.39 766.846 L871.703 766.846 L865.017 766.846 L858.33 766.846 \n",
       "  L851.644 766.846 L844.957 766.846 L838.271 766.846 L831.584 766.846  Z\n",
       "  \" fill=\"#97b476\" fill-rule=\"evenodd\" fill-opacity=\"1\"/>\n",
       "<polyline clip-path=\"url(#clip282)\" style=\"stroke:#97b476; stroke-width:4; stroke-opacity:1; fill:none\" points=\"\n",
       "  831.584,766.846 838.271,766.846 844.957,766.846 851.644,766.846 858.33,766.846 865.017,766.846 871.703,766.846 878.39,766.846 885.076,766.846 891.763,766.846 \n",
       "  898.449,766.846 905.135,766.846 911.822,766.846 918.508,766.846 925.195,766.846 931.881,766.846 938.568,766.846 945.254,766.846 951.941,766.846 958.627,766.846 \n",
       "  965.314,766.846 972,766.846 978.687,766.846 985.373,766.846 992.06,766.846 998.746,766.846 1005.43,766.846 1012.12,766.846 1018.81,766.846 1025.49,766.846 \n",
       "  1032.18,766.846 1038.86,766.846 1045.55,766.846 1052.24,766.846 1058.92,766.846 1065.61,766.846 1072.3,766.846 1078.98,766.846 1085.67,766.846 1092.36,766.846 \n",
       "  1099.04,766.846 1105.73,766.846 1112.42,766.846 1119.1,766.846 1125.79,766.846 1132.48,766.846 1139.16,766.846 1145.85,766.846 1152.53,766.846 1159.22,766.846 \n",
       "  1165.91,766.846 1172.59,766.846 1179.28,766.846 1185.97,766.846 1192.65,766.846 1199.34,766.846 1206.03,766.846 1212.71,766.846 1219.4,766.846 1226.09,766.846 \n",
       "  1232.77,766.846 1239.46,766.846 1246.15,766.846 1252.83,766.846 1259.52,766.846 1266.2,766.846 831.584,766.846 \n",
       "  \"/>\n",
       "</svg>\n"
      ]
     },
     "execution_count": 8,
     "metadata": {},
     "output_type": "execute_result"
    }
   ],
   "source": [
    "plot(body,xlim=xlim,ylim=ylim)"
   ]
  },
  {
   "cell_type": "markdown",
   "metadata": {},
   "source": [
    "Collect the body point data into a vector"
   ]
  },
  {
   "cell_type": "code",
   "execution_count": 9,
   "metadata": {},
   "outputs": [],
   "source": [
    "X = VectorData(collect(body));"
   ]
  },
  {
   "cell_type": "markdown",
   "metadata": {},
   "source": [
    "### Now set up the system"
   ]
  },
  {
   "cell_type": "markdown",
   "metadata": {},
   "source": [
    "Set up the system operators"
   ]
  },
  {
   "cell_type": "code",
   "execution_count": 10,
   "metadata": {},
   "outputs": [
    {
     "data": {
      "text/plain": [
       "Navier-Stokes system on a grid of size 504 x 208"
      ]
     },
     "execution_count": 10,
     "metadata": {},
     "output_type": "execute_result"
    }
   ],
   "source": [
    "sys = NavierStokes(Re,Δx,xlim,ylim,Δt,U∞ = U∞, X̃ = X, isstore = true)"
   ]
  },
  {
   "cell_type": "markdown",
   "metadata": {},
   "source": [
    "Initial conditions, and grid coordinates"
   ]
  },
  {
   "cell_type": "code",
   "execution_count": 11,
   "metadata": {},
   "outputs": [],
   "source": [
    "w₀ = Nodes(Dual,size(sys));\n",
    "f = VectorData(X);"
   ]
  },
  {
   "cell_type": "code",
   "execution_count": 12,
   "metadata": {},
   "outputs": [],
   "source": [
    "σx = 0.4\n",
    "σy = 0.1\n",
    "A = 5\n",
    "x0 = -1.2\n",
    "y0 = 0.0\n",
    "gauss = SpatialGaussian(σx,σy,x0,y0,A)\n",
    "\n",
    "gustx = EmptySpatialField()\n",
    "gusty = gauss\n",
    "gaussfield = GeneratedField(Edges(Primal,size(sys)),gustx,gusty,sys.grid);\n",
    "\n",
    "t0 = 0.1\n",
    "sigt = 0.1\n",
    "\n",
    "pulse = PulseField(gaussfield,t0,sigt);"
   ]
  },
  {
   "cell_type": "code",
   "execution_count": 13,
   "metadata": {},
   "outputs": [
    {
     "data": {
      "image/svg+xml": [
       "<?xml version=\"1.0\" encoding=\"utf-8\"?>\n",
       "<svg xmlns=\"http://www.w3.org/2000/svg\" xmlns:xlink=\"http://www.w3.org/1999/xlink\" width=\"600\" height=\"400\" viewBox=\"0 0 2400 1600\">\n",
       "<defs>\n",
       "  <clipPath id=\"clip320\">\n",
       "    <rect x=\"0\" y=\"0\" width=\"2400\" height=\"1600\"/>\n",
       "  </clipPath>\n",
       "</defs>\n",
       "<path clip-path=\"url(#clip320)\" d=\"\n",
       "M0 1600 L2400 1600 L2400 0 L0 0  Z\n",
       "  \" fill=\"#ffffff\" fill-rule=\"evenodd\" fill-opacity=\"1\"/>\n",
       "<defs>\n",
       "  <clipPath id=\"clip321\">\n",
       "    <rect x=\"480\" y=\"0\" width=\"1681\" height=\"1600\"/>\n",
       "  </clipPath>\n",
       "</defs>\n",
       "<defs>\n",
       "  <clipPath id=\"clip322\">\n",
       "    <rect x=\"179\" y=\"332\" width=\"2174\" height=\"870\"/>\n",
       "  </clipPath>\n",
       "</defs>\n",
       "<path clip-path=\"url(#clip320)\" d=\"\n",
       "M179.654 986.52 L1152.76 986.52 L1152.76 587.993 L179.654 587.993  Z\n",
       "  \" fill=\"#ffffff\" fill-rule=\"evenodd\" fill-opacity=\"1\"/>\n",
       "<defs>\n",
       "  <clipPath id=\"clip323\">\n",
       "    <rect x=\"179\" y=\"587\" width=\"974\" height=\"400\"/>\n",
       "  </clipPath>\n",
       "</defs>\n",
       "<polyline clip-path=\"url(#clip320)\" style=\"stroke:#000000; stroke-width:4; stroke-opacity:1; fill:none\" points=\"\n",
       "  179.654,986.52 1152.76,986.52 \n",
       "  \"/>\n",
       "<polyline clip-path=\"url(#clip320)\" style=\"stroke:#000000; stroke-width:4; stroke-opacity:1; fill:none\" points=\"\n",
       "  179.654,587.993 1152.76,587.993 \n",
       "  \"/>\n",
       "<polyline clip-path=\"url(#clip320)\" style=\"stroke:#000000; stroke-width:4; stroke-opacity:1; fill:none\" points=\"\n",
       "  182.556,986.52 182.556,981.738 \n",
       "  \"/>\n",
       "<polyline clip-path=\"url(#clip320)\" style=\"stroke:#000000; stroke-width:4; stroke-opacity:1; fill:none\" points=\"\n",
       "  376.015,986.52 376.015,981.738 \n",
       "  \"/>\n",
       "<polyline clip-path=\"url(#clip320)\" style=\"stroke:#000000; stroke-width:4; stroke-opacity:1; fill:none\" points=\"\n",
       "  569.475,986.52 569.475,981.738 \n",
       "  \"/>\n",
       "<polyline clip-path=\"url(#clip320)\" style=\"stroke:#000000; stroke-width:4; stroke-opacity:1; fill:none\" points=\"\n",
       "  762.935,986.52 762.935,981.738 \n",
       "  \"/>\n",
       "<polyline clip-path=\"url(#clip320)\" style=\"stroke:#000000; stroke-width:4; stroke-opacity:1; fill:none\" points=\"\n",
       "  956.394,986.52 956.394,981.738 \n",
       "  \"/>\n",
       "<polyline clip-path=\"url(#clip320)\" style=\"stroke:#000000; stroke-width:4; stroke-opacity:1; fill:none\" points=\"\n",
       "  1149.85,986.52 1149.85,981.738 \n",
       "  \"/>\n",
       "<path clip-path=\"url(#clip320)\" d=\"M 0 0 M155.009 1030.36 L184.685 1030.36 L184.685 1034.3 L155.009 1034.3 L155.009 1030.36 Z\" fill=\"#000000\" fill-rule=\"evenodd\" fill-opacity=\"1\" /><path clip-path=\"url(#clip320)\" d=\"M 0 0 M193.782 1043.26 L210.102 1043.26 L210.102 1047.19 L188.157 1047.19 L188.157 1043.26 Q190.819 1040.5 195.403 1035.87 Q200.009 1031.22 201.19 1029.88 Q203.435 1027.35 204.315 1025.62 Q205.217 1023.86 205.217 1022.17 Q205.217 1019.41 203.273 1017.68 Q201.352 1015.94 198.25 1015.94 Q196.051 1015.94 193.597 1016.71 Q191.167 1017.47 188.389 1019.02 L188.389 1014.3 Q191.213 1013.16 193.667 1012.59 Q196.12 1012.01 198.157 1012.01 Q203.528 1012.01 206.722 1014.69 Q209.917 1017.38 209.917 1021.87 Q209.917 1024 209.106 1025.92 Q208.319 1027.82 206.213 1030.41 Q205.634 1031.08 202.532 1034.3 Q199.43 1037.49 193.782 1043.26 Z\" fill=\"#000000\" fill-rule=\"evenodd\" fill-opacity=\"1\" /><path clip-path=\"url(#clip320)\" d=\"M 0 0 M348.284 1030.36 L377.96 1030.36 L377.96 1034.3 L348.284 1034.3 L348.284 1030.36 Z\" fill=\"#000000\" fill-rule=\"evenodd\" fill-opacity=\"1\" /><path clip-path=\"url(#clip320)\" d=\"M 0 0 M383.839 1043.26 L391.478 1043.26 L391.478 1016.89 L383.168 1018.56 L383.168 1014.3 L391.432 1012.63 L396.108 1012.63 L396.108 1043.26 L403.747 1043.26 L403.747 1047.19 L383.839 1047.19 L383.839 1043.26 Z\" fill=\"#000000\" fill-rule=\"evenodd\" fill-opacity=\"1\" /><path clip-path=\"url(#clip320)\" d=\"M 0 0 M569.475 1015.71 Q565.864 1015.71 564.035 1019.28 Q562.23 1022.82 562.23 1029.95 Q562.23 1037.05 564.035 1040.62 Q565.864 1044.16 569.475 1044.16 Q573.109 1044.16 574.915 1040.62 Q576.743 1037.05 576.743 1029.95 Q576.743 1022.82 574.915 1019.28 Q573.109 1015.71 569.475 1015.71 M569.475 1012.01 Q575.285 1012.01 578.341 1016.61 Q581.419 1021.2 581.419 1029.95 Q581.419 1038.67 578.341 1043.28 Q575.285 1047.86 569.475 1047.86 Q563.665 1047.86 560.586 1043.28 Q557.531 1038.67 557.531 1029.95 Q557.531 1021.2 560.586 1016.61 Q563.665 1012.01 569.475 1012.01 Z\" fill=\"#000000\" fill-rule=\"evenodd\" fill-opacity=\"1\" /><path clip-path=\"url(#clip320)\" d=\"M 0 0 M753.317 1043.26 L760.955 1043.26 L760.955 1016.89 L752.645 1018.56 L752.645 1014.3 L760.909 1012.63 L765.585 1012.63 L765.585 1043.26 L773.224 1043.26 L773.224 1047.19 L753.317 1047.19 L753.317 1043.26 Z\" fill=\"#000000\" fill-rule=\"evenodd\" fill-opacity=\"1\" /><path clip-path=\"url(#clip320)\" d=\"M 0 0 M951.047 1043.26 L967.366 1043.26 L967.366 1047.19 L945.422 1047.19 L945.422 1043.26 Q948.084 1040.5 952.667 1035.87 Q957.274 1031.22 958.454 1029.88 Q960.7 1027.35 961.579 1025.62 Q962.482 1023.86 962.482 1022.17 Q962.482 1019.41 960.538 1017.68 Q958.617 1015.94 955.515 1015.94 Q953.316 1015.94 950.862 1016.71 Q948.431 1017.47 945.654 1019.02 L945.654 1014.3 Q948.478 1013.16 950.931 1012.59 Q953.385 1012.01 955.422 1012.01 Q960.792 1012.01 963.987 1014.69 Q967.181 1017.38 967.181 1021.87 Q967.181 1024 966.371 1025.92 Q965.584 1027.82 963.478 1030.41 Q962.899 1031.08 959.797 1034.3 Q956.695 1037.49 951.047 1043.26 Z\" fill=\"#000000\" fill-rule=\"evenodd\" fill-opacity=\"1\" /><path clip-path=\"url(#clip320)\" d=\"M 0 0 M1154.1 1028.56 Q1157.46 1029.28 1159.33 1031.54 Q1161.23 1033.81 1161.23 1037.15 Q1161.23 1042.26 1157.71 1045.06 Q1154.19 1047.86 1147.71 1047.86 Q1145.54 1047.86 1143.22 1047.42 Q1140.93 1047.01 1138.48 1046.15 L1138.48 1041.64 Q1140.42 1042.77 1142.74 1043.35 Q1145.05 1043.93 1147.57 1043.93 Q1151.97 1043.93 1154.26 1042.19 Q1156.58 1040.46 1156.58 1037.15 Q1156.58 1034.09 1154.43 1032.38 Q1152.3 1030.64 1148.48 1030.64 L1144.45 1030.64 L1144.45 1026.8 L1148.66 1026.8 Q1152.11 1026.8 1153.94 1025.43 Q1155.77 1024.04 1155.77 1021.45 Q1155.77 1018.79 1153.87 1017.38 Q1152 1015.94 1148.48 1015.94 Q1146.56 1015.94 1144.36 1016.36 Q1142.16 1016.78 1139.52 1017.66 L1139.52 1013.49 Q1142.18 1012.75 1144.5 1012.38 Q1146.83 1012.01 1148.89 1012.01 Q1154.22 1012.01 1157.32 1014.44 Q1160.42 1016.84 1160.42 1020.97 Q1160.42 1023.84 1158.78 1025.83 Q1157.13 1027.79 1154.1 1028.56 Z\" fill=\"#000000\" fill-rule=\"evenodd\" fill-opacity=\"1\" /><polyline clip-path=\"url(#clip320)\" style=\"stroke:#000000; stroke-width:4; stroke-opacity:1; fill:none\" points=\"\n",
       "  179.654,986.52 179.654,587.993 \n",
       "  \"/>\n",
       "<polyline clip-path=\"url(#clip320)\" style=\"stroke:#000000; stroke-width:4; stroke-opacity:1; fill:none\" points=\"\n",
       "  1152.76,986.52 1152.76,587.993 \n",
       "  \"/>\n",
       "<polyline clip-path=\"url(#clip320)\" style=\"stroke:#000000; stroke-width:4; stroke-opacity:1; fill:none\" points=\"\n",
       "  179.654,980.716 191.331,980.716 \n",
       "  \"/>\n",
       "<polyline clip-path=\"url(#clip320)\" style=\"stroke:#000000; stroke-width:4; stroke-opacity:1; fill:none\" points=\"\n",
       "  179.654,883.986 191.331,883.986 \n",
       "  \"/>\n",
       "<polyline clip-path=\"url(#clip320)\" style=\"stroke:#000000; stroke-width:4; stroke-opacity:1; fill:none\" points=\"\n",
       "  179.654,787.256 191.331,787.256 \n",
       "  \"/>\n",
       "<polyline clip-path=\"url(#clip320)\" style=\"stroke:#000000; stroke-width:4; stroke-opacity:1; fill:none\" points=\"\n",
       "  179.654,690.527 191.331,690.527 \n",
       "  \"/>\n",
       "<polyline clip-path=\"url(#clip320)\" style=\"stroke:#000000; stroke-width:4; stroke-opacity:1; fill:none\" points=\"\n",
       "  179.654,593.797 191.331,593.797 \n",
       "  \"/>\n",
       "<path clip-path=\"url(#clip320)\" d=\"M 0 0 M51.2236 981.168 L80.8994 981.168 L80.8994 985.103 L51.2236 985.103 L51.2236 981.168 Z\" fill=\"#000000\" fill-rule=\"evenodd\" fill-opacity=\"1\" /><path clip-path=\"url(#clip320)\" d=\"M 0 0 M86.779 994.061 L94.4178 994.061 L94.4178 967.695 L86.1077 969.362 L86.1077 965.103 L94.3715 963.436 L99.0474 963.436 L99.0474 994.061 L106.686 994.061 L106.686 997.996 L86.779 997.996 L86.779 994.061 Z\" fill=\"#000000\" fill-rule=\"evenodd\" fill-opacity=\"1\" /><path clip-path=\"url(#clip320)\" d=\"M 0 0 M111.756 992.117 L116.64 992.117 L116.64 997.996 L111.756 997.996 L111.756 992.117 Z\" fill=\"#000000\" fill-rule=\"evenodd\" fill-opacity=\"1\" /><path clip-path=\"url(#clip320)\" d=\"M 0 0 M131.709 966.515 Q128.098 966.515 126.27 970.08 Q124.464 973.621 124.464 980.751 Q124.464 987.857 126.27 991.422 Q128.098 994.964 131.709 994.964 Q135.344 994.964 137.149 991.422 Q138.978 987.857 138.978 980.751 Q138.978 973.621 137.149 970.08 Q135.344 966.515 131.709 966.515 M131.709 962.811 Q137.519 962.811 140.575 967.418 Q143.654 972.001 143.654 980.751 Q143.654 989.478 140.575 994.084 Q137.519 998.667 131.709 998.667 Q125.899 998.667 122.82 994.084 Q119.765 989.478 119.765 980.751 Q119.765 972.001 122.82 967.418 Q125.899 962.811 131.709 962.811 Z\" fill=\"#000000\" fill-rule=\"evenodd\" fill-opacity=\"1\" /><path clip-path=\"url(#clip320)\" d=\"M 0 0 M50.9921 884.438 L80.6679 884.438 L80.6679 888.373 L50.9921 888.373 L50.9921 884.438 Z\" fill=\"#000000\" fill-rule=\"evenodd\" fill-opacity=\"1\" /><path clip-path=\"url(#clip320)\" d=\"M 0 0 M95.7373 869.785 Q92.1262 869.785 90.2975 873.35 Q88.4919 876.891 88.4919 884.021 Q88.4919 891.127 90.2975 894.692 Q92.1262 898.234 95.7373 898.234 Q99.3715 898.234 101.177 894.692 Q103.006 891.127 103.006 884.021 Q103.006 876.891 101.177 873.35 Q99.3715 869.785 95.7373 869.785 M95.7373 866.081 Q101.547 866.081 104.603 870.688 Q107.682 875.271 107.682 884.021 Q107.682 892.748 104.603 897.354 Q101.547 901.938 95.7373 901.938 Q89.9271 901.938 86.8484 897.354 Q83.7929 892.748 83.7929 884.021 Q83.7929 875.271 86.8484 870.688 Q89.9271 866.081 95.7373 866.081 Z\" fill=\"#000000\" fill-rule=\"evenodd\" fill-opacity=\"1\" /><path clip-path=\"url(#clip320)\" d=\"M 0 0 M112.751 895.387 L117.635 895.387 L117.635 901.266 L112.751 901.266 L112.751 895.387 Z\" fill=\"#000000\" fill-rule=\"evenodd\" fill-opacity=\"1\" /><path clip-path=\"url(#clip320)\" d=\"M 0 0 M122.751 866.706 L141.107 866.706 L141.107 870.641 L127.033 870.641 L127.033 879.114 Q128.052 878.766 129.07 878.604 Q130.089 878.419 131.107 878.419 Q136.894 878.419 140.274 881.59 Q143.654 884.762 143.654 890.178 Q143.654 895.757 140.181 898.859 Q136.709 901.938 130.39 901.938 Q128.214 901.938 125.945 901.567 Q123.7 901.197 121.293 900.456 L121.293 895.757 Q123.376 896.891 125.598 897.447 Q127.82 898.002 130.297 898.002 Q134.302 898.002 136.64 895.896 Q138.978 893.789 138.978 890.178 Q138.978 886.567 136.64 884.461 Q134.302 882.354 130.297 882.354 Q128.422 882.354 126.547 882.771 Q124.695 883.188 122.751 884.067 L122.751 866.706 Z\" fill=\"#000000\" fill-rule=\"evenodd\" fill-opacity=\"1\" /><path clip-path=\"url(#clip320)\" d=\"M 0 0 M94.7419 773.055 Q91.1308 773.055 89.3021 776.62 Q87.4966 780.162 87.4966 787.291 Q87.4966 794.398 89.3021 797.962 Q91.1308 801.504 94.7419 801.504 Q98.3761 801.504 100.182 797.962 Q102.01 794.398 102.01 787.291 Q102.01 780.162 100.182 776.62 Q98.3761 773.055 94.7419 773.055 M94.7419 769.351 Q100.552 769.351 103.608 773.958 Q106.686 778.541 106.686 787.291 Q106.686 796.018 103.608 800.624 Q100.552 805.208 94.7419 805.208 Q88.9317 805.208 85.8531 800.624 Q82.7975 796.018 82.7975 787.291 Q82.7975 778.541 85.8531 773.958 Q88.9317 769.351 94.7419 769.351 Z\" fill=\"#000000\" fill-rule=\"evenodd\" fill-opacity=\"1\" /><path clip-path=\"url(#clip320)\" d=\"M 0 0 M111.756 798.657 L116.64 798.657 L116.64 804.536 L111.756 804.536 L111.756 798.657 Z\" fill=\"#000000\" fill-rule=\"evenodd\" fill-opacity=\"1\" /><path clip-path=\"url(#clip320)\" d=\"M 0 0 M131.709 773.055 Q128.098 773.055 126.27 776.62 Q124.464 780.162 124.464 787.291 Q124.464 794.398 126.27 797.962 Q128.098 801.504 131.709 801.504 Q135.344 801.504 137.149 797.962 Q138.978 794.398 138.978 787.291 Q138.978 780.162 137.149 776.62 Q135.344 773.055 131.709 773.055 M131.709 769.351 Q137.519 769.351 140.575 773.958 Q143.654 778.541 143.654 787.291 Q143.654 796.018 140.575 800.624 Q137.519 805.208 131.709 805.208 Q125.899 805.208 122.82 800.624 Q119.765 796.018 119.765 787.291 Q119.765 778.541 122.82 773.958 Q125.899 769.351 131.709 769.351 Z\" fill=\"#000000\" fill-rule=\"evenodd\" fill-opacity=\"1\" /><path clip-path=\"url(#clip320)\" d=\"M 0 0 M95.7373 676.325 Q92.1262 676.325 90.2975 679.89 Q88.4919 683.432 88.4919 690.561 Q88.4919 697.668 90.2975 701.233 Q92.1262 704.774 95.7373 704.774 Q99.3715 704.774 101.177 701.233 Q103.006 697.668 103.006 690.561 Q103.006 683.432 101.177 679.89 Q99.3715 676.325 95.7373 676.325 M95.7373 672.622 Q101.547 672.622 104.603 677.228 Q107.682 681.811 107.682 690.561 Q107.682 699.288 104.603 703.895 Q101.547 708.478 95.7373 708.478 Q89.9271 708.478 86.8484 703.895 Q83.7929 699.288 83.7929 690.561 Q83.7929 681.811 86.8484 677.228 Q89.9271 672.622 95.7373 672.622 Z\" fill=\"#000000\" fill-rule=\"evenodd\" fill-opacity=\"1\" /><path clip-path=\"url(#clip320)\" d=\"M 0 0 M112.751 701.927 L117.635 701.927 L117.635 707.807 L112.751 707.807 L112.751 701.927 Z\" fill=\"#000000\" fill-rule=\"evenodd\" fill-opacity=\"1\" /><path clip-path=\"url(#clip320)\" d=\"M 0 0 M122.751 673.247 L141.107 673.247 L141.107 677.182 L127.033 677.182 L127.033 685.654 Q128.052 685.307 129.07 685.145 Q130.089 684.96 131.107 684.96 Q136.894 684.96 140.274 688.131 Q143.654 691.302 143.654 696.719 Q143.654 702.297 140.181 705.399 Q136.709 708.478 130.39 708.478 Q128.214 708.478 125.945 708.108 Q123.7 707.737 121.293 706.996 L121.293 702.297 Q123.376 703.432 125.598 703.987 Q127.82 704.543 130.297 704.543 Q134.302 704.543 136.64 702.436 Q138.978 700.33 138.978 696.719 Q138.978 693.108 136.64 691.001 Q134.302 688.895 130.297 688.895 Q128.422 688.895 126.547 689.311 Q124.695 689.728 122.751 690.608 L122.751 673.247 Z\" fill=\"#000000\" fill-rule=\"evenodd\" fill-opacity=\"1\" /><path clip-path=\"url(#clip320)\" d=\"M 0 0 M86.779 607.142 L94.4178 607.142 L94.4178 580.776 L86.1077 582.443 L86.1077 578.183 L94.3715 576.517 L99.0474 576.517 L99.0474 607.142 L106.686 607.142 L106.686 611.077 L86.779 611.077 L86.779 607.142 Z\" fill=\"#000000\" fill-rule=\"evenodd\" fill-opacity=\"1\" /><path clip-path=\"url(#clip320)\" d=\"M 0 0 M111.756 605.197 L116.64 605.197 L116.64 611.077 L111.756 611.077 L111.756 605.197 Z\" fill=\"#000000\" fill-rule=\"evenodd\" fill-opacity=\"1\" /><path clip-path=\"url(#clip320)\" d=\"M 0 0 M131.709 579.595 Q128.098 579.595 126.27 583.16 Q124.464 586.702 124.464 593.831 Q124.464 600.938 126.27 604.503 Q128.098 608.044 131.709 608.044 Q135.344 608.044 137.149 604.503 Q138.978 600.938 138.978 593.831 Q138.978 586.702 137.149 583.16 Q135.344 579.595 131.709 579.595 M131.709 575.892 Q137.519 575.892 140.575 580.498 Q143.654 585.082 143.654 593.831 Q143.654 602.558 140.575 607.165 Q137.519 611.748 131.709 611.748 Q125.899 611.748 122.82 607.165 Q119.765 602.558 119.765 593.831 Q119.765 585.082 122.82 580.498 Q125.899 575.892 131.709 575.892 Z\" fill=\"#000000\" fill-rule=\"evenodd\" fill-opacity=\"1\" /><path clip-path=\"url(#clip320)\" d=\"M 0 0 M685.602 28.423 Q684.536 33.7106 683.102 36.7438 Q680.765 41.3756 676.871 41.3756 Q674.166 41.3756 672.117 39.859 Q670.108 38.3014 669.411 35.719 Q668.632 36.7438 667.936 37.4406 Q667.28 38.1374 666.009 39.2031 Q664.738 40.2279 663.017 40.8017 Q661.336 41.3756 659.41 41.3756 Q657.934 41.3756 656.582 41.0886 Q655.229 40.8427 653.794 40.1459 Q652.401 39.4081 651.376 38.3014 Q650.392 37.1947 649.736 35.3911 Q649.081 33.5876 649.081 31.2922 Q649.081 28.423 650.187 24.529 Q651.335 20.635 653.958 13.6668 Q655.393 9.97778 655.393 7.92832 Q655.393 6.98556 655.188 6.37072 Q654.983 5.75588 654.573 5.55094 Q654.204 5.305 653.958 5.26401 Q653.712 5.18203 653.302 5.18203 Q650.761 5.18203 648.548 7.76436 Q646.334 10.3467 644.818 15.5933 Q644.49 16.618 644.285 16.864 Q644.08 17.1099 643.465 17.1099 Q642.44 17.0689 642.44 16.2491 Q642.44 15.9212 642.809 14.6506 Q643.178 13.3389 644.039 11.4124 Q644.941 9.44492 646.17 7.68238 Q647.4 5.87885 649.326 4.60818 Q651.294 3.33752 653.548 3.33752 Q656.623 3.33752 658.508 5.34599 Q660.435 7.31348 660.435 10.2237 Q660.435 12.0272 659 15.5113 Q654.45 27.6032 654.45 32.6448 Q654.45 39.4901 659.656 39.4901 Q661.377 39.4901 662.976 38.7932 Q664.615 38.0964 665.681 37.1127 Q666.747 36.1289 667.567 35.0632 Q668.427 33.9975 668.796 33.3007 Q669.206 32.6039 669.247 32.4399 L675.519 7.19051 Q675.765 6.20677 676.215 5.55094 Q676.707 4.85412 677.281 4.60818 Q677.855 4.36225 678.183 4.32126 Q678.511 4.23928 678.798 4.23928 Q679.823 4.23928 680.519 4.85412 Q681.257 5.46896 681.257 6.53468 Q681.257 6.73963 681.011 7.72337 Q680.806 8.66612 680.478 10.0598 Q680.15 11.4124 679.986 12.1502 Q678.675 17.3149 678.552 17.8477 L676.215 26.9064 Q676.092 27.4392 675.683 29.1608 Q675.314 30.8823 675.109 31.7841 Q674.904 32.6448 674.699 33.8335 Q674.535 34.9812 674.535 35.6371 Q674.535 37.6865 675.15 38.5883 Q675.765 39.4901 677.117 39.4901 Q678.388 39.4901 679.372 38.6293 Q680.396 37.7275 681.175 36.006 Q681.954 34.2434 682.405 32.8088 Q682.856 31.3742 683.43 29.1198 Q683.635 28.136 683.798 27.8901 Q684.003 27.6032 684.577 27.6032 Q685.602 27.6032 685.602 28.423 Z\" fill=\"#000000\" fill-rule=\"evenodd\" fill-opacity=\"1\" /><path clip-path=\"url(#clip320)\" d=\"\n",
       "M1379.65 987.886 L2352.76 987.886 L2352.76 586.627 L1379.65 586.627  Z\n",
       "  \" fill=\"#ffffff\" fill-rule=\"evenodd\" fill-opacity=\"1\"/>\n",
       "<defs>\n",
       "  <clipPath id=\"clip324\">\n",
       "    <rect x=\"1379\" y=\"586\" width=\"974\" height=\"402\"/>\n",
       "  </clipPath>\n",
       "</defs>\n",
       "<polyline clip-path=\"url(#clip320)\" style=\"stroke:#000000; stroke-width:4; stroke-opacity:1; fill:none\" points=\"\n",
       "  1379.65,987.886 2352.76,987.886 \n",
       "  \"/>\n",
       "<polyline clip-path=\"url(#clip320)\" style=\"stroke:#000000; stroke-width:4; stroke-opacity:1; fill:none\" points=\"\n",
       "  1379.65,586.627 2352.76,586.627 \n",
       "  \"/>\n",
       "<polyline clip-path=\"url(#clip320)\" style=\"stroke:#000000; stroke-width:4; stroke-opacity:1; fill:none\" points=\"\n",
       "  1381.59,987.886 1381.59,983.071 \n",
       "  \"/>\n",
       "<polyline clip-path=\"url(#clip320)\" style=\"stroke:#000000; stroke-width:4; stroke-opacity:1; fill:none\" points=\"\n",
       "  1575.44,987.886 1575.44,983.071 \n",
       "  \"/>\n",
       "<polyline clip-path=\"url(#clip320)\" style=\"stroke:#000000; stroke-width:4; stroke-opacity:1; fill:none\" points=\"\n",
       "  1769.28,987.886 1769.28,983.071 \n",
       "  \"/>\n",
       "<polyline clip-path=\"url(#clip320)\" style=\"stroke:#000000; stroke-width:4; stroke-opacity:1; fill:none\" points=\"\n",
       "  1963.13,987.886 1963.13,983.071 \n",
       "  \"/>\n",
       "<polyline clip-path=\"url(#clip320)\" style=\"stroke:#000000; stroke-width:4; stroke-opacity:1; fill:none\" points=\"\n",
       "  2156.97,987.886 2156.97,983.071 \n",
       "  \"/>\n",
       "<polyline clip-path=\"url(#clip320)\" style=\"stroke:#000000; stroke-width:4; stroke-opacity:1; fill:none\" points=\"\n",
       "  2350.82,987.886 2350.82,983.071 \n",
       "  \"/>\n",
       "<path clip-path=\"url(#clip320)\" d=\"M 0 0 M1354.05 1031.73 L1383.72 1031.73 L1383.72 1035.66 L1354.05 1035.66 L1354.05 1031.73 Z\" fill=\"#000000\" fill-rule=\"evenodd\" fill-opacity=\"1\" /><path clip-path=\"url(#clip320)\" d=\"M 0 0 M1392.82 1044.62 L1409.14 1044.62 L1409.14 1048.56 L1387.19 1048.56 L1387.19 1044.62 Q1389.86 1041.87 1394.44 1037.24 Q1399.05 1032.59 1400.23 1031.24 Q1402.47 1028.72 1403.35 1026.98 Q1404.25 1025.22 1404.25 1023.54 Q1404.25 1020.78 1402.31 1019.04 Q1400.39 1017.31 1397.29 1017.31 Q1395.09 1017.31 1392.63 1018.07 Q1390.2 1018.84 1387.43 1020.39 L1387.43 1015.66 Q1390.25 1014.53 1392.7 1013.95 Q1395.16 1013.37 1397.19 1013.37 Q1402.56 1013.37 1405.76 1016.06 Q1408.95 1018.74 1408.95 1023.23 Q1408.95 1025.36 1408.14 1027.29 Q1407.36 1029.18 1405.25 1031.78 Q1404.67 1032.45 1401.57 1035.66 Q1398.47 1038.86 1392.82 1044.62 Z\" fill=\"#000000\" fill-rule=\"evenodd\" fill-opacity=\"1\" /><path clip-path=\"url(#clip320)\" d=\"M 0 0 M1547.71 1031.73 L1577.38 1031.73 L1577.38 1035.66 L1547.71 1035.66 L1547.71 1031.73 Z\" fill=\"#000000\" fill-rule=\"evenodd\" fill-opacity=\"1\" /><path clip-path=\"url(#clip320)\" d=\"M 0 0 M1583.26 1044.62 L1590.9 1044.62 L1590.9 1018.26 L1582.59 1019.92 L1582.59 1015.66 L1590.85 1014 L1595.53 1014 L1595.53 1044.62 L1603.17 1044.62 L1603.17 1048.56 L1583.26 1048.56 L1583.26 1044.62 Z\" fill=\"#000000\" fill-rule=\"evenodd\" fill-opacity=\"1\" /><path clip-path=\"url(#clip320)\" d=\"M 0 0 M1769.28 1017.08 Q1765.67 1017.08 1763.84 1020.64 Q1762.04 1024.18 1762.04 1031.31 Q1762.04 1038.42 1763.84 1041.98 Q1765.67 1045.53 1769.28 1045.53 Q1772.92 1045.53 1774.72 1041.98 Q1776.55 1038.42 1776.55 1031.31 Q1776.55 1024.18 1774.72 1020.64 Q1772.92 1017.08 1769.28 1017.08 M1769.28 1013.37 Q1775.09 1013.37 1778.15 1017.98 Q1781.23 1022.56 1781.23 1031.31 Q1781.23 1040.04 1778.15 1044.65 Q1775.09 1049.23 1769.28 1049.23 Q1763.47 1049.23 1760.39 1044.65 Q1757.34 1040.04 1757.34 1031.31 Q1757.34 1022.56 1760.39 1017.98 Q1763.47 1013.37 1769.28 1013.37 Z\" fill=\"#000000\" fill-rule=\"evenodd\" fill-opacity=\"1\" /><path clip-path=\"url(#clip320)\" d=\"M 0 0 M1953.51 1044.62 L1961.15 1044.62 L1961.15 1018.26 L1952.84 1019.92 L1952.84 1015.66 L1961.1 1014 L1965.78 1014 L1965.78 1044.62 L1973.42 1044.62 L1973.42 1048.56 L1953.51 1048.56 L1953.51 1044.62 Z\" fill=\"#000000\" fill-rule=\"evenodd\" fill-opacity=\"1\" /><path clip-path=\"url(#clip320)\" d=\"M 0 0 M2151.63 1044.62 L2167.94 1044.62 L2167.94 1048.56 L2146 1048.56 L2146 1044.62 Q2148.66 1041.87 2153.25 1037.24 Q2157.85 1032.59 2159.03 1031.24 Q2161.28 1028.72 2162.16 1026.98 Q2163.06 1025.22 2163.06 1023.54 Q2163.06 1020.78 2161.12 1019.04 Q2159.19 1017.31 2156.09 1017.31 Q2153.89 1017.31 2151.44 1018.07 Q2149.01 1018.84 2146.23 1020.39 L2146.23 1015.66 Q2149.06 1014.53 2151.51 1013.95 Q2153.96 1013.37 2156 1013.37 Q2161.37 1013.37 2164.56 1016.06 Q2167.76 1018.74 2167.76 1023.23 Q2167.76 1025.36 2166.95 1027.29 Q2166.16 1029.18 2164.06 1031.78 Q2163.48 1032.45 2160.38 1035.66 Q2157.27 1038.86 2151.63 1044.62 Z\" fill=\"#000000\" fill-rule=\"evenodd\" fill-opacity=\"1\" /><path clip-path=\"url(#clip320)\" d=\"M 0 0 M2355.07 1029.92 Q2358.42 1030.64 2360.3 1032.91 Q2362.19 1035.18 2362.19 1038.51 Q2362.19 1043.63 2358.68 1046.43 Q2355.16 1049.23 2348.68 1049.23 Q2346.5 1049.23 2344.19 1048.79 Q2341.89 1048.37 2339.44 1047.52 L2339.44 1043 Q2341.38 1044.14 2343.7 1044.72 Q2346.01 1045.29 2348.54 1045.29 Q2352.94 1045.29 2355.23 1043.56 Q2357.54 1041.82 2357.54 1038.51 Q2357.54 1035.46 2355.39 1033.74 Q2353.26 1032.01 2349.44 1032.01 L2345.41 1032.01 L2345.41 1028.16 L2349.63 1028.16 Q2353.07 1028.16 2354.9 1026.8 Q2356.73 1025.41 2356.73 1022.82 Q2356.73 1020.16 2354.83 1018.74 Q2352.96 1017.31 2349.44 1017.31 Q2347.52 1017.31 2345.32 1017.72 Q2343.12 1018.14 2340.48 1019.02 L2340.48 1014.85 Q2343.14 1014.11 2345.46 1013.74 Q2347.8 1013.37 2349.86 1013.37 Q2355.18 1013.37 2358.28 1015.8 Q2361.38 1018.21 2361.38 1022.33 Q2361.38 1025.2 2359.74 1027.19 Q2358.1 1029.16 2355.07 1029.92 Z\" fill=\"#000000\" fill-rule=\"evenodd\" fill-opacity=\"1\" /><polyline clip-path=\"url(#clip320)\" style=\"stroke:#000000; stroke-width:4; stroke-opacity:1; fill:none\" points=\"\n",
       "  1379.65,987.886 1379.65,586.627 \n",
       "  \"/>\n",
       "<polyline clip-path=\"url(#clip320)\" style=\"stroke:#000000; stroke-width:4; stroke-opacity:1; fill:none\" points=\"\n",
       "  2352.76,987.886 2352.76,586.627 \n",
       "  \"/>\n",
       "<polyline clip-path=\"url(#clip320)\" style=\"stroke:#000000; stroke-width:4; stroke-opacity:1; fill:none\" points=\"\n",
       "  1379.65,981.102 1391.33,981.102 \n",
       "  \"/>\n",
       "<polyline clip-path=\"url(#clip320)\" style=\"stroke:#000000; stroke-width:4; stroke-opacity:1; fill:none\" points=\"\n",
       "  1379.65,884.179 1391.33,884.179 \n",
       "  \"/>\n",
       "<polyline clip-path=\"url(#clip320)\" style=\"stroke:#000000; stroke-width:4; stroke-opacity:1; fill:none\" points=\"\n",
       "  1379.65,787.256 1391.33,787.256 \n",
       "  \"/>\n",
       "<polyline clip-path=\"url(#clip320)\" style=\"stroke:#000000; stroke-width:4; stroke-opacity:1; fill:none\" points=\"\n",
       "  1379.65,690.334 1391.33,690.334 \n",
       "  \"/>\n",
       "<polyline clip-path=\"url(#clip320)\" style=\"stroke:#000000; stroke-width:4; stroke-opacity:1; fill:none\" points=\"\n",
       "  1379.65,593.411 1391.33,593.411 \n",
       "  \"/>\n",
       "<path clip-path=\"url(#clip320)\" d=\"M 0 0 M1251.22 981.553 L1280.9 981.553 L1280.9 985.488 L1251.22 985.488 L1251.22 981.553 Z\" fill=\"#000000\" fill-rule=\"evenodd\" fill-opacity=\"1\" /><path clip-path=\"url(#clip320)\" d=\"M 0 0 M1286.78 994.446 L1294.42 994.446 L1294.42 968.081 L1286.11 969.747 L1286.11 965.488 L1294.37 963.822 L1299.05 963.822 L1299.05 994.446 L1306.69 994.446 L1306.69 998.382 L1286.78 998.382 L1286.78 994.446 Z\" fill=\"#000000\" fill-rule=\"evenodd\" fill-opacity=\"1\" /><path clip-path=\"url(#clip320)\" d=\"M 0 0 M1311.76 992.502 L1316.64 992.502 L1316.64 998.382 L1311.76 998.382 L1311.76 992.502 Z\" fill=\"#000000\" fill-rule=\"evenodd\" fill-opacity=\"1\" /><path clip-path=\"url(#clip320)\" d=\"M 0 0 M1331.71 966.9 Q1328.1 966.9 1326.27 970.465 Q1324.46 974.007 1324.46 981.136 Q1324.46 988.243 1326.27 991.807 Q1328.1 995.349 1331.71 995.349 Q1335.34 995.349 1337.15 991.807 Q1338.98 988.243 1338.98 981.136 Q1338.98 974.007 1337.15 970.465 Q1335.34 966.9 1331.71 966.9 M1331.71 963.197 Q1337.52 963.197 1340.57 967.803 Q1343.65 972.386 1343.65 981.136 Q1343.65 989.863 1340.57 994.47 Q1337.52 999.053 1331.71 999.053 Q1325.9 999.053 1322.82 994.47 Q1319.76 989.863 1319.76 981.136 Q1319.76 972.386 1322.82 967.803 Q1325.9 963.197 1331.71 963.197 Z\" fill=\"#000000\" fill-rule=\"evenodd\" fill-opacity=\"1\" /><path clip-path=\"url(#clip320)\" d=\"M 0 0 M1250.99 884.63 L1280.67 884.63 L1280.67 888.566 L1250.99 888.566 L1250.99 884.63 Z\" fill=\"#000000\" fill-rule=\"evenodd\" fill-opacity=\"1\" /><path clip-path=\"url(#clip320)\" d=\"M 0 0 M1295.74 869.978 Q1292.13 869.978 1290.3 873.542 Q1288.49 877.084 1288.49 884.214 Q1288.49 891.32 1290.3 894.885 Q1292.13 898.427 1295.74 898.427 Q1299.37 898.427 1301.18 894.885 Q1303.01 891.32 1303.01 884.214 Q1303.01 877.084 1301.18 873.542 Q1299.37 869.978 1295.74 869.978 M1295.74 866.274 Q1301.55 866.274 1304.6 870.88 Q1307.68 875.464 1307.68 884.214 Q1307.68 892.941 1304.6 897.547 Q1301.55 902.13 1295.74 902.13 Q1289.93 902.13 1286.85 897.547 Q1283.79 892.941 1283.79 884.214 Q1283.79 875.464 1286.85 870.88 Q1289.93 866.274 1295.74 866.274 Z\" fill=\"#000000\" fill-rule=\"evenodd\" fill-opacity=\"1\" /><path clip-path=\"url(#clip320)\" d=\"M 0 0 M1312.75 895.579 L1317.64 895.579 L1317.64 901.459 L1312.75 901.459 L1312.75 895.579 Z\" fill=\"#000000\" fill-rule=\"evenodd\" fill-opacity=\"1\" /><path clip-path=\"url(#clip320)\" d=\"M 0 0 M1322.75 866.899 L1341.11 866.899 L1341.11 870.834 L1327.03 870.834 L1327.03 879.306 Q1328.05 878.959 1329.07 878.797 Q1330.09 878.612 1331.11 878.612 Q1336.89 878.612 1340.27 881.783 Q1343.65 884.954 1343.65 890.371 Q1343.65 895.95 1340.18 899.052 Q1336.71 902.13 1330.39 902.13 Q1328.21 902.13 1325.95 901.76 Q1323.7 901.39 1321.29 900.649 L1321.29 895.95 Q1323.38 897.084 1325.6 897.64 Q1327.82 898.195 1330.3 898.195 Q1334.3 898.195 1336.64 896.089 Q1338.98 893.982 1338.98 890.371 Q1338.98 886.76 1336.64 884.654 Q1334.3 882.547 1330.3 882.547 Q1328.42 882.547 1326.55 882.964 Q1324.7 883.38 1322.75 884.26 L1322.75 866.899 Z\" fill=\"#000000\" fill-rule=\"evenodd\" fill-opacity=\"1\" /><path clip-path=\"url(#clip320)\" d=\"M 0 0 M1294.74 773.055 Q1291.13 773.055 1289.3 776.62 Q1287.5 780.162 1287.5 787.291 Q1287.5 794.398 1289.3 797.962 Q1291.13 801.504 1294.74 801.504 Q1298.38 801.504 1300.18 797.962 Q1302.01 794.398 1302.01 787.291 Q1302.01 780.162 1300.18 776.62 Q1298.38 773.055 1294.74 773.055 M1294.74 769.351 Q1300.55 769.351 1303.61 773.958 Q1306.69 778.541 1306.69 787.291 Q1306.69 796.018 1303.61 800.624 Q1300.55 805.208 1294.74 805.208 Q1288.93 805.208 1285.85 800.624 Q1282.8 796.018 1282.8 787.291 Q1282.8 778.541 1285.85 773.958 Q1288.93 769.351 1294.74 769.351 Z\" fill=\"#000000\" fill-rule=\"evenodd\" fill-opacity=\"1\" /><path clip-path=\"url(#clip320)\" d=\"M 0 0 M1311.76 798.657 L1316.64 798.657 L1316.64 804.536 L1311.76 804.536 L1311.76 798.657 Z\" fill=\"#000000\" fill-rule=\"evenodd\" fill-opacity=\"1\" /><path clip-path=\"url(#clip320)\" d=\"M 0 0 M1331.71 773.055 Q1328.1 773.055 1326.27 776.62 Q1324.46 780.162 1324.46 787.291 Q1324.46 794.398 1326.27 797.962 Q1328.1 801.504 1331.71 801.504 Q1335.34 801.504 1337.15 797.962 Q1338.98 794.398 1338.98 787.291 Q1338.98 780.162 1337.15 776.62 Q1335.34 773.055 1331.71 773.055 M1331.71 769.351 Q1337.52 769.351 1340.57 773.958 Q1343.65 778.541 1343.65 787.291 Q1343.65 796.018 1340.57 800.624 Q1337.52 805.208 1331.71 805.208 Q1325.9 805.208 1322.82 800.624 Q1319.76 796.018 1319.76 787.291 Q1319.76 778.541 1322.82 773.958 Q1325.9 769.351 1331.71 769.351 Z\" fill=\"#000000\" fill-rule=\"evenodd\" fill-opacity=\"1\" /><path clip-path=\"url(#clip320)\" d=\"M 0 0 M1295.74 676.133 Q1292.13 676.133 1290.3 679.697 Q1288.49 683.239 1288.49 690.369 Q1288.49 697.475 1290.3 701.04 Q1292.13 704.582 1295.74 704.582 Q1299.37 704.582 1301.18 701.04 Q1303.01 697.475 1303.01 690.369 Q1303.01 683.239 1301.18 679.697 Q1299.37 676.133 1295.74 676.133 M1295.74 672.429 Q1301.55 672.429 1304.6 677.035 Q1307.68 681.619 1307.68 690.369 Q1307.68 699.095 1304.6 703.702 Q1301.55 708.285 1295.74 708.285 Q1289.93 708.285 1286.85 703.702 Q1283.79 699.095 1283.79 690.369 Q1283.79 681.619 1286.85 677.035 Q1289.93 672.429 1295.74 672.429 Z\" fill=\"#000000\" fill-rule=\"evenodd\" fill-opacity=\"1\" /><path clip-path=\"url(#clip320)\" d=\"M 0 0 M1312.75 701.734 L1317.64 701.734 L1317.64 707.614 L1312.75 707.614 L1312.75 701.734 Z\" fill=\"#000000\" fill-rule=\"evenodd\" fill-opacity=\"1\" /><path clip-path=\"url(#clip320)\" d=\"M 0 0 M1322.75 673.054 L1341.11 673.054 L1341.11 676.989 L1327.03 676.989 L1327.03 685.461 Q1328.05 685.114 1329.07 684.952 Q1330.09 684.767 1331.11 684.767 Q1336.89 684.767 1340.27 687.938 Q1343.65 691.109 1343.65 696.526 Q1343.65 702.105 1340.18 705.207 Q1336.71 708.285 1330.39 708.285 Q1328.21 708.285 1325.95 707.915 Q1323.7 707.544 1321.29 706.804 L1321.29 702.105 Q1323.38 703.239 1325.6 703.795 Q1327.82 704.35 1330.3 704.35 Q1334.3 704.35 1336.64 702.244 Q1338.98 700.137 1338.98 696.526 Q1338.98 692.915 1336.64 690.808 Q1334.3 688.702 1330.3 688.702 Q1328.42 688.702 1326.55 689.119 Q1324.7 689.535 1322.75 690.415 L1322.75 673.054 Z\" fill=\"#000000\" fill-rule=\"evenodd\" fill-opacity=\"1\" /><path clip-path=\"url(#clip320)\" d=\"M 0 0 M1286.78 606.756 L1294.42 606.756 L1294.42 580.391 L1286.11 582.057 L1286.11 577.798 L1294.37 576.131 L1299.05 576.131 L1299.05 606.756 L1306.69 606.756 L1306.69 610.691 L1286.78 610.691 L1286.78 606.756 Z\" fill=\"#000000\" fill-rule=\"evenodd\" fill-opacity=\"1\" /><path clip-path=\"url(#clip320)\" d=\"M 0 0 M1311.76 604.812 L1316.64 604.812 L1316.64 610.691 L1311.76 610.691 L1311.76 604.812 Z\" fill=\"#000000\" fill-rule=\"evenodd\" fill-opacity=\"1\" /><path clip-path=\"url(#clip320)\" d=\"M 0 0 M1331.71 579.21 Q1328.1 579.21 1326.27 582.775 Q1324.46 586.317 1324.46 593.446 Q1324.46 600.553 1326.27 604.117 Q1328.1 607.659 1331.71 607.659 Q1335.34 607.659 1337.15 604.117 Q1338.98 600.553 1338.98 593.446 Q1338.98 586.317 1337.15 582.775 Q1335.34 579.21 1331.71 579.21 M1331.71 575.506 Q1337.52 575.506 1340.57 580.113 Q1343.65 584.696 1343.65 593.446 Q1343.65 602.173 1340.57 606.779 Q1337.52 611.363 1331.71 611.363 Q1325.9 611.363 1322.82 606.779 Q1319.76 602.173 1319.76 593.446 Q1319.76 584.696 1322.82 580.113 Q1325.9 575.506 1331.71 575.506 Z\" fill=\"#000000\" fill-rule=\"evenodd\" fill-opacity=\"1\" /><path clip-path=\"url(#clip320)\" d=\"M 0 0 M1882.9 9.19898 Q1882.9 10.2647 1882.62 12.3552 Q1882.33 14.4456 1881.63 17.4788 Q1880.93 20.512 1879.91 23.7092 Q1878.93 26.9064 1877.37 30.1035 Q1875.81 33.2597 1873.97 35.76 Q1872.12 38.2604 1869.54 39.818 Q1866.96 41.3756 1864.05 41.3756 Q1862.69 41.3756 1861.38 41.1706 Q1860.07 40.9657 1858.43 40.3098 Q1856.79 39.654 1855.6 38.5883 Q1854.41 37.4816 1853.59 35.5141 Q1852.77 33.5466 1852.77 30.9643 Q1852.77 28.3 1853.76 24.7339 Q1854.78 21.1269 1857.57 13.7488 Q1859.01 9.93679 1859.01 7.84634 Q1859.01 6.90358 1858.8 6.32973 Q1858.6 5.71489 1858.19 5.50995 Q1857.78 5.26401 1857.53 5.22302 Q1857.32 5.18203 1856.91 5.18203 Q1854.66 5.18203 1852.37 7.51842 Q1850.07 9.85481 1848.43 15.5933 Q1848.1 16.618 1847.9 16.864 Q1847.69 17.1099 1847.08 17.1099 Q1846.05 17.0689 1846.05 16.2491 Q1846.05 16.0032 1846.34 15.0604 Q1846.63 14.0767 1847.16 12.6011 Q1847.69 11.0845 1848.63 9.5269 Q1849.58 7.92832 1850.73 6.53468 Q1851.91 5.14104 1853.59 4.23928 Q1855.28 3.33752 1857.16 3.33752 Q1860.23 3.33752 1862.12 5.34599 Q1864.05 7.31348 1864.05 10.2237 Q1864.05 11.8223 1863.02 14.4046 Q1861.3 19.0774 1860.52 21.3318 Q1859.74 23.5862 1858.92 26.7834 Q1858.14 29.9805 1858.14 32.194 Q1858.14 35.5551 1859.7 37.5226 Q1861.26 39.4901 1864.37 39.4901 Q1867.16 39.4901 1869.66 37.4816 Q1872.2 35.4321 1873.88 32.5219 Q1875.56 29.5707 1876.84 26.2915 Q1878.11 22.9714 1878.68 20.471 Q1879.29 17.9297 1879.29 16.741 Q1879.29 12.6011 1876.47 9.8958 Q1875.69 9.117 1875.4 8.62513 Q1875.11 8.13326 1875.11 7.35447 Q1875.11 5.91984 1876.38 4.64917 Q1877.7 3.33752 1879.21 3.33752 Q1880.61 3.33752 1881.75 4.73115 Q1882.9 6.12479 1882.9 9.19898 Z\" fill=\"#000000\" fill-rule=\"evenodd\" fill-opacity=\"1\" /><polyline clip-path=\"url(#clip324)\" style=\"stroke:#f2e660; stroke-width:4; stroke-opacity:1; fill:none\" points=\"\n",
       "  1538.61,782.133 1536.67,782.112 1534.73,782.133 1532.79,782.195 1530.85,782.298 1529.36,782.41 1528.91,782.458 1526.98,782.726 1525.04,783.056 1523.1,783.449 \n",
       "  1521.16,783.906 1519.52,784.349 1519.22,784.506 1517.28,785.654 1516.32,786.287 1516.32,788.226 1517.28,788.859 1519.22,790.007 1519.52,790.164 1521.16,790.607 \n",
       "  1523.1,791.064 1525.04,791.457 1526.98,791.787 1528.91,792.055 1529.36,792.103 1530.85,792.215 1532.79,792.318 1534.73,792.38 1536.67,792.401 1538.61,792.38 \n",
       "  1540.55,792.318 1542.48,792.215 1543.98,792.103 1544.42,792.055 1546.36,791.787 1548.3,791.457 1550.24,791.064 1552.18,790.607 1553.82,790.164 1554.11,790.007 \n",
       "  1556.05,788.859 1557.01,788.226 1557.01,786.287 1556.05,785.654 1554.11,784.506 1553.82,784.349 1552.18,783.906 1550.24,783.449 1548.3,783.056 1546.36,782.726 \n",
       "  1544.42,782.458 1543.98,782.41 1542.48,782.298 1540.55,782.195 1538.61,782.133 \n",
       "  \"/>\n",
       "<polyline clip-path=\"url(#clip324)\" style=\"stroke:#f9c52c; stroke-width:4; stroke-opacity:1; fill:none\" points=\"\n",
       "  1540.55,779.958 1538.61,779.912 1536.67,779.896 1534.73,779.912 1532.79,779.958 1530.85,780.035 1528.91,780.144 1526.98,780.284 1525.04,780.457 1524.89,780.472 \n",
       "  1523.1,780.709 1521.16,781.006 1519.22,781.347 1517.28,781.732 1515.35,782.162 1514.33,782.41 1513.41,782.739 1511.47,783.492 1509.53,784.319 1509.47,784.349 \n",
       "  1507.59,786.045 1507.34,786.287 1507.34,788.226 1507.59,788.468 1509.47,790.164 1509.53,790.194 1511.47,791.021 1513.41,791.774 1514.33,792.103 1515.35,792.351 \n",
       "  1517.28,792.781 1519.22,793.166 1521.16,793.507 1523.1,793.804 1524.89,794.041 1525.04,794.056 1526.98,794.229 1528.91,794.369 1530.85,794.478 1532.79,794.555 \n",
       "  1534.73,794.601 1536.67,794.617 1538.61,794.601 1540.55,794.555 1542.48,794.478 1544.42,794.369 1546.36,794.229 1548.3,794.056 1548.44,794.041 1550.24,793.804 \n",
       "  1552.18,793.507 1554.11,793.166 1556.05,792.781 1557.99,792.351 1559,792.103 1559.93,791.774 1561.87,791.021 1563.81,790.194 1563.87,790.164 1565.74,788.468 \n",
       "  1565.99,788.226 1565.99,786.287 1565.74,786.045 1563.87,784.349 1563.81,784.319 1561.87,783.492 1559.93,782.739 1559,782.41 1557.99,782.162 1556.05,781.732 \n",
       "  1554.11,781.347 1552.18,781.006 1550.24,780.709 1548.44,780.472 1548.3,780.457 1546.36,780.284 1544.42,780.144 1542.48,780.035 1540.55,779.958 \n",
       "  \"/>\n",
       "<polyline clip-path=\"url(#clip324)\" style=\"stroke:#fba40a; stroke-width:4; stroke-opacity:1; fill:none\" points=\"\n",
       "  1542.48,778.18 1540.55,778.117 1538.61,778.08 1536.67,778.067 1534.73,778.08 1532.79,778.117 1530.85,778.18 1528.91,778.267 1526.98,778.381 1525.04,778.52 \n",
       "  1524.88,778.533 1523.1,778.708 1521.16,778.929 1519.22,779.182 1517.28,779.468 1515.35,779.788 1513.41,780.143 1511.77,780.472 1511.47,780.55 1509.53,781.085 \n",
       "  1507.59,781.669 1505.65,782.306 1505.35,782.41 1503.71,783.248 1501.78,784.317 1501.72,784.349 1500.04,786.287 1500.04,788.226 1501.72,790.164 1501.78,790.196 \n",
       "  1503.71,791.265 1505.35,792.103 1505.65,792.207 1507.59,792.844 1509.53,793.428 1511.47,793.963 1511.77,794.041 1513.41,794.37 1515.35,794.725 1517.28,795.045 \n",
       "  1519.22,795.331 1521.16,795.584 1523.1,795.805 1524.88,795.979 1525.04,795.993 1526.98,796.132 1528.91,796.245 1530.85,796.333 1532.79,796.396 1534.73,796.433 \n",
       "  1536.67,796.446 1538.61,796.433 1540.55,796.396 1542.48,796.333 1544.42,796.245 1546.36,796.132 1548.3,795.993 1548.45,795.979 1550.24,795.805 1552.18,795.584 \n",
       "  1554.11,795.331 1556.05,795.045 1557.99,794.725 1559.93,794.37 1561.56,794.041 1561.87,793.963 1563.81,793.428 1565.74,792.844 1567.68,792.207 1567.98,792.103 \n",
       "  1569.62,791.265 1571.56,790.196 1571.61,790.164 1573.29,788.226 1573.29,786.287 1571.61,784.349 1571.56,784.317 1569.62,783.248 1567.98,782.41 1567.68,782.306 \n",
       "  1565.74,781.669 1563.81,781.085 1561.87,780.55 1561.56,780.472 1559.93,780.143 1557.99,779.788 1556.05,779.468 1554.11,779.182 1552.18,778.929 1550.24,778.708 \n",
       "  1548.45,778.533 1548.3,778.52 1546.36,778.381 1544.42,778.267 1542.48,778.18 \n",
       "  \"/>\n",
       "<polyline clip-path=\"url(#clip324)\" style=\"stroke:#f7850e; stroke-width:4; stroke-opacity:1; fill:none\" points=\"\n",
       "  1544.48,776.595 1546.36,776.696 1548.3,776.824 1550.24,776.976 1552.18,777.153 1554.11,777.356 1556.05,777.585 1557.99,777.842 1559.93,778.127 1561.87,778.441 \n",
       "  1562.39,778.533 1563.81,778.823 1565.74,779.254 1567.68,779.723 1569.62,780.233 1570.47,780.472 1571.56,780.861 1573.5,781.604 1575.44,782.405 1575.45,782.41 \n",
       "  1577.38,783.636 1578.43,784.349 1579.31,785.541 1579.85,786.287 1579.85,788.226 1579.31,788.972 1578.43,790.164 1577.38,790.877 1575.45,792.103 1575.44,792.108 \n",
       "  1573.5,792.909 1571.56,793.652 1570.47,794.041 1569.62,794.28 1567.68,794.79 1565.74,795.259 1563.81,795.69 1562.39,795.979 1561.87,796.072 1559.93,796.386 \n",
       "  1557.99,796.671 1556.05,796.927 1554.11,797.157 1552.18,797.36 1550.24,797.537 1548.3,797.689 1546.36,797.817 1544.48,797.918 1544.42,797.921 1542.48,797.995 \n",
       "  1540.55,798.049 1538.61,798.081 1536.67,798.091 1534.73,798.081 1532.79,798.049 1530.85,797.995 1528.91,797.921 1528.86,797.918 1526.98,797.817 1525.04,797.689 \n",
       "  1523.1,797.537 1521.16,797.36 1519.22,797.157 1517.28,796.927 1515.35,796.671 1513.41,796.386 1511.47,796.072 1510.94,795.979 1509.53,795.69 1507.59,795.259 \n",
       "  1505.65,794.79 1503.71,794.28 1502.86,794.041 1501.78,793.652 1499.84,792.909 1497.9,792.108 1497.89,792.103 1495.96,790.877 1494.91,790.164 1494.02,788.972 \n",
       "  1493.49,788.226 1493.49,786.287 1494.02,785.541 1494.91,784.349 1495.96,783.636 1497.89,782.41 1497.9,782.405 1499.84,781.604 1501.78,780.861 1502.86,780.472 \n",
       "  1503.71,780.233 1505.65,779.723 1507.59,779.254 1509.53,778.823 1510.94,778.533 1511.47,778.441 1513.41,778.127 1515.35,777.842 1517.28,777.585 1519.22,777.356 \n",
       "  1521.16,777.153 1523.1,776.976 1525.04,776.824 1526.98,776.696 1528.86,776.595 1528.91,776.592 1530.85,776.518 1532.79,776.464 1534.73,776.432 1536.67,776.422 \n",
       "  1538.61,776.432 1540.55,776.464 1542.48,776.518 1544.42,776.592 1544.48,776.595 \n",
       "  \"/>\n",
       "<polyline clip-path=\"url(#clip324)\" style=\"stroke:#ed6825; stroke-width:4; stroke-opacity:1; fill:none\" points=\"\n",
       "  1544.42,775.034 1542.48,774.966 1540.55,774.918 1538.61,774.889 1536.67,774.879 1534.73,774.889 1532.79,774.918 1530.85,774.966 1528.91,775.034 1526.98,775.122 \n",
       "  1525.04,775.23 1523.1,775.359 1521.16,775.509 1519.22,775.68 1517.28,775.874 1515.35,776.091 1513.41,776.332 1511.49,776.595 1511.47,776.598 1509.53,776.912 \n",
       "  1507.59,777.255 1505.65,777.628 1503.71,778.034 1501.78,778.473 1501.52,778.533 1499.84,779.007 1497.9,779.593 1495.96,780.225 1495.24,780.472 1494.02,781.01 \n",
       "  1492.08,781.92 1491.1,782.41 1490.15,783.106 1488.53,784.349 1488.21,784.845 1487.3,786.287 1487.3,788.226 1488.21,789.668 1488.53,790.164 1490.15,791.407 \n",
       "  1491.1,792.103 1492.08,792.593 1494.02,793.502 1495.24,794.041 1495.96,794.288 1497.9,794.92 1499.84,795.506 1501.52,795.979 1501.78,796.04 1503.71,796.479 \n",
       "  1505.65,796.885 1507.59,797.258 1509.53,797.601 1511.47,797.915 1511.49,797.918 1513.41,798.181 1515.35,798.422 1517.28,798.639 1519.22,798.833 1521.16,799.004 \n",
       "  1523.1,799.154 1525.04,799.283 1526.98,799.391 1528.91,799.479 1530.85,799.547 1532.79,799.595 1534.73,799.624 1536.67,799.634 1538.61,799.624 1540.55,799.595 \n",
       "  1542.48,799.547 1544.42,799.479 1546.36,799.391 1548.3,799.283 1550.24,799.154 1552.18,799.004 1554.11,798.833 1556.05,798.639 1557.99,798.422 1559.93,798.181 \n",
       "  1561.85,797.918 1561.87,797.915 1563.81,797.601 1565.74,797.258 1567.68,796.885 1569.62,796.479 1571.56,796.04 1571.81,795.979 1573.5,795.506 1575.44,794.92 \n",
       "  1577.38,794.288 1578.09,794.041 1579.31,793.502 1581.25,792.593 1582.24,792.103 1583.19,791.407 1584.81,790.164 1585.13,789.668 1586.04,788.226 1586.04,786.287 \n",
       "  1585.13,784.845 1584.81,784.349 1583.19,783.106 1582.24,782.41 1581.25,781.92 1579.31,781.01 1578.09,780.472 1577.38,780.225 1575.44,779.593 1573.5,779.007 \n",
       "  1571.81,778.533 1571.56,778.473 1569.62,778.034 1567.68,777.628 1565.74,777.255 1563.81,776.912 1561.87,776.598 1561.85,776.595 1559.93,776.332 1557.99,776.091 \n",
       "  1556.05,775.874 1554.11,775.68 1552.18,775.509 1550.24,775.359 1548.3,775.23 1546.36,775.122 1544.42,775.034 \n",
       "  \"/>\n",
       "<polyline clip-path=\"url(#clip324)\" style=\"stroke:#dc5039; stroke-width:4; stroke-opacity:1; fill:none\" points=\"\n",
       "  1546.36,773.582 1544.42,773.504 1542.48,773.445 1540.55,773.402 1538.61,773.377 1536.67,773.368 1534.73,773.377 1532.79,773.402 1530.85,773.445 1528.91,773.504 \n",
       "  1526.98,773.582 1525.04,773.677 1523.1,773.79 1521.16,773.921 1519.22,774.072 1517.28,774.242 1515.35,774.433 1513.41,774.644 1513.3,774.657 1511.47,774.883 \n",
       "  1509.53,775.146 1507.59,775.433 1505.65,775.745 1503.71,776.085 1501.78,776.453 1501.07,776.595 1499.84,776.87 1497.9,777.331 1495.96,777.829 1494.02,778.365 \n",
       "  1493.44,778.533 1492.08,778.999 1490.15,779.707 1488.21,780.467 1488.19,780.472 1486.27,781.481 1484.61,782.41 1484.33,782.639 1482.39,784.308 1482.35,784.349 \n",
       "  1481.25,786.287 1481.25,788.226 1482.35,790.164 1482.39,790.205 1484.33,791.874 1484.61,792.103 1486.27,793.032 1488.19,794.041 1488.21,794.046 1490.15,794.806 \n",
       "  1492.08,795.514 1493.44,795.979 1494.02,796.148 1495.96,796.684 1497.9,797.182 1499.84,797.643 1501.07,797.918 1501.78,798.06 1503.71,798.428 1505.65,798.767 \n",
       "  1507.59,799.08 1509.53,799.367 1511.47,799.63 1513.3,799.856 1513.41,799.869 1515.35,800.08 1517.28,800.271 1519.22,800.441 1521.16,800.592 1523.1,800.723 \n",
       "  1525.04,800.836 1526.98,800.931 1528.91,801.008 1530.85,801.068 1532.79,801.111 1534.73,801.136 1536.67,801.145 1538.61,801.136 1540.55,801.111 1542.48,801.068 \n",
       "  1544.42,801.008 1546.36,800.931 1548.3,800.836 1550.24,800.723 1552.18,800.592 1554.11,800.441 1556.05,800.271 1557.99,800.08 1559.93,799.869 1560.03,799.856 \n",
       "  1561.87,799.63 1563.81,799.367 1565.74,799.08 1567.68,798.767 1569.62,798.428 1571.56,798.06 1572.26,797.918 1573.5,797.643 1575.44,797.182 1577.38,796.684 \n",
       "  1579.31,796.148 1579.89,795.979 1581.25,795.514 1583.19,794.806 1585.13,794.046 1585.14,794.041 1587.07,793.032 1588.73,792.103 1589.01,791.874 1590.94,790.205 \n",
       "  1590.99,790.164 1592.09,788.226 1592.09,786.287 1590.99,784.349 1590.94,784.308 1589.01,782.639 1588.73,782.41 1587.07,781.481 1585.14,780.472 1585.13,780.467 \n",
       "  1583.19,779.707 1581.25,778.999 1579.89,778.533 1579.31,778.365 1577.38,777.829 1575.44,777.331 1573.5,776.87 1572.26,776.595 1571.56,776.453 1569.62,776.085 \n",
       "  1567.68,775.745 1565.74,775.433 1563.81,775.146 1561.87,774.883 1560.03,774.657 1559.93,774.644 1557.99,774.433 1556.05,774.242 1554.11,774.072 1552.18,773.921 \n",
       "  1550.24,773.79 1548.3,773.677 1546.36,773.582 \n",
       "  \"/>\n",
       "<polyline clip-path=\"url(#clip324)\" style=\"stroke:#c73e4c; stroke-width:4; stroke-opacity:1; fill:none\" points=\"\n",
       "  1548.3,772.127 1546.36,772.042 1544.42,771.972 1542.48,771.918 1540.55,771.879 1538.61,771.856 1536.67,771.849 1534.73,771.856 1532.79,771.879 1530.85,771.918 \n",
       "  1528.91,771.972 1526.98,772.042 1525.04,772.127 1523.1,772.229 1521.16,772.348 1519.22,772.484 1517.28,772.638 1516.38,772.718 1515.35,772.809 1513.41,772.997 \n",
       "  1511.47,773.205 1509.53,773.432 1507.59,773.681 1505.65,773.953 1503.71,774.247 1501.78,774.566 1501.26,774.657 1499.84,774.917 1497.9,775.299 1495.96,775.71 \n",
       "  1494.02,776.153 1492.22,776.595 1492.08,776.632 1490.15,777.183 1488.21,777.774 1486.27,778.409 1485.91,778.533 1484.33,779.171 1482.39,780.007 1481.37,780.472 \n",
       "  1480.45,781.01 1478.51,782.208 1478.2,782.41 1476.58,783.956 1476.18,784.349 1475.19,786.287 1475.19,788.226 1476.18,790.164 1476.58,790.557 1478.2,792.103 \n",
       "  1478.51,792.305 1480.45,793.503 1481.37,794.041 1482.39,794.506 1484.33,795.342 1485.91,795.979 1486.27,796.104 1488.21,796.739 1490.15,797.33 1492.08,797.881 \n",
       "  1492.22,797.918 1494.02,798.36 1495.96,798.803 1497.9,799.214 1499.84,799.595 1501.26,799.856 1501.78,799.947 1503.71,800.266 1505.65,800.56 1507.59,800.832 \n",
       "  1509.53,801.081 1511.47,801.308 1513.41,801.516 1515.35,801.704 1516.38,801.795 1517.28,801.875 1519.22,802.029 1521.16,802.165 1523.1,802.283 1525.04,802.386 \n",
       "  1526.98,802.471 1528.91,802.541 1530.85,802.595 1532.79,802.634 1534.73,802.657 1536.67,802.664 1538.61,802.657 1540.55,802.634 1542.48,802.595 1544.42,802.541 \n",
       "  1546.36,802.471 1548.3,802.386 1550.24,802.283 1552.18,802.165 1554.11,802.029 1556.05,801.875 1556.96,801.795 1557.99,801.704 1559.93,801.516 1561.87,801.308 \n",
       "  1563.81,801.081 1565.74,800.832 1567.68,800.56 1569.62,800.266 1571.56,799.947 1572.08,799.856 1573.5,799.595 1575.44,799.214 1577.38,798.803 1579.31,798.36 \n",
       "  1581.12,797.918 1581.25,797.881 1583.19,797.33 1585.13,796.739 1587.07,796.104 1587.43,795.979 1589.01,795.342 1590.94,794.506 1591.97,794.041 1592.88,793.503 \n",
       "  1594.82,792.305 1595.14,792.103 1596.76,790.557 1597.16,790.164 1598.15,788.226 1598.15,786.287 1597.16,784.349 1596.76,783.956 1595.14,782.41 1594.82,782.208 \n",
       "  1592.88,781.01 1591.97,780.472 1590.94,780.007 1589.01,779.171 1587.43,778.533 1587.07,778.409 1585.13,777.774 1583.19,777.183 1581.25,776.632 1581.12,776.595 \n",
       "  1579.31,776.153 1577.38,775.71 1575.44,775.299 1573.5,774.917 1572.08,774.657 1571.56,774.566 1569.62,774.247 1567.68,773.953 1565.74,773.681 1563.81,773.432 \n",
       "  1561.87,773.205 1559.93,772.997 1557.99,772.809 1556.96,772.718 1556.05,772.638 1554.11,772.484 1552.18,772.348 1550.24,772.229 1548.3,772.127 \n",
       "  \"/>\n",
       "<polyline clip-path=\"url(#clip324)\" style=\"stroke:#932567; stroke-width:4; stroke-opacity:1; fill:none\" points=\"\n",
       "  1550.24,768.983 1548.3,768.902 1546.55,768.841 1546.36,768.834 1544.42,768.774 1542.48,768.728 1540.55,768.695 1538.61,768.675 1536.67,768.668 1534.73,768.675 \n",
       "  1532.79,768.695 1530.85,768.728 1528.91,768.774 1526.98,768.834 1526.79,768.841 1525.04,768.902 1523.1,768.983 1521.16,769.077 1519.22,769.185 1517.28,769.306 \n",
       "  1515.35,769.442 1513.41,769.593 1511.47,769.76 1509.53,769.943 1507.59,770.142 1505.65,770.36 1503.71,770.597 1502.32,770.78 1501.78,770.849 1499.84,771.112 \n",
       "  1497.9,771.396 1495.96,771.702 1494.02,772.031 1492.08,772.386 1490.39,772.718 1490.15,772.766 1488.21,773.169 1486.27,773.601 1484.33,774.065 1482.39,774.563 \n",
       "  1482.04,774.657 1480.45,775.109 1478.51,775.697 1476.58,776.329 1475.8,776.595 1474.64,777.037 1472.7,777.82 1471.04,778.533 1470.76,778.678 1468.82,779.71 \n",
       "  1467.47,780.472 1466.88,780.905 1464.95,782.388 1464.92,782.41 1463.26,784.349 1463.01,784.946 1462.44,786.287 1462.44,788.226 1463.01,789.566 1463.26,790.164 \n",
       "  1464.92,792.103 1464.95,792.125 1466.88,793.608 1467.47,794.041 1468.82,794.802 1470.76,795.835 1471.04,795.979 1472.7,796.693 1474.64,797.476 1475.8,797.918 \n",
       "  1476.58,798.184 1478.51,798.816 1480.45,799.404 1482.04,799.856 1482.39,799.949 1484.33,800.448 1486.27,800.912 1488.21,801.344 1490.15,801.747 1490.39,801.795 \n",
       "  1492.08,802.127 1494.02,802.481 1495.96,802.811 1497.9,803.117 1499.84,803.401 1501.78,803.664 1502.32,803.733 1503.71,803.916 1505.65,804.153 1507.59,804.37 \n",
       "  1509.53,804.57 1511.47,804.753 1513.41,804.92 1515.35,805.071 1517.28,805.207 1519.22,805.328 1521.16,805.436 1523.1,805.53 1525.04,805.611 1526.79,805.672 \n",
       "  1526.98,805.679 1528.91,805.739 1530.85,805.785 1532.79,805.818 1534.73,805.838 1536.67,805.845 1538.61,805.838 1540.55,805.818 1542.48,805.785 1544.42,805.739 \n",
       "  1546.36,805.679 1546.55,805.672 1548.3,805.611 1550.24,805.53 1552.18,805.436 1554.11,805.328 1556.05,805.207 1557.99,805.071 1559.93,804.92 1561.87,804.753 \n",
       "  1563.81,804.57 1565.74,804.37 1567.68,804.153 1569.62,803.916 1571.01,803.733 1571.56,803.664 1573.5,803.401 1575.44,803.117 1577.38,802.811 1579.31,802.481 \n",
       "  1581.25,802.127 1582.95,801.795 1583.19,801.747 1585.13,801.344 1587.07,800.912 1589.01,800.448 1590.94,799.949 1591.29,799.856 1592.88,799.404 1594.82,798.816 \n",
       "  1596.76,798.184 1597.54,797.918 1598.7,797.476 1600.64,796.693 1602.29,795.979 1602.58,795.835 1604.51,794.802 1605.86,794.041 1606.45,793.608 1608.39,792.125 \n",
       "  1608.42,792.103 1610.08,790.164 1610.33,789.566 1610.89,788.226 1610.89,786.287 1610.33,784.946 1610.08,784.349 1608.42,782.41 1608.39,782.388 1606.45,780.905 \n",
       "  1605.86,780.472 1604.51,779.71 1602.58,778.678 1602.29,778.533 1600.64,777.82 1598.7,777.037 1597.54,776.595 1596.76,776.329 1594.82,775.697 1592.88,775.109 \n",
       "  1591.29,774.657 1590.94,774.563 1589.01,774.065 1587.07,773.601 1585.13,773.169 1583.19,772.766 1582.95,772.718 1581.25,772.386 1579.31,772.031 1577.38,771.702 \n",
       "  1575.44,771.396 1573.5,771.112 1571.56,770.849 1571.01,770.78 1569.62,770.597 1567.68,770.36 1565.74,770.142 1563.81,769.943 1561.87,769.76 1559.93,769.593 \n",
       "  1557.99,769.442 1556.05,769.306 1554.11,769.185 1552.18,769.077 1550.24,768.983 \n",
       "  \"/>\n",
       "<polyline clip-path=\"url(#clip324)\" style=\"stroke:#ae305b; stroke-width:4; stroke-opacity:1; fill:none\" points=\"\n",
       "  1550.24,770.645 1548.3,770.551 1546.36,770.472 1544.42,770.407 1542.48,770.358 1540.55,770.322 1538.61,770.301 1536.67,770.294 1534.73,770.301 1532.79,770.322 \n",
       "  1530.85,770.358 1528.91,770.407 1526.98,770.472 1525.04,770.551 1523.1,770.645 1521.16,770.754 1520.77,770.78 1519.22,770.875 1517.28,771.009 1515.35,771.16 \n",
       "  1513.41,771.327 1511.47,771.512 1509.53,771.714 1507.59,771.936 1505.65,772.177 1503.71,772.439 1501.81,772.718 1501.78,772.723 1499.84,773.025 1497.9,773.35 \n",
       "  1495.96,773.702 1494.02,774.08 1492.08,774.487 1491.32,774.657 1490.15,774.931 1488.21,775.412 1486.27,775.929 1484.33,776.484 1483.96,776.595 1482.39,777.116 \n",
       "  1480.45,777.803 1478.53,778.533 1478.51,778.542 1476.58,779.447 1474.64,780.418 1474.53,780.472 1472.7,781.702 1471.69,782.41 1470.76,783.387 1469.87,784.349 \n",
       "  1468.98,786.287 1468.98,788.226 1469.87,790.164 1470.76,791.126 1471.69,792.103 1472.7,792.811 1474.53,794.041 1474.64,794.095 1476.58,795.066 1478.51,795.971 \n",
       "  1478.53,795.979 1480.45,796.71 1482.39,797.397 1483.96,797.918 1484.33,798.029 1486.27,798.584 1488.21,799.101 1490.15,799.582 1491.32,799.856 1492.08,800.026 \n",
       "  1494.02,800.433 1495.96,800.811 1497.9,801.162 1499.84,801.488 1501.78,801.79 1501.81,801.795 1503.71,802.074 1505.65,802.336 1507.59,802.577 1509.53,802.798 \n",
       "  1511.47,803.001 1513.41,803.186 1515.35,803.353 1517.28,803.503 1519.22,803.638 1520.77,803.733 1521.16,803.758 1523.1,803.868 1525.04,803.962 1526.98,804.041 \n",
       "  1528.91,804.105 1530.85,804.155 1532.79,804.191 1534.73,804.212 1536.67,804.219 1538.61,804.212 1540.55,804.191 1542.48,804.155 1544.42,804.105 1546.36,804.041 \n",
       "  1548.3,803.962 1550.24,803.868 1552.18,803.758 1552.57,803.733 1554.11,803.638 1556.05,803.503 1557.99,803.353 1559.93,803.186 1561.87,803.001 1563.81,802.798 \n",
       "  1565.74,802.577 1567.68,802.336 1569.62,802.074 1571.53,801.795 1571.56,801.79 1573.5,801.488 1575.44,801.162 1577.38,800.811 1579.31,800.433 1581.25,800.026 \n",
       "  1582.02,799.856 1583.19,799.582 1585.13,799.101 1587.07,798.584 1589.01,798.029 1589.38,797.918 1590.94,797.397 1592.88,796.71 1594.8,795.979 1594.82,795.971 \n",
       "  1596.76,795.066 1598.7,794.095 1598.8,794.041 1600.64,792.811 1601.64,792.103 1602.58,791.126 1603.47,790.164 1604.36,788.226 1604.36,786.287 1603.47,784.349 \n",
       "  1602.58,783.387 1601.64,782.41 1600.64,781.702 1598.8,780.472 1598.7,780.418 1596.76,779.447 1594.82,778.542 1594.8,778.533 1592.88,777.803 1590.94,777.116 \n",
       "  1589.38,776.595 1589.01,776.484 1587.07,775.929 1585.13,775.412 1583.19,774.931 1582.02,774.657 1581.25,774.487 1579.31,774.08 1577.38,773.702 1575.44,773.35 \n",
       "  1573.5,773.025 1571.56,772.723 1571.53,772.718 1569.62,772.439 1567.68,772.177 1565.74,771.936 1563.81,771.714 1561.87,771.512 1559.93,771.327 1557.99,771.16 \n",
       "  1556.05,771.009 1554.11,770.875 1552.57,770.78 1552.18,770.754 1550.24,770.645 \n",
       "  \"/>\n",
       "<polyline clip-path=\"url(#clip324)\" style=\"stroke:#781c6d; stroke-width:4; stroke-opacity:1; fill:none\" points=\"\n",
       "  1552.18,767.273 1550.24,767.188 1548.3,767.114 1546.36,767.053 1544.42,767.003 1542.48,766.964 1540.55,766.937 1538.61,766.92 1536.67,766.915 1534.73,766.92 \n",
       "  1532.79,766.937 1530.85,766.964 1528.91,767.003 1526.98,767.053 1525.04,767.114 1523.1,767.188 1521.16,767.273 1519.22,767.37 1517.28,767.48 1515.35,767.604 \n",
       "  1513.41,767.741 1511.47,767.892 1509.53,768.057 1507.59,768.239 1505.65,768.436 1503.71,768.651 1502.12,768.841 1501.78,768.879 1499.84,769.11 1497.9,769.359 \n",
       "  1495.96,769.628 1494.02,769.917 1492.08,770.228 1490.15,770.563 1488.96,770.78 1488.21,770.915 1486.27,771.281 1484.33,771.674 1482.39,772.096 1480.45,772.549 \n",
       "  1479.76,772.718 1478.51,773.03 1476.58,773.543 1474.64,774.095 1472.79,774.657 1472.7,774.687 1470.76,775.339 1468.82,776.039 1467.37,776.595 1466.88,776.806 \n",
       "  1464.95,777.676 1463.16,778.533 1463.01,778.624 1461.07,779.776 1459.96,780.472 1459.13,781.15 1457.64,782.41 1457.19,782.984 1456.13,784.349 1455.4,786.287 \n",
       "  1455.4,788.226 1456.13,790.164 1457.19,791.529 1457.64,792.103 1459.13,793.363 1459.96,794.041 1461.07,794.737 1463.01,795.889 1463.16,795.979 1464.95,796.837 \n",
       "  1466.88,797.707 1467.37,797.918 1468.82,798.474 1470.76,799.174 1472.7,799.826 1472.79,799.856 1474.64,800.418 1476.58,800.97 1478.51,801.483 1479.76,801.795 \n",
       "  1480.45,801.964 1482.39,802.417 1484.33,802.839 1486.27,803.232 1488.21,803.598 1488.96,803.733 1490.15,803.95 1492.08,804.285 1494.02,804.596 1495.96,804.885 \n",
       "  1497.9,805.153 1499.84,805.403 1501.78,805.633 1502.12,805.672 1503.71,805.862 1505.65,806.077 1507.59,806.274 1509.53,806.455 1511.47,806.621 1513.41,806.772 \n",
       "  1515.35,806.909 1517.28,807.033 1519.22,807.143 1521.16,807.24 1523.1,807.325 1525.04,807.399 1526.98,807.46 1528.91,807.51 1530.85,807.549 1532.79,807.576 \n",
       "  1534.73,807.593 1536.67,807.598 1538.61,807.593 1540.55,807.576 1542.48,807.549 1544.42,807.51 1546.36,807.46 1548.3,807.399 1550.24,807.325 1552.18,807.24 \n",
       "  1554.11,807.143 1556.05,807.033 1557.99,806.909 1559.93,806.772 1561.87,806.621 1563.81,806.455 1565.74,806.274 1567.68,806.077 1569.62,805.862 1571.22,805.672 \n",
       "  1571.56,805.633 1573.5,805.403 1575.44,805.153 1577.38,804.885 1579.31,804.596 1581.25,804.285 1583.19,803.95 1584.38,803.733 1585.13,803.598 1587.07,803.232 \n",
       "  1589.01,802.839 1590.94,802.417 1592.88,801.964 1593.57,801.795 1594.82,801.483 1596.76,800.97 1598.7,800.418 1600.54,799.856 1600.64,799.826 1602.58,799.174 \n",
       "  1604.51,798.474 1605.96,797.918 1606.45,797.707 1608.39,796.837 1610.17,795.979 1610.33,795.889 1612.27,794.737 1613.38,794.041 1614.21,793.363 1615.69,792.103 \n",
       "  1616.14,791.529 1617.2,790.164 1617.94,788.226 1617.94,786.287 1617.2,784.349 1616.14,782.984 1615.69,782.41 1614.21,781.15 1613.38,780.472 1612.27,779.776 \n",
       "  1610.33,778.624 1610.17,778.533 1608.39,777.676 1606.45,776.806 1605.96,776.595 1604.51,776.039 1602.58,775.339 1600.64,774.687 1600.54,774.657 1598.7,774.095 \n",
       "  1596.76,773.543 1594.82,773.03 1593.57,772.718 1592.88,772.549 1590.94,772.096 1589.01,771.674 1587.07,771.281 1585.13,770.915 1584.38,770.78 1583.19,770.563 \n",
       "  1581.25,770.228 1579.31,769.917 1577.38,769.628 1575.44,769.359 1573.5,769.11 1571.56,768.879 1571.22,768.841 1569.62,768.651 1567.68,768.436 1565.74,768.239 \n",
       "  1563.81,768.057 1561.87,767.892 1559.93,767.741 1557.99,767.604 1556.05,767.48 1554.11,767.37 1552.18,767.273 \n",
       "  \"/>\n",
       "<polyline clip-path=\"url(#clip324)\" style=\"stroke:#5d126e; stroke-width:4; stroke-opacity:1; fill:none\" points=\"\n",
       "  1554.11,765.359 1552.18,765.271 1550.24,765.195 1548.3,765.129 1546.36,765.074 1544.42,765.029 1542.48,764.995 1540.55,764.97 1539.78,764.964 1538.61,764.954 \n",
       "  1536.67,764.948 1534.73,764.954 1533.56,764.964 1532.79,764.97 1530.85,764.995 1528.91,765.029 1526.98,765.074 1525.04,765.129 1523.1,765.195 1521.16,765.271 \n",
       "  1519.22,765.359 1517.28,765.458 1515.35,765.568 1513.41,765.691 1511.47,765.827 1509.53,765.975 1507.59,766.138 1505.65,766.315 1503.71,766.507 1501.78,766.716 \n",
       "  1500.16,766.903 1499.84,766.937 1497.9,767.154 1495.96,767.387 1494.02,767.639 1492.08,767.91 1490.15,768.201 1488.21,768.513 1486.31,768.841 1486.27,768.848 \n",
       "  1484.33,769.18 1482.39,769.535 1480.45,769.917 1478.51,770.327 1476.58,770.766 1476.52,770.78 1474.64,771.215 1472.7,771.696 1470.76,772.213 1468.99,772.718 \n",
       "  1468.82,772.768 1466.88,773.356 1464.95,773.988 1463.04,774.657 1463.01,774.668 1461.07,775.418 1459.13,776.226 1458.29,776.595 1457.19,777.135 1455.25,778.145 \n",
       "  1454.54,778.533 1453.31,779.335 1451.66,780.472 1451.38,780.731 1449.57,782.41 1449.44,782.594 1448.19,784.349 1447.52,786.287 1447.52,788.226 1448.19,790.164 \n",
       "  1449.44,791.918 1449.57,792.103 1451.38,793.782 1451.66,794.041 1453.31,795.178 1454.54,795.979 1455.25,796.368 1457.19,797.378 1458.29,797.918 1459.13,798.287 \n",
       "  1461.07,799.095 1463.01,799.845 1463.04,799.856 1464.95,800.525 1466.88,801.157 1468.82,801.745 1468.99,801.795 1470.76,802.3 1472.7,802.816 1474.64,803.298 \n",
       "  1476.52,803.733 1476.58,803.747 1478.51,804.186 1480.45,804.596 1482.39,804.978 1484.33,805.333 1486.27,805.664 1486.31,805.672 1488.21,806 1490.15,806.312 \n",
       "  1492.08,806.603 1494.02,806.874 1495.96,807.126 1497.9,807.359 1499.84,807.576 1500.16,807.61 1501.78,807.797 1503.71,808.006 1505.65,808.198 1507.59,808.375 \n",
       "  1509.53,808.538 1511.47,808.686 1513.41,808.822 1515.35,808.945 1517.28,809.055 1519.22,809.154 1521.16,809.242 1523.1,809.318 1525.04,809.384 1526.98,809.439 \n",
       "  1528.91,809.483 1530.85,809.518 1532.79,809.543 1533.56,809.549 1534.73,809.559 1536.67,809.565 1538.61,809.559 1539.78,809.549 1540.55,809.543 1542.48,809.518 \n",
       "  1544.42,809.483 1546.36,809.439 1548.3,809.384 1550.24,809.318 1552.18,809.242 1554.11,809.154 1556.05,809.055 1557.99,808.945 1559.93,808.822 1561.87,808.686 \n",
       "  1563.81,808.538 1565.74,808.375 1567.68,808.198 1569.62,808.006 1571.56,807.797 1573.18,807.61 1573.5,807.576 1575.44,807.359 1577.38,807.126 1579.31,806.874 \n",
       "  1581.25,806.603 1583.19,806.312 1585.13,806 1587.02,805.672 1587.07,805.664 1589.01,805.333 1590.94,804.978 1592.88,804.596 1594.82,804.186 1596.76,803.747 \n",
       "  1596.82,803.733 1598.7,803.298 1600.64,802.816 1602.58,802.3 1604.34,801.795 1604.51,801.745 1606.45,801.157 1608.39,800.525 1610.3,799.856 1610.33,799.845 \n",
       "  1612.27,799.095 1614.21,798.287 1615.05,797.918 1616.14,797.378 1618.08,796.368 1618.8,795.979 1620.02,795.178 1621.67,794.041 1621.96,793.782 1623.77,792.103 \n",
       "  1623.9,791.918 1625.14,790.164 1625.81,788.226 1625.81,786.287 1625.14,784.349 1623.9,782.594 1623.77,782.41 1621.96,780.731 1621.67,780.472 1620.02,779.335 \n",
       "  1618.8,778.533 1618.08,778.145 1616.14,777.135 1615.05,776.595 1614.21,776.226 1612.27,775.418 1610.33,774.668 1610.3,774.657 1608.39,773.988 1606.45,773.356 \n",
       "  1604.51,772.768 1604.34,772.718 1602.58,772.213 1600.64,771.696 1598.7,771.215 1596.82,770.78 1596.76,770.766 1594.82,770.327 1592.88,769.917 1590.94,769.535 \n",
       "  1589.01,769.18 1587.07,768.848 1587.02,768.841 1585.13,768.513 1583.19,768.201 1581.25,767.91 1579.31,767.639 1577.38,767.387 1575.44,767.154 1573.5,766.937 \n",
       "  1573.18,766.903 1571.56,766.716 1569.62,766.507 1567.68,766.315 1565.74,766.138 1563.81,765.975 1561.87,765.827 1559.93,765.691 1557.99,765.568 1556.05,765.458 \n",
       "  1554.11,765.359 \n",
       "  \"/>\n",
       "<polyline clip-path=\"url(#clip324)\" style=\"stroke:#410967; stroke-width:4; stroke-opacity:1; fill:none\" points=\"\n",
       "  1556.05,763.12 1554.11,763.034 1553.9,763.026 1552.18,762.946 1550.24,762.868 1548.3,762.801 1546.36,762.744 1544.42,762.698 1542.48,762.663 1540.55,762.638 \n",
       "  1538.61,762.622 1536.67,762.617 1534.73,762.622 1532.79,762.638 1530.85,762.663 1528.91,762.698 1526.98,762.744 1525.04,762.801 1523.1,762.868 1521.16,762.946 \n",
       "  1519.44,763.026 1519.22,763.034 1517.28,763.12 1515.35,763.215 1513.41,763.322 1511.47,763.439 1509.53,763.568 1507.59,763.708 1505.65,763.861 1503.71,764.028 \n",
       "  1501.78,764.208 1499.84,764.403 1497.9,764.613 1495.96,764.84 1494.96,764.964 1494.02,765.068 1492.08,765.295 1490.15,765.54 1488.21,765.803 1486.27,766.085 \n",
       "  1484.33,766.388 1482.39,766.714 1481.33,766.903 1480.45,767.046 1478.51,767.38 1476.58,767.739 1474.64,768.124 1472.7,768.537 1471.36,768.841 1470.76,768.97 \n",
       "  1468.82,769.409 1466.88,769.881 1464.95,770.388 1463.54,770.78 1463.01,770.927 1461.07,771.485 1459.13,772.086 1457.24,772.718 1457.19,772.733 1455.25,773.421 \n",
       "  1453.31,774.163 1452.1,774.657 1451.38,774.972 1449.44,775.86 1447.93,776.595 1447.5,776.837 1445.56,777.955 1444.61,778.533 1443.62,779.256 1442.03,780.472 \n",
       "  1441.68,780.825 1440.14,782.41 1439.75,783.035 1438.9,784.349 1438.29,786.287 1438.29,788.226 1438.9,790.164 1439.75,791.478 1440.14,792.103 1441.68,793.688 \n",
       "  1442.03,794.041 1443.62,795.257 1444.61,795.979 1445.56,796.558 1447.5,797.676 1447.93,797.918 1449.44,798.653 1451.38,799.541 1452.1,799.856 1453.31,800.35 \n",
       "  1455.25,801.092 1457.19,801.78 1457.24,801.795 1459.13,802.427 1461.07,803.028 1463.01,803.586 1463.54,803.733 1464.95,804.125 1466.88,804.632 1468.82,805.104 \n",
       "  1470.76,805.543 1471.36,805.672 1472.7,805.975 1474.64,806.389 1476.58,806.774 1478.51,807.133 1480.45,807.467 1481.33,807.61 1482.39,807.799 1484.33,808.124 \n",
       "  1486.27,808.428 1488.21,808.71 1490.15,808.973 1492.08,809.217 1494.02,809.445 1494.96,809.549 1495.96,809.673 1497.9,809.9 1499.84,810.11 1501.78,810.305 \n",
       "  1503.71,810.485 1505.65,810.652 1507.59,810.805 1509.53,810.945 1511.47,811.074 1513.41,811.191 1515.35,811.297 1517.28,811.393 1519.22,811.479 1519.44,811.487 \n",
       "  1521.16,811.567 1523.1,811.645 1525.04,811.712 1526.98,811.769 1528.91,811.815 1530.85,811.85 1532.79,811.875 1534.73,811.89 1536.67,811.895 1538.61,811.89 \n",
       "  1540.55,811.875 1542.48,811.85 1544.42,811.815 1546.36,811.769 1548.3,811.712 1550.24,811.645 1552.18,811.567 1553.9,811.487 1554.11,811.479 1556.05,811.393 \n",
       "  1557.99,811.297 1559.93,811.191 1561.87,811.074 1563.81,810.945 1565.74,810.805 1567.68,810.652 1569.62,810.485 1571.56,810.305 1573.5,810.11 1575.44,809.9 \n",
       "  1577.38,809.673 1578.38,809.549 1579.31,809.445 1581.25,809.217 1583.19,808.973 1585.13,808.71 1587.07,808.428 1589.01,808.124 1590.94,807.799 1592.01,807.61 \n",
       "  1592.88,807.467 1594.82,807.133 1596.76,806.774 1598.7,806.389 1600.64,805.975 1601.98,805.672 1602.58,805.543 1604.51,805.104 1606.45,804.632 1608.39,804.125 \n",
       "  1609.8,803.733 1610.33,803.586 1612.27,803.028 1614.21,802.427 1616.1,801.795 1616.14,801.78 1618.08,801.092 1620.02,800.35 1621.24,799.856 1621.96,799.541 \n",
       "  1623.9,798.653 1625.4,797.918 1625.84,797.676 1627.78,796.558 1628.73,795.979 1629.71,795.257 1631.3,794.041 1631.65,793.688 1633.19,792.103 1633.59,791.478 \n",
       "  1634.43,790.164 1635.04,788.226 1635.04,786.287 1634.43,784.349 1633.59,783.035 1633.19,782.41 1631.65,780.825 1631.3,780.472 1629.71,779.256 1628.73,778.533 \n",
       "  1627.78,777.955 1625.84,776.837 1625.4,776.595 1623.9,775.86 1621.96,774.972 1621.24,774.657 1620.02,774.163 1618.08,773.421 1616.14,772.733 1616.1,772.718 \n",
       "  1614.21,772.086 1612.27,771.485 1610.33,770.927 1609.8,770.78 1608.39,770.388 1606.45,769.881 1604.51,769.409 1602.58,768.97 1601.98,768.841 1600.64,768.537 \n",
       "  1598.7,768.124 1596.76,767.739 1594.82,767.38 1592.88,767.046 1592.01,766.903 1590.94,766.714 1589.01,766.388 1587.07,766.085 1585.13,765.803 1583.19,765.54 \n",
       "  1581.25,765.295 1579.31,765.068 1578.38,764.964 1577.38,764.84 1575.44,764.613 1573.5,764.403 1571.56,764.208 1569.62,764.028 1567.68,763.861 1565.74,763.708 \n",
       "  1563.81,763.568 1561.87,763.439 1559.93,763.322 1557.99,763.215 1556.05,763.12 \n",
       "  \"/>\n",
       "<polyline clip-path=\"url(#clip324)\" style=\"stroke:#240b4e; stroke-width:4; stroke-opacity:1; fill:none\" points=\"\n",
       "  1559.93,760.297 1557.99,760.195 1556.05,760.103 1554.11,760.021 1552.18,759.948 1550.24,759.885 1548.3,759.83 1546.36,759.785 1544.42,759.747 1542.48,759.719 \n",
       "  1540.55,759.698 1538.61,759.686 1536.67,759.682 1534.73,759.686 1532.79,759.698 1530.85,759.719 1528.91,759.747 1526.98,759.785 1525.04,759.83 1523.1,759.885 \n",
       "  1521.16,759.948 1519.22,760.021 1517.28,760.103 1515.35,760.195 1513.41,760.297 1511.47,760.409 1509.53,760.533 1507.59,760.668 1505.65,760.815 1503.71,760.975 \n",
       "  1502.44,761.087 1501.78,761.137 1499.84,761.291 1497.9,761.457 1495.96,761.636 1494.02,761.829 1492.08,762.036 1490.15,762.259 1488.21,762.499 1486.27,762.756 \n",
       "  1484.37,763.026 1484.33,763.031 1482.39,763.281 1480.45,763.55 1478.51,763.838 1476.58,764.147 1474.64,764.479 1472.7,764.835 1472.03,764.964 1470.76,765.185 \n",
       "  1468.82,765.542 1466.88,765.925 1464.95,766.338 1463.01,766.782 1462.5,766.903 1461.07,767.221 1459.13,767.68 1457.19,768.175 1455.25,768.709 1454.79,768.841 \n",
       "  1453.31,769.25 1451.38,769.822 1449.44,770.44 1448.43,770.78 1447.5,771.092 1445.56,771.78 1443.62,772.524 1443.14,772.718 1441.68,773.322 1439.75,774.183 \n",
       "  1438.74,774.657 1437.81,775.131 1435.87,776.173 1435.12,776.595 1433.93,777.361 1432.21,778.533 1431.99,778.711 1430.05,780.364 1429.93,780.472 1428.25,782.41 \n",
       "  1428.11,782.653 1427.14,784.349 1426.6,786.287 1426.6,788.226 1427.14,790.164 1428.11,791.86 1428.25,792.103 1429.93,794.041 1430.05,794.149 1431.99,795.802 \n",
       "  1432.21,795.979 1433.93,797.152 1435.12,797.918 1435.87,798.34 1437.81,799.382 1438.74,799.856 1439.75,800.329 1441.68,801.191 1443.14,801.795 1443.62,801.989 \n",
       "  1445.56,802.733 1447.5,803.421 1448.43,803.733 1449.44,804.073 1451.38,804.691 1453.31,805.263 1454.79,805.672 1455.25,805.804 1457.19,806.337 1459.13,806.833 \n",
       "  1461.07,807.292 1462.5,807.61 1463.01,807.731 1464.95,808.175 1466.88,808.588 1468.82,808.971 1470.76,809.328 1472.03,809.549 1472.7,809.677 1474.64,810.034 \n",
       "  1476.58,810.366 1478.51,810.675 1480.45,810.963 1482.39,811.232 1484.33,811.482 1484.37,811.487 1486.27,811.757 1488.21,812.014 1490.15,812.254 1492.08,812.477 \n",
       "  1494.02,812.684 1495.96,812.877 1497.9,813.056 1499.84,813.222 1501.78,813.376 1502.44,813.426 1503.71,813.538 1505.65,813.698 1507.59,813.845 1509.53,813.98 \n",
       "  1511.47,814.103 1513.41,814.216 1515.35,814.318 1517.28,814.41 1519.22,814.492 1521.16,814.565 1523.1,814.628 1525.04,814.683 1526.98,814.728 1528.91,814.766 \n",
       "  1530.85,814.794 1532.79,814.815 1534.73,814.827 1536.67,814.831 1538.61,814.827 1540.55,814.815 1542.48,814.794 1544.42,814.766 1546.36,814.728 1548.3,814.683 \n",
       "  1550.24,814.628 1552.18,814.565 1554.11,814.492 1556.05,814.41 1557.99,814.318 1559.93,814.216 1561.87,814.103 1563.81,813.98 1565.74,813.845 1567.68,813.698 \n",
       "  1569.62,813.538 1570.89,813.426 1571.56,813.376 1573.5,813.222 1575.44,813.056 1577.38,812.877 1579.31,812.684 1581.25,812.477 1583.19,812.254 1585.13,812.014 \n",
       "  1587.07,811.757 1588.96,811.487 1589.01,811.482 1590.94,811.232 1592.88,810.963 1594.82,810.675 1596.76,810.366 1598.7,810.034 1600.64,809.677 1601.31,809.549 \n",
       "  1602.58,809.328 1604.51,808.971 1606.45,808.588 1608.39,808.175 1610.33,807.731 1610.84,807.61 1612.27,807.292 1614.21,806.833 1616.14,806.337 1618.08,805.804 \n",
       "  1618.54,805.672 1620.02,805.263 1621.96,804.691 1623.9,804.073 1624.91,803.733 1625.84,803.421 1627.78,802.733 1629.71,801.989 1630.2,801.795 1631.65,801.191 \n",
       "  1633.59,800.329 1634.6,799.856 1635.53,799.382 1637.47,798.34 1638.22,797.918 1639.41,797.152 1641.13,795.979 1641.34,795.802 1643.28,794.149 1643.41,794.041 \n",
       "  1645.08,792.103 1645.22,791.86 1646.2,790.164 1646.74,788.226 1646.74,786.287 1646.2,784.349 1645.22,782.653 1645.08,782.41 1643.41,780.472 1643.28,780.364 \n",
       "  1641.34,778.711 1641.13,778.533 1639.41,777.361 1638.22,776.595 1637.47,776.173 1635.53,775.131 1634.6,774.657 1633.59,774.183 1631.65,773.322 1630.2,772.718 \n",
       "  1629.71,772.524 1627.78,771.78 1625.84,771.092 1624.91,770.78 1623.9,770.44 1621.96,769.822 1620.02,769.25 1618.54,768.841 1618.08,768.709 1616.14,768.175 \n",
       "  1614.21,767.68 1612.27,767.221 1610.84,766.903 1610.33,766.782 1608.39,766.338 1606.45,765.925 1604.51,765.542 1602.58,765.185 1601.31,764.964 1600.64,764.835 \n",
       "  1598.7,764.479 1596.76,764.147 1594.82,763.838 1592.88,763.55 1590.94,763.281 1589.01,763.031 1588.96,763.026 1587.07,762.756 1585.13,762.499 1583.19,762.259 \n",
       "  1581.25,762.036 1579.31,761.829 1577.38,761.636 1575.44,761.457 1573.5,761.291 1571.56,761.137 1570.89,761.087 1569.62,760.975 1567.68,760.815 1565.74,760.668 \n",
       "  1563.81,760.533 1561.87,760.409 1559.93,760.297 \n",
       "  \"/>\n",
       "<polyline clip-path=\"url(#clip324)\" style=\"stroke:#0b0726; stroke-width:4; stroke-opacity:1; fill:none\" points=\"\n",
       "  1563.81,756.012 1561.87,755.913 1559.93,755.824 1557.99,755.742 1556.05,755.669 1554.11,755.604 1552.18,755.546 1550.24,755.496 1548.3,755.452 1546.36,755.416 \n",
       "  1544.42,755.386 1542.48,755.363 1540.55,755.347 1538.61,755.337 1536.67,755.334 1534.73,755.337 1532.79,755.347 1530.85,755.363 1528.91,755.386 1526.98,755.416 \n",
       "  1525.04,755.452 1523.1,755.496 1521.16,755.546 1519.22,755.604 1517.28,755.669 1515.35,755.742 1513.41,755.824 1511.47,755.913 1509.53,756.012 1507.59,756.119 \n",
       "  1505.65,756.236 1503.71,756.364 1501.78,756.501 1499.84,756.65 1497.9,756.811 1495.96,756.985 1494.02,757.171 1493.64,757.21 1492.08,757.337 1490.15,757.506 \n",
       "  1488.21,757.687 1486.27,757.882 1484.33,758.092 1482.39,758.316 1480.45,758.557 1478.51,758.816 1476.58,759.094 1476.2,759.149 1474.64,759.344 1472.7,759.6 \n",
       "  1470.76,759.876 1468.82,760.173 1466.88,760.491 1464.95,760.834 1463.59,761.087 1463.01,761.182 1461.07,761.509 1459.13,761.861 1457.19,762.24 1455.25,762.649 \n",
       "  1453.58,763.026 1453.31,763.08 1451.38,763.483 1449.44,763.917 1447.5,764.388 1445.56,764.897 1445.31,764.964 1443.62,765.384 1441.68,765.903 1439.75,766.466 \n",
       "  1438.33,766.903 1437.81,767.058 1435.87,767.65 1433.93,768.295 1432.4,768.841 1431.99,768.984 1430.05,769.687 1428.11,770.454 1427.33,770.78 1426.18,771.266 \n",
       "  1424.24,772.134 1423.01,772.718 1422.3,773.079 1420.36,774.103 1419.37,774.657 1418.42,775.239 1416.48,776.5 1416.34,776.595 1414.55,777.982 1413.86,778.533 \n",
       "  1412.61,779.774 1411.92,780.472 1410.67,782.164 1410.49,782.41 1409.53,784.349 1409.06,786.287 1409.06,788.226 1409.53,790.164 1410.49,792.103 1410.67,792.349 \n",
       "  1411.92,794.041 1412.61,794.738 1413.86,795.979 1414.55,796.531 1416.34,797.918 1416.48,798.013 1418.42,799.274 1419.37,799.856 1420.36,800.41 1422.3,801.434 \n",
       "  1423.01,801.795 1424.24,802.379 1426.18,803.247 1427.33,803.733 1428.11,804.059 1430.05,804.826 1431.99,805.529 1432.4,805.672 1433.93,806.218 1435.87,806.862 \n",
       "  1437.81,807.455 1438.33,807.61 1439.75,808.047 1441.68,808.61 1443.62,809.129 1445.31,809.549 1445.56,809.616 1447.5,810.125 1449.44,810.595 1451.38,811.03 \n",
       "  1453.31,811.433 1453.58,811.487 1455.25,811.864 1457.19,812.273 1459.13,812.652 1461.07,813.004 1463.01,813.331 1463.59,813.426 1464.95,813.679 1466.88,814.022 \n",
       "  1468.82,814.34 1470.76,814.637 1472.7,814.912 1474.64,815.169 1476.2,815.364 1476.58,815.419 1478.51,815.697 1480.45,815.956 1482.39,816.197 1484.33,816.421 \n",
       "  1486.27,816.631 1488.21,816.826 1490.15,817.007 1492.08,817.176 1493.64,817.302 1494.02,817.342 1495.96,817.528 1497.9,817.702 1499.84,817.862 1501.78,818.012 \n",
       "  1503.71,818.149 1505.65,818.277 1507.59,818.394 1509.53,818.501 1511.47,818.6 1513.41,818.689 1515.35,818.77 1517.28,818.844 1519.22,818.909 1521.16,818.967 \n",
       "  1523.1,819.017 1525.04,819.061 1526.98,819.097 1528.91,819.127 1530.85,819.15 1532.79,819.166 1534.73,819.176 1536.67,819.179 1538.61,819.176 1540.55,819.166 \n",
       "  1542.48,819.15 1544.42,819.127 1546.36,819.097 1548.3,819.061 1550.24,819.017 1552.18,818.967 1554.11,818.909 1556.05,818.844 1557.99,818.77 1559.93,818.689 \n",
       "  1561.87,818.6 1563.81,818.501 1565.74,818.394 1567.68,818.277 1569.62,818.149 1571.56,818.012 1573.5,817.862 1575.44,817.702 1577.38,817.528 1579.31,817.342 \n",
       "  1579.7,817.302 1581.25,817.176 1583.19,817.007 1585.13,816.826 1587.07,816.631 1589.01,816.421 1590.94,816.197 1592.88,815.956 1594.82,815.697 1596.76,815.419 \n",
       "  1597.13,815.364 1598.7,815.169 1600.64,814.912 1602.58,814.637 1604.51,814.34 1606.45,814.022 1608.39,813.679 1609.74,813.426 1610.33,813.331 1612.27,813.004 \n",
       "  1614.21,812.652 1616.14,812.273 1618.08,811.864 1619.75,811.487 1620.02,811.433 1621.96,811.03 1623.9,810.595 1625.84,810.125 1627.78,809.616 1628.02,809.549 \n",
       "  1629.71,809.129 1631.65,808.61 1633.59,808.047 1635,807.61 1635.53,807.455 1637.47,806.862 1639.41,806.218 1640.94,805.672 1641.34,805.529 1643.28,804.826 \n",
       "  1645.22,804.059 1646.01,803.733 1647.16,803.247 1649.1,802.379 1650.32,801.795 1651.04,801.434 1652.98,800.41 1653.97,799.856 1654.91,799.274 1656.85,798.013 \n",
       "  1656.99,797.918 1658.79,796.531 1659.48,795.979 1660.73,794.738 1661.42,794.041 1662.67,792.349 1662.85,792.103 1663.81,790.164 1664.28,788.226 1664.28,786.287 \n",
       "  1663.81,784.349 1662.85,782.41 1662.67,782.164 1661.42,780.472 1660.73,779.774 1659.48,778.533 1658.79,777.982 1656.99,776.595 1656.85,776.5 1654.91,775.239 \n",
       "  1653.97,774.657 1652.98,774.103 1651.04,773.079 1650.32,772.718 1649.1,772.134 1647.16,771.266 1646.01,770.78 1645.22,770.454 1643.28,769.687 1641.34,768.984 \n",
       "  1640.94,768.841 1639.41,768.295 1637.47,767.65 1635.53,767.058 1635,766.903 1633.59,766.466 1631.65,765.903 1629.71,765.384 1628.02,764.964 1627.78,764.897 \n",
       "  1625.84,764.388 1623.9,763.917 1621.96,763.483 1620.02,763.08 1619.75,763.026 1618.08,762.649 1616.14,762.24 1614.21,761.861 1612.27,761.509 1610.33,761.182 \n",
       "  1609.74,761.087 1608.39,760.834 1606.45,760.491 1604.51,760.173 1602.58,759.876 1600.64,759.6 1598.7,759.344 1597.13,759.149 1596.76,759.094 1594.82,758.816 \n",
       "  1592.88,758.557 1590.94,758.316 1589.01,758.092 1587.07,757.882 1585.13,757.687 1583.19,757.506 1581.25,757.337 1579.7,757.21 1579.31,757.171 1577.38,756.985 \n",
       "  1575.44,756.811 1573.5,756.65 1571.56,756.501 1569.62,756.364 1567.68,756.236 1565.74,756.119 1563.81,756.012 \n",
       "  \"/>\n",
       "</svg>\n"
      ]
     },
     "execution_count": 13,
     "metadata": {},
     "output_type": "execute_result"
    }
   ],
   "source": [
    "plot(gaussfield)"
   ]
  },
  {
   "cell_type": "markdown",
   "metadata": {},
   "source": [
    "Set up the integrator here"
   ]
  },
  {
   "cell_type": "code",
   "execution_count": 14,
   "metadata": {},
   "outputs": [
    {
     "name": "stdout",
     "output_type": "stream",
     "text": [
      "  9.301802 seconds (19.67 M allocations: 3.559 GiB, 8.20% gc time)\n"
     ]
    },
    {
     "data": {
      "text/plain": [
       "Order-3 IF-HERK integrator with\n",
       "   State of type Nodes{Dual,504,208,Float64,Array{Float64,2}}\n",
       "   Force of type VectorData{66,Float64,Array{Float64,1}}\n",
       "   Time step size 0.005\n"
      ]
     },
     "execution_count": 14,
     "metadata": {},
     "output_type": "execute_result"
    }
   ],
   "source": [
    "plan_intfact(t,u) = CartesianGrids.plan_intfact(t,u,sys)\n",
    "plan_constraints(u,t) = ConstrainedSystems.plan_constraints(u,t,sys)\n",
    "r₁(u,t) = ConstrainedSystems.r₁(u,t,sys) + curl(pulse(t))\n",
    "r₂(u,t) = ConstrainedSystems.r₂(u,t,sys)\n",
    "\n",
    "\n",
    "@time solver = IFHERK(w₀,f,timestep(sys),plan_intfact,plan_constraints,(r₁,r₂),rk=ConstrainedSystems.RK31)"
   ]
  },
  {
   "cell_type": "markdown",
   "metadata": {},
   "source": [
    "Initialize the state vector and the history vectors"
   ]
  },
  {
   "cell_type": "code",
   "execution_count": 55,
   "metadata": {},
   "outputs": [
    {
     "ename": "LoadError",
     "evalue": "MethodError: no method matching *(::ScalarData{66,Float64,SubArray{Float64,1,Array{Float64,1},Tuple{UnitRange{Int64}},true}}, ::ScalarData{66,Float64,SubArray{Float64,1,Array{Float64,1},Tuple{UnitRange{Int64}},true}})\nClosest candidates are:\n  *(::Any, ::Any, !Matched::Any, !Matched::Any...) at operators.jl:538\n  *(!Matched::PyCall.PyObject, ::Any) at /home/sinan/.julia/packages/PyCall/BcTLp/src/pyoperators.jl:13\n  *(!Matched::ConstrainedSystems.IFOperator, ::Any) at /home/sinan/.julia/packages/ConstrainedSystems/pgefJ/src/timemarching/ifherk.jl:166\n  ...",
     "output_type": "error",
     "traceback": [
      "MethodError: no method matching *(::ScalarData{66,Float64,SubArray{Float64,1,Array{Float64,1},Tuple{UnitRange{Int64}},true}}, ::ScalarData{66,Float64,SubArray{Float64,1,Array{Float64,1},Tuple{UnitRange{Int64}},true}})\nClosest candidates are:\n  *(::Any, ::Any, !Matched::Any, !Matched::Any...) at operators.jl:538\n  *(!Matched::PyCall.PyObject, ::Any) at /home/sinan/.julia/packages/PyCall/BcTLp/src/pyoperators.jl:13\n  *(!Matched::ConstrainedSystems.IFOperator, ::Any) at /home/sinan/.julia/packages/ConstrainedSystems/pgefJ/src/timemarching/ifherk.jl:166\n  ...",
      "",
      "Stacktrace:",
      " [1] pressurejump(::VectorData{66,Float64,Array{Float64,1}}, ::Plate{66,RigidBodyTools.OpenBody}, ::NavierStokes{504,208,66,true}) at /home/sinan/.julia/packages/ViscousFlow/bXeta/src/navierstokes/fields.jl:24",
      " [2] top-level scope at In[55]:2",
      " [3] include_string(::Function, ::Module, ::String, ::String) at ./loading.jl:1091",
      " [4] execute_code(::String, ::String) at /home/sinan/.julia/packages/IJulia/a1SNk/src/execute_request.jl:27",
      " [5] execute_request(::ZMQ.Socket, ::IJulia.Msg) at /home/sinan/.julia/packages/IJulia/a1SNk/src/execute_request.jl:86",
      " [6] #invokelatest#1 at ./essentials.jl:710 [inlined]",
      " [7] invokelatest at ./essentials.jl:709 [inlined]",
      " [8] eventloop(::ZMQ.Socket) at /home/sinan/.julia/packages/IJulia/a1SNk/src/eventloop.jl:8",
      " [9] (::IJulia.var\"#15#18\")() at ./task.jl:356"
     ]
    }
   ],
   "source": [
    "typeof(sys)\n",
    "fields::pressurejump(f,body,sys)"
   ]
  },
  {
   "cell_type": "code",
   "execution_count": 46,
   "metadata": {},
   "outputs": [
    {
     "ename": "LoadError",
     "evalue": "MethodError: no method matching *(::ScalarData{66,Float64,SubArray{Float64,1,Array{Float64,1},Tuple{UnitRange{Int64}},true}}, ::ScalarData{66,Float64,SubArray{Float64,1,Array{Float64,1},Tuple{UnitRange{Int64}},true}})\nClosest candidates are:\n  *(::Any, ::Any, !Matched::Any, !Matched::Any...) at operators.jl:538\n  *(!Matched::PyCall.PyObject, ::Any) at /home/sinan/.julia/packages/PyCall/BcTLp/src/pyoperators.jl:13\n  *(!Matched::ConstrainedSystems.IFOperator, ::Any) at /home/sinan/.julia/packages/ConstrainedSystems/pgefJ/src/timemarching/ifherk.jl:166\n  ...",
     "output_type": "error",
     "traceback": [
      "MethodError: no method matching *(::ScalarData{66,Float64,SubArray{Float64,1,Array{Float64,1},Tuple{UnitRange{Int64}},true}}, ::ScalarData{66,Float64,SubArray{Float64,1,Array{Float64,1},Tuple{UnitRange{Int64}},true}})\nClosest candidates are:\n  *(::Any, ::Any, !Matched::Any, !Matched::Any...) at operators.jl:538\n  *(!Matched::PyCall.PyObject, ::Any) at /home/sinan/.julia/packages/PyCall/BcTLp/src/pyoperators.jl:13\n  *(!Matched::ConstrainedSystems.IFOperator, ::Any) at /home/sinan/.julia/packages/ConstrainedSystems/pgefJ/src/timemarching/ifherk.jl:166\n  ...",
      "",
      "Stacktrace:",
      " [1] pressurejump(::VectorData{66,Float64,Array{Float64,1}}, ::Plate{66,RigidBodyTools.OpenBody}, ::NavierStokes{504,208,66,true}) at /home/sinan/.julia/packages/ViscousFlow/bXeta/src/navierstokes/fields.jl:24",
      " [2] top-level scope at In[46]:12",
      " [3] include_string(::Function, ::Module, ::String, ::String) at ./loading.jl:1091",
      " [4] execute_code(::String, ::String) at /home/sinan/.julia/packages/IJulia/a1SNk/src/execute_request.jl:27",
      " [5] execute_request(::ZMQ.Socket, ::IJulia.Msg) at /home/sinan/.julia/packages/IJulia/a1SNk/src/execute_request.jl:86",
      " [6] #invokelatest#1 at ./essentials.jl:710 [inlined]",
      " [7] invokelatest at ./essentials.jl:709 [inlined]",
      " [8] eventloop(::ZMQ.Socket) at /home/sinan/.julia/packages/IJulia/a1SNk/src/eventloop.jl:8",
      " [9] (::IJulia.var\"#15#18\")() at ./task.jl:356"
     ]
    }
   ],
   "source": [
    "t = 0.0\n",
    "u = zero(w₀)\n",
    "# Rate at which to store field data\n",
    "tsample = 0.2\n",
    "\n",
    "# Field data storage plan\n",
    "S = StorePlan(tsample,\"state\"=>u,\"time\"=>t)\n",
    "data_history = initialize_storage(S)\n",
    "\n",
    "# Force data storage plan, stored every time step\n",
    "\n",
    "F = StorePlan(timestep(sys),\"fx\"=>sum(f.u),\"fy\"=>sum(f.v),\"pressure\"=>pressurejump(f,body,sys),\"time\"=>t)\n",
    "#F = StorePlan(timestep(sys),\"fx\"=>sum(f.u),\"fy\"=>sum(f.v),\"pressure\"=>pressurejump(f,body,sys),\"time\"=>t)\n",
    "force_history = initialize_storage(F)\n",
    "\n",
    "nothing"
   ]
  },
  {
   "cell_type": "markdown",
   "metadata": {},
   "source": [
    "### Advance the system!"
   ]
  },
  {
   "cell_type": "markdown",
   "metadata": {},
   "source": [
    "Set the length of time to integrate over."
   ]
  },
  {
   "cell_type": "code",
   "execution_count": 16,
   "metadata": {},
   "outputs": [],
   "source": [
    "tsim = 1.0;"
   ]
  },
  {
   "cell_type": "code",
   "execution_count": 17,
   "metadata": {},
   "outputs": [
    {
     "ename": "LoadError",
     "evalue": "MethodError: no method matching *(::ScalarData{66,Float64,SubArray{Float64,1,Array{Float64,1},Tuple{UnitRange{Int64}},true}}, ::ScalarData{66,Float64,SubArray{Float64,1,Array{Float64,1},Tuple{UnitRange{Int64}},true}})\nClosest candidates are:\n  *(::Any, ::Any, !Matched::Any, !Matched::Any...) at operators.jl:538\n  *(!Matched::PyCall.PyObject, ::Any) at /home/sinan/.julia/packages/PyCall/BcTLp/src/pyoperators.jl:13\n  *(!Matched::ConstrainedSystems.IFOperator, ::Any) at /home/sinan/.julia/packages/ConstrainedSystems/pgefJ/src/timemarching/ifherk.jl:166\n  ...",
     "output_type": "error",
     "traceback": [
      "MethodError: no method matching *(::ScalarData{66,Float64,SubArray{Float64,1,Array{Float64,1},Tuple{UnitRange{Int64}},true}}, ::ScalarData{66,Float64,SubArray{Float64,1,Array{Float64,1},Tuple{UnitRange{Int64}},true}})\nClosest candidates are:\n  *(::Any, ::Any, !Matched::Any, !Matched::Any...) at operators.jl:538\n  *(!Matched::PyCall.PyObject, ::Any) at /home/sinan/.julia/packages/PyCall/BcTLp/src/pyoperators.jl:13\n  *(!Matched::ConstrainedSystems.IFOperator, ::Any) at /home/sinan/.julia/packages/ConstrainedSystems/pgefJ/src/timemarching/ifherk.jl:166\n  ...",
      "",
      "Stacktrace:",
      " [1] pressurejump(::VectorData{66,Float64,Array{Float64,1}}, ::Plate{66,RigidBodyTools.OpenBody}, ::NavierStokes{504,208,66,true}) at /home/sinan/.julia/packages/ViscousFlow/bXeta/src/navierstokes/fields.jl:24",
      " [2] top-level scope at ./In[17]:7",
      " [3] include_string(::Function, ::Module, ::String, ::String) at ./loading.jl:1091",
      " [4] execute_code(::String, ::String) at /home/sinan/.julia/packages/IJulia/a1SNk/src/execute_request.jl:27",
      " [5] execute_request(::ZMQ.Socket, ::IJulia.Msg) at /home/sinan/.julia/packages/IJulia/a1SNk/src/execute_request.jl:86",
      " [6] #invokelatest#1 at ./essentials.jl:710 [inlined]",
      " [7] invokelatest at ./essentials.jl:709 [inlined]",
      " [8] eventloop(::ZMQ.Socket) at /home/sinan/.julia/packages/IJulia/a1SNk/src/eventloop.jl:8",
      " [9] (::IJulia.var\"#15#18\")() at ./task.jl:356"
     ]
    }
   ],
   "source": [
    "for ti in timerange(tsim,sys)\n",
    "    global t, u, f = solver(t,u)\n",
    "    \n",
    "    fds = force(f,sys) \n",
    "    \n",
    "    store_data!(data_history,t,S,\"state\" => u, \"time\" => t)\n",
    "    store_data!(force_history,t,F,\"fx\" => sum(fds.u),\"fy\" => sum(fds.v),\"pressure\" => pressurejump(fds,body,sys),\"time\" => t)\n",
    "    \n",
    " end\n",
    "println(\"solution completed through time t = \",t)"
   ]
  },
  {
   "cell_type": "code",
   "execution_count": 18,
   "metadata": {},
   "outputs": [
    {
     "ename": "LoadError",
     "evalue": "UndefVarError: force_history not defined",
     "output_type": "error",
     "traceback": [
      "UndefVarError: force_history not defined",
      "",
      "Stacktrace:",
      " [1] top-level scope at In[18]:1",
      " [2] include_string(::Function, ::Module, ::String, ::String) at ./loading.jl:1091",
      " [3] execute_code(::String, ::String) at /home/sinan/.julia/packages/IJulia/a1SNk/src/execute_request.jl:27",
      " [4] execute_request(::ZMQ.Socket, ::IJulia.Msg) at /home/sinan/.julia/packages/IJulia/a1SNk/src/execute_request.jl:86",
      " [5] #invokelatest#1 at ./essentials.jl:710 [inlined]",
      " [6] invokelatest at ./essentials.jl:709 [inlined]",
      " [7] eventloop(::ZMQ.Socket) at /home/sinan/.julia/packages/IJulia/a1SNk/src/eventloop.jl:8",
      " [8] (::IJulia.var\"#15#18\")() at ./task.jl:356"
     ]
    }
   ],
   "source": [
    "force_history_amp5 = deepcopy(force_history)"
   ]
  },
  {
   "cell_type": "markdown",
   "metadata": {},
   "source": [
    "#### Plotting"
   ]
  },
  {
   "cell_type": "markdown",
   "metadata": {},
   "source": [
    "Basic plot"
   ]
  },
  {
   "cell_type": "code",
   "execution_count": 19,
   "metadata": {},
   "outputs": [
    {
     "ename": "LoadError",
     "evalue": "BoundsError: attempt to access 0-element Array{Nodes{Dual,504,208,Float64,Array{Float64,2}},1} at index [1]",
     "output_type": "error",
     "traceback": [
      "BoundsError: attempt to access 0-element Array{Nodes{Dual,504,208,Float64,Array{Float64,2}},1} at index [1]",
      "",
      "Stacktrace:",
      " [1] getindex at ./array.jl:809 [inlined]",
      " [2] getindex(::History{Nodes{Dual,504,208,Float64,Array{Float64,2}},RegularHistory}, ::Int64) at /home/sinan/.julia/packages/GridUtilities/8k4zL/src/histories.jl:51",
      " [3] top-level scope at In[19]:1",
      " [4] include_string(::Function, ::Module, ::String, ::String) at ./loading.jl:1091",
      " [5] execute_code(::String, ::String) at /home/sinan/.julia/packages/IJulia/a1SNk/src/execute_request.jl:27",
      " [6] execute_request(::ZMQ.Socket, ::IJulia.Msg) at /home/sinan/.julia/packages/IJulia/a1SNk/src/execute_request.jl:86",
      " [7] #invokelatest#1 at ./essentials.jl:710 [inlined]",
      " [8] invokelatest at ./essentials.jl:709 [inlined]",
      " [9] eventloop(::ZMQ.Socket) at /home/sinan/.julia/packages/IJulia/a1SNk/src/eventloop.jl:8",
      " [10] (::IJulia.var\"#15#18\")() at ./task.jl:356"
     ]
    }
   ],
   "source": [
    "plot(vorticity(data_history[\"state\"][1],sys),sys,levels=range(-15,15,length=30), color = :RdBu,clim=(-15,15))\n",
    "plot!(body)"
   ]
  },
  {
   "cell_type": "code",
   "execution_count": 20,
   "metadata": {},
   "outputs": [
    {
     "ename": "LoadError",
     "evalue": "BoundsError: attempt to access 0-element Array{Float64,1} at index [1]",
     "output_type": "error",
     "traceback": [
      "BoundsError: attempt to access 0-element Array{Float64,1} at index [1]",
      "",
      "Stacktrace:",
      " [1] getindex at ./array.jl:809 [inlined]",
      " [2] getindex(::History{Float64,RegularHistory}, ::Int64) at /home/sinan/.julia/packages/GridUtilities/8k4zL/src/histories.jl:51",
      " [3] top-level scope at In[20]:1",
      " [4] include_string(::Function, ::Module, ::String, ::String) at ./loading.jl:1091",
      " [5] execute_code(::String, ::String) at /home/sinan/.julia/packages/IJulia/a1SNk/src/execute_request.jl:27",
      " [6] execute_request(::ZMQ.Socket, ::IJulia.Msg) at /home/sinan/.julia/packages/IJulia/a1SNk/src/execute_request.jl:86",
      " [7] #invokelatest#1 at ./essentials.jl:710 [inlined]",
      " [8] invokelatest at ./essentials.jl:709 [inlined]",
      " [9] eventloop(::ZMQ.Socket) at /home/sinan/.julia/packages/IJulia/a1SNk/src/eventloop.jl:8",
      " [10] (::IJulia.var\"#15#18\")() at ./task.jl:356"
     ]
    }
   ],
   "source": [
    "data_history[\"time\"][1]"
   ]
  },
  {
   "cell_type": "markdown",
   "metadata": {},
   "source": [
    "Streamlines"
   ]
  },
  {
   "cell_type": "code",
   "execution_count": 21,
   "metadata": {},
   "outputs": [
    {
     "ename": "LoadError",
     "evalue": "BoundsError: attempt to access 0-element Array{Nodes{Dual,504,208,Float64,Array{Float64,2}},1} at index [0]",
     "output_type": "error",
     "traceback": [
      "BoundsError: attempt to access 0-element Array{Nodes{Dual,504,208,Float64,Array{Float64,2}},1} at index [0]",
      "",
      "Stacktrace:",
      " [1] getindex at ./array.jl:809 [inlined]",
      " [2] getindex(::History{Nodes{Dual,504,208,Float64,Array{Float64,2}},RegularHistory}, ::Int64) at /home/sinan/.julia/packages/GridUtilities/8k4zL/src/histories.jl:51",
      " [3] top-level scope at In[21]:1",
      " [4] include_string(::Function, ::Module, ::String, ::String) at ./loading.jl:1091",
      " [5] execute_code(::String, ::String) at /home/sinan/.julia/packages/IJulia/a1SNk/src/execute_request.jl:27",
      " [6] execute_request(::ZMQ.Socket, ::IJulia.Msg) at /home/sinan/.julia/packages/IJulia/a1SNk/src/execute_request.jl:86",
      " [7] #invokelatest#1 at ./essentials.jl:710 [inlined]",
      " [8] invokelatest at ./essentials.jl:709 [inlined]",
      " [9] eventloop(::ZMQ.Socket) at /home/sinan/.julia/packages/IJulia/a1SNk/src/eventloop.jl:8",
      " [10] (::IJulia.var\"#15#18\")() at ./task.jl:356"
     ]
    }
   ],
   "source": [
    "plot(streamfunction(data_history[\"state\"][end],sys),sys,levels=range(-1,1,length=31), color = :black,clim=(-0.25,0.25),xlim=(-1,3),ylim=(-1,1))\n",
    "plot!(body)"
   ]
  },
  {
   "cell_type": "markdown",
   "metadata": {},
   "source": [
    "Plot lift and drag coefficient"
   ]
  },
  {
   "cell_type": "code",
   "execution_count": 22,
   "metadata": {},
   "outputs": [
    {
     "ename": "LoadError",
     "evalue": "UndefVarError: force_history not defined",
     "output_type": "error",
     "traceback": [
      "UndefVarError: force_history not defined",
      "",
      "Stacktrace:",
      " [1] top-level scope at In[22]:2",
      " [2] include_string(::Function, ::Module, ::String, ::String) at ./loading.jl:1091",
      " [3] execute_code(::String, ::String) at /home/sinan/.julia/packages/IJulia/a1SNk/src/execute_request.jl:27",
      " [4] execute_request(::ZMQ.Socket, ::IJulia.Msg) at /home/sinan/.julia/packages/IJulia/a1SNk/src/execute_request.jl:86",
      " [5] #invokelatest#1 at ./essentials.jl:710 [inlined]",
      " [6] invokelatest at ./essentials.jl:709 [inlined]",
      " [7] eventloop(::ZMQ.Socket) at /home/sinan/.julia/packages/IJulia/a1SNk/src/eventloop.jl:8",
      " [8] (::IJulia.var\"#15#18\")() at ./task.jl:356"
     ]
    }
   ],
   "source": [
    "plt = plot(layout = (2,1), size = (600, 400))\n",
    "plot!(plt[1],force_history[\"time\"],2*force_history[\"fy\"],xlim=(0,6),ylim=(-4,4),xlabel=\"Convective time\",ylabel=\"\\$C_L\\$\",legend=false)\n",
    "plot!(plt[2],force_history[\"time\"],2*force_history[\"fx\"],xlim=(0,6),ylim=(-4,4),xlabel=\"Convective time\",ylabel=\"\\$C_D\\$\",legend=false)\n",
    "plt"
   ]
  },
  {
   "cell_type": "code",
   "execution_count": 23,
   "metadata": {},
   "outputs": [
    {
     "ename": "LoadError",
     "evalue": "UndefVarError: force_history not defined",
     "output_type": "error",
     "traceback": [
      "UndefVarError: force_history not defined",
      "",
      "Stacktrace:",
      " [1] top-level scope at In[23]:1",
      " [2] include_string(::Function, ::Module, ::String, ::String) at ./loading.jl:1091",
      " [3] execute_code(::String, ::String) at /home/sinan/.julia/packages/IJulia/a1SNk/src/execute_request.jl:27",
      " [4] execute_request(::ZMQ.Socket, ::IJulia.Msg) at /home/sinan/.julia/packages/IJulia/a1SNk/src/execute_request.jl:86",
      " [5] #invokelatest#1 at ./essentials.jl:710 [inlined]",
      " [6] invokelatest at ./essentials.jl:709 [inlined]",
      " [7] eventloop(::ZMQ.Socket) at /home/sinan/.julia/packages/IJulia/a1SNk/src/eventloop.jl:8",
      " [8] (::IJulia.var\"#15#18\")() at ./task.jl:356"
     ]
    }
   ],
   "source": [
    "plot(force_history[\"pressure\"][1])\n",
    "plot!(force_history[\"pressure\"][21])\n",
    "plot!(force_history[\"pressure\"][50])\n",
    "plot!(force_history[\"pressure\"][75])\n",
    "plot!(force_history[\"pressure\"][100])"
   ]
  },
  {
   "cell_type": "code",
   "execution_count": 24,
   "metadata": {},
   "outputs": [
    {
     "ename": "LoadError",
     "evalue": "UndefVarError: force_history not defined",
     "output_type": "error",
     "traceback": [
      "UndefVarError: force_history not defined",
      "",
      "Stacktrace:",
      " [1] top-level scope at In[24]:2",
      " [2] include_string(::Function, ::Module, ::String, ::String) at ./loading.jl:1091",
      " [3] execute_code(::String, ::String) at /home/sinan/.julia/packages/IJulia/a1SNk/src/execute_request.jl:27",
      " [4] execute_request(::ZMQ.Socket, ::IJulia.Msg) at /home/sinan/.julia/packages/IJulia/a1SNk/src/execute_request.jl:86",
      " [5] #invokelatest#1 at ./essentials.jl:710 [inlined]",
      " [6] invokelatest at ./essentials.jl:709 [inlined]",
      " [7] eventloop(::ZMQ.Socket) at /home/sinan/.julia/packages/IJulia/a1SNk/src/eventloop.jl:8",
      " [8] (::IJulia.var\"#15#18\")() at ./task.jl:356"
     ]
    }
   ],
   "source": [
    "plt = plot(layout = (2,1), size = (600, 400))\n",
    "plot!(plt[1],force_history[\"time\"],2*force_history[\"fy\"],xlim=(0,6),ylim=(0,4),xlabel=\"Convective time\",ylabel=\"\\$C_L\\$\",legend=false)\n",
    "plot!(plt[2],force_history[\"time\"],2*force_history[\"fx\"],xlim=(0,6),ylim=(0,4),xlabel=\"Convective time\",ylabel=\"\\$C_D\\$\",legend=false)\n",
    "plt"
   ]
  },
  {
   "cell_type": "code",
   "execution_count": 25,
   "metadata": {},
   "outputs": [
    {
     "ename": "LoadError",
     "evalue": "UndefVarError: force_history_amp5 not defined",
     "output_type": "error",
     "traceback": [
      "UndefVarError: force_history_amp5 not defined",
      "",
      "Stacktrace:",
      " [1] top-level scope at In[25]:1",
      " [2] include_string(::Function, ::Module, ::String, ::String) at ./loading.jl:1091",
      " [3] execute_code(::String, ::String) at /home/sinan/.julia/packages/IJulia/a1SNk/src/execute_request.jl:27",
      " [4] execute_request(::ZMQ.Socket, ::IJulia.Msg) at /home/sinan/.julia/packages/IJulia/a1SNk/src/execute_request.jl:86",
      " [5] #invokelatest#1 at ./essentials.jl:710 [inlined]",
      " [6] invokelatest at ./essentials.jl:709 [inlined]",
      " [7] eventloop(::ZMQ.Socket) at /home/sinan/.julia/packages/IJulia/a1SNk/src/eventloop.jl:8",
      " [8] (::IJulia.var\"#15#18\")() at ./task.jl:356"
     ]
    }
   ],
   "source": [
    "plot(force_history_amp5[\"time\"],2*force_history_amp5[\"fy\"],xlim=(0,6),ylim=(-4,4),xlabel=\"Convective time\",ylabel=\"\\$C_L\\$\",label=\"A=5\")\n",
    "plot!(force_history_amp10[\"time\"],2*force_history_amp10[\"fy\"],label=\"A=10\")"
   ]
  },
  {
   "cell_type": "code",
   "execution_count": null,
   "metadata": {},
   "outputs": [],
   "source": []
  }
 ],
 "metadata": {
  "kernelspec": {
   "display_name": "JuliaPro_v1.5.3-1 1.5.3",
   "language": "julia",
   "name": "juliapro_v1.5.3-1-1.5"
  },
  "language_info": {
   "file_extension": ".jl",
   "mimetype": "application/julia",
   "name": "julia",
   "version": "1.5.3"
  }
 },
 "nbformat": 4,
 "nbformat_minor": 2
}
