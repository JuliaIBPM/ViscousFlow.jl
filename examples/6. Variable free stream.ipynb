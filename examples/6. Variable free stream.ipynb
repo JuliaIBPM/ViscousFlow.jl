{
 "cells": [
  {
   "cell_type": "markdown",
   "metadata": {},
   "source": [
    "# 6. Variable free stream\n",
    "In this notebook we will simulate the flow with a time-varying free stream past a stationary body. To demonstrate this, we will solve for oscillatory flow past a rectangular object, in which the $x$ component of the free stream is\n",
    "\n",
    "$$U_\\infty(t) = A \\sin(\\Omega t)$$"
   ]
  },
  {
   "cell_type": "code",
   "execution_count": null,
   "metadata": {},
   "outputs": [],
   "source": [
    "using ViscousFlow"
   ]
  },
  {
   "cell_type": "code",
   "execution_count": null,
   "metadata": {
    "scrolled": true
   },
   "outputs": [],
   "source": [
    "using Plots"
   ]
  },
  {
   "cell_type": "markdown",
   "metadata": {},
   "source": [
    "### Problem specification\n",
    "We will set the Reynolds number to 200"
   ]
  },
  {
   "cell_type": "code",
   "execution_count": null,
   "metadata": {},
   "outputs": [],
   "source": [
    "Re = 200 # Reynolds number"
   ]
  },
  {
   "cell_type": "markdown",
   "metadata": {},
   "source": [
    "In order to set the time-varying free stream, we will use the `OscillationX` function, which generates a set of oscillatory kinematics:"
   ]
  },
  {
   "cell_type": "code",
   "execution_count": null,
   "metadata": {},
   "outputs": [],
   "source": [
    "?OscillationX"
   ]
  },
  {
   "cell_type": "markdown",
   "metadata": {},
   "source": [
    "Since we are using this function for the velocity (the first derivative), then"
   ]
  },
  {
   "cell_type": "code",
   "execution_count": null,
   "metadata": {},
   "outputs": [],
   "source": [
    "Ux = 0.0\n",
    "Ω  = 1.0\n",
    "Ax = 1.0\n",
    "fs = OscillationX(Ux,Ω,Ax,π/2)"
   ]
  },
  {
   "cell_type": "markdown",
   "metadata": {},
   "source": [
    "It is useful to verify that this provides the expected behavior by plotting it:"
   ]
  },
  {
   "cell_type": "code",
   "execution_count": null,
   "metadata": {},
   "outputs": [],
   "source": [
    "plot(fs)"
   ]
  },
  {
   "cell_type": "markdown",
   "metadata": {},
   "source": [
    "Now let us carry on with the other usual steps:"
   ]
  },
  {
   "cell_type": "markdown",
   "metadata": {},
   "source": [
    "### Discretize"
   ]
  },
  {
   "cell_type": "code",
   "execution_count": null,
   "metadata": {},
   "outputs": [],
   "source": [
    "xlim = (-2.0,2.0)\n",
    "ylim = (-1.5,1.5)\n",
    "\n",
    "Δx, Δt = setstepsizes(Re,gridRe=3.0)"
   ]
  },
  {
   "cell_type": "markdown",
   "metadata": {},
   "source": [
    "### Set up bodies\n",
    "Here, we will set up a rectangle in the center of the domain"
   ]
  },
  {
   "cell_type": "code",
   "execution_count": null,
   "metadata": {},
   "outputs": [],
   "source": [
    "body = Rectangle(0.25,0.5,1.5Δx)\n",
    "T = RigidTransform((0.0,0.0),0.0)\n",
    "T(body)"
   ]
  },
  {
   "cell_type": "code",
   "execution_count": null,
   "metadata": {},
   "outputs": [],
   "source": [
    "plot(body,xlim=xlim,ylim=ylim)"
   ]
  },
  {
   "cell_type": "markdown",
   "metadata": {},
   "source": [
    "### Construct the system structure\n",
    "This step is like the previous notebook, but now we also provide the body and the freestream:"
   ]
  },
  {
   "cell_type": "code",
   "execution_count": null,
   "metadata": {},
   "outputs": [],
   "source": [
    "sys = NavierStokes(Re,Δx,xlim,ylim,Δt,body,freestream = fs)"
   ]
  },
  {
   "cell_type": "markdown",
   "metadata": {},
   "source": [
    "### Initialize\n",
    "Now, we initialize with zero vorticity"
   ]
  },
  {
   "cell_type": "code",
   "execution_count": null,
   "metadata": {},
   "outputs": [],
   "source": [
    "u0 = newstate(sys)"
   ]
  },
  {
   "cell_type": "markdown",
   "metadata": {},
   "source": [
    "and create the integrator"
   ]
  },
  {
   "cell_type": "code",
   "execution_count": null,
   "metadata": {},
   "outputs": [],
   "source": [
    "tspan = (0.0,100.0)\n",
    "integrator = init(u0,tspan,sys)"
   ]
  },
  {
   "cell_type": "markdown",
   "metadata": {},
   "source": [
    "### Solve\n",
    "Now we are ready to solve the problem. Let's advance the solution to $t = 10$. This should take a minute or two, depending on the machine."
   ]
  },
  {
   "cell_type": "code",
   "execution_count": null,
   "metadata": {},
   "outputs": [],
   "source": [
    "@time step!(integrator,10.0)\n",
    "sol = integrator.sol;"
   ]
  },
  {
   "cell_type": "markdown",
   "metadata": {},
   "source": [
    "### Examine\n",
    "Let's look at the flow field at the end of this interval"
   ]
  },
  {
   "cell_type": "code",
   "execution_count": null,
   "metadata": {},
   "outputs": [],
   "source": [
    "plot(\n",
    "plot(vorticity(integrator),sys,title=\"Vorticity\",clim=(-10,10),levels=range(-10,10,length=30), color = :RdBu,ylim=ylim),\n",
    "plot(streamfunction(integrator),sys,title=\"Streamlines\",ylim=ylim,color = :Black),\n",
    "    size=(700,300)\n",
    "    )"
   ]
  },
  {
   "cell_type": "markdown",
   "metadata": {},
   "source": [
    "Now let's make a movie"
   ]
  },
  {
   "cell_type": "code",
   "execution_count": null,
   "metadata": {},
   "outputs": [],
   "source": [
    "@gif for (u,t) in zip(sol.u,sol.t)\n",
    "    #plot(streamfunction(u,sys,t),sys, color = :Black)\n",
    "    plot(vorticity(u,sys,t),sys,clim=(-10,10),levels=range(-10,10,length=30), color = :RdBu)\n",
    "    end every 10"
   ]
  },
  {
   "cell_type": "markdown",
   "metadata": {},
   "source": [
    "#### Compute the force history\n",
    "To do this, we supply the solution history `sol`, the system `sys`, and the index of the body (1)."
   ]
  },
  {
   "cell_type": "code",
   "execution_count": null,
   "metadata": {},
   "outputs": [],
   "source": [
    "fx, fy = force(sol,sys,1);"
   ]
  },
  {
   "cell_type": "code",
   "execution_count": null,
   "metadata": {},
   "outputs": [],
   "source": [
    "plot(\n",
    "plot(sol.t,2*fx,xlim=(0,Inf),ylim=(-6,6),xlabel=\"Convective time\",ylabel=\"\\$C_D\\$\",legend=:false),\n",
    "plot(sol.t,2*fy,xlim=(0,Inf),ylim=(-6,6),xlabel=\"Convective time\",ylabel=\"\\$C_L\\$\",legend=:false),\n",
    "    size=(800,350)\n",
    ")"
   ]
  },
  {
   "cell_type": "markdown",
   "metadata": {},
   "source": [
    "The mean drag and lift coefficients are"
   ]
  },
  {
   "cell_type": "code",
   "execution_count": null,
   "metadata": {},
   "outputs": [],
   "source": [
    "meanCD = 2*sum(fx)/length(fx)"
   ]
  },
  {
   "cell_type": "code",
   "execution_count": null,
   "metadata": {},
   "outputs": [],
   "source": [
    "meanCL = 2*sum(fy)/length(fy)"
   ]
  },
  {
   "cell_type": "code",
   "execution_count": null,
   "metadata": {},
   "outputs": [],
   "source": []
  }
 ],
 "metadata": {
  "@webio": {
   "lastCommId": null,
   "lastKernelId": null
  },
  "kernelspec": {
   "display_name": "Julia 1.4.2",
   "language": "julia",
   "name": "julia-1.4"
  },
  "language_info": {
   "file_extension": ".jl",
   "mimetype": "application/julia",
   "name": "julia",
   "version": "1.4.2"
  }
 },
 "nbformat": 4,
 "nbformat_minor": 2
}
