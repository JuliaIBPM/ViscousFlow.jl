{
 "cells": [
  {
   "cell_type": "markdown",
   "metadata": {},
   "source": [
    "# 2. Basic flow with a stationary body\n",
    "In this notebook we will simulate the flow past a stationary body."
   ]
  },
  {
   "cell_type": "code",
   "execution_count": null,
   "metadata": {},
   "outputs": [],
   "source": [
    "using ViscousFlow"
   ]
  },
  {
   "cell_type": "code",
   "execution_count": null,
   "metadata": {
    "scrolled": true
   },
   "outputs": [],
   "source": [
    "using Plots"
   ]
  },
  {
   "cell_type": "markdown",
   "metadata": {},
   "source": [
    "### The basic steps\n",
    "From the previous notebook, we add one additional step:\n",
    "* **Specify the problem**: Set the Reynolds number and free stream\n",
    "* **Discretize**: Set up a solution domain, grid cell size, time step size\n",
    "* ***Set up bodies***: *Create the body or bodies and specify their motions, if any*\n",
    "* **Construct the system structure**: Create the operators that will be used to perform the simulation\n",
    "* **Initialize**: Set the initial flow field and initialize the integrator\n",
    "* **Solve**: Solve the flow field\n",
    "* **Examine**: Examine the results\n",
    "\n",
    "We will go through all of these here. For the examples we will carry out in this notebook, the first three steps need only be carried out once."
   ]
  },
  {
   "cell_type": "markdown",
   "metadata": {},
   "source": [
    "### Problem specification\n",
    "Set the Reynolds number and free stream"
   ]
  },
  {
   "cell_type": "code",
   "execution_count": null,
   "metadata": {},
   "outputs": [],
   "source": [
    "Re = 200 # Reynolds number\n",
    "U = 1.0 # Free stream velocity\n",
    "U∞ = (U,0.0);"
   ]
  },
  {
   "cell_type": "markdown",
   "metadata": {},
   "source": [
    "### Discretize"
   ]
  },
  {
   "cell_type": "code",
   "execution_count": null,
   "metadata": {},
   "outputs": [],
   "source": [
    "xlim = (-1.0,3.0)\n",
    "ylim = (-1.5,1.5)\n",
    "\n",
    "Δx, Δt = setstepsizes(Re,gridRe=4.0)"
   ]
  },
  {
   "cell_type": "markdown",
   "metadata": {},
   "source": [
    "### Set up bodies\n",
    "Here, we will set up a rectangle at 45 degrees angle of attack"
   ]
  },
  {
   "cell_type": "code",
   "execution_count": null,
   "metadata": {},
   "outputs": [],
   "source": [
    "body = Rectangle(0.5,0.25,1.5Δx)"
   ]
  },
  {
   "cell_type": "markdown",
   "metadata": {},
   "source": [
    "Transform the body to a specified initial position and orientation."
   ]
  },
  {
   "cell_type": "code",
   "execution_count": null,
   "metadata": {},
   "outputs": [],
   "source": [
    "cent = (0.0,0.0) # center of body\n",
    "α = 45π/180 # angle\n",
    "T = RigidTransform(cent,α)\n",
    "T(body) # transform the body to the current configuration"
   ]
  },
  {
   "cell_type": "code",
   "execution_count": null,
   "metadata": {},
   "outputs": [],
   "source": [
    "plot(body,xlim=xlim,ylim=ylim)"
   ]
  },
  {
   "cell_type": "markdown",
   "metadata": {},
   "source": [
    "### Construct the system structure\n",
    "This step is like the previous notebook, but now we also provide the body and the freestream:"
   ]
  },
  {
   "cell_type": "code",
   "execution_count": null,
   "metadata": {},
   "outputs": [],
   "source": [
    "sys = NavierStokes(Re,Δx,xlim,ylim,Δt,body,freestream = U∞)"
   ]
  },
  {
   "cell_type": "markdown",
   "metadata": {},
   "source": [
    "### Initialize\n",
    "Now, we initialize with zero vorticity"
   ]
  },
  {
   "cell_type": "code",
   "execution_count": null,
   "metadata": {},
   "outputs": [],
   "source": [
    "u0 = newstate(sys)"
   ]
  },
  {
   "cell_type": "markdown",
   "metadata": {},
   "source": [
    "and create the integrator"
   ]
  },
  {
   "cell_type": "code",
   "execution_count": null,
   "metadata": {},
   "outputs": [],
   "source": [
    "tspan = (0.0,1.0)\n",
    "integrator = init(u0,tspan,sys)"
   ]
  },
  {
   "cell_type": "markdown",
   "metadata": {},
   "source": [
    "### Solve\n",
    "Now we are ready to solve the problem. Let's advance the solution to $t = 10$. This should take a minute or two, depending on the machine."
   ]
  },
  {
   "cell_type": "code",
   "execution_count": null,
   "metadata": {},
   "outputs": [],
   "source": [
    "@time step!(integrator,10.0)"
   ]
  },
  {
   "cell_type": "markdown",
   "metadata": {},
   "source": [
    "### Examine\n",
    "Let's look at the flow field at the end of this interval"
   ]
  },
  {
   "cell_type": "code",
   "execution_count": null,
   "metadata": {},
   "outputs": [],
   "source": [
    "plot(\n",
    "plot(vorticity(integrator),sys,title=\"Vorticity\",clim=(-10,10),levels=range(-10,10,length=30), color = :RdBu,ylim=ylim),\n",
    "plot(streamfunction(integrator),sys,title=\"Streamlines\",ylim=ylim,color = :Black),\n",
    "    size=(700,300)\n",
    "    )"
   ]
  },
  {
   "cell_type": "markdown",
   "metadata": {},
   "source": [
    "Now let's make a movie"
   ]
  },
  {
   "cell_type": "code",
   "execution_count": null,
   "metadata": {},
   "outputs": [],
   "source": [
    "sol = integrator.sol;"
   ]
  },
  {
   "cell_type": "code",
   "execution_count": null,
   "metadata": {},
   "outputs": [],
   "source": [
    "@gif for (u,t) in zip(sol.u,sol.t)\n",
    "    plot(vorticity(u,sys,t),sys,clim=(-10,10),levels=range(-10,10,length=30), color = :RdBu)\n",
    "end every 5"
   ]
  },
  {
   "cell_type": "markdown",
   "metadata": {},
   "source": [
    "#### Compute the force history\n",
    "To do this, we supply the solution history `sol`, the system `sys`, and the index of the body (1)."
   ]
  },
  {
   "cell_type": "code",
   "execution_count": null,
   "metadata": {},
   "outputs": [],
   "source": [
    "fx, fy = force(sol,sys,1);"
   ]
  },
  {
   "cell_type": "code",
   "execution_count": null,
   "metadata": {},
   "outputs": [],
   "source": [
    "plot(\n",
    "plot(sol.t,2*fx,xlim=(0,Inf),ylim=(0,6),xlabel=\"Convective time\",ylabel=\"\\$C_D\\$\",legend=:false),\n",
    "plot(sol.t,2*fy,xlim=(0,Inf),ylim=(-6,6),xlabel=\"Convective time\",ylabel=\"\\$C_L\\$\",legend=:false),\n",
    "    size=(800,350)\n",
    ")"
   ]
  },
  {
   "cell_type": "markdown",
   "metadata": {},
   "source": [
    "The mean drag and lift coefficients are"
   ]
  },
  {
   "cell_type": "code",
   "execution_count": null,
   "metadata": {},
   "outputs": [],
   "source": [
    "meanCD = 2*sum(fx)/length(fx)"
   ]
  },
  {
   "cell_type": "code",
   "execution_count": null,
   "metadata": {},
   "outputs": [],
   "source": [
    "meanCL = 2*sum(fy)/length(fy)"
   ]
  },
  {
   "cell_type": "code",
   "execution_count": null,
   "metadata": {},
   "outputs": [],
   "source": []
  }
 ],
 "metadata": {
  "@webio": {
   "lastCommId": null,
   "lastKernelId": null
  },
  "kernelspec": {
   "display_name": "Julia 1.4.2",
   "language": "julia",
   "name": "julia-1.4"
  },
  "language_info": {
   "file_extension": ".jl",
   "mimetype": "application/julia",
   "name": "julia",
   "version": "1.4.2"
  }
 },
 "nbformat": 4,
 "nbformat_minor": 2
}
