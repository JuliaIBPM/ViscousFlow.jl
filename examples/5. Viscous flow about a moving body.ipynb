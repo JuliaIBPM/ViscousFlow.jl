{
 "cells": [
  {
   "cell_type": "markdown",
   "metadata": {},
   "source": [
    "# 5. Viscous flow about a moving body\n",
    "In this notebook we will demonstrate the simulation of a moving body. It is straightforward to set up a moving body. The main caveat is that the simulation is considerably slower, because the integrator must update the operators continuously throughout the simulation.\n",
    "\n",
    "We will demonstrate this on an oscillating flat plate."
   ]
  },
  {
   "cell_type": "code",
   "execution_count": null,
   "metadata": {},
   "outputs": [],
   "source": [
    "using ViscousFlow"
   ]
  },
  {
   "cell_type": "code",
   "execution_count": null,
   "metadata": {},
   "outputs": [],
   "source": [
    "using Plots"
   ]
  },
  {
   "cell_type": "markdown",
   "metadata": {},
   "source": [
    "### Problem specification and discretization"
   ]
  },
  {
   "cell_type": "code",
   "execution_count": null,
   "metadata": {},
   "outputs": [],
   "source": [
    "Re = 200; # Reynolds number\n",
    "U = 1.0; # Free stream velocity\n",
    "U∞ = (U,0.0);"
   ]
  },
  {
   "cell_type": "code",
   "execution_count": null,
   "metadata": {},
   "outputs": [],
   "source": [
    "xlim = (-1.0,3.0)\n",
    "ylim = (-1.0,1.0);\n",
    "\n",
    "Δx, Δt = setstepsizes(Re,gridRe=4.0)"
   ]
  },
  {
   "cell_type": "markdown",
   "metadata": {},
   "source": [
    "### Set up body\n",
    "Set up the plate and place it at the origin"
   ]
  },
  {
   "cell_type": "code",
   "execution_count": null,
   "metadata": {},
   "outputs": [],
   "source": [
    "body = Plate(1.0,1.0Δx)\n",
    "T = RigidTransform((0.,0.),0.)    \n",
    "T(body)"
   ]
  },
  {
   "cell_type": "markdown",
   "metadata": {},
   "source": [
    "### Set the body motion\n",
    "Now we specify the body motion. We will use oscillatory pitch-heave kinematics for this:"
   ]
  },
  {
   "cell_type": "code",
   "execution_count": null,
   "metadata": {},
   "outputs": [],
   "source": [
    "a = 0.25 # location of pitch axis, a = 0.5 is leading edge\n",
    "ϕp = -π/2  # phase lag of pitch\n",
    "ϕh = 0.0  # phase lag of heave\n",
    "A = 0.25  # amplitude/chord\n",
    "fstar = 1/π # fc/U\n",
    "α₀ = 0 # mean angle of attack\n",
    "Δα = 10π/180 # amplitude of pitching\n",
    "U₀ = 0.0 # translational motion (set to zero in place of free stream)\n",
    "K = π*fstar # reduced frequency, K = πfc/U\n",
    "\n",
    "oscil1 = RigidBodyTools.PitchHeave(U₀,a,K,ϕp,α₀,Δα,A,ϕh);\n",
    "motion = RigidBodyMotion(oscil1)"
   ]
  },
  {
   "cell_type": "markdown",
   "metadata": {},
   "source": [
    "We can inspect the kinematics in this `motion` by plotting them:"
   ]
  },
  {
   "cell_type": "code",
   "execution_count": null,
   "metadata": {},
   "outputs": [],
   "source": [
    "plot(motion)"
   ]
  },
  {
   "cell_type": "markdown",
   "metadata": {},
   "source": [
    "### Construct the system structure\n",
    "Here, we supply the motion as an another argument. We also need to tell it that the points that discretize the body must move, using the `static_points` argument."
   ]
  },
  {
   "cell_type": "code",
   "execution_count": null,
   "metadata": {},
   "outputs": [],
   "source": [
    "sys = NavierStokes(Re,Δx,xlim,ylim,Δt,body,motion,freestream = U∞)"
   ]
  },
  {
   "cell_type": "code",
   "execution_count": null,
   "metadata": {},
   "outputs": [],
   "source": [
    "u0 = newstate(sys)\n",
    "tspan = (0.0,1.0)\n",
    "integrator = init(u0,tspan,sys)"
   ]
  },
  {
   "cell_type": "markdown",
   "metadata": {},
   "source": [
    "### Solve\n",
    "This will take awhile, so be patient."
   ]
  },
  {
   "cell_type": "code",
   "execution_count": null,
   "metadata": {},
   "outputs": [],
   "source": [
    "step!(integrator,10.0)"
   ]
  },
  {
   "cell_type": "markdown",
   "metadata": {},
   "source": [
    "### Examine the solution"
   ]
  },
  {
   "cell_type": "code",
   "execution_count": null,
   "metadata": {},
   "outputs": [],
   "source": [
    "plot(vorticity(integrator),sys,clim=(-10,10),levels=range(-10,10,length=30),color = :RdBu)"
   ]
  },
  {
   "cell_type": "markdown",
   "metadata": {},
   "source": [
    "And the forces"
   ]
  },
  {
   "cell_type": "code",
   "execution_count": null,
   "metadata": {},
   "outputs": [],
   "source": [
    "sol = integrator.sol\n",
    "fx, fy = force(sol,sys,1);"
   ]
  },
  {
   "cell_type": "code",
   "execution_count": null,
   "metadata": {},
   "outputs": [],
   "source": [
    "plot(\n",
    "plot(sol.t,2*fx,xlim=(0,Inf),ylim=(-3,3),xlabel=\"Convective time\",ylabel=\"\\$C_D\\$\",legend=:false),\n",
    "plot(sol.t,2*fy,xlim=(0,Inf),ylim=(-6,6),xlabel=\"Convective time\",ylabel=\"\\$C_L\\$\",legend=:false),\n",
    "    size=(800,350)\n",
    ")"
   ]
  },
  {
   "cell_type": "code",
   "execution_count": null,
   "metadata": {},
   "outputs": [],
   "source": []
  }
 ],
 "metadata": {
  "@webio": {
   "lastCommId": null,
   "lastKernelId": null
  },
  "kernelspec": {
   "display_name": "Julia 1.4.2",
   "language": "julia",
   "name": "julia-1.4"
  },
  "language_info": {
   "file_extension": ".jl",
   "mimetype": "application/julia",
   "name": "julia",
   "version": "1.4.2"
  }
 },
 "nbformat": 4,
 "nbformat_minor": 2
}
