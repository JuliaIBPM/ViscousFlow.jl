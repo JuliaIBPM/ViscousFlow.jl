{
 "cells": [
  {
   "cell_type": "markdown",
   "metadata": {},
   "source": [
    "# Computing viscous flow about a moving body"
   ]
  },
  {
   "cell_type": "code",
   "execution_count": 19,
   "metadata": {},
   "outputs": [
    {
     "name": "stderr",
     "output_type": "stream",
     "text": [
      "\u001b[32m\u001b[1m  Resolving\u001b[22m\u001b[39m package versions...\n",
      "\u001b[32m\u001b[1mNo Changes\u001b[22m\u001b[39m to `~/.julia/environments/JuliaPro_v1.5.3-1/Project.toml`\n",
      "\u001b[32m\u001b[1mNo Changes\u001b[22m\u001b[39m to `~/.julia/environments/JuliaPro_v1.5.3-1/Manifest.toml`\n",
      "\u001b[32m\u001b[1m  Resolving\u001b[22m\u001b[39m package versions...\n",
      "\u001b[32m\u001b[1mNo Changes\u001b[22m\u001b[39m to `~/.julia/environments/JuliaPro_v1.5.3-1/Project.toml`\n",
      "\u001b[32m\u001b[1mNo Changes\u001b[22m\u001b[39m to `~/.julia/environments/JuliaPro_v1.5.3-1/Manifest.toml`\n",
      "\u001b[32m\u001b[1m  Resolving\u001b[22m\u001b[39m package versions...\n",
      "\u001b[32m\u001b[1mNo Changes\u001b[22m\u001b[39m to `~/.julia/environments/JuliaPro_v1.5.3-1/Project.toml`\n",
      "\u001b[32m\u001b[1mNo Changes\u001b[22m\u001b[39m to `~/.julia/environments/JuliaPro_v1.5.3-1/Manifest.toml`\n",
      "\u001b[32m\u001b[1m  Resolving\u001b[22m\u001b[39m package versions...\n",
      "\u001b[32m\u001b[1mNo Changes\u001b[22m\u001b[39m to `~/.julia/environments/JuliaPro_v1.5.3-1/Project.toml`\n",
      "\u001b[32m\u001b[1mNo Changes\u001b[22m\u001b[39m to `~/.julia/environments/JuliaPro_v1.5.3-1/Manifest.toml`\n",
      "\u001b[32m\u001b[1m  Resolving\u001b[22m\u001b[39m package versions...\n",
      "\u001b[32m\u001b[1mNo Changes\u001b[22m\u001b[39m to `~/.julia/environments/JuliaPro_v1.5.3-1/Project.toml`\n",
      "\u001b[32m\u001b[1mNo Changes\u001b[22m\u001b[39m to `~/.julia/environments/JuliaPro_v1.5.3-1/Manifest.toml`\n",
      "\u001b[32m\u001b[1m  Resolving\u001b[22m\u001b[39m package versions...\n",
      "\u001b[32m\u001b[1mUpdating\u001b[22m\u001b[39m `~/.julia/environments/JuliaPro_v1.5.3-1/Project.toml`\n",
      " \u001b[90m [995b91a9] \u001b[39m\u001b[92m+ PlotUtils v1.0.8\u001b[39m\n",
      "\u001b[32m\u001b[1mNo Changes\u001b[22m\u001b[39m to `~/.julia/environments/JuliaPro_v1.5.3-1/Manifest.toml`\n"
     ]
    }
   ],
   "source": [
    "import Pkg; Pkg.add(\"DocStringExtensions\")\n",
    "Pkg.add(\"Reexport\")\n",
    "Pkg.add(\"RecipesBase\")\n",
    "Pkg.add(\"ColorTypes\")\n",
    " Pkg.add(\"LaTeXStrings\")\n",
    "Pkg.add(\"PlotUtils\")"
   ]
  },
  {
   "cell_type": "code",
   "execution_count": 34,
   "metadata": {},
   "outputs": [
    {
     "name": "stderr",
     "output_type": "stream",
     "text": [
      "WARNING: replacing module ViscousFlow.\n"
     ]
    },
    {
     "data": {
      "text/plain": [
       "Main.ViscousFlow"
      ]
     },
     "execution_count": 34,
     "metadata": {},
     "output_type": "execute_result"
    }
   ],
   "source": [
    "#using ViscousFlow\n",
    "using ColorBrewer\n",
    "include(\"../src/ViscousFlow.jl\")i"
   ]
  },
  {
   "cell_type": "code",
   "execution_count": 35,
   "metadata": {},
   "outputs": [],
   "source": [
    "using Plots\n",
    "#pyplot()\n",
    "#clibrary(:colorbrewer)\n",
    "default(grid = false)"
   ]
  },
  {
   "cell_type": "code",
   "execution_count": 30,
   "metadata": {},
   "outputs": [],
   "source": [
    "using LinearAlgebra"
   ]
  },
  {
   "cell_type": "markdown",
   "metadata": {},
   "source": [
    "### Set the flow parameters and the body shape"
   ]
  },
  {
   "cell_type": "code",
   "execution_count": 31,
   "metadata": {},
   "outputs": [],
   "source": [
    "Re = 200; # Reynolds number\n",
    "U = 0.0; # Free stream velocity\n",
    "U∞ = (U,0.0);"
   ]
  },
  {
   "cell_type": "markdown",
   "metadata": {},
   "source": [
    "Set up points on the body"
   ]
  },
  {
   "cell_type": "code",
   "execution_count": 39,
   "metadata": {},
   "outputs": [
    {
     "ename": "LoadError",
     "evalue": "UndefVarError: Bodies not defined",
     "output_type": "error",
     "traceback": [
      "UndefVarError: Bodies not defined",
      "",
      "Stacktrace:",
      " [1] top-level scope at In[39]:2",
      " [2] include_string(::Function, ::Module, ::String, ::String) at ./loading.jl:1091",
      " [3] execute_code(::String, ::String) at /home/sinan/.julia/packages/IJulia/a1SNk/src/execute_request.jl:27",
      " [4] execute_request(::ZMQ.Socket, ::IJulia.Msg) at /home/sinan/.julia/packages/IJulia/a1SNk/src/execute_request.jl:86",
      " [5] #invokelatest#1 at ./essentials.jl:710 [inlined]",
      " [6] invokelatest at ./essentials.jl:709 [inlined]",
      " [7] eventloop(::ZMQ.Socket) at /home/sinan/.julia/packages/IJulia/a1SNk/src/eventloop.jl:8",
      " [8] (::IJulia.var\"#15#18\")() at ./task.jl:356"
     ]
    }
   ],
   "source": [
    "n = 51;\n",
    "body = Bodies.Plate(1.0,n)"
   ]
  },
  {
   "cell_type": "markdown",
   "metadata": {},
   "source": [
    "### Transform the body with a specified initial position and orientation."
   ]
  },
  {
   "cell_type": "code",
   "execution_count": 10,
   "metadata": {},
   "outputs": [
    {
     "data": {
      "text/plain": [
       "Plate with 51 points and length 1.0 and thickness 0.0\n",
       "   Current position: (0.0,0.0)\n",
       "   Current angle (rad): 0.0\n"
      ]
     },
     "execution_count": 10,
     "metadata": {},
     "output_type": "execute_result"
    }
   ],
   "source": [
    "cent = (0.0,0.0)\n",
    "α = 0.0\n",
    "T! = RigidTransform(cent,α)    \n",
    "T!(body) # transform the body to the current configuration"
   ]
  },
  {
   "cell_type": "markdown",
   "metadata": {},
   "source": [
    "### Set the motion to oscillatory pitch-heave kinematics"
   ]
  },
  {
   "cell_type": "code",
   "execution_count": 12,
   "metadata": {},
   "outputs": [
    {
     "data": {
      "text/plain": [
       "Rigid Body Motion:\n",
       "  ċ = 0.0 - 0.09im\n",
       "  c̈ = 0.03 - 1.0im\n",
       "  α̇ = 0.35\n",
       "  α̈ = 0.0\n",
       "  Oscillatory pitch-heave kinematics with\n",
       "     Reduced frequency K = 1.0\n",
       "     Heaving amplitude A = 0.25\n",
       "     Pitching amplitude Δα = 0.17453292519943295\n",
       "     Pitch lag ϕp = -1.5707963267948966\n",
       "     Heave lag ϕh = 0.0\n"
      ]
     },
     "execution_count": 12,
     "metadata": {},
     "output_type": "execute_result"
    }
   ],
   "source": [
    "let a = 0.25, # location of pitch axis, a = 0.5 is leading edge\n",
    "    ϕp = -π/2,  # phase lag of pitch\n",
    "    ϕh = 0.0,  # phase lag of heave\n",
    "    A = 0.25,  # amplitude/chord\n",
    "    fstar = 1/π, # fc/U\n",
    "    α₀ = 0, # mean angle of attack\n",
    "    Δα = 10π/180, # amplitude of pitching\n",
    "    U₀ = 0.0, # translational motion (set to zero in place of free stream)\n",
    "    K = π*fstar # reduced frequency, K = πfc/U\n",
    "\n",
    "    oscil1 = RigidBodyTools.PitchHeave(U₀,a,K,ϕp,α₀,Δα,A,ϕh);\n",
    "    global motion = RigidBodyMotion(oscil1)\n",
    "end"
   ]
  },
  {
   "cell_type": "markdown",
   "metadata": {},
   "source": [
    "This creates a function that can be evaluated for the current time's body motion parameters. The linear position, velocity, and acceleration (in complex notation), followed by the angle, angular velocity, and angular acceleration:"
   ]
  },
  {
   "cell_type": "code",
   "execution_count": 13,
   "metadata": {},
   "outputs": [
    {
     "data": {
      "text/plain": [
       "(-0.24685829825246003 - 0.1435459559519235im, -0.0057392178677753355 - 0.4187894229847506im, -0.019871824117229386 + 0.5736884886473416im, 0.15870233978020357, -0.14526264939012612, -0.6348093591208143)"
      ]
     },
     "execution_count": 13,
     "metadata": {},
     "output_type": "execute_result"
    }
   ],
   "source": [
    "motion(1.0)"
   ]
  },
  {
   "cell_type": "markdown",
   "metadata": {},
   "source": [
    "### Let's set up the domain"
   ]
  },
  {
   "cell_type": "code",
   "execution_count": 14,
   "metadata": {},
   "outputs": [],
   "source": [
    "xlim = (-1.0,1.0)\n",
    "ylim = (-1.0,1.0);"
   ]
  },
  {
   "cell_type": "code",
   "execution_count": 15,
   "metadata": {},
   "outputs": [
    {
     "data": {
      "image/svg+xml": [
       "<?xml version=\"1.0\" encoding=\"utf-8\"?>\n",
       "<svg xmlns=\"http://www.w3.org/2000/svg\" xmlns:xlink=\"http://www.w3.org/1999/xlink\" width=\"600\" height=\"400\" viewBox=\"0 0 2400 1600\">\n",
       "<defs>\n",
       "  <clipPath id=\"clip000\">\n",
       "    <rect x=\"0\" y=\"0\" width=\"2400\" height=\"1600\"/>\n",
       "  </clipPath>\n",
       "</defs>\n",
       "<path clip-path=\"url(#clip000)\" d=\"\n",
       "M0 1600 L2400 1600 L2400 0 L0 0  Z\n",
       "  \" fill=\"#ffffff\" fill-rule=\"evenodd\" fill-opacity=\"1\"/>\n",
       "<defs>\n",
       "  <clipPath id=\"clip001\">\n",
       "    <rect x=\"480\" y=\"0\" width=\"1681\" height=\"1600\"/>\n",
       "  </clipPath>\n",
       "</defs>\n",
       "<path clip-path=\"url(#clip000)\" d=\"\n",
       "M546.603 1486.45 L1985.81 1486.45 L1985.81 47.2441 L546.603 47.2441  Z\n",
       "  \" fill=\"#ffffff\" fill-rule=\"evenodd\" fill-opacity=\"1\"/>\n",
       "<defs>\n",
       "  <clipPath id=\"clip002\">\n",
       "    <rect x=\"546\" y=\"47\" width=\"1440\" height=\"1440\"/>\n",
       "  </clipPath>\n",
       "</defs>\n",
       "<polyline clip-path=\"url(#clip000)\" style=\"stroke:#000000; stroke-width:4; stroke-opacity:1; fill:none\" points=\"\n",
       "  546.603,1486.45 1985.81,1486.45 \n",
       "  \"/>\n",
       "<polyline clip-path=\"url(#clip000)\" style=\"stroke:#000000; stroke-width:4; stroke-opacity:1; fill:none\" points=\"\n",
       "  546.603,1486.45 546.603,1469.18 \n",
       "  \"/>\n",
       "<polyline clip-path=\"url(#clip000)\" style=\"stroke:#000000; stroke-width:4; stroke-opacity:1; fill:none\" points=\"\n",
       "  906.404,1486.45 906.404,1469.18 \n",
       "  \"/>\n",
       "<polyline clip-path=\"url(#clip000)\" style=\"stroke:#000000; stroke-width:4; stroke-opacity:1; fill:none\" points=\"\n",
       "  1266.2,1486.45 1266.2,1469.18 \n",
       "  \"/>\n",
       "<polyline clip-path=\"url(#clip000)\" style=\"stroke:#000000; stroke-width:4; stroke-opacity:1; fill:none\" points=\"\n",
       "  1626.01,1486.45 1626.01,1469.18 \n",
       "  \"/>\n",
       "<polyline clip-path=\"url(#clip000)\" style=\"stroke:#000000; stroke-width:4; stroke-opacity:1; fill:none\" points=\"\n",
       "  1985.81,1486.45 1985.81,1469.18 \n",
       "  \"/>\n",
       "<path clip-path=\"url(#clip000)\" d=\"M 0 0 M500.388 1530.29 L530.064 1530.29 L530.064 1534.23 L500.388 1534.23 L500.388 1530.29 Z\" fill=\"#000000\" fill-rule=\"evenodd\" fill-opacity=\"1\" /><path clip-path=\"url(#clip000)\" d=\"M 0 0 M535.943 1543.18 L543.582 1543.18 L543.582 1516.82 L535.272 1518.49 L535.272 1514.23 L543.536 1512.56 L548.212 1512.56 L548.212 1543.18 L555.851 1543.18 L555.851 1547.12 L535.943 1547.12 L535.943 1543.18 Z\" fill=\"#000000\" fill-rule=\"evenodd\" fill-opacity=\"1\" /><path clip-path=\"url(#clip000)\" d=\"M 0 0 M560.92 1541.24 L565.804 1541.24 L565.804 1547.12 L560.92 1547.12 L560.92 1541.24 Z\" fill=\"#000000\" fill-rule=\"evenodd\" fill-opacity=\"1\" /><path clip-path=\"url(#clip000)\" d=\"M 0 0 M580.874 1515.64 Q577.262 1515.64 575.434 1519.2 Q573.628 1522.75 573.628 1529.87 Q573.628 1536.98 575.434 1540.55 Q577.262 1544.09 580.874 1544.09 Q584.508 1544.09 586.313 1540.55 Q588.142 1536.98 588.142 1529.87 Q588.142 1522.75 586.313 1519.2 Q584.508 1515.64 580.874 1515.64 M580.874 1511.93 Q586.684 1511.93 589.739 1516.54 Q592.818 1521.12 592.818 1529.87 Q592.818 1538.6 589.739 1543.21 Q586.684 1547.79 580.874 1547.79 Q575.063 1547.79 571.985 1543.21 Q568.929 1538.6 568.929 1529.87 Q568.929 1521.12 571.985 1516.54 Q575.063 1511.93 580.874 1511.93 Z\" fill=\"#000000\" fill-rule=\"evenodd\" fill-opacity=\"1\" /><path clip-path=\"url(#clip000)\" d=\"M 0 0 M860.073 1530.29 L889.749 1530.29 L889.749 1534.23 L860.073 1534.23 L860.073 1530.29 Z\" fill=\"#000000\" fill-rule=\"evenodd\" fill-opacity=\"1\" /><path clip-path=\"url(#clip000)\" d=\"M 0 0 M904.818 1515.64 Q901.207 1515.64 899.378 1519.2 Q897.573 1522.75 897.573 1529.87 Q897.573 1536.98 899.378 1540.55 Q901.207 1544.09 904.818 1544.09 Q908.452 1544.09 910.258 1540.55 Q912.087 1536.98 912.087 1529.87 Q912.087 1522.75 910.258 1519.2 Q908.452 1515.64 904.818 1515.64 M904.818 1511.93 Q910.628 1511.93 913.684 1516.54 Q916.763 1521.12 916.763 1529.87 Q916.763 1538.6 913.684 1543.21 Q910.628 1547.79 904.818 1547.79 Q899.008 1547.79 895.929 1543.21 Q892.874 1538.6 892.874 1529.87 Q892.874 1521.12 895.929 1516.54 Q899.008 1511.93 904.818 1511.93 Z\" fill=\"#000000\" fill-rule=\"evenodd\" fill-opacity=\"1\" /><path clip-path=\"url(#clip000)\" d=\"M 0 0 M921.832 1541.24 L926.716 1541.24 L926.716 1547.12 L921.832 1547.12 L921.832 1541.24 Z\" fill=\"#000000\" fill-rule=\"evenodd\" fill-opacity=\"1\" /><path clip-path=\"url(#clip000)\" d=\"M 0 0 M931.832 1512.56 L950.188 1512.56 L950.188 1516.5 L936.114 1516.5 L936.114 1524.97 Q937.133 1524.62 938.151 1524.46 Q939.17 1524.27 940.188 1524.27 Q945.975 1524.27 949.355 1527.44 Q952.735 1530.62 952.735 1536.03 Q952.735 1541.61 949.262 1544.71 Q945.79 1547.79 939.471 1547.79 Q937.295 1547.79 935.026 1547.42 Q932.781 1547.05 930.374 1546.31 L930.374 1541.61 Q932.457 1542.74 934.679 1543.3 Q936.901 1543.86 939.378 1543.86 Q943.383 1543.86 945.721 1541.75 Q948.059 1539.64 948.059 1536.03 Q948.059 1532.42 945.721 1530.31 Q943.383 1528.21 939.378 1528.21 Q937.503 1528.21 935.628 1528.62 Q933.776 1529.04 931.832 1529.92 L931.832 1512.56 Z\" fill=\"#000000\" fill-rule=\"evenodd\" fill-opacity=\"1\" /><path clip-path=\"url(#clip000)\" d=\"M 0 0 M1247.72 1515.64 Q1244.11 1515.64 1242.28 1519.2 Q1240.48 1522.75 1240.48 1529.87 Q1240.48 1536.98 1242.28 1540.55 Q1244.11 1544.09 1247.72 1544.09 Q1251.36 1544.09 1253.16 1540.55 Q1254.99 1536.98 1254.99 1529.87 Q1254.99 1522.75 1253.16 1519.2 Q1251.36 1515.64 1247.72 1515.64 M1247.72 1511.93 Q1253.53 1511.93 1256.59 1516.54 Q1259.67 1521.12 1259.67 1529.87 Q1259.67 1538.6 1256.59 1543.21 Q1253.53 1547.79 1247.72 1547.79 Q1241.91 1547.79 1238.83 1543.21 Q1235.78 1538.6 1235.78 1529.87 Q1235.78 1521.12 1238.83 1516.54 Q1241.91 1511.93 1247.72 1511.93 Z\" fill=\"#000000\" fill-rule=\"evenodd\" fill-opacity=\"1\" /><path clip-path=\"url(#clip000)\" d=\"M 0 0 M1264.73 1541.24 L1269.62 1541.24 L1269.62 1547.12 L1264.73 1547.12 L1264.73 1541.24 Z\" fill=\"#000000\" fill-rule=\"evenodd\" fill-opacity=\"1\" /><path clip-path=\"url(#clip000)\" d=\"M 0 0 M1284.69 1515.64 Q1281.08 1515.64 1279.25 1519.2 Q1277.44 1522.75 1277.44 1529.87 Q1277.44 1536.98 1279.25 1540.55 Q1281.08 1544.09 1284.69 1544.09 Q1288.32 1544.09 1290.13 1540.55 Q1291.96 1536.98 1291.96 1529.87 Q1291.96 1522.75 1290.13 1519.2 Q1288.32 1515.64 1284.69 1515.64 M1284.69 1511.93 Q1290.5 1511.93 1293.55 1516.54 Q1296.63 1521.12 1296.63 1529.87 Q1296.63 1538.6 1293.55 1543.21 Q1290.5 1547.79 1284.69 1547.79 Q1278.88 1547.79 1275.8 1543.21 Q1272.74 1538.6 1272.74 1529.87 Q1272.74 1521.12 1275.8 1516.54 Q1278.88 1511.93 1284.69 1511.93 Z\" fill=\"#000000\" fill-rule=\"evenodd\" fill-opacity=\"1\" /><path clip-path=\"url(#clip000)\" d=\"M 0 0 M1608.02 1515.64 Q1604.41 1515.64 1602.58 1519.2 Q1600.77 1522.75 1600.77 1529.87 Q1600.77 1536.98 1602.58 1540.55 Q1604.41 1544.09 1608.02 1544.09 Q1611.65 1544.09 1613.46 1540.55 Q1615.29 1536.98 1615.29 1529.87 Q1615.29 1522.75 1613.46 1519.2 Q1611.65 1515.64 1608.02 1515.64 M1608.02 1511.93 Q1613.83 1511.93 1616.89 1516.54 Q1619.96 1521.12 1619.96 1529.87 Q1619.96 1538.6 1616.89 1543.21 Q1613.83 1547.79 1608.02 1547.79 Q1602.21 1547.79 1599.13 1543.21 Q1596.08 1538.6 1596.08 1529.87 Q1596.08 1521.12 1599.13 1516.54 Q1602.21 1511.93 1608.02 1511.93 Z\" fill=\"#000000\" fill-rule=\"evenodd\" fill-opacity=\"1\" /><path clip-path=\"url(#clip000)\" d=\"M 0 0 M1625.03 1541.24 L1629.92 1541.24 L1629.92 1547.12 L1625.03 1547.12 L1625.03 1541.24 Z\" fill=\"#000000\" fill-rule=\"evenodd\" fill-opacity=\"1\" /><path clip-path=\"url(#clip000)\" d=\"M 0 0 M1635.03 1512.56 L1653.39 1512.56 L1653.39 1516.5 L1639.32 1516.5 L1639.32 1524.97 Q1640.33 1524.62 1641.35 1524.46 Q1642.37 1524.27 1643.39 1524.27 Q1649.18 1524.27 1652.56 1527.44 Q1655.94 1530.62 1655.94 1536.03 Q1655.94 1541.61 1652.46 1544.71 Q1648.99 1547.79 1642.67 1547.79 Q1640.5 1547.79 1638.23 1547.42 Q1635.98 1547.05 1633.58 1546.31 L1633.58 1541.61 Q1635.66 1542.74 1637.88 1543.3 Q1640.1 1543.86 1642.58 1543.86 Q1646.58 1543.86 1648.92 1541.75 Q1651.26 1539.64 1651.26 1536.03 Q1651.26 1532.42 1648.92 1530.31 Q1646.58 1528.21 1642.58 1528.21 Q1640.7 1528.21 1638.83 1528.62 Q1636.98 1529.04 1635.03 1529.92 L1635.03 1512.56 Z\" fill=\"#000000\" fill-rule=\"evenodd\" fill-opacity=\"1\" /><path clip-path=\"url(#clip000)\" d=\"M 0 0 M1957.7 1543.18 L1965.34 1543.18 L1965.34 1516.82 L1957.03 1518.49 L1957.03 1514.23 L1965.3 1512.56 L1969.97 1512.56 L1969.97 1543.18 L1977.61 1543.18 L1977.61 1547.12 L1957.7 1547.12 L1957.7 1543.18 Z\" fill=\"#000000\" fill-rule=\"evenodd\" fill-opacity=\"1\" /><path clip-path=\"url(#clip000)\" d=\"M 0 0 M1982.68 1541.24 L1987.57 1541.24 L1987.57 1547.12 L1982.68 1547.12 L1982.68 1541.24 Z\" fill=\"#000000\" fill-rule=\"evenodd\" fill-opacity=\"1\" /><path clip-path=\"url(#clip000)\" d=\"M 0 0 M2002.64 1515.64 Q1999.02 1515.64 1997.2 1519.2 Q1995.39 1522.75 1995.39 1529.87 Q1995.39 1536.98 1997.2 1540.55 Q1999.02 1544.09 2002.64 1544.09 Q2006.27 1544.09 2008.08 1540.55 Q2009.9 1536.98 2009.9 1529.87 Q2009.9 1522.75 2008.08 1519.2 Q2006.27 1515.64 2002.64 1515.64 M2002.64 1511.93 Q2008.45 1511.93 2011.5 1516.54 Q2014.58 1521.12 2014.58 1529.87 Q2014.58 1538.6 2011.5 1543.21 Q2008.45 1547.79 2002.64 1547.79 Q1996.83 1547.79 1993.75 1543.21 Q1990.69 1538.6 1990.69 1529.87 Q1990.69 1521.12 1993.75 1516.54 Q1996.83 1511.93 2002.64 1511.93 Z\" fill=\"#000000\" fill-rule=\"evenodd\" fill-opacity=\"1\" /><polyline clip-path=\"url(#clip000)\" style=\"stroke:#000000; stroke-width:4; stroke-opacity:1; fill:none\" points=\"\n",
       "  546.603,1486.45 546.603,47.2441 \n",
       "  \"/>\n",
       "<polyline clip-path=\"url(#clip000)\" style=\"stroke:#000000; stroke-width:4; stroke-opacity:1; fill:none\" points=\"\n",
       "  546.603,1486.45 563.873,1486.45 \n",
       "  \"/>\n",
       "<polyline clip-path=\"url(#clip000)\" style=\"stroke:#000000; stroke-width:4; stroke-opacity:1; fill:none\" points=\"\n",
       "  546.603,1126.65 563.873,1126.65 \n",
       "  \"/>\n",
       "<polyline clip-path=\"url(#clip000)\" style=\"stroke:#000000; stroke-width:4; stroke-opacity:1; fill:none\" points=\"\n",
       "  546.603,766.846 563.873,766.846 \n",
       "  \"/>\n",
       "<polyline clip-path=\"url(#clip000)\" style=\"stroke:#000000; stroke-width:4; stroke-opacity:1; fill:none\" points=\"\n",
       "  546.603,407.045 563.873,407.045 \n",
       "  \"/>\n",
       "<polyline clip-path=\"url(#clip000)\" style=\"stroke:#000000; stroke-width:4; stroke-opacity:1; fill:none\" points=\"\n",
       "  546.603,47.2441 563.873,47.2441 \n",
       "  \"/>\n",
       "<path clip-path=\"url(#clip000)\" d=\"M 0 0 M418.173 1486.9 L447.849 1486.9 L447.849 1490.83 L418.173 1490.83 L418.173 1486.9 Z\" fill=\"#000000\" fill-rule=\"evenodd\" fill-opacity=\"1\" /><path clip-path=\"url(#clip000)\" d=\"M 0 0 M453.728 1499.79 L461.367 1499.79 L461.367 1473.43 L453.057 1475.09 L453.057 1470.83 L461.321 1469.17 L465.997 1469.17 L465.997 1499.79 L473.636 1499.79 L473.636 1503.73 L453.728 1503.73 L453.728 1499.79 Z\" fill=\"#000000\" fill-rule=\"evenodd\" fill-opacity=\"1\" /><path clip-path=\"url(#clip000)\" d=\"M 0 0 M478.705 1497.85 L483.589 1497.85 L483.589 1503.73 L478.705 1503.73 L478.705 1497.85 Z\" fill=\"#000000\" fill-rule=\"evenodd\" fill-opacity=\"1\" /><path clip-path=\"url(#clip000)\" d=\"M 0 0 M498.659 1472.25 Q495.047 1472.25 493.219 1475.81 Q491.413 1479.35 491.413 1486.48 Q491.413 1493.59 493.219 1497.15 Q495.047 1500.7 498.659 1500.7 Q502.293 1500.7 504.098 1497.15 Q505.927 1493.59 505.927 1486.48 Q505.927 1479.35 504.098 1475.81 Q502.293 1472.25 498.659 1472.25 M498.659 1468.54 Q504.469 1468.54 507.524 1473.15 Q510.603 1477.73 510.603 1486.48 Q510.603 1495.21 507.524 1499.82 Q504.469 1504.4 498.659 1504.4 Q492.848 1504.4 489.77 1499.82 Q486.714 1495.21 486.714 1486.48 Q486.714 1477.73 489.77 1473.15 Q492.848 1468.54 498.659 1468.54 Z\" fill=\"#000000\" fill-rule=\"evenodd\" fill-opacity=\"1\" /><path clip-path=\"url(#clip000)\" d=\"M 0 0 M417.941 1127.1 L447.617 1127.1 L447.617 1131.03 L417.941 1131.03 L417.941 1127.1 Z\" fill=\"#000000\" fill-rule=\"evenodd\" fill-opacity=\"1\" /><path clip-path=\"url(#clip000)\" d=\"M 0 0 M462.686 1112.45 Q459.075 1112.45 457.247 1116.01 Q455.441 1119.55 455.441 1126.68 Q455.441 1133.79 457.247 1137.35 Q459.075 1140.89 462.686 1140.89 Q466.321 1140.89 468.126 1137.35 Q469.955 1133.79 469.955 1126.68 Q469.955 1119.55 468.126 1116.01 Q466.321 1112.45 462.686 1112.45 M462.686 1108.74 Q468.497 1108.74 471.552 1113.35 Q474.631 1117.93 474.631 1126.68 Q474.631 1135.41 471.552 1140.01 Q468.497 1144.6 462.686 1144.6 Q456.876 1144.6 453.798 1140.01 Q450.742 1135.41 450.742 1126.68 Q450.742 1117.93 453.798 1113.35 Q456.876 1108.74 462.686 1108.74 Z\" fill=\"#000000\" fill-rule=\"evenodd\" fill-opacity=\"1\" /><path clip-path=\"url(#clip000)\" d=\"M 0 0 M479.7 1138.05 L484.585 1138.05 L484.585 1143.93 L479.7 1143.93 L479.7 1138.05 Z\" fill=\"#000000\" fill-rule=\"evenodd\" fill-opacity=\"1\" /><path clip-path=\"url(#clip000)\" d=\"M 0 0 M489.7 1109.37 L508.057 1109.37 L508.057 1113.3 L493.983 1113.3 L493.983 1121.77 Q495.001 1121.43 496.02 1121.27 Q497.038 1121.08 498.057 1121.08 Q503.844 1121.08 507.223 1124.25 Q510.603 1127.42 510.603 1132.84 Q510.603 1138.42 507.131 1141.52 Q503.658 1144.6 497.339 1144.6 Q495.163 1144.6 492.895 1144.23 Q490.649 1143.86 488.242 1143.12 L488.242 1138.42 Q490.325 1139.55 492.547 1140.11 Q494.77 1140.66 497.246 1140.66 Q501.251 1140.66 503.589 1138.56 Q505.927 1136.45 505.927 1132.84 Q505.927 1129.23 503.589 1127.12 Q501.251 1125.01 497.246 1125.01 Q495.371 1125.01 493.497 1125.43 Q491.645 1125.85 489.7 1126.73 L489.7 1109.37 Z\" fill=\"#000000\" fill-rule=\"evenodd\" fill-opacity=\"1\" /><path clip-path=\"url(#clip000)\" d=\"M 0 0 M461.691 752.645 Q458.08 752.645 456.251 756.209 Q454.446 759.751 454.446 766.881 Q454.446 773.987 456.251 777.552 Q458.08 781.094 461.691 781.094 Q465.325 781.094 467.131 777.552 Q468.96 773.987 468.96 766.881 Q468.96 759.751 467.131 756.209 Q465.325 752.645 461.691 752.645 M461.691 748.941 Q467.501 748.941 470.557 753.547 Q473.636 758.131 473.636 766.881 Q473.636 775.608 470.557 780.214 Q467.501 784.797 461.691 784.797 Q455.881 784.797 452.802 780.214 Q449.747 775.608 449.747 766.881 Q449.747 758.131 452.802 753.547 Q455.881 748.941 461.691 748.941 Z\" fill=\"#000000\" fill-rule=\"evenodd\" fill-opacity=\"1\" /><path clip-path=\"url(#clip000)\" d=\"M 0 0 M478.705 778.246 L483.589 778.246 L483.589 784.126 L478.705 784.126 L478.705 778.246 Z\" fill=\"#000000\" fill-rule=\"evenodd\" fill-opacity=\"1\" /><path clip-path=\"url(#clip000)\" d=\"M 0 0 M498.659 752.645 Q495.047 752.645 493.219 756.209 Q491.413 759.751 491.413 766.881 Q491.413 773.987 493.219 777.552 Q495.047 781.094 498.659 781.094 Q502.293 781.094 504.098 777.552 Q505.927 773.987 505.927 766.881 Q505.927 759.751 504.098 756.209 Q502.293 752.645 498.659 752.645 M498.659 748.941 Q504.469 748.941 507.524 753.547 Q510.603 758.131 510.603 766.881 Q510.603 775.608 507.524 780.214 Q504.469 784.797 498.659 784.797 Q492.848 784.797 489.77 780.214 Q486.714 775.608 486.714 766.881 Q486.714 758.131 489.77 753.547 Q492.848 748.941 498.659 748.941 Z\" fill=\"#000000\" fill-rule=\"evenodd\" fill-opacity=\"1\" /><path clip-path=\"url(#clip000)\" d=\"M 0 0 M462.686 392.844 Q459.075 392.844 457.247 396.409 Q455.441 399.95 455.441 407.08 Q455.441 414.186 457.247 417.751 Q459.075 421.293 462.686 421.293 Q466.321 421.293 468.126 417.751 Q469.955 414.186 469.955 407.08 Q469.955 399.95 468.126 396.409 Q466.321 392.844 462.686 392.844 M462.686 389.14 Q468.497 389.14 471.552 393.746 Q474.631 398.33 474.631 407.08 Q474.631 415.807 471.552 420.413 Q468.497 424.996 462.686 424.996 Q456.876 424.996 453.798 420.413 Q450.742 415.807 450.742 407.08 Q450.742 398.33 453.798 393.746 Q456.876 389.14 462.686 389.14 Z\" fill=\"#000000\" fill-rule=\"evenodd\" fill-opacity=\"1\" /><path clip-path=\"url(#clip000)\" d=\"M 0 0 M479.7 418.445 L484.585 418.445 L484.585 424.325 L479.7 424.325 L479.7 418.445 Z\" fill=\"#000000\" fill-rule=\"evenodd\" fill-opacity=\"1\" /><path clip-path=\"url(#clip000)\" d=\"M 0 0 M489.7 389.765 L508.057 389.765 L508.057 393.7 L493.983 393.7 L493.983 402.172 Q495.001 401.825 496.02 401.663 Q497.038 401.478 498.057 401.478 Q503.844 401.478 507.223 404.649 Q510.603 407.82 510.603 413.237 Q510.603 418.816 507.131 421.918 Q503.658 424.996 497.339 424.996 Q495.163 424.996 492.895 424.626 Q490.649 424.256 488.242 423.515 L488.242 418.816 Q490.325 419.95 492.547 420.506 Q494.77 421.061 497.246 421.061 Q501.251 421.061 503.589 418.955 Q505.927 416.848 505.927 413.237 Q505.927 409.626 503.589 407.52 Q501.251 405.413 497.246 405.413 Q495.371 405.413 493.497 405.83 Q491.645 406.246 489.7 407.126 L489.7 389.765 Z\" fill=\"#000000\" fill-rule=\"evenodd\" fill-opacity=\"1\" /><path clip-path=\"url(#clip000)\" d=\"M 0 0 M453.728 60.5889 L461.367 60.5889 L461.367 34.2233 L453.057 35.89 L453.057 31.6308 L461.321 29.9641 L465.997 29.9641 L465.997 60.5889 L473.636 60.5889 L473.636 64.5241 L453.728 64.5241 L453.728 60.5889 Z\" fill=\"#000000\" fill-rule=\"evenodd\" fill-opacity=\"1\" /><path clip-path=\"url(#clip000)\" d=\"M 0 0 M478.705 58.6445 L483.589 58.6445 L483.589 64.5241 L478.705 64.5241 L478.705 58.6445 Z\" fill=\"#000000\" fill-rule=\"evenodd\" fill-opacity=\"1\" /><path clip-path=\"url(#clip000)\" d=\"M 0 0 M498.659 33.0428 Q495.047 33.0428 493.219 36.6076 Q491.413 40.1492 491.413 47.2788 Q491.413 54.3853 493.219 57.9501 Q495.047 61.4917 498.659 61.4917 Q502.293 61.4917 504.098 57.9501 Q505.927 54.3853 505.927 47.2788 Q505.927 40.1492 504.098 36.6076 Q502.293 33.0428 498.659 33.0428 M498.659 29.3391 Q504.469 29.3391 507.524 33.9456 Q510.603 38.5289 510.603 47.2788 Q510.603 56.0056 507.524 60.6121 Q504.469 65.1954 498.659 65.1954 Q492.848 65.1954 489.77 60.6121 Q486.714 56.0056 486.714 47.2788 Q486.714 38.5289 489.77 33.9456 Q492.848 29.3391 498.659 29.3391 Z\" fill=\"#000000\" fill-rule=\"evenodd\" fill-opacity=\"1\" /><path clip-path=\"url(#clip002)\" d=\"\n",
       "M906.404 766.846 L920.796 766.846 L935.188 766.846 L949.58 766.846 L963.972 766.846 L978.364 766.846 L992.756 766.846 L1007.15 766.846 L1021.54 766.846 L1035.93 766.846 \n",
       "  L1050.32 766.846 L1064.72 766.846 L1079.11 766.846 L1093.5 766.846 L1107.89 766.846 L1122.28 766.846 L1136.68 766.846 L1151.07 766.846 L1165.46 766.846 L1179.85 766.846 \n",
       "  L1194.24 766.846 L1208.64 766.846 L1223.03 766.846 L1237.42 766.846 L1251.81 766.846 L1266.2 766.846 L1280.6 766.846 L1294.99 766.846 L1309.38 766.846 L1323.77 766.846 \n",
       "  L1338.16 766.846 L1352.56 766.846 L1366.95 766.846 L1381.34 766.846 L1395.73 766.846 L1410.13 766.846 L1424.52 766.846 L1438.91 766.846 L1453.3 766.846 L1467.69 766.846 \n",
       "  L1482.09 766.846 L1496.48 766.846 L1510.87 766.846 L1525.26 766.846 L1539.65 766.846 L1554.05 766.846 L1568.44 766.846 L1582.83 766.846 L1597.22 766.846 L1611.61 766.846 \n",
       "  L1626.01 766.846 L906.404 766.846 L906.404 766.846 L1626.01 766.846 L1611.61 766.846 L1597.22 766.846 L1582.83 766.846 L1568.44 766.846 L1554.05 766.846 L1539.65 766.846 \n",
       "  L1525.26 766.846 L1510.87 766.846 L1496.48 766.846 L1482.09 766.846 L1467.69 766.846 L1453.3 766.846 L1438.91 766.846 L1424.52 766.846 L1410.13 766.846 L1395.73 766.846 \n",
       "  L1381.34 766.846 L1366.95 766.846 L1352.56 766.846 L1338.16 766.846 L1323.77 766.846 L1309.38 766.846 L1294.99 766.846 L1280.6 766.846 L1266.2 766.846 L1251.81 766.846 \n",
       "  L1237.42 766.846 L1223.03 766.846 L1208.64 766.846 L1194.24 766.846 L1179.85 766.846 L1165.46 766.846 L1151.07 766.846 L1136.68 766.846 L1122.28 766.846 L1107.89 766.846 \n",
       "  L1093.5 766.846 L1079.11 766.846 L1064.72 766.846 L1050.32 766.846 L1035.93 766.846 L1021.54 766.846 L1007.15 766.846 L992.756 766.846 L978.364 766.846 L963.972 766.846 \n",
       "  L949.58 766.846 L935.188 766.846 L920.796 766.846 L906.404 766.846  Z\n",
       "  \" fill=\"#97b476\" fill-rule=\"evenodd\" fill-opacity=\"1\"/>\n",
       "<polyline clip-path=\"url(#clip002)\" style=\"stroke:#97b476; stroke-width:4; stroke-opacity:1; fill:none\" points=\"\n",
       "  906.404,766.846 920.796,766.846 935.188,766.846 949.58,766.846 963.972,766.846 978.364,766.846 992.756,766.846 1007.15,766.846 1021.54,766.846 1035.93,766.846 \n",
       "  1050.32,766.846 1064.72,766.846 1079.11,766.846 1093.5,766.846 1107.89,766.846 1122.28,766.846 1136.68,766.846 1151.07,766.846 1165.46,766.846 1179.85,766.846 \n",
       "  1194.24,766.846 1208.64,766.846 1223.03,766.846 1237.42,766.846 1251.81,766.846 1266.2,766.846 1280.6,766.846 1294.99,766.846 1309.38,766.846 1323.77,766.846 \n",
       "  1338.16,766.846 1352.56,766.846 1366.95,766.846 1381.34,766.846 1395.73,766.846 1410.13,766.846 1424.52,766.846 1438.91,766.846 1453.3,766.846 1467.69,766.846 \n",
       "  1482.09,766.846 1496.48,766.846 1510.87,766.846 1525.26,766.846 1539.65,766.846 1554.05,766.846 1568.44,766.846 1582.83,766.846 1597.22,766.846 1611.61,766.846 \n",
       "  1626.01,766.846 906.404,766.846 \n",
       "  \"/>\n",
       "</svg>\n"
      ]
     },
     "execution_count": 15,
     "metadata": {},
     "output_type": "execute_result"
    }
   ],
   "source": [
    "plot(body,xlim=xlim,ylim=ylim)"
   ]
  },
  {
   "cell_type": "markdown",
   "metadata": {},
   "source": [
    "Now set up the coordinate data for operator construction"
   ]
  },
  {
   "cell_type": "code",
   "execution_count": 16,
   "metadata": {},
   "outputs": [],
   "source": [
    "X = VectorData(collect(body));"
   ]
  },
  {
   "cell_type": "markdown",
   "metadata": {},
   "source": [
    "Set the grid spacing and time step size"
   ]
  },
  {
   "cell_type": "code",
   "execution_count": 17,
   "metadata": {},
   "outputs": [
    {
     "data": {
      "text/plain": [
       "0.01"
      ]
     },
     "execution_count": 17,
     "metadata": {},
     "output_type": "execute_result"
    }
   ],
   "source": [
    "Δx = 0.02\n",
    "cfl = 0.5\n",
    "Δt = min(cfl*Δx,0.5*Δx^2*Re)"
   ]
  },
  {
   "cell_type": "markdown",
   "metadata": {},
   "source": [
    "### Constructing operators and the solution structures\n",
    "We will solve this problem with a state vector that consists of the fluid vorticity field and the configuration vector of the body. The fluid vorticity field will be evolved by the Navier-Stokes equations, constrained by the no-slip condition on the body. The body configuration will be updated by its prescribed motion. This configuration and prescribed motion will also be used by the fluid solution."
   ]
  },
  {
   "cell_type": "markdown",
   "metadata": {},
   "source": [
    "#### Set up the state vector and constraint force vector for a moving body"
   ]
  },
  {
   "cell_type": "code",
   "execution_count": 18,
   "metadata": {},
   "outputs": [
    {
     "data": {
      "text/plain": [
       "Navier-Stokes system on a grid of size 104 x 104"
      ]
     },
     "execution_count": 18,
     "metadata": {},
     "output_type": "execute_result"
    }
   ],
   "source": [
    "sys = NavierStokes(Re,Δx,xlim,ylim,Δt,U∞ = U∞, X̃ = X, isstore = true, isstatic = false)"
   ]
  },
  {
   "cell_type": "markdown",
   "metadata": {},
   "source": [
    "Set up solution data"
   ]
  },
  {
   "cell_type": "code",
   "execution_count": 22,
   "metadata": {},
   "outputs": [],
   "source": [
    "w₀ = Nodes(Dual,size(sys));\n",
    "xg, yg = coordinates(w₀,dx=Δx,I0=origin(sys));"
   ]
  },
  {
   "cell_type": "markdown",
   "metadata": {},
   "source": [
    "Set up the state vector and the constraint force vector. The latter is empty for the body motion equation"
   ]
  },
  {
   "cell_type": "code",
   "execution_count": 23,
   "metadata": {},
   "outputs": [],
   "source": [
    "u = (w₀,[cent...,α])\n",
    "f = (zero(X),Vector{Float64}());"
   ]
  },
  {
   "cell_type": "markdown",
   "metadata": {},
   "source": [
    "Construct plans for calculating the integrating factor for each set of equations. The fluid equations use the standard plan for Navier-Stokes systems. The body motion equation has no integrating factor, so it is set to the identity matrix."
   ]
  },
  {
   "cell_type": "code",
   "execution_count": 26,
   "metadata": {},
   "outputs": [
    {
     "data": {
      "text/plain": [
       "(plan_intfact1, plan_intfact2)"
      ]
     },
     "execution_count": 26,
     "metadata": {},
     "output_type": "execute_result"
    }
   ],
   "source": [
    "plan_intfact1(t,u) = CartesianGrids.plan_intfact(t,u,sys)\n",
    "plan_intfact2(t,u) = I\n",
    "integrating_factor_plans = (plan_intfact1,plan_intfact2)    "
   ]
  },
  {
   "cell_type": "markdown",
   "metadata": {},
   "source": [
    "Create a function that specifies how the constraint operators should be constructed and applied by the time marching. This function takes the current state of the body and then updates the regularization and interpolation operators with it."
   ]
  },
  {
   "cell_type": "code",
   "execution_count": 53,
   "metadata": {},
   "outputs": [],
   "source": [
    "function ConstrainedSystems.plan_constraints(u::Tuple{Nodes{Dual,NX,NY},Vector{Float64}},t,sys::NavierStokes{NX,NY,N,false}) where {NX,NY,N}\n",
    "\n",
    "  # for now, just assume that there is only one body. will fix later.\n",
    "\n",
    "  xc, yc, α = u[2]\n",
    "  T = RigidTransform((xc,yc),α)\n",
    "  # should be able to save some time and memory allocation here...\n",
    "  x, y = T(sys.X̃.u,sys.X̃.v)\n",
    "  X = VectorData(x,y)\n",
    "  regop = Regularize(X,cellsize(sys);issymmetric=true,I0=origin(sys))\n",
    "  if sys._isstore\n",
    "    Hmat, Emat = RegularizationMatrix(regop,sys.Vb,sys.Fq)\n",
    "      \n",
    "    sys.Hmat = Hmat\n",
    "    sys.Emat = Emat\n",
    "    # THIS DEF BELOW CHANGED\n",
    "    return (f->B₁ᵀ(f,sys), f->zeros(Float64,size(u[2]))),\n",
    "           (w->B₂(w,sys), u->Vector{Float64}())\n",
    "  else\n",
    "    return (f->B₁ᵀ(f,regop,sys), f->zeros(Float64,size(u[2]))),\n",
    "           (w->B₂(w,regop,sys), u->Vector{Float64}())\n",
    "  end\n",
    "\n",
    "\n",
    "end"
   ]
  },
  {
   "cell_type": "code",
   "execution_count": 54,
   "metadata": {},
   "outputs": [
    {
     "data": {
      "text/plain": [
       "true"
      ]
     },
     "execution_count": 54,
     "metadata": {},
     "output_type": "execute_result"
    }
   ],
   "source": [
    "sys._isstore"
   ]
  },
  {
   "cell_type": "markdown",
   "metadata": {},
   "source": [
    "Construct the solver."
   ]
  },
  {
   "cell_type": "code",
   "execution_count": 55,
   "metadata": {},
   "outputs": [
    {
     "ename": "LoadError",
     "evalue": "MethodError: no method matching B₁ᵀ(::VectorData{51,Float64,Array{Float64,1}}, ::NavierStokes{104,104,51,false})\nClosest candidates are:\n  B₁ᵀ(::VectorData{N,T,DT} where DT<:(AbstractArray{T,1} where T) where T, !Matched::NavierStokes{NX,NY,N,true}) where {NX, NY, N} at /home/sinan/.julia/packages/ViscousFlow/bXeta/src/navierstokes/rigidbodyoperators.jl:22\n  B₁ᵀ(::VectorData{N,T,DT} where DT<:(AbstractArray{T,1} where T) where T, !Matched::Regularize, !Matched::NavierStokes{NX,NY,N,false}) where {NX, NY, N} at /home/sinan/.julia/packages/ViscousFlow/bXeta/src/navierstokes/rigidbodyoperators.jl:26",
     "output_type": "error",
     "traceback": [
      "MethodError: no method matching B₁ᵀ(::VectorData{51,Float64,Array{Float64,1}}, ::NavierStokes{104,104,51,false})\nClosest candidates are:\n  B₁ᵀ(::VectorData{N,T,DT} where DT<:(AbstractArray{T,1} where T) where T, !Matched::NavierStokes{NX,NY,N,true}) where {NX, NY, N} at /home/sinan/.julia/packages/ViscousFlow/bXeta/src/navierstokes/rigidbodyoperators.jl:22\n  B₁ᵀ(::VectorData{N,T,DT} where DT<:(AbstractArray{T,1} where T) where T, !Matched::Regularize, !Matched::NavierStokes{NX,NY,N,false}) where {NX, NY, N} at /home/sinan/.julia/packages/ViscousFlow/bXeta/src/navierstokes/rigidbodyoperators.jl:26",
      "",
      "Stacktrace:",
      " [1] (::var\"#115#123\"{NavierStokes{104,104,51,false}})(::VectorData{51,Float64,Array{Float64,1}}) at ./In[53]:17",
      " [2] (::ConstrainedSystems.var\"#47#48\"{var\"#115#123\"{NavierStokes{104,104,51,false}},VectorData{51,Float64,Array{Float64,1}}})(::Array{Float64,1}) at /home/sinan/.julia/packages/ConstrainedSystems/pgefJ/src/saddlepoint/linearmaps.jl:66",
      " [3] A_mul_B!(::Array{Float64,1}, ::LinearMaps.FunctionMap{Float64,ConstrainedSystems.var\"#47#48\"{var\"#115#123\"{NavierStokes{104,104,51,false}},VectorData{51,Float64,Array{Float64,1}}},Nothing}, ::Array{Float64,1}) at /home/sinan/.julia/packages/LinearMaps/07z1W/src/functionmap.jl:112",
      " [4] _compositemul!(::Array{Float64,1}, ::LinearMaps.CompositeMap{Float64,Tuple{LinearMaps.FunctionMap{Float64,ConstrainedSystems.var\"#47#48\"{var\"#115#123\"{NavierStokes{104,104,51,false}},VectorData{51,Float64,Array{Float64,1}}},Nothing},LinearMaps.FunctionMap{Float64,ConstrainedSystems.var\"#49#50\"{ConstrainedSystems.IFOperator,Nodes{Dual,104,104,Float64,Array{Float64,2}}},Nothing},LinearMaps.FunctionMap{Float64,ConstrainedSystems.var\"#47#48\"{var\"#117#125\"{NavierStokes{104,104,51,false}},Nodes{Dual,104,104,Float64,Array{Float64,2}}},Nothing}}}, ::Array{Float64,1}, ::Array{Float64,1}, ::Array{Float64,1}) at /home/sinan/.julia/packages/LinearMaps/07z1W/src/composition.jl:151",
      " [5] A_mul_B!(::Array{Float64,1}, ::LinearMaps.CompositeMap{Float64,Tuple{LinearMaps.FunctionMap{Float64,ConstrainedSystems.var\"#47#48\"{var\"#115#123\"{NavierStokes{104,104,51,false}},VectorData{51,Float64,Array{Float64,1}}},Nothing},LinearMaps.FunctionMap{Float64,ConstrainedSystems.var\"#49#50\"{ConstrainedSystems.IFOperator,Nodes{Dual,104,104,Float64,Array{Float64,2}}},Nothing},LinearMaps.FunctionMap{Float64,ConstrainedSystems.var\"#47#48\"{var\"#117#125\"{NavierStokes{104,104,51,false}},Nodes{Dual,104,104,Float64,Array{Float64,2}}},Nothing}}}, ::Array{Float64,1}) at /home/sinan/.julia/packages/LinearMaps/07z1W/src/composition.jl:139",
      " [6] mul!(::Array{Float64,1}, ::LinearMaps.CompositeMap{Float64,Tuple{LinearMaps.FunctionMap{Float64,ConstrainedSystems.var\"#47#48\"{var\"#115#123\"{NavierStokes{104,104,51,false}},VectorData{51,Float64,Array{Float64,1}}},Nothing},LinearMaps.FunctionMap{Float64,ConstrainedSystems.var\"#49#50\"{ConstrainedSystems.IFOperator,Nodes{Dual,104,104,Float64,Array{Float64,2}}},Nothing},LinearMaps.FunctionMap{Float64,ConstrainedSystems.var\"#47#48\"{var\"#117#125\"{NavierStokes{104,104,51,false}},Nodes{Dual,104,104,Float64,Array{Float64,2}}},Nothing}}}, ::Array{Float64,1}, ::Int64, ::Bool) at /home/sinan/.julia/packages/LinearMaps/07z1W/src/LinearMaps.jl:96",
      " [7] A_mul_B! at /home/sinan/.julia/packages/LinearMaps/07z1W/src/scaledmap.jl:59 [inlined]",
      " [8] mul! at /home/sinan/.julia/packages/LinearMaps/07z1W/src/LinearMaps.jl:78 [inlined]",
      " [9] muladd! at /home/sinan/.julia/packages/LinearMaps/07z1W/src/linearcombination.jl:111 [inlined]",
      " [10] __mul! at /home/sinan/.julia/packages/LinearMaps/07z1W/src/linearcombination.jl:107 [inlined]",
      " [11] __mul! at /home/sinan/.julia/packages/LinearMaps/07z1W/src/linearcombination.jl:106 [inlined]",
      " [12] _mul! at /home/sinan/.julia/packages/LinearMaps/07z1W/src/linearcombination.jl:101 [inlined]",
      " [13] mul! at /home/sinan/.julia/packages/LinearMaps/07z1W/src/linearcombination.jl:90 [inlined]",
      " [14] A_mul_B!(::SubArray{Float64,1,Array{Float64,2},Tuple{Base.Slice{Base.OneTo{Int64}},Int64},true}, ::LinearMaps.LinearCombination{Float64,Tuple{LinearMaps.WrappedMap{Float64,Array{Float64,2}},LinearMaps.ScaledMap{Float64,Int64,LinearMaps.CompositeMap{Float64,Tuple{LinearMaps.FunctionMap{Float64,ConstrainedSystems.var\"#47#48\"{var\"#115#123\"{NavierStokes{104,104,51,false}},VectorData{51,Float64,Array{Float64,1}}},Nothing},LinearMaps.FunctionMap{Float64,ConstrainedSystems.var\"#49#50\"{ConstrainedSystems.IFOperator,Nodes{Dual,104,104,Float64,Array{Float64,2}}},Nothing},LinearMaps.FunctionMap{Float64,ConstrainedSystems.var\"#47#48\"{var\"#117#125\"{NavierStokes{104,104,51,false}},Nodes{Dual,104,104,Float64,Array{Float64,2}}},Nothing}}}}}}, ::Array{Float64,1}) at /home/sinan/.julia/packages/LinearMaps/07z1W/src/linearcombination.jl:120",
      " [15] mul! at /home/sinan/.julia/packages/LinearMaps/07z1W/src/LinearMaps.jl:78 [inlined]",
      " [16] Array{T,2} where T(::LinearMaps.LinearCombination{Float64,Tuple{LinearMaps.WrappedMap{Float64,Array{Float64,2}},LinearMaps.ScaledMap{Float64,Int64,LinearMaps.CompositeMap{Float64,Tuple{LinearMaps.FunctionMap{Float64,ConstrainedSystems.var\"#47#48\"{var\"#115#123\"{NavierStokes{104,104,51,false}},VectorData{51,Float64,Array{Float64,1}}},Nothing},LinearMaps.FunctionMap{Float64,ConstrainedSystems.var\"#49#50\"{ConstrainedSystems.IFOperator,Nodes{Dual,104,104,Float64,Array{Float64,2}}},Nothing},LinearMaps.FunctionMap{Float64,ConstrainedSystems.var\"#47#48\"{var\"#117#125\"{NavierStokes{104,104,51,false}},Nodes{Dual,104,104,Float64,Array{Float64,2}}},Nothing}}}}}}) at /home/sinan/.julia/packages/LinearMaps/07z1W/src/conversion.jl:9",
      " [17] _schur_inverse_function(::LinearMaps.LinearCombination{Float64,Tuple{LinearMaps.WrappedMap{Float64,Array{Float64,2}},LinearMaps.ScaledMap{Float64,Int64,LinearMaps.CompositeMap{Float64,Tuple{LinearMaps.FunctionMap{Float64,ConstrainedSystems.var\"#47#48\"{var\"#115#123\"{NavierStokes{104,104,51,false}},VectorData{51,Float64,Array{Float64,1}}},Nothing},LinearMaps.FunctionMap{Float64,ConstrainedSystems.var\"#49#50\"{ConstrainedSystems.IFOperator,Nodes{Dual,104,104,Float64,Array{Float64,2}}},Nothing},LinearMaps.FunctionMap{Float64,ConstrainedSystems.var\"#47#48\"{var\"#117#125\"{NavierStokes{104,104,51,false}},Nodes{Dual,104,104,Float64,Array{Float64,2}}},Nothing}}}}}}, ::Type{T} where T, ::Int64, ::Type{Direct}, ::Pair{Symbol,Float64}) at /home/sinan/.julia/packages/ConstrainedSystems/pgefJ/src/saddlepoint/saddlesystems.jl:74",
      " [18] SaddleSystem(::LinearMaps.FunctionMap{Float64,ConstrainedSystems.var\"#45#46\"{ConstrainedSystems.IFOperator,Nodes{Dual,104,104,Float64,Array{Float64,2}}},Nothing}, ::LinearMaps.FunctionMap{Float64,ConstrainedSystems.var\"#47#48\"{var\"#117#125\"{NavierStokes{104,104,51,false}},Nodes{Dual,104,104,Float64,Array{Float64,2}}},Nothing}, ::LinearMaps.FunctionMap{Float64,ConstrainedSystems.var\"#47#48\"{var\"#115#123\"{NavierStokes{104,104,51,false}},VectorData{51,Float64,Array{Float64,1}}},Nothing}, ::LinearMaps.WrappedMap{Float64,Array{Float64,2}}, ::LinearMaps.FunctionMap{Float64,ConstrainedSystems.var\"#49#50\"{ConstrainedSystems.IFOperator,Nodes{Dual,104,104,Float64,Array{Float64,2}}},Nothing}, ::LinearMaps.FunctionMap{Float64,ConstrainedSystems.var\"#31#32\"{UniformScaling{Bool}},Nothing}, ::Type{T} where T, ::Type{T} where T; solver::Type{Direct}, kwargs::Base.Iterators.Pairs{Symbol,Float64,Tuple{Symbol},NamedTuple{(:tol,),Tuple{Float64}}}) at /home/sinan/.julia/packages/ConstrainedSystems/pgefJ/src/saddlepoint/saddlesystems.jl:64",
      " [19] SaddleSystem(::ConstrainedSystems.IFOperator, ::Function, ::Function, ::Array{Float64,2}, ::Nodes{Dual,104,104,Float64,Array{Float64,2}}, ::VectorData{51,Float64,Array{Float64,1}}; eltype::Type{T} where T, filter::UniformScaling{Bool}, solver::Type{Direct}, kwargs::Base.Iterators.Pairs{Symbol,Float64,Tuple{Symbol},NamedTuple{(:tol,),Tuple{Float64}}}) at /home/sinan/.julia/packages/ConstrainedSystems/pgefJ/src/saddlepoint/saddlesystems.jl:125",
      " [20] SaddleSystem(::ConstrainedSystems.IFOperator, ::Function, ::Function, ::Nodes{Dual,104,104,Float64,Array{Float64,2}}, ::VectorData{51,Float64,Array{Float64,1}}; eltype::Type{T} where T, filter::UniformScaling{Bool}, solver::Type{Direct}, kwargs::Base.Iterators.Pairs{Symbol,Float64,Tuple{Symbol},NamedTuple{(:tol,),Tuple{Float64}}}) at /home/sinan/.julia/packages/ConstrainedSystems/pgefJ/src/saddlepoint/saddlesystems.jl:134",
      " [21] SaddleSystem(::ConstrainedSystems.IFOperator, ::Function, ::Function, ::RecursiveArrayTools.ArrayPartition{Float64,Tuple{Nodes{Dual,104,104,Float64,Array{Float64,2}},VectorData{51,Float64,Array{Float64,1}}}}; eltype::Type{T} where T, filter::UniformScaling{Bool}, solver::Type{Direct}, kwargs::Base.Iterators.Pairs{Symbol,Float64,Tuple{Symbol},NamedTuple{(:tol,),Tuple{Float64}}}) at /home/sinan/.julia/packages/ConstrainedSystems/pgefJ/src/saddlepoint/saddlesystems.jl:147",
      " [22] (::ConstrainedSystems.var\"#85#86\"{Float64,DataType})(::Nodes{Dual,104,104,Float64,Array{Float64,2}}, ::VectorData{51,Float64,Array{Float64,1}}, ::CartesianGrids.IntFact{104,104,0.0625,false}, ::Function, ::Function) at /home/sinan/.julia/packages/ConstrainedSystems/pgefJ/src/timemarching/ifherk.jl:213",
      " [23] map(::Function, ::Tuple{Nodes{Dual,104,104,Float64,Array{Float64,2}},Array{Float64,1}}, ::Tuple{VectorData{51,Float64,Array{Float64,1}},Array{Float64,1}}, ::Tuple{CartesianGrids.IntFact{104,104,0.0625,false},UniformScaling{Bool}}, ::Vararg{Tuple,N} where N) at ./tuple.jl:196",
      " [24] #construct_saddlesys#84 at /home/sinan/.julia/packages/ConstrainedSystems/pgefJ/src/timemarching/ifherk.jl:213 [inlined]",
      " [25] (::ConstrainedSystems.var\"#71#80\"{Float64,Bool,DataType,Tuple{Nodes{Dual,104,104,Float64,Array{Float64,2}},Array{Float64,1}},Tuple{VectorData{51,Float64,Array{Float64,1}},Array{Float64,1}},typeof(plan_constraints)})(::Tuple{CartesianGrids.IntFact{104,104,0.0625,false},UniformScaling{Bool}}) at ./none:0",
      " [26] iterate at ./generator.jl:47 [inlined]",
      " [27] collect(::Base.Generator{Array{Tuple{CartesianGrids.IntFact{104,104,a,false} where a,UniformScaling{Bool}},1},ConstrainedSystems.var\"#71#80\"{Float64,Bool,DataType,Tuple{Nodes{Dual,104,104,Float64,Array{Float64,2}},Array{Float64,1}},Tuple{VectorData{51,Float64,Array{Float64,1}},Array{Float64,1}},typeof(plan_constraints)}}) at ./array.jl:686",
      " [28] IFHERK(::Tuple{Nodes{Dual,104,104,Float64,Array{Float64,2}},Array{Float64,1}}, ::Tuple{VectorData{51,Float64,Array{Float64,1}},Array{Float64,1}}, ::Float64, ::Tuple{typeof(plan_intfact1),typeof(plan_intfact2)}, ::typeof(plan_constraints), ::Tuple{typeof(r₁),typeof(r₂)}; tol::Float64, conditioner::ConstrainedSystems.var\"#74#83\", issymmetric::Bool, isstaticconstraints::Bool, isstaticmatrix::Bool, schursolver::Type{T} where T, rk::ConstrainedSystems.RKParams{3}) at /home/sinan/.julia/packages/ConstrainedSystems/pgefJ/src/timemarching/ifherk.jl:126",
      " [29] top-level scope at In[55]:9",
      " [30] include_string(::Function, ::Module, ::String, ::String) at ./loading.jl:1091",
      " [31] execute_code(::String, ::String) at /home/sinan/.julia/packages/IJulia/a1SNk/src/execute_request.jl:27",
      " [32] execute_request(::ZMQ.Socket, ::IJulia.Msg) at /home/sinan/.julia/packages/IJulia/a1SNk/src/execute_request.jl:86",
      " [33] #invokelatest#1 at ./essentials.jl:710 [inlined]",
      " [34] invokelatest at ./essentials.jl:709 [inlined]",
      " [35] eventloop(::ZMQ.Socket) at /home/sinan/.julia/packages/IJulia/a1SNk/src/eventloop.jl:8",
      " [36] (::IJulia.var\"#15#18\")() at ./task.jl:356"
     ]
    }
   ],
   "source": [
    "# This embeds the system information into the function.\n",
    "plan_constraints(u,t) = ConstrainedSystems.plan_constraints(u,t,sys)\n",
    "\n",
    "# Use the pre-defined functions for the right-hand side routines\n",
    "r₁(u,t) = ConstrainedSystems.r₁(u,t,sys,motion)\n",
    "r₂(u,t) = ConstrainedSystems.r₂(u,t,sys,motion)\n",
    "\n",
    "# Construct the solver from IFHERK\n",
    "solver = IFHERK(u,f,sys.Δt,\n",
    "                integrating_factor_plans,plan_constraints,\n",
    "                (r₁,r₂),rk=ConstrainedSystems.RK31,isstaticconstraints=false)"
   ]
  },
  {
   "cell_type": "code",
   "execution_count": 51,
   "metadata": {},
   "outputs": [],
   "source": [
    "t = 0.0\n",
    "w₀ .= 0.0\n",
    "\n",
    "u = (deepcopy(w₀),[cent...,α])\n",
    "f = (zero(X),Vector{Float64}());\n",
    "\n",
    "tf = 3.5;\n",
    "T = Δt:Δt:tf;\n",
    "fx = Float64[];\n",
    "fy = Float64[];\n",
    "thist = [];\n",
    "uhist = [];\n",
    "tsample = 0.1;"
   ]
  },
  {
   "cell_type": "markdown",
   "metadata": {},
   "source": [
    "Advance the system"
   ]
  },
  {
   "cell_type": "code",
   "execution_count": 52,
   "metadata": {},
   "outputs": [
    {
     "ename": "LoadError",
     "evalue": "MethodError: Cannot `convert` an object of type Float64 to an object of type Nodes{Dual,104,104,Float64,Array{Float64,2}}\nClosest candidates are:\n  convert(::Type{T}, !Matched::T) where T<:AbstractArray at abstractarray.jl:14\n  convert(::Type{T}, !Matched::Factorization) where T<:AbstractArray at /buildworker/worker/package_linux64/build/usr/share/julia/stdlib/v1.5/LinearAlgebra/src/factorization.jl:55\n  convert(::Type{T}, !Matched::T) where T at essentials.jl:171",
     "output_type": "error",
     "traceback": [
      "MethodError: Cannot `convert` an object of type Float64 to an object of type Nodes{Dual,104,104,Float64,Array{Float64,2}}\nClosest candidates are:\n  convert(::Type{T}, !Matched::T) where T<:AbstractArray at abstractarray.jl:14\n  convert(::Type{T}, !Matched::Factorization) where T<:AbstractArray at /buildworker/worker/package_linux64/build/usr/share/julia/stdlib/v1.5/LinearAlgebra/src/factorization.jl:55\n  convert(::Type{T}, !Matched::T) where T at essentials.jl:171",
      "",
      "Stacktrace:",
      " [1] _totuple at ./tuple.jl:243 [inlined]",
      " [2] Tuple{Nodes{Dual,104,104,Float64,Array{Float64,2}},Array{Float64,1}}(::Array{Float64,1}) at ./tuple.jl:230",
      " [3] (::IFHERK{3,Tuple{CartesianGrids.IntFact{104,104,a,false} where a,UniformScaling{Bool}},typeof(r₁),typeof(r₂),typeof(plan_constraints),Tuple{SaddleSystem{Float64,10816,102,Nodes{Dual,104,104,Float64,Array{Float64,2}},VectorData{51,Float64,Array{Float64,1}},Direct},SaddleSystem{Float64,3,0,Array{Float64,1},Array{Float64,1},Direct}},Tuple{Nodes{Dual,104,104,Float64,Array{Float64,2}},Array{Float64,1}},Tuple{VectorData{51,Float64,Array{Float64,1}},Array{Float64,1}}})(::Float64, ::Tuple{Nodes{Dual,104,104,Float64,Array{Float64,2}},Array{Float64,1}}) at /home/sinan/.julia/packages/ConstrainedSystems/pgefJ/src/timemarching/ifherk.jl:273",
      " [4] macro expansion at ./In[52]:2 [inlined]",
      " [5] top-level scope at ./timing.jl:174 [inlined]",
      " [6] top-level scope at ./In[52]:0",
      " [7] include_string(::Function, ::Module, ::String, ::String) at ./loading.jl:1091",
      " [8] execute_code(::String, ::String) at /home/sinan/.julia/packages/IJulia/a1SNk/src/execute_request.jl:27",
      " [9] execute_request(::ZMQ.Socket, ::IJulia.Msg) at /home/sinan/.julia/packages/IJulia/a1SNk/src/execute_request.jl:86",
      " [10] #invokelatest#1 at ./essentials.jl:710 [inlined]",
      " [11] invokelatest at ./essentials.jl:709 [inlined]",
      " [12] eventloop(::ZMQ.Socket) at /home/sinan/.julia/packages/IJulia/a1SNk/src/eventloop.jl:8",
      " [13] (::IJulia.var\"#15#18\")() at ./task.jl:356"
     ]
    }
   ],
   "source": [
    "@time for ti in T\n",
    "    global t, u, f = solver(t,u)\n",
    "    \n",
    "    # save data for later use\n",
    "    push!(thist,t)\n",
    "    push!(fx,sum(f[1].u)*Δx^2)\n",
    "    push!(fy,sum(f[1].v)*Δx^2)\n",
    "    (isapprox(mod(t,tsample),0,atol=1e-12) || isapprox(mod(t,tsample),tsample,atol=1e-12)) ? push!(uhist,deepcopy(u)) : nothing\n",
    "end\n",
    "println(\"solution completed through time t = \",t)"
   ]
  },
  {
   "cell_type": "code",
   "execution_count": 21,
   "metadata": {},
   "outputs": [
    {
     "ename": "LoadError",
     "evalue": "UndefVarError: uhist not defined",
     "output_type": "error",
     "traceback": [
      "UndefVarError: uhist not defined",
      "",
      "Stacktrace:",
      " [1] top-level scope at In[21]:1",
      " [2] include_string(::Function, ::Module, ::String, ::String) at ./loading.jl:1091",
      " [3] execute_code(::String, ::String) at /home/sinan/.julia/packages/IJulia/a1SNk/src/execute_request.jl:27",
      " [4] execute_request(::ZMQ.Socket, ::IJulia.Msg) at /home/sinan/.julia/packages/IJulia/a1SNk/src/execute_request.jl:86",
      " [5] #invokelatest#1 at ./essentials.jl:710 [inlined]",
      " [6] invokelatest at ./essentials.jl:709 [inlined]",
      " [7] eventloop(::ZMQ.Socket) at /home/sinan/.julia/packages/IJulia/a1SNk/src/eventloop.jl:8",
      " [8] (::IJulia.var\"#15#18\")() at ./task.jl:356"
     ]
    }
   ],
   "source": [
    "plot(xg,yg,vorticity(uhist[end][1],sys.grid),levels=range(-10,10,length=30),color = :RdBu,clim=(-10,10))\n",
    "Tr = RigidTransform(uhist[end][2])\n",
    "Tr(body) # transform the body to the current configuration\n",
    "plot!(body,linecolor=:black)"
   ]
  },
  {
   "cell_type": "code",
   "execution_count": 22,
   "metadata": {},
   "outputs": [
    {
     "ename": "LoadError",
     "evalue": "UndefVarError: uhist not defined",
     "output_type": "error",
     "traceback": [
      "UndefVarError: uhist not defined",
      "",
      "Stacktrace:",
      " [1] top-level scope at /home/sinan/.julia/packages/Plots/vsE7b/src/animation.jl:183",
      " [2] include_string(::Function, ::Module, ::String, ::String) at ./loading.jl:1091",
      " [3] execute_code(::String, ::String) at /home/sinan/.julia/packages/IJulia/a1SNk/src/execute_request.jl:27",
      " [4] execute_request(::ZMQ.Socket, ::IJulia.Msg) at /home/sinan/.julia/packages/IJulia/a1SNk/src/execute_request.jl:86",
      " [5] #invokelatest#1 at ./essentials.jl:710 [inlined]",
      " [6] invokelatest at ./essentials.jl:709 [inlined]",
      " [7] eventloop(::ZMQ.Socket) at /home/sinan/.julia/packages/IJulia/a1SNk/src/eventloop.jl:8",
      " [8] (::IJulia.var\"#15#18\")() at ./task.jl:356"
     ]
    }
   ],
   "source": [
    "@gif for i = 1:length(uhist)\n",
    "    plot(xg,yg,vorticity(uhist[i][1],sys.grid),levels=range(-10,10,length=30),color = :RdBu,clim=(-10,10))\n",
    "    Tr = RigidTransform(uhist[i][2])\n",
    "    Tr(body) # transform the body to the current configuration\n",
    "    plot!(body,linecolor=:black)\n",
    "end"
   ]
  },
  {
   "cell_type": "code",
   "execution_count": 23,
   "metadata": {},
   "outputs": [
    {
     "ename": "LoadError",
     "evalue": "UndefVarError: fx not defined",
     "output_type": "error",
     "traceback": [
      "UndefVarError: fx not defined",
      "",
      "Stacktrace:",
      " [1] top-level scope at In[23]:1",
      " [2] include_string(::Function, ::Module, ::String, ::String) at ./loading.jl:1091",
      " [3] execute_code(::String, ::String) at /home/sinan/.julia/packages/IJulia/a1SNk/src/execute_request.jl:27",
      " [4] execute_request(::ZMQ.Socket, ::IJulia.Msg) at /home/sinan/.julia/packages/IJulia/a1SNk/src/execute_request.jl:86",
      " [5] #invokelatest#1 at ./essentials.jl:710 [inlined]",
      " [6] invokelatest at ./essentials.jl:709 [inlined]",
      " [7] eventloop(::ZMQ.Socket) at /home/sinan/.julia/packages/IJulia/a1SNk/src/eventloop.jl:8",
      " [8] (::IJulia.var\"#15#18\")() at ./task.jl:356"
     ]
    }
   ],
   "source": [
    "px = plot(thist,2*fx,xlim=(0,Inf),ylim=(-3,3),xlabel=\"Convective time\",ylabel=\"\\$C_D\\$\",legend=false)\n",
    "py = plot(thist,2*fy,xlim=(0,Inf),ylim=(-6,6),xlabel=\"Convective time\",ylabel=\"\\$C_L\\$\",legend=false)\n",
    "plot(px,py)"
   ]
  },
  {
   "cell_type": "code",
   "execution_count": 24,
   "metadata": {},
   "outputs": [
    {
     "ename": "LoadError",
     "evalue": "UndefVarError: w₀ not defined",
     "output_type": "error",
     "traceback": [
      "UndefVarError: w₀ not defined",
      "",
      "Stacktrace:",
      " [1] top-level scope at In[24]:1",
      " [2] include_string(::Function, ::Module, ::String, ::String) at ./loading.jl:1091",
      " [3] execute_code(::String, ::String) at /home/sinan/.julia/packages/IJulia/a1SNk/src/execute_request.jl:27",
      " [4] execute_request(::ZMQ.Socket, ::IJulia.Msg) at /home/sinan/.julia/packages/IJulia/a1SNk/src/execute_request.jl:86",
      " [5] #invokelatest#1 at ./essentials.jl:710 [inlined]",
      " [6] invokelatest at ./essentials.jl:709 [inlined]",
      " [7] eventloop(::ZMQ.Socket) at /home/sinan/.julia/packages/IJulia/a1SNk/src/eventloop.jl:8",
      " [8] (::IJulia.var\"#15#18\")() at ./task.jl:356"
     ]
    }
   ],
   "source": [
    "ψ = deepcopy(w₀)\n",
    "ψ .= streamfunction(u[1],sys) .+ yg'\n",
    "plot(xg,yg,ψ,trim=1,clim=(-0.1,0.1))\n",
    "plot!(body,fillcolor=:black,linecolor=:black)"
   ]
  }
 ],
 "metadata": {
  "kernelspec": {
   "display_name": "JuliaPro_v1.5.3-1 1.5.3",
   "language": "julia",
   "name": "juliapro_v1.5.3-1-1.5"
  },
  "language_info": {
   "file_extension": ".jl",
   "mimetype": "application/julia",
   "name": "julia",
   "version": "1.5.3"
  }
 },
 "nbformat": 4,
 "nbformat_minor": 2
}
