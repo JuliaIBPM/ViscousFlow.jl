{
 "cells": [
  {
   "cell_type": "markdown",
   "metadata": {},
   "source": [
    "# 3. Applying pulse forcing to a flow\n",
    "Here, we will show how to apply a transient force (a 'pulse') to a flow."
   ]
  },
  {
   "cell_type": "code",
   "execution_count": null,
   "metadata": {},
   "outputs": [],
   "source": [
    "using ViscousFlow"
   ]
  },
  {
   "cell_type": "code",
   "execution_count": null,
   "metadata": {},
   "outputs": [],
   "source": [
    "using Plots"
   ]
  },
  {
   "cell_type": "markdown",
   "metadata": {},
   "source": [
    "For this case, we first seek to introduce a pulse to an otherwise quiescent fluid, with no boundaries. The pulse shape will be a smooth dipole, directed upward.\n",
    "\n",
    "We will start with the usual steps: specify the problem parameters and the discretization."
   ]
  },
  {
   "cell_type": "code",
   "execution_count": null,
   "metadata": {},
   "outputs": [],
   "source": [
    "Re = 200\n",
    "xlim, ylim = (-2,2), (-2,4)\n",
    "Δx,Δt = setstepsizes(Re,gridRe=4)"
   ]
  },
  {
   "cell_type": "markdown",
   "metadata": {},
   "source": [
    "### Construct the pulse\n",
    "Now create the pulse. For the spatial shape of this pulse, we make use of a Gaussian field, differentiated once in the `x` direction. We will center it at (0,0), and give it a strength of 10."
   ]
  },
  {
   "cell_type": "code",
   "execution_count": null,
   "metadata": {},
   "outputs": [],
   "source": [
    "σx = 0.5\n",
    "σy = 0.1\n",
    "gauss = SpatialGaussian(σx,σy,0,0,10,deriv=1);"
   ]
  },
  {
   "cell_type": "markdown",
   "metadata": {},
   "source": [
    "We now shape the pulse in time, also with a Gaussian. We center it at `t = 0.1` with temporal half-width of 0.1:"
   ]
  },
  {
   "cell_type": "code",
   "execution_count": null,
   "metadata": {},
   "outputs": [],
   "source": [
    "t0 = 0.1\n",
    "σt = 0.1\n",
    "pparams = PulseParams(gauss,t0,σt);"
   ]
  },
  {
   "cell_type": "markdown",
   "metadata": {},
   "source": [
    "### Construct the system structure\n",
    "We supply these pulse characteristics with the keyword argument `pulses` as we set up the usual system structure:"
   ]
  },
  {
   "cell_type": "code",
   "execution_count": null,
   "metadata": {},
   "outputs": [],
   "source": [
    "sys = NavierStokes(Re,Δx,xlim,ylim,Δt,pulses=pparams)"
   ]
  },
  {
   "cell_type": "markdown",
   "metadata": {},
   "source": [
    "The remaining steps go just as they did for the previous examples. We will simulate the pulse for 5 time units and make an animation of the results:"
   ]
  },
  {
   "cell_type": "code",
   "execution_count": null,
   "metadata": {},
   "outputs": [],
   "source": [
    "u0 = newstate(sys)\n",
    "tspan = (0.0,1.0)\n",
    "integrator = init(u0,tspan,sys)"
   ]
  },
  {
   "cell_type": "code",
   "execution_count": null,
   "metadata": {},
   "outputs": [],
   "source": [
    "step!(integrator,5.0)"
   ]
  },
  {
   "cell_type": "markdown",
   "metadata": {},
   "source": [
    "### Examine"
   ]
  },
  {
   "cell_type": "code",
   "execution_count": null,
   "metadata": {},
   "outputs": [],
   "source": [
    "sol = integrator.sol\n",
    "@gif for (u,t) in zip(sol.u,sol.t)\n",
    "    plot(vorticity(u,sys,t),sys)\n",
    "end every 5"
   ]
  },
  {
   "cell_type": "code",
   "execution_count": null,
   "metadata": {},
   "outputs": [],
   "source": [
    "plot(streamfunction(integrator),sys,title=\"Streamfunction at t = $(round(integrator.t,digits=2))\")"
   ]
  },
  {
   "cell_type": "markdown",
   "metadata": {},
   "source": [
    "We can also supply more than one pulse. Let's give 3, each separated by 1 time unit."
   ]
  },
  {
   "cell_type": "code",
   "execution_count": null,
   "metadata": {},
   "outputs": [],
   "source": [
    "pparams = [PulseParams(gauss,0.1,0.1), PulseParams(gauss,1.1,0.1), PulseParams(gauss,2.1,0.1)];"
   ]
  },
  {
   "cell_type": "code",
   "execution_count": null,
   "metadata": {},
   "outputs": [],
   "source": [
    "sys = NavierStokes(Re,Δx,xlim,ylim,Δt,pulses=pparams)"
   ]
  },
  {
   "cell_type": "code",
   "execution_count": null,
   "metadata": {},
   "outputs": [],
   "source": [
    "u0 = newstate(sys)\n",
    "tspan = (0.0,1.0)\n",
    "integrator = init(u0,tspan,sys)"
   ]
  },
  {
   "cell_type": "code",
   "execution_count": null,
   "metadata": {},
   "outputs": [],
   "source": [
    "step!(integrator,4.0)"
   ]
  },
  {
   "cell_type": "code",
   "execution_count": null,
   "metadata": {},
   "outputs": [],
   "source": [
    "sol = integrator.sol\n",
    "@gif for (u,t) in zip(sol.u,sol.t)\n",
    "    plot(vorticity(u,sys,t),sys)\n",
    "end every 5"
   ]
  },
  {
   "cell_type": "code",
   "execution_count": null,
   "metadata": {},
   "outputs": [],
   "source": []
  }
 ],
 "metadata": {
  "@webio": {
   "lastCommId": null,
   "lastKernelId": null
  },
  "kernelspec": {
   "display_name": "Julia 1.4.2",
   "language": "julia",
   "name": "julia-1.4"
  },
  "language_info": {
   "file_extension": ".jl",
   "mimetype": "application/julia",
   "name": "julia",
   "version": "1.4.2"
  }
 },
 "nbformat": 4,
 "nbformat_minor": 2
}
