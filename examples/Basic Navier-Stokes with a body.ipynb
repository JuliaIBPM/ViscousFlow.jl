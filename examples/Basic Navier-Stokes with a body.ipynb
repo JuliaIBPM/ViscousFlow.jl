{
 "cells": [
  {
   "cell_type": "markdown",
   "metadata": {},
   "source": [
    "# Solving Navier-Stokes with a stationary body"
   ]
  },
  {
   "cell_type": "code",
   "execution_count": 1,
   "metadata": {},
   "outputs": [],
   "source": [
    "using ViscousFlow"
   ]
  },
  {
   "cell_type": "code",
   "execution_count": null,
   "metadata": {
    "scrolled": true
   },
   "outputs": [],
   "source": [
    "using Plots\n",
    "pyplot()\n",
    "default(grid = false)"
   ]
  },
  {
   "cell_type": "markdown",
   "metadata": {},
   "source": [
    "Set the flow parameters"
   ]
  },
  {
   "cell_type": "code",
   "execution_count": null,
   "metadata": {},
   "outputs": [],
   "source": [
    "Re = 200; # Reynolds number\n",
    "U = 1.0; # Free stream velocity\n",
    "U∞ = (U,0.0);"
   ]
  },
  {
   "cell_type": "markdown",
   "metadata": {},
   "source": [
    "Set up the domain, grid spacing, and time step size"
   ]
  },
  {
   "cell_type": "code",
   "execution_count": null,
   "metadata": {},
   "outputs": [],
   "source": [
    "xlim = (-1.0,3.0)\n",
    "ylim = (-1.0,1.0)\n",
    "\n",
    "Δx, Δt = setstepsizes(Re)"
   ]
  },
  {
   "cell_type": "markdown",
   "metadata": {},
   "source": [
    "#### Set up points on the body. We set the points so that the spacing between them is 1.5 times the grid spacing."
   ]
  },
  {
   "cell_type": "markdown",
   "metadata": {},
   "source": [
    "Here is a plate:"
   ]
  },
  {
   "cell_type": "code",
   "execution_count": null,
   "metadata": {},
   "outputs": [],
   "source": [
    "body = Plate(1.0,1.5Δx)"
   ]
  },
  {
   "cell_type": "markdown",
   "metadata": {},
   "source": [
    "or here is a NACA 0012 airfoil"
   ]
  },
  {
   "cell_type": "code",
   "execution_count": null,
   "metadata": {},
   "outputs": [],
   "source": [
    "#body = NACA4(0.0,0.0,0.12,1.5Δx)"
   ]
  },
  {
   "cell_type": "markdown",
   "metadata": {},
   "source": [
    "#### Transform the body to a specified initial position and orientation."
   ]
  },
  {
   "cell_type": "code",
   "execution_count": null,
   "metadata": {},
   "outputs": [],
   "source": [
    "cent = (0.0,0.0)\n",
    "α = 40π/180 #π/3 #π/4\n",
    "T = RigidTransform(cent,-α)\n",
    "T(body) # transform the body to the current configuration"
   ]
  },
  {
   "cell_type": "code",
   "execution_count": null,
   "metadata": {},
   "outputs": [],
   "source": [
    "plot(body,xlim=xlim,ylim=ylim)"
   ]
  },
  {
   "cell_type": "markdown",
   "metadata": {},
   "source": [
    "Collect the body point data into a vector"
   ]
  },
  {
   "cell_type": "code",
   "execution_count": null,
   "metadata": {},
   "outputs": [],
   "source": [
    "X = VectorData(collect(body));"
   ]
  },
  {
   "cell_type": "markdown",
   "metadata": {},
   "source": [
    "### Now set up the system"
   ]
  },
  {
   "cell_type": "markdown",
   "metadata": {},
   "source": [
    "Set up the system operators"
   ]
  },
  {
   "cell_type": "code",
   "execution_count": null,
   "metadata": {},
   "outputs": [],
   "source": [
    "sys = NavierStokes(Re,Δx,xlim,ylim,Δt,U∞ = U∞, X̃ = X, isstore = true)"
   ]
  },
  {
   "cell_type": "markdown",
   "metadata": {},
   "source": [
    "Initial conditions, and grid coordinates"
   ]
  },
  {
   "cell_type": "code",
   "execution_count": null,
   "metadata": {},
   "outputs": [],
   "source": [
    "w₀ = Nodes(Dual,size(sys));\n",
    "f = VectorData(X);\n",
    "xg, yg = coordinates(w₀,dx=cellsize(sys),I0=origin(sys))"
   ]
  },
  {
   "cell_type": "markdown",
   "metadata": {},
   "source": [
    "Set up the integrator here"
   ]
  },
  {
   "cell_type": "code",
   "execution_count": null,
   "metadata": {},
   "outputs": [],
   "source": [
    "plan_intfact(t,u) = CartesianGrids.plan_intfact(t,u,sys)\n",
    "plan_constraints(u,t) = ConstrainedSystems.plan_constraints(u,t,sys)\n",
    "r₁(u,t) = ConstrainedSystems.r₁(u,t,sys)\n",
    "r₂(u,t) = ConstrainedSystems.r₂(u,t,sys)\n",
    "\n",
    "\n",
    "@time solver = IFHERK(w₀,f,timestep(sys),plan_intfact,plan_constraints,(r₁,r₂),rk=ConstrainedSystems.RK31)"
   ]
  },
  {
   "cell_type": "code",
   "execution_count": null,
   "metadata": {},
   "outputs": [],
   "source": [
    "w₀"
   ]
  },
  {
   "cell_type": "markdown",
   "metadata": {},
   "source": [
    "Initialize the state vector and the history vectors"
   ]
  },
  {
   "cell_type": "code",
   "execution_count": null,
   "metadata": {},
   "outputs": [],
   "source": [
    "t = 0.0\n",
    "u = zero(w₀)\n",
    "\n",
    "# Rate at which to store field data\n",
    "tsample = 0.2\n",
    "\n",
    "# Field data storage plan\n",
    "S = StorePlan(tsample,\"state\"=>u,\"time\"=>t)\n",
    "data_history = initialize_storage(S)\n",
    "\n",
    "# Force data storage plan, stored every time step\n",
    "F = StorePlan(timestep(sys),\"fx\"=>sum(f.u),\"fy\"=>sum(f.v),\"time\"=>t)\n",
    "force_history = initialize_storage(F)\n",
    "nothing"
   ]
  },
  {
   "cell_type": "markdown",
   "metadata": {},
   "source": [
    "### Advance the system!"
   ]
  },
  {
   "cell_type": "markdown",
   "metadata": {},
   "source": [
    "Set the length of time to integrate over."
   ]
  },
  {
   "cell_type": "code",
   "execution_count": null,
   "metadata": {},
   "outputs": [],
   "source": [
    "tsim = 1.0;"
   ]
  },
  {
   "cell_type": "code",
   "execution_count": null,
   "metadata": {},
   "outputs": [],
   "source": [
    "for ti in timerange(tsim,sys)\n",
    "    global t, u, f = solver(t,u)\n",
    "    \n",
    "    fds = force(f,sys) \n",
    "    \n",
    "    store_data!(data_history,t,S,\"state\" => u, \"time\" => t)\n",
    "    store_data!(force_history,t,F,\"fx\" => sum(fds.u),\"fy\" => sum(fds.v),\"time\" => t)\n",
    "    \n",
    " end\n",
    "println(\"solution completed through time t = \",t)"
   ]
  },
  {
   "cell_type": "markdown",
   "metadata": {},
   "source": [
    "#### Plotting"
   ]
  },
  {
   "cell_type": "markdown",
   "metadata": {},
   "source": [
    "Basic plot"
   ]
  },
  {
   "cell_type": "code",
   "execution_count": null,
   "metadata": {},
   "outputs": [],
   "source": [
    "plot(xg,yg,vorticity(data_history[\"state\"][end],sys),levels=range(-15,15,length=30), color = :RdBu,clim=(-15,15))\n",
    "plot!(body)"
   ]
  },
  {
   "cell_type": "markdown",
   "metadata": {},
   "source": [
    "Streamlines"
   ]
  },
  {
   "cell_type": "code",
   "execution_count": null,
   "metadata": {},
   "outputs": [],
   "source": [
    "plot(xg,yg,streamfunction(data_history[\"state\"][end],sys),levels=range(-1,1,length=31), color = :black,clim=(-0.25,0.25),xlim=(-1,3),ylim=(-1,1))\n",
    "plot!(body)"
   ]
  },
  {
   "cell_type": "markdown",
   "metadata": {},
   "source": [
    "Plot lift and drag coefficient"
   ]
  },
  {
   "cell_type": "code",
   "execution_count": null,
   "metadata": {},
   "outputs": [],
   "source": [
    "plt = plot(layout = (2,1), size = (600, 400))\n",
    "plot!(plt[1],force_history[\"time\"],2*force_history[\"fy\"],xlim=(0,6),ylim=(0,4),xlabel=\"Convective time\",ylabel=\"\\$C_L\\$\",legend=false)\n",
    "plot!(plt[2],force_history[\"time\"],2*force_history[\"fx\"],xlim=(0,6),ylim=(0,4),xlabel=\"Convective time\",ylabel=\"\\$C_D\\$\",legend=false)\n",
    "plt"
   ]
  },
  {
   "cell_type": "code",
   "execution_count": null,
   "metadata": {},
   "outputs": [],
   "source": []
  }
 ],
 "metadata": {
  "kernelspec": {
   "display_name": "JuliaPro_v1.5.3-1 1.5.3",
   "language": "julia",
   "name": "juliapro_v1.5.3-1-1.5"
  },
  "language_info": {
   "file_extension": ".jl",
   "mimetype": "application/julia",
   "name": "julia",
   "version": "1.5.3"
  }
 },
 "nbformat": 4,
 "nbformat_minor": 2
}
