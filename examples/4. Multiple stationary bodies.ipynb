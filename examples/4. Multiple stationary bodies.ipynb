{
 "cells": [
  {
   "cell_type": "markdown",
   "metadata": {},
   "source": [
    "# 4. Multiple stationary bodies\n",
    "Adding multiple bodies to a problem is easy, using the concepts of a `BodyList` and `RigidTransformList`."
   ]
  },
  {
   "cell_type": "code",
   "execution_count": null,
   "metadata": {},
   "outputs": [],
   "source": [
    "using ViscousFlow"
   ]
  },
  {
   "cell_type": "code",
   "execution_count": null,
   "metadata": {},
   "outputs": [],
   "source": [
    "using Plots"
   ]
  },
  {
   "cell_type": "markdown",
   "metadata": {},
   "source": [
    "In this example, we will set up a problem with three cylinders arranged in a formation in a free stream."
   ]
  },
  {
   "cell_type": "code",
   "execution_count": null,
   "metadata": {},
   "outputs": [],
   "source": [
    "Re = 200 # Reynolds number\n",
    "U = 1.0 # Free stream velocity\n",
    "U∞ = (U,0.0);"
   ]
  },
  {
   "cell_type": "markdown",
   "metadata": {},
   "source": [
    "Set up the domain, grid spacing, and time step size"
   ]
  },
  {
   "cell_type": "code",
   "execution_count": null,
   "metadata": {},
   "outputs": [],
   "source": [
    "xlim = (-2.0,4.0)\n",
    "ylim = (-2.0,2.0)\n",
    "\n",
    "Δx, Δt = setstepsizes(Re,gridRe=4)"
   ]
  },
  {
   "cell_type": "markdown",
   "metadata": {},
   "source": [
    "### Set up bodies\n",
    "We start by initializing a `BodyList` and an associated `RigidTransformList`. Each member of the `RigidTransformList` will be used to place the respective body in the correct position and orientation."
   ]
  },
  {
   "cell_type": "code",
   "execution_count": null,
   "metadata": {},
   "outputs": [],
   "source": [
    "bl = BodyList()\n",
    "tl = RigidTransformList()"
   ]
  },
  {
   "cell_type": "markdown",
   "metadata": {},
   "source": [
    "Place the first body at (-1,0)"
   ]
  },
  {
   "cell_type": "code",
   "execution_count": null,
   "metadata": {},
   "outputs": [],
   "source": [
    "push!(bl,Circle(0.5,1.5Δx)) # note that we copy the body.\n",
    "push!(tl,RigidTransform((-1.,0.),0.));"
   ]
  },
  {
   "cell_type": "markdown",
   "metadata": {},
   "source": [
    "Place the second body at (1,-1)"
   ]
  },
  {
   "cell_type": "code",
   "execution_count": null,
   "metadata": {},
   "outputs": [],
   "source": [
    "push!(bl,Circle(0.5,1.5Δx)) # note that we copy the body.\n",
    "push!(tl,RigidTransform((1.,-1.),0.));"
   ]
  },
  {
   "cell_type": "markdown",
   "metadata": {},
   "source": [
    "Place the third body at (1,1)"
   ]
  },
  {
   "cell_type": "code",
   "execution_count": null,
   "metadata": {},
   "outputs": [],
   "source": [
    "push!(bl,Circle(0.5,1.5Δx)) # note that we copy the body.\n",
    "push!(tl,RigidTransform((1.,1.),0.))"
   ]
  },
  {
   "cell_type": "markdown",
   "metadata": {},
   "source": [
    "Perform the actual transformation. Note that this operation works `in-place`:"
   ]
  },
  {
   "cell_type": "code",
   "execution_count": null,
   "metadata": {},
   "outputs": [],
   "source": [
    "tl(bl)"
   ]
  },
  {
   "cell_type": "markdown",
   "metadata": {},
   "source": [
    "#### Plot the initial configuration of the bodies"
   ]
  },
  {
   "cell_type": "code",
   "execution_count": null,
   "metadata": {},
   "outputs": [],
   "source": [
    "plot(bl,xlim=xlim,ylim=ylim)"
   ]
  },
  {
   "cell_type": "markdown",
   "metadata": {},
   "source": [
    "### Construct the system structure\n",
    "We construct the system with the same syntax as for a single body:"
   ]
  },
  {
   "cell_type": "code",
   "execution_count": null,
   "metadata": {},
   "outputs": [],
   "source": [
    "sys = NavierStokes(Re,Δx,xlim,ylim,Δt,bl,freestream = U∞)"
   ]
  },
  {
   "cell_type": "code",
   "execution_count": null,
   "metadata": {},
   "outputs": [],
   "source": [
    "u0 = newstate(sys)\n",
    "tspan = (0.0,1.0)\n",
    "integrator = init(u0,tspan,sys)"
   ]
  },
  {
   "cell_type": "markdown",
   "metadata": {},
   "source": [
    "### Solve\n",
    "We will run this for a little while to see how the flow evolves:"
   ]
  },
  {
   "cell_type": "code",
   "execution_count": null,
   "metadata": {},
   "outputs": [],
   "source": [
    "@time step!(integrator,20.0)"
   ]
  },
  {
   "cell_type": "markdown",
   "metadata": {},
   "source": [
    "### Examine\n",
    "Let's make an animation"
   ]
  },
  {
   "cell_type": "code",
   "execution_count": null,
   "metadata": {},
   "outputs": [],
   "source": [
    "sol = integrator.sol;\n",
    "@gif for (u,t) in zip(sol.u,sol.t)\n",
    "    plot(vorticity(u,sys,t),sys,clim=(-10,10),levels=range(-10,10,length=30), color = :RdBu)\n",
    "end every 5"
   ]
  },
  {
   "cell_type": "markdown",
   "metadata": {},
   "source": [
    "Now we will examine the force on each body"
   ]
  },
  {
   "cell_type": "code",
   "execution_count": null,
   "metadata": {},
   "outputs": [],
   "source": [
    "fx1, fy1 = force(sol,sys,1)\n",
    "fx2, fy2 = force(sol,sys,2)\n",
    "fx3, fy3 = force(sol,sys,3);"
   ]
  },
  {
   "cell_type": "code",
   "execution_count": null,
   "metadata": {},
   "outputs": [],
   "source": [
    "plt = plot(layout = (2,1), size = (600, 400))\n",
    "plot!(plt[1],sol.t,2*fx1,xlim=(0,20),ylim=(0,4),xlabel=\"Convective time\",ylabel=\"\\$C_D\\$\",label=\"Lead body\",title=\"Drag force\")\n",
    "plot!(plt[2],sol.t,2*fy1,xlim=(0,20),ylim=(-2,2),xlabel=\"Convective time\",ylabel=\"\\$C_L\\$\",label=\"Lead body\",title=\"Side force\")\n",
    "plot!(plt[1],sol.t,2*fx2,xlim=(0,20),ylim=(0,4),xlabel=\"Convective time\",ylabel=\"\\$C_D\\$\",label=\"Trailing body\",title=\"Drag force\")\n",
    "plot!(plt[2],sol.t,2*fy2,xlim=(0,20),ylim=(-2,2),xlabel=\"Convective time\",ylabel=\"\\$C_L\\$\",label=\"Trailing body\",title=\"Side force\")"
   ]
  },
  {
   "cell_type": "code",
   "execution_count": null,
   "metadata": {},
   "outputs": [],
   "source": [
    "println(\"Mean drag coefficient on lead body = \", GridUtilities.mean(2*fx1))"
   ]
  },
  {
   "cell_type": "code",
   "execution_count": null,
   "metadata": {},
   "outputs": [],
   "source": [
    "println(\"Mean drag coefficient on trailing body = \", GridUtilities.mean(2*fx2))"
   ]
  },
  {
   "cell_type": "code",
   "execution_count": null,
   "metadata": {},
   "outputs": [],
   "source": []
  }
 ],
 "metadata": {
  "@webio": {
   "lastCommId": null,
   "lastKernelId": null
  },
  "kernelspec": {
   "display_name": "Julia 1.4.2",
   "language": "julia",
   "name": "julia-1.4"
  },
  "language_info": {
   "file_extension": ".jl",
   "mimetype": "application/julia",
   "name": "julia",
   "version": "1.4.2"
  }
 },
 "nbformat": 4,
 "nbformat_minor": 2
}
