{
 "cells": [
  {
   "cell_type": "markdown",
   "metadata": {},
   "source": [
    "# Calculation of streaming flows in package `ViscousFlow`"
   ]
  },
  {
   "cell_type": "code",
   "execution_count": 1,
   "metadata": {},
   "outputs": [],
   "source": [
    "using ViscousFlow"
   ]
  },
  {
   "cell_type": "code",
   "execution_count": 2,
   "metadata": {},
   "outputs": [
    {
     "ename": "LoadError",
     "evalue": "UndefVarError: Fields not defined",
     "output_type": "error",
     "traceback": [
      "UndefVarError: Fields not defined",
      "",
      "Stacktrace:",
      " [1] include_string(::Function, ::Module, ::String, ::String) at ./loading.jl:1091",
      " [2] execute_code(::String, ::String) at /home/sinan/.julia/packages/IJulia/a1SNk/src/execute_request.jl:27",
      " [3] execute_request(::ZMQ.Socket, ::IJulia.Msg) at /home/sinan/.julia/packages/IJulia/a1SNk/src/execute_request.jl:86",
      " [4] #invokelatest#1 at ./essentials.jl:710 [inlined]",
      " [5] invokelatest at ./essentials.jl:709 [inlined]",
      " [6] eventloop(::ZMQ.Socket) at /home/sinan/.julia/packages/IJulia/a1SNk/src/eventloop.jl:8",
      " [7] (::IJulia.var\"#15#18\")() at ./task.jl:356"
     ]
    }
   ],
   "source": [
    "import ViscousFlow.Fields: curl\n",
    "include(\"./Streaming.jl\")"
   ]
  },
  {
   "cell_type": "code",
   "execution_count": 3,
   "metadata": {},
   "outputs": [
    {
     "ename": "LoadError",
     "evalue": "InitError: PyError (PyImport_ImportModule\n\nThe Python package matplotlib could not be imported by pyimport. Usually this means\nthat you did not install matplotlib in the Python version being used by PyCall.\n\nPyCall is currently configured to use the Python version at:\n\n/usr/bin/python3\n\nand you should use whatever mechanism you usually use (apt-get, pip, conda,\netcetera) to install the Python package containing the matplotlib module.\n\nOne alternative is to re-configure PyCall to use a different Python\nversion on your system: set ENV[\"PYTHON\"] to the path/name of the python\nexecutable you want to use, run Pkg.build(\"PyCall\"), and re-launch Julia.\n\nAnother alternative is to configure PyCall to use a Julia-specific Python\ndistribution via the Conda.jl package (which installs a private Anaconda\nPython distribution), which has the advantage that packages can be installed\nand kept up-to-date via Julia.  As explained in the PyCall documentation,\nset ENV[\"PYTHON\"]=\"\", run Pkg.build(\"PyCall\"), and re-launch Julia. Then,\nTo install the matplotlib module, you can use `pyimport_conda(\"matplotlib\", PKG)`,\nwhere PKG is the Anaconda package the contains the module matplotlib,\nor alternatively you can use the Conda package directly (via\n`using Conda` followed by `Conda.add` etcetera).\n\n) <class 'ImportError'>\nImportError('\\n\\nIMPORTANT: PLEASE READ THIS FOR ADVICE ON HOW TO SOLVE THIS ISSUE!\\n\\nImporting the numpy c-extensions failed.\\n- Try uninstalling and reinstalling numpy.\\n- If you have already done that, then:\\n  1. Check that you expected to use Python3.7 from \"/usr/bin/python3\",\\n     and that you have no directories in your PATH or PYTHONPATH that can\\n     interfere with the Python and numpy version \"1.17.4\" you\\'re trying to use.\\n  2. If (1) looks fine, you can open a new issue at\\n     https://github.com/numpy/numpy/issues.  Please include details on:\\n     - how you installed Python\\n     - how you installed numpy\\n     - your operating system\\n     - whether or not you have multiple versions of Python installed\\n     - if you built from source, your compiler versions and ideally a build log\\n\\n- If you\\'re working with a numpy git repository, try `git clean -xdf`\\n  (removes all files not under version control) and rebuild numpy.\\n\\nNote: this error has many possible causes, so please don\\'t comment on\\nan existing issue about this - open a new one instead.\\n\\nOriginal error was: No module named \\'numpy.core._multiarray_umath\\'\\n')\n  File \"/usr/lib/python3/dist-packages/matplotlib/__init__.py\", line 138, in <module>\n    from . import cbook, rcsetup\n  File \"/usr/lib/python3/dist-packages/matplotlib/cbook/__init__.py\", line 31, in <module>\n    import numpy as np\n  File \"/usr/lib/python3/dist-packages/numpy/__init__.py\", line 142, in <module>\n    from . import core\n  File \"/usr/lib/python3/dist-packages/numpy/core/__init__.py\", line 47, in <module>\n    raise ImportError(msg)\n\nduring initialization of module PyPlot",
     "output_type": "error",
     "traceback": [
      "InitError: PyError (PyImport_ImportModule\n\nThe Python package matplotlib could not be imported by pyimport. Usually this means\nthat you did not install matplotlib in the Python version being used by PyCall.\n\nPyCall is currently configured to use the Python version at:\n\n/usr/bin/python3\n\nand you should use whatever mechanism you usually use (apt-get, pip, conda,\netcetera) to install the Python package containing the matplotlib module.\n\nOne alternative is to re-configure PyCall to use a different Python\nversion on your system: set ENV[\"PYTHON\"] to the path/name of the python\nexecutable you want to use, run Pkg.build(\"PyCall\"), and re-launch Julia.\n\nAnother alternative is to configure PyCall to use a Julia-specific Python\ndistribution via the Conda.jl package (which installs a private Anaconda\nPython distribution), which has the advantage that packages can be installed\nand kept up-to-date via Julia.  As explained in the PyCall documentation,\nset ENV[\"PYTHON\"]=\"\", run Pkg.build(\"PyCall\"), and re-launch Julia. Then,\nTo install the matplotlib module, you can use `pyimport_conda(\"matplotlib\", PKG)`,\nwhere PKG is the Anaconda package the contains the module matplotlib,\nor alternatively you can use the Conda package directly (via\n`using Conda` followed by `Conda.add` etcetera).\n\n) <class 'ImportError'>\nImportError('\\n\\nIMPORTANT: PLEASE READ THIS FOR ADVICE ON HOW TO SOLVE THIS ISSUE!\\n\\nImporting the numpy c-extensions failed.\\n- Try uninstalling and reinstalling numpy.\\n- If you have already done that, then:\\n  1. Check that you expected to use Python3.7 from \"/usr/bin/python3\",\\n     and that you have no directories in your PATH or PYTHONPATH that can\\n     interfere with the Python and numpy version \"1.17.4\" you\\'re trying to use.\\n  2. If (1) looks fine, you can open a new issue at\\n     https://github.com/numpy/numpy/issues.  Please include details on:\\n     - how you installed Python\\n     - how you installed numpy\\n     - your operating system\\n     - whether or not you have multiple versions of Python installed\\n     - if you built from source, your compiler versions and ideally a build log\\n\\n- If you\\'re working with a numpy git repository, try `git clean -xdf`\\n  (removes all files not under version control) and rebuild numpy.\\n\\nNote: this error has many possible causes, so please don\\'t comment on\\nan existing issue about this - open a new one instead.\\n\\nOriginal error was: No module named \\'numpy.core._multiarray_umath\\'\\n')\n  File \"/usr/lib/python3/dist-packages/matplotlib/__init__.py\", line 138, in <module>\n    from . import cbook, rcsetup\n  File \"/usr/lib/python3/dist-packages/matplotlib/cbook/__init__.py\", line 31, in <module>\n    import numpy as np\n  File \"/usr/lib/python3/dist-packages/numpy/__init__.py\", line 142, in <module>\n    from . import core\n  File \"/usr/lib/python3/dist-packages/numpy/core/__init__.py\", line 47, in <module>\n    raise ImportError(msg)\n\nduring initialization of module PyPlot",
      "",
      "Stacktrace:",
      " [1] pyimport(::String) at /home/sinan/.julia/packages/PyCall/BcTLp/src/PyCall.jl:547",
      " [2] pyimport_conda(::String, ::String, ::String) at /home/sinan/.julia/packages/PyCall/BcTLp/src/PyCall.jl:705",
      " [3] pyimport_conda at /home/sinan/.julia/packages/PyCall/BcTLp/src/PyCall.jl:704 [inlined]",
      " [4] __init__() at /home/sinan/.julia/packages/PyPlot/XHEG0/src/init.jl:179",
      " [5] _include_from_serialized(::String, ::Array{Any,1}) at ./loading.jl:697",
      " [6] _require_search_from_serialized(::Base.PkgId, ::String) at ./loading.jl:782",
      " [7] _require(::Base.PkgId) at ./loading.jl:1007",
      " [8] require(::Base.PkgId) at ./loading.jl:928",
      " [9] require(::Module, ::Symbol) at ./loading.jl:923",
      " [10] top-level scope at /home/sinan/.julia/packages/Plots/vsE7b/src/backends.jl:505",
      " [11] eval at ./boot.jl:331 [inlined]",
      " [12] _initialize_backend(::Plots.PyPlotBackend) at /home/sinan/.julia/packages/Plots/vsE7b/src/backends.jl:504",
      " [13] backend at /home/sinan/.julia/packages/Plots/vsE7b/src/backends.jl:174 [inlined]",
      " [14] pyplot(; kw::Base.Iterators.Pairs{Union{},Union{},Tuple{},NamedTuple{(),Tuple{}}}) at /home/sinan/.julia/packages/Plots/vsE7b/src/backends.jl:31",
      " [15] pyplot() at /home/sinan/.julia/packages/Plots/vsE7b/src/backends.jl:31",
      " [16] top-level scope at In[3]:2",
      " [17] include_string(::Function, ::Module, ::String, ::String) at ./loading.jl:1091",
      " [18] execute_code(::String, ::String) at /home/sinan/.julia/packages/IJulia/a1SNk/src/execute_request.jl:27",
      " [19] execute_request(::ZMQ.Socket, ::IJulia.Msg) at /home/sinan/.julia/packages/IJulia/a1SNk/src/execute_request.jl:86",
      " [20] #invokelatest#1 at ./essentials.jl:710 [inlined]",
      " [21] invokelatest at ./essentials.jl:709 [inlined]",
      " [22] eventloop(::ZMQ.Socket) at /home/sinan/.julia/packages/IJulia/a1SNk/src/eventloop.jl:8",
      " [23] (::IJulia.var\"#15#18\")() at ./task.jl:356"
     ]
    }
   ],
   "source": [
    "using Plots\n",
    "pyplot()\n",
    "clibrary(:colorbrewer)\n",
    "default(grid = false)"
   ]
  },
  {
   "cell_type": "code",
   "execution_count": 4,
   "metadata": {},
   "outputs": [],
   "source": [
    "using Statistics"
   ]
  },
  {
   "cell_type": "markdown",
   "metadata": {},
   "source": [
    "### Solve for small-amplitude oscillation of a cylindrical body"
   ]
  },
  {
   "cell_type": "markdown",
   "metadata": {},
   "source": [
    "The motion of the body is described by oscillatory small-amplitude translation,\n",
    "\n",
    "$V_b(\\xi,t) = \\epsilon \\hat{U}(t)$\n",
    "\n",
    "where $\\epsilon \\ll 1$, $\\hat{U}(t)$ is a periodic velocity with unit amplitude, and $\\xi \\in S_b$ (i.e. it lies on the body surface). The associated position of any point on the surface of the body is then described by\n",
    "\n",
    "$X_b(\\xi,t) = \\xi + \\epsilon \\int_0^t \\hat{U}(\\tau)d\\tau.$\n",
    "\n",
    "We will write the flow field in asympotic form, e.g. $v = \\epsilon v_1 + \\epsilon^2 v_2$, and seek to solve two asymptotic levels of equation (for vorticity)\n",
    "\n",
    "$\\dfrac{\\partial w_1}{\\partial t} - \\dfrac{1}{Re} \\nabla^2 w_1 = 0$\n",
    "\n",
    "subject to boundary condition $v_1(\\xi,t) = \\hat{U}(t)$ for all $\\xi \\in S_b$. Note that the boundary condition is applied at the initial location of the surface, not its time-varying location.\n",
    "\n",
    "And at second order,\n",
    "\n",
    "$\\dfrac{\\partial w_2}{\\partial t} - \\dfrac{1}{Re} \\nabla^2 w_2 = -\\nabla\\cdot(v_1 w_1),$\n",
    "\n",
    "subject to boundary condition $v_2(\\xi,t) = -\\int_0^t \\hat{U}(\\tau)d\\tau \\cdot \\nabla v_1(\\xi,t)$ for all $\\xi \\in S_b$. This is also applied at the initial location of the surface.\n",
    "\n",
    "Thus, to solve this problem, we will set up a state vector that contains $w_1$, $w_2$, and an unscaled 'body' state $x_c$, $y_c$. These latter components will be used to hold the components of $\\Delta\\hat{X} \\equiv \\int_0^t \\hat{U}(\\tau)d\\tau$.\n",
    "\n",
    "A fluid particle, initially at a location $x$, is subjected to a slightly different velocity, $U(x,t)$, over the ensuing oscillation period, since it is advected by the local velocity to sample nearby points. Its first-order velocity is simply $U_1(x,t) = v_1(x,t)$. Its second order velocity, however, is\n",
    "\n",
    "$U_2(x,t) = v_2(x,t) + \\int_0^t v_1(x,\\tau)d\\tau \\cdot \\nabla v_1(x,t)$\n",
    "\n",
    "In particular, if the particle is initially on the surface, $x \\in S_b$, then $v_1 = \\hat{U}$, and the second term of this expression above cancels $v_2$, so that $U_2 = 0$. This ensures that the particle continues to oscillate with the body's surface velocity. Let us define an Eulerian displacement field,\n",
    "\n",
    "$\\Delta X(x,t) = \\int_0^t v(x,\\tau)d\\tau, \\quad \\Delta X(x,0) = 0,$\n",
    "\n",
    "or, equivalently,\n",
    "\n",
    "$\\dfrac{d\\Delta X}{dt} = v(x,t), \\quad \\Delta X(x,0) = 0.$\n",
    "\n",
    "Then, expanding $\\Delta X$ in an asymptotic sequence, $\\Delta X = \\epsilon \\Delta X_1 + \\epsilon^2 \\Delta X_2$, we have\n",
    "\n",
    "$U_2(x,t) = v_2(x,t) + \\Delta X_1(x,t) \\cdot \\nabla v_1(x,t)$\n",
    "\n",
    "Let us define a drift displacement, $\\Delta X_d$, by the solution of\n",
    "\n",
    "$\\dfrac{d\\Delta X_d}{dt} = \\Delta X_1(x,t) \\cdot \\nabla v_1(x,t), \\quad \\Delta X_d(x,0) = 0$\n",
    "\n",
    "The motion of a fluid particle, starting at $x$, is thus given by\n",
    "\n",
    "$X_p(x,t) = x + \\epsilon \\Delta X_1(x,t) + \\epsilon^2 (\\Delta X_2(x,t) + \\Delta X_d(x,t))$\n",
    "\n",
    "These represent the integral curves of the velocity field. If we look only at these integral curves over one period, then we seek the net displacement made by a particle over this period,\n",
    "\n",
    "$X_p(x,T) - x = \\Delta X(x,T) + \\epsilon^2 \\Delta X_d(x,T) = \\int_0^T U(x,\\tau)d\\tau \\equiv T \\overline{U}(x).$\n",
    "\n",
    "We only need a mean velocity field for this purpose."
   ]
  },
  {
   "cell_type": "markdown",
   "metadata": {},
   "source": [
    "#### Set the oscillation parameters"
   ]
  },
  {
   "cell_type": "code",
   "execution_count": 5,
   "metadata": {},
   "outputs": [
    {
     "ename": "LoadError",
     "evalue": "UndefVarError: RigidBodyMotions not defined",
     "output_type": "error",
     "traceback": [
      "UndefVarError: RigidBodyMotions not defined",
      "",
      "Stacktrace:",
      " [1] top-level scope at In[5]:8",
      " [2] include_string(::Function, ::Module, ::String, ::String) at ./loading.jl:1091",
      " [3] execute_code(::String, ::String) at /home/sinan/.julia/packages/IJulia/a1SNk/src/execute_request.jl:27",
      " [4] execute_request(::ZMQ.Socket, ::IJulia.Msg) at /home/sinan/.julia/packages/IJulia/a1SNk/src/execute_request.jl:86",
      " [5] #invokelatest#1 at ./essentials.jl:710 [inlined]",
      " [6] invokelatest at ./essentials.jl:709 [inlined]",
      " [7] eventloop(::ZMQ.Socket) at /home/sinan/.julia/packages/IJulia/a1SNk/src/eventloop.jl:8",
      " [8] (::IJulia.var\"#15#18\")() at ./task.jl:356"
     ]
    }
   ],
   "source": [
    "Re = 40.0\n",
    "ϵ = 0.1\n",
    "Ω = 1.0  # angular frequency\n",
    "Ax = 1.0 # x amplitude (before scaling by ϵ)\n",
    "ϕx = 0.0 # phase lead of x motion\n",
    "Ay = 0.0 # y amplitude\n",
    "ϕy = 0.0 # phase lead of y motion\n",
    "oscil = RigidBodyMotions.RigidBodyMotion(RigidBodyMotions.Oscillation(Ω,Ax,ϕx,Ay,ϕy))"
   ]
  },
  {
   "cell_type": "markdown",
   "metadata": {},
   "source": [
    "#### Let's plot it just to check\n",
    "Keep in mind that this is the 'unscaled' form of the motion; the actual motion would be multiplied by $\\epsilon$."
   ]
  },
  {
   "cell_type": "code",
   "execution_count": 6,
   "metadata": {},
   "outputs": [
    {
     "ename": "LoadError",
     "evalue": "UndefVarError: oscil not defined",
     "output_type": "error",
     "traceback": [
      "UndefVarError: oscil not defined",
      "",
      "Stacktrace:",
      " [1] (::var\"#3#4\")(::Float64) at ./In[6]:2",
      " [2] iterate at ./generator.jl:47 [inlined]",
      " [3] _collect(::StepRangeLen{Float64,Base.TwicePrecision{Float64},Base.TwicePrecision{Float64}}, ::Base.Generator{StepRangeLen{Float64,Base.TwicePrecision{Float64},Base.TwicePrecision{Float64}},var\"#3#4\"}, ::Base.EltypeUnknown, ::Base.HasShape{1}) at ./array.jl:699",
      " [4] collect_similar(::StepRangeLen{Float64,Base.TwicePrecision{Float64},Base.TwicePrecision{Float64}}, ::Base.Generator{StepRangeLen{Float64,Base.TwicePrecision{Float64},Base.TwicePrecision{Float64}},var\"#3#4\"}) at ./array.jl:628",
      " [5] map(::Function, ::StepRangeLen{Float64,Base.TwicePrecision{Float64},Base.TwicePrecision{Float64}}) at ./abstractarray.jl:2162",
      " [6] top-level scope at In[6]:2",
      " [7] include_string(::Function, ::Module, ::String, ::String) at ./loading.jl:1091",
      " [8] execute_code(::String, ::String) at /home/sinan/.julia/packages/IJulia/a1SNk/src/execute_request.jl:27",
      " [9] execute_request(::ZMQ.Socket, ::IJulia.Msg) at /home/sinan/.julia/packages/IJulia/a1SNk/src/execute_request.jl:86",
      " [10] #invokelatest#1 at ./essentials.jl:710 [inlined]",
      " [11] invokelatest at ./essentials.jl:709 [inlined]",
      " [12] eventloop(::ZMQ.Socket) at /home/sinan/.julia/packages/IJulia/a1SNk/src/eventloop.jl:8",
      " [13] (::IJulia.var\"#15#18\")() at ./task.jl:356"
     ]
    }
   ],
   "source": [
    "t = range(0.0,stop=4π,length=401)\n",
    "u = map(ti -> real(oscil(ti)[2]),t) # u component of velocity of centroid\n",
    "plot(t,u)"
   ]
  },
  {
   "cell_type": "markdown",
   "metadata": {},
   "source": [
    "### Generate the analytical solution"
   ]
  },
  {
   "cell_type": "code",
   "execution_count": 7,
   "metadata": {},
   "outputs": [
    {
     "ename": "LoadError",
     "evalue": "UndefVarError: Params not defined",
     "output_type": "error",
     "traceback": [
      "UndefVarError: Params not defined",
      "",
      "Stacktrace:",
      " [1] top-level scope at In[7]:1",
      " [2] include_string(::Function, ::Module, ::String, ::String) at ./loading.jl:1091",
      " [3] execute_code(::String, ::String) at /home/sinan/.julia/packages/IJulia/a1SNk/src/execute_request.jl:27",
      " [4] execute_request(::ZMQ.Socket, ::IJulia.Msg) at /home/sinan/.julia/packages/IJulia/a1SNk/src/execute_request.jl:86",
      " [5] #invokelatest#1 at ./essentials.jl:710 [inlined]",
      " [6] invokelatest at ./essentials.jl:709 [inlined]",
      " [7] eventloop(::ZMQ.Socket) at /home/sinan/.julia/packages/IJulia/a1SNk/src/eventloop.jl:8",
      " [8] (::IJulia.var\"#15#18\")() at ./task.jl:356"
     ]
    }
   ],
   "source": [
    "p = Params(0.1,Re)"
   ]
  },
  {
   "cell_type": "markdown",
   "metadata": {},
   "source": [
    "First-order solution"
   ]
  },
  {
   "cell_type": "code",
   "execution_count": 8,
   "metadata": {},
   "outputs": [
    {
     "ename": "LoadError",
     "evalue": "UndefVarError: ComplexFunc not defined",
     "output_type": "error",
     "traceback": [
      "UndefVarError: ComplexFunc not defined",
      "",
      "Stacktrace:",
      " [1] top-level scope at In[8]:2",
      " [2] include_string(::Function, ::Module, ::String, ::String) at ./loading.jl:1091",
      " [3] execute_code(::String, ::String) at /home/sinan/.julia/packages/IJulia/a1SNk/src/execute_request.jl:27",
      " [4] execute_request(::ZMQ.Socket, ::IJulia.Msg) at /home/sinan/.julia/packages/IJulia/a1SNk/src/execute_request.jl:86",
      " [5] #invokelatest#1 at ./essentials.jl:710 [inlined]",
      " [6] invokelatest at ./essentials.jl:709 [inlined]",
      " [7] eventloop(::ZMQ.Socket) at /home/sinan/.julia/packages/IJulia/a1SNk/src/eventloop.jl:8",
      " [8] (::IJulia.var\"#15#18\")() at ./task.jl:356"
     ]
    }
   ],
   "source": [
    "K = 1\n",
    "Ψ₁ = ComplexFunc(r -> -p.C/r + 2Y(r)/p.γ)\n",
    "W₁ = D²(Ψ₁,K)  # note that this is actually the negative of the vorticity. We will account for this when we evaluate it.\n",
    "Ur₁, Uθ₁ = curl(Ψ₁,K)\n",
    "\n",
    "# for verifying the solution\n",
    "LW₁ = D²(W₁,K);\n",
    "resid1 = ComplexFunc(r -> LW₁(r)+im*p.Re*W₁(r))\n",
    "println(\"Maximum residual on solution = \",maximum(abs.(resid1.(range(1,5,length=10)))))\n",
    "\n",
    "# for verifying boundary conditions\n",
    "dΨ₁ = ComplexFunc(r -> derivative(Ψ₁,r))\n",
    "bcresid1 = Ψ₁(1) - 1\n",
    "bcresid2 = dΨ₁(1) - 1\n",
    "\n",
    "println(\"BC residual on Ψ₁(1) = \",abs(bcresid1))\n",
    "println(\"BC residual on dΨ₁(1) = \",abs(bcresid2))"
   ]
  },
  {
   "cell_type": "code",
   "execution_count": 9,
   "metadata": {},
   "outputs": [
    {
     "data": {
      "text/plain": [
       "ψ₁ex (generic function with 1 method)"
      ]
     },
     "execution_count": 9,
     "metadata": {},
     "output_type": "execute_result"
    }
   ],
   "source": [
    "function ω₁ex(x,y,t)\n",
    "    r = sqrt(x^2+y^2)\n",
    "    return real(-W₁(r)*y/r*exp.(-im*t))\n",
    "end\n",
    "function u₁ex(x,y,t)\n",
    "    r = sqrt(x^2+y^2)\n",
    "    coseval = x/r\n",
    "    sineval = y/r\n",
    "    return real.((Ur₁(r)*coseval^2-Uθ₁(r)*sineval^2)*exp.(-im*t))\n",
    "end\n",
    "function v₁ex(x,y,t)\n",
    "    r = sqrt(x^2+y^2)\n",
    "    coseval = x/r\n",
    "    sineval = y/r\n",
    "    return real.((Ur₁(r)+Uθ₁(r))*coseval*sineval*exp.(-im*t))\n",
    "end\n",
    "function ψ₁ex(x,y,t)\n",
    "    r = sqrt(x^2+y^2)\n",
    "    return real(Ψ₁(r)*y/r*exp.(-im*t))\n",
    "end"
   ]
  },
  {
   "cell_type": "markdown",
   "metadata": {},
   "source": [
    "Analytical solution of the steady part"
   ]
  },
  {
   "cell_type": "code",
   "execution_count": 10,
   "metadata": {},
   "outputs": [
    {
     "ename": "LoadError",
     "evalue": "UndefVarError: ComplexFunc not defined",
     "output_type": "error",
     "traceback": [
      "UndefVarError: ComplexFunc not defined",
      "",
      "Stacktrace:",
      " [1] top-level scope at In[10]:4",
      " [2] include_string(::Function, ::Module, ::String, ::String) at ./loading.jl:1091",
      " [3] execute_code(::String, ::String) at /home/sinan/.julia/packages/IJulia/a1SNk/src/execute_request.jl:27",
      " [4] execute_request(::ZMQ.Socket, ::IJulia.Msg) at /home/sinan/.julia/packages/IJulia/a1SNk/src/execute_request.jl:86",
      " [5] #invokelatest#1 at ./essentials.jl:710 [inlined]",
      " [6] invokelatest at ./essentials.jl:709 [inlined]",
      " [7] eventloop(::ZMQ.Socket) at /home/sinan/.julia/packages/IJulia/a1SNk/src/eventloop.jl:8",
      " [8] (::IJulia.var\"#15#18\")() at ./task.jl:356"
     ]
    }
   ],
   "source": [
    "K = 2\n",
    "fakefact = 1\n",
    "#f₀ = ComplexFunc(r -> -0.5*p.γ²*p.Re*(0.5*(p.C*conj(X(r))-conj(p.C)*X(r))/r^2 + X(r)*conj(Z(r)) - conj(X(r))*Z(r)))\n",
    "f₀ = ComplexFunc(r -> -p.γ²*p.Re*(0.5*p.C*conj(X(r))/r^2 + X(r)*conj(Z(r))))\n",
    "\n",
    "f̃₀ = ComplexFunc(r -> f₀(r) - 0.5*p.γ²*p.Re*(-0.5*conj(Z(r))+0.5*Z(r)))\n",
    "I⁻¹ = ComplexIntegral(r->f₀(r)/r,1,Inf,length=100000)\n",
    "I¹ = ComplexIntegral(r->f₀(r)*r,1,Inf,length=100000)\n",
    "I³ = ComplexIntegral(r->f₀(r)*r^3,1,20,length=400000)\n",
    "I⁵ = ComplexIntegral(r->f₀(r)*r^5,1,20,length=400000)\n",
    "Ψs₂ = ComplexFunc(r -> -r^4/48*I⁻¹(r) + r^2/16*I¹(r) + I³(r)/16 + I⁻¹(1)/16 - I¹(1)/8 - fakefact*0.25im*p.γ*Y(1) +\n",
    "                       1/r^2*(-I⁵(r)/48-I⁻¹(1)/24+I¹(1)/16 + fakefact*0.25im*p.γ*Y(1)))\n",
    "Ws₂ = D²(Ψs₂,K)\n",
    "Usr₂, Usθ₂ = curl(Ψs₂,K)\n",
    "\n",
    "# for verifying the solution\n",
    "LWs₂ = D²(Ws₂,K)\n",
    "resids = ComplexFunc(r -> real(LWs₂(r)-f₀(r)))\n",
    "println(\"Maximum residual on solution = \",maximum(abs.(resids.(range(1,5,length=10)))))\n",
    "\n",
    "# for verifying boundary conditions\n",
    "dΨs₂ = ComplexFunc(r -> derivative(Ψs₂,r))\n",
    "bcresids1 = Ψs₂(1)\n",
    "bcresids2 = real(dΨs₂(1) - 0.25im*W₁(1))\n",
    "\n",
    "println(\"BC residual on Ψs₂(1) = \",abs(bcresids1))\n",
    "println(\"BC residual on dΨs₂(1) = \",abs(bcresids2))"
   ]
  },
  {
   "cell_type": "markdown",
   "metadata": {},
   "source": [
    "Analytical solution of unsteady part"
   ]
  },
  {
   "cell_type": "code",
   "execution_count": 11,
   "metadata": {},
   "outputs": [
    {
     "ename": "LoadError",
     "evalue": "UndefVarError: ComplexFunc not defined",
     "output_type": "error",
     "traceback": [
      "UndefVarError: ComplexFunc not defined",
      "",
      "Stacktrace:",
      " [1] top-level scope at In[11]:3",
      " [2] include_string(::Function, ::Module, ::String, ::String) at ./loading.jl:1091",
      " [3] execute_code(::String, ::String) at /home/sinan/.julia/packages/IJulia/a1SNk/src/execute_request.jl:27",
      " [4] execute_request(::ZMQ.Socket, ::IJulia.Msg) at /home/sinan/.julia/packages/IJulia/a1SNk/src/execute_request.jl:86",
      " [5] #invokelatest#1 at ./essentials.jl:710 [inlined]",
      " [6] invokelatest at ./essentials.jl:709 [inlined]",
      " [7] eventloop(::ZMQ.Socket) at /home/sinan/.julia/packages/IJulia/a1SNk/src/eventloop.jl:8",
      " [8] (::IJulia.var\"#15#18\")() at ./task.jl:356"
     ]
    }
   ],
   "source": [
    "K = 2\n",
    "fakefact = 1\n",
    "g₀ = ComplexFunc(r -> 0.5*p.γ²*p.Re*p.C*X(r)/r^2)\n",
    "\n",
    "g̃₀ = ComplexFunc(r -> g₀(r) - 0.5*p.γ²*p.Re*Z(r))\n",
    "\n",
    "\n",
    "Kλ = ComplexFunc(r -> H11(1)*H22(r) - H12(1)*H21(r))\n",
    "\n",
    "IKgr = ComplexIntegral(r -> r*Kλ(r)*g₀(r),1,20,length=400000)\n",
    "IH21gr = ComplexIntegral(r -> r*H21(r)*g₀(r),1,Inf,length=100000)\n",
    "Igr⁻¹ = ComplexIntegral(r -> g₀(r)/r,1,Inf,length=100000)\n",
    "Igr³ = ComplexIntegral(r -> g₀(r)*r^3,1,20,length=400000)\n",
    "\n",
    "Ig¹ = ComplexFunc(r -> 0.25im*π/(p.λ²*H11(1))*IKgr(r)*H21(r))\n",
    "Ig² = ComplexFunc(r -> 0.25im*π/(p.λ²*H11(1))*IH21gr(r)*Kλ(r))\n",
    "Ig³ = ComplexFunc(r -> 1/(p.λ²*p.λ*H11(1))*((H21(r)-H21(1)/r^2)*Igr⁻¹(1)+IH21gr(1)/r^2))\n",
    "Ig⁴ = ComplexFunc(r -> -0.25/p.λ²*(Igr⁻¹(r)*r^2-Igr⁻¹(1)/r^2+Igr³(r)/r^2))\n",
    "Ψ₂ = ComplexFunc(r -> Ig¹(r) + Ig²(r) + Ig³(r) + Ig⁴(r) + fakefact*0.5im/sqrt(2)*Y(1)/H11(1)*(H21(r)-H21(1)/r^2))\n",
    "\n",
    "Ψ̃₂ = ComplexFunc(r -> Ψ₂(r)+ 0.5im*(-p.C/r^2 + Z(r))) # cylinder-fixed reference frame... not used\n",
    "W₂ = D²(Ψ₂,K)\n",
    "Ur₂, Uθ₂ = curl(Ψ₂,K);\n",
    "\n",
    "# for verifying the solution\n",
    "LW₂ = D²(W₂,K);\n",
    "resid = ComplexFunc(r -> LW₂(r)+2im*p.Re*W₂(r)-g₀(r))\n",
    "println(\"Maximum residual on solution = \",maximum(abs.(resid.(range(1,5,length=10)))))\n",
    "\n",
    "# for verifying boundary conditions\n",
    "dΨ₂ = ComplexFunc(r -> derivative(Ψ₂,r))\n",
    "bcresid1 = Ψ₂(1)\n",
    "bcresid2 = dΨ₂(1) - 0.5im*p.γ*Y(1)\n",
    "\n",
    "println(\"BC residual on Ψ₂(1) = \",abs(bcresid1))\n",
    "println(\"BC residual on dΨ₂(1) = \",abs(bcresid2))"
   ]
  },
  {
   "cell_type": "code",
   "execution_count": 12,
   "metadata": {},
   "outputs": [
    {
     "data": {
      "text/plain": [
       "ψ̄₂ex (generic function with 1 method)"
      ]
     },
     "execution_count": 12,
     "metadata": {},
     "output_type": "execute_result"
    }
   ],
   "source": [
    "function ω₂ex(x,y,t)\n",
    "    r = sqrt(x^2+y^2)\n",
    "    sin2eval = 2*x*y/r^2\n",
    "    return real(-Ws₂(r) .- W₂(r)*exp.(-2im*t))*sin2eval\n",
    "end\n",
    "function u₂ex(x,y,t)\n",
    "    r = sqrt(x^2+y^2)\n",
    "    coseval = x/r\n",
    "    sineval = y/r\n",
    "    cos2eval = coseval^2-sineval^2\n",
    "    sin2eval = 2*coseval*sineval\n",
    "    ur = real.(Usr₂(r) .+ Ur₂(r)*exp.(-2im*t))*cos2eval\n",
    "    uθ = real.(Usθ₂(r) .+ Uθ₂(r)*exp.(-2im*t))*sin2eval\n",
    "    return ur*coseval .- uθ*sineval\n",
    "end\n",
    "function v₂ex(x,y,t)\n",
    "    r = sqrt(x^2+y^2)\n",
    "    coseval = x/r\n",
    "    sineval = y/r\n",
    "    cos2eval = coseval^2-sineval^2\n",
    "    sin2eval = 2*coseval*sineval\n",
    "    ur = real.(Usr₂(r) .+ Ur₂(r)*exp.(-2im*t))*cos2eval\n",
    "    uθ = real.(Usθ₂(r) .+ Uθ₂(r)*exp.(-2im*t))*sin2eval\n",
    "    return ur*sineval .+ uθ*coseval\n",
    "end\n",
    "function ψ₂ex(x,y,t)\n",
    "    r = sqrt(x^2+y^2)\n",
    "    coseval = x/r\n",
    "    sineval = y/r\n",
    "    sin2eval = 2*coseval*sineval\n",
    "    return real(Ψs₂(r) .+ Ψ₂(r)*exp.(-2im*t))*sin2eval\n",
    "end\n",
    "function ψ̄₂ex(x,y)\n",
    "    r = sqrt(x^2+y^2)\n",
    "    coseval = x/r\n",
    "    sineval = y/r\n",
    "    sin2eval = 2*coseval*sineval\n",
    "    return real(Ψs₂(r))*sin2eval\n",
    "end"
   ]
  },
  {
   "cell_type": "markdown",
   "metadata": {},
   "source": [
    "#### Set up points on the body:"
   ]
  },
  {
   "cell_type": "code",
   "execution_count": 13,
   "metadata": {},
   "outputs": [
    {
     "ename": "LoadError",
     "evalue": "StackOverflowError:",
     "output_type": "error",
     "traceback": [
      "StackOverflowError:",
      "",
      "Stacktrace:",
      " [1] Ellipse(::Float64, ::Vararg{Any,N} where N; kwargs::Base.Iterators.Pairs{Union{},Union{},Tuple{},NamedTuple{(),Tuple{}}}) at /home/sinan/.julia/packages/RigidBodyTools/EgtLa/src/bodies/shapes.jl:452",
      " [2] Ellipse(::Float64, ::Vararg{Any,N} where N) at /home/sinan/.julia/packages/RigidBodyTools/EgtLa/src/bodies/shapes.jl:452",
      " [3] _adjustnumber(::Int64, ::Type{Ellipse}, ::Float64; kwargs::Base.Iterators.Pairs{Union{},Union{},Tuple{},NamedTuple{(),Tuple{}}}) at /home/sinan/.julia/packages/RigidBodyTools/EgtLa/src/bodies/shapes.jl:448",
      " [4] _adjustnumber(::Int64, ::Type{Ellipse}, ::Float64) at /home/sinan/.julia/packages/RigidBodyTools/EgtLa/src/bodies/shapes.jl:447",
      " ... (the last 4 lines are repeated 2884 more times)",
      " [11541] Ellipse(::Float64, ::Vararg{Any,N} where N; kwargs::Base.Iterators.Pairs{Union{},Union{},Tuple{},NamedTuple{(),Tuple{}}}) at /home/sinan/.julia/packages/RigidBodyTools/EgtLa/src/bodies/shapes.jl:452",
      " [11542] Ellipse(::Float64, ::Vararg{Any,N} where N) at /home/sinan/.julia/packages/RigidBodyTools/EgtLa/src/bodies/shapes.jl:452",
      " [11543] top-level scope at In[13]:2",
      " [11544] include_string(::Function, ::Module, ::String, ::String) at ./loading.jl:1091",
      " [11545] execute_code(::String, ::String) at /home/sinan/.julia/packages/IJulia/a1SNk/src/execute_request.jl:27",
      " [11546] execute_request(::ZMQ.Socket, ::IJulia.Msg) at /home/sinan/.julia/packages/IJulia/a1SNk/src/execute_request.jl:86",
      " [11547] #invokelatest#1 at ./essentials.jl:710 [inlined]",
      " [11548] invokelatest at ./essentials.jl:709 [inlined]",
      " [11549] eventloop(::ZMQ.Socket) at /home/sinan/.julia/packages/IJulia/a1SNk/src/eventloop.jl:8"
     ]
    }
   ],
   "source": [
    "n = 150;\n",
    "body = Ellipse(1.0,n)"
   ]
  },
  {
   "cell_type": "markdown",
   "metadata": {},
   "source": [
    "Transform the body with a specified initial position and orientation."
   ]
  },
  {
   "cell_type": "code",
   "execution_count": 14,
   "metadata": {},
   "outputs": [
    {
     "ename": "LoadError",
     "evalue": "UndefVarError: body not defined",
     "output_type": "error",
     "traceback": [
      "UndefVarError: body not defined",
      "",
      "Stacktrace:",
      " [1] top-level scope at In[14]:4",
      " [2] include_string(::Function, ::Module, ::String, ::String) at ./loading.jl:1091",
      " [3] execute_code(::String, ::String) at /home/sinan/.julia/packages/IJulia/a1SNk/src/execute_request.jl:27",
      " [4] execute_request(::ZMQ.Socket, ::IJulia.Msg) at /home/sinan/.julia/packages/IJulia/a1SNk/src/execute_request.jl:86",
      " [5] #invokelatest#1 at ./essentials.jl:710 [inlined]",
      " [6] invokelatest at ./essentials.jl:709 [inlined]",
      " [7] eventloop(::ZMQ.Socket) at /home/sinan/.julia/packages/IJulia/a1SNk/src/eventloop.jl:8",
      " [8] (::IJulia.var\"#15#18\")() at ./task.jl:356"
     ]
    }
   ],
   "source": [
    "cent = (0.0,0.0)\n",
    "α = 0.0\n",
    "T = RigidTransform(cent,α)\n",
    "T(body) # transform the body to the current configuration"
   ]
  },
  {
   "cell_type": "markdown",
   "metadata": {},
   "source": [
    "Now set up the coordinate data for operator construction"
   ]
  },
  {
   "cell_type": "code",
   "execution_count": 15,
   "metadata": {},
   "outputs": [
    {
     "ename": "LoadError",
     "evalue": "UndefVarError: body not defined",
     "output_type": "error",
     "traceback": [
      "UndefVarError: body not defined",
      "",
      "Stacktrace:",
      " [1] top-level scope at In[15]:1",
      " [2] include_string(::Function, ::Module, ::String, ::String) at ./loading.jl:1091",
      " [3] execute_code(::String, ::String) at /home/sinan/.julia/packages/IJulia/a1SNk/src/execute_request.jl:27",
      " [4] execute_request(::ZMQ.Socket, ::IJulia.Msg) at /home/sinan/.julia/packages/IJulia/a1SNk/src/execute_request.jl:86",
      " [5] #invokelatest#1 at ./essentials.jl:710 [inlined]",
      " [6] invokelatest at ./essentials.jl:709 [inlined]",
      " [7] eventloop(::ZMQ.Socket) at /home/sinan/.julia/packages/IJulia/a1SNk/src/eventloop.jl:8",
      " [8] (::IJulia.var\"#15#18\")() at ./task.jl:356"
     ]
    }
   ],
   "source": [
    "coords = VectorData(body.x,body.y);"
   ]
  },
  {
   "cell_type": "markdown",
   "metadata": {},
   "source": [
    "#### Set up the domain"
   ]
  },
  {
   "cell_type": "code",
   "execution_count": 16,
   "metadata": {},
   "outputs": [
    {
     "data": {
      "text/plain": [
       "(-4.0, 4.0)"
      ]
     },
     "execution_count": 16,
     "metadata": {},
     "output_type": "execute_result"
    }
   ],
   "source": [
    "xlim = (-4.0,4.0)\n",
    "ylim = (-4.0,4.0)"
   ]
  },
  {
   "cell_type": "code",
   "execution_count": 17,
   "metadata": {},
   "outputs": [
    {
     "ename": "LoadError",
     "evalue": "UndefVarError: body not defined",
     "output_type": "error",
     "traceback": [
      "UndefVarError: body not defined",
      "",
      "Stacktrace:",
      " [1] top-level scope at In[17]:1",
      " [2] include_string(::Function, ::Module, ::String, ::String) at ./loading.jl:1091",
      " [3] execute_code(::String, ::String) at /home/sinan/.julia/packages/IJulia/a1SNk/src/execute_request.jl:27",
      " [4] execute_request(::ZMQ.Socket, ::IJulia.Msg) at /home/sinan/.julia/packages/IJulia/a1SNk/src/execute_request.jl:86",
      " [5] #invokelatest#1 at ./essentials.jl:710 [inlined]",
      " [6] invokelatest at ./essentials.jl:709 [inlined]",
      " [7] eventloop(::ZMQ.Socket) at /home/sinan/.julia/packages/IJulia/a1SNk/src/eventloop.jl:8",
      " [8] (::IJulia.var\"#15#18\")() at ./task.jl:356"
     ]
    }
   ],
   "source": [
    "plot(body,xlim=xlim,ylim=ylim)"
   ]
  },
  {
   "cell_type": "markdown",
   "metadata": {},
   "source": [
    "Set the cell size and time step size"
   ]
  },
  {
   "cell_type": "code",
   "execution_count": 18,
   "metadata": {},
   "outputs": [
    {
     "data": {
      "text/plain": [
       "0.02563790932741558"
      ]
     },
     "execution_count": 18,
     "metadata": {},
     "output_type": "execute_result"
    }
   ],
   "source": [
    "Δx = 0.0202\n",
    "Δt = min(π*0.5*Δx,π*0.5*Δx^2*Re)"
   ]
  },
  {
   "cell_type": "markdown",
   "metadata": {},
   "source": [
    "### Now set up the system"
   ]
  },
  {
   "cell_type": "markdown",
   "metadata": {},
   "source": [
    "The discretized equations include the constraint forces on the surface, used to enforce the boundary conditions. The first level can be written as\n",
    "\n",
    "$\\dfrac{dw_1}{dt} - \\dfrac{1}{Re}Lw_1 + C^T E^T f_1 = 0,\\quad -E C L^{-1}w_1 = \\hat{U}, \\quad w_1(0) = 0$\n",
    "\n",
    "where $E$ is the interpolation operator, $E^T$ is the regularization operator, $C^T$ is the rot (curl) operator, and $f_1$ represents the vector of discrete surface forces.\n",
    "\n",
    "The second asymptotic level is written as\n",
    "\n",
    "$\\dfrac{dw_2}{dt} - \\dfrac{1}{Re}Lw_2 + C^T E^T f_2 = -N(w_1),\\quad -E C L^{-1}w_2 = \\Delta\\hat{X}\\cdot E G C L^{-1}w_1, \\quad w_2(0) = 0$\n",
    "\n",
    "where $N$ represents the non-linear convective term. We must also advance the state $\\Delta\\hat{X}$:\n",
    "\n",
    "$\\dfrac{d\\Delta\\hat{X}}{dt} = \\hat{U}, \\quad \\Delta\\hat{X}(0) = 0$\n",
    "\n",
    "To account for the fluid particle motion, we will also integrate the Eulerian displacement fields $\\Delta X_1$ and $\\Delta X_2$:\n",
    "\n",
    "$\\dfrac{d\\Delta X_1}{dt} = v_1, \\quad \\Delta X_1(x,0) = 0$\n",
    "\n",
    "and\n",
    "\n",
    "$\\dfrac{d\\Delta X_2}{dt} = v_2, \\quad \\Delta X_2(x,0) = 0$\n"
   ]
  },
  {
   "cell_type": "markdown",
   "metadata": {},
   "source": [
    "The construction of the NavierStokes system creates and stores the regularization and interpolation matrices. These will not change with time, since the boundary conditions are applied at the initial location of the surface points.\n",
    "\n"
   ]
  },
  {
   "cell_type": "code",
   "execution_count": 19,
   "metadata": {},
   "outputs": [
    {
     "ename": "LoadError",
     "evalue": "UndefVarError: Fields not defined",
     "output_type": "error",
     "traceback": [
      "UndefVarError: Fields not defined",
      "",
      "Stacktrace:",
      " [1] top-level scope at In[19]:1",
      " [2] include_string(::Function, ::Module, ::String, ::String) at ./loading.jl:1091",
      " [3] execute_code(::String, ::String) at /home/sinan/.julia/packages/IJulia/a1SNk/src/execute_request.jl:27",
      " [4] execute_request(::ZMQ.Socket, ::IJulia.Msg) at /home/sinan/.julia/packages/IJulia/a1SNk/src/execute_request.jl:86",
      " [5] #invokelatest#1 at ./essentials.jl:710 [inlined]",
      " [6] invokelatest at ./essentials.jl:709 [inlined]",
      " [7] eventloop(::ZMQ.Socket) at /home/sinan/.julia/packages/IJulia/a1SNk/src/eventloop.jl:8",
      " [8] (::IJulia.var\"#15#18\")() at ./task.jl:356"
     ]
    }
   ],
   "source": [
    "ddftype = Fields.Goza\n",
    "sys = NavierStokes(Re,Δx,xlim,ylim,Δt, X̃ = coords, isstore = true, isasymptotic = true, isfilter = false, ddftype = ddftype)"
   ]
  },
  {
   "cell_type": "markdown",
   "metadata": {},
   "source": [
    "Set up the state vector and constraint force vector for a static body"
   ]
  },
  {
   "cell_type": "code",
   "execution_count": 20,
   "metadata": {},
   "outputs": [
    {
     "ename": "LoadError",
     "evalue": "UndefVarError: Fields not defined",
     "output_type": "error",
     "traceback": [
      "UndefVarError: Fields not defined",
      "",
      "Stacktrace:",
      " [1] top-level scope at In[20]:1",
      " [2] include_string(::Function, ::Module, ::String, ::String) at ./loading.jl:1091",
      " [3] execute_code(::String, ::String) at /home/sinan/.julia/packages/IJulia/a1SNk/src/execute_request.jl:27",
      " [4] execute_request(::ZMQ.Socket, ::IJulia.Msg) at /home/sinan/.julia/packages/IJulia/a1SNk/src/execute_request.jl:86",
      " [5] #invokelatest#1 at ./essentials.jl:710 [inlined]",
      " [6] invokelatest at ./essentials.jl:709 [inlined]",
      " [7] eventloop(::ZMQ.Socket) at /home/sinan/.julia/packages/IJulia/a1SNk/src/eventloop.jl:8",
      " [8] (::IJulia.var\"#15#18\")() at ./task.jl:356"
     ]
    }
   ],
   "source": [
    "w₀ = Nodes(Fields.Dual,size(sys))\n",
    "ΔX = Edges(Primal,w₀)\n",
    "f1 = VectorData(coords);\n",
    "xg, yg = coordinates(w₀,sys.grid)"
   ]
  },
  {
   "cell_type": "markdown",
   "metadata": {},
   "source": [
    "Make the tuple data structures. The state tuple holds the first and second asymptotic level vorticity, the Eulerian displacement field for each level, and the two components of the unscaled centroid displacement of the body. The last three parts have no constraints, so we set the force to empty vectors."
   ]
  },
  {
   "cell_type": "code",
   "execution_count": 21,
   "metadata": {},
   "outputs": [
    {
     "ename": "LoadError",
     "evalue": "UndefVarError: w₀ not defined",
     "output_type": "error",
     "traceback": [
      "UndefVarError: w₀ not defined",
      "",
      "Stacktrace:",
      " [1] top-level scope at In[21]:1",
      " [2] include_string(::Function, ::Module, ::String, ::String) at ./loading.jl:1091",
      " [3] execute_code(::String, ::String) at /home/sinan/.julia/packages/IJulia/a1SNk/src/execute_request.jl:27",
      " [4] execute_request(::ZMQ.Socket, ::IJulia.Msg) at /home/sinan/.julia/packages/IJulia/a1SNk/src/execute_request.jl:86",
      " [5] #invokelatest#1 at ./essentials.jl:710 [inlined]",
      " [6] invokelatest at ./essentials.jl:709 [inlined]",
      " [7] eventloop(::ZMQ.Socket) at /home/sinan/.julia/packages/IJulia/a1SNk/src/eventloop.jl:8",
      " [8] (::IJulia.var\"#15#18\")() at ./task.jl:356"
     ]
    }
   ],
   "source": [
    "u = (zero(w₀),zero(w₀),zero(ΔX),zero(ΔX),[0.0,0.0])\n",
    "f = (zero(f1),zero(f1),Vector{Float64}(),Vector{Float64}(),Vector{Float64}())\n",
    "TU = typeof(u)\n",
    "TF = typeof(f)"
   ]
  },
  {
   "cell_type": "markdown",
   "metadata": {},
   "source": [
    "#### Define operators that act upon the tuples and the right-hand sides of the equations and constraints.\n",
    "The right-hand side of the first-order equation is 0. The right-hand side of the second-order equation is the negative of the non-linear convective term, based on the first-order solution; for this, we use the predefined `r₁`. The right-hand side of the Eulerian displacement field equations are just the corresponding velocities at those levels. The right-hand side of the body update equation is the unscaled velocity."
   ]
  },
  {
   "cell_type": "code",
   "execution_count": 22,
   "metadata": {},
   "outputs": [
    {
     "ename": "LoadError",
     "evalue": "UndefVarError: TimeMarching not defined",
     "output_type": "error",
     "traceback": [
      "UndefVarError: TimeMarching not defined",
      "",
      "Stacktrace:",
      " [1] top-level scope at In[22]:1",
      " [2] include_string(::Function, ::Module, ::String, ::String) at ./loading.jl:1091",
      " [3] execute_code(::String, ::String) at /home/sinan/.julia/packages/IJulia/a1SNk/src/execute_request.jl:27",
      " [4] execute_request(::ZMQ.Socket, ::IJulia.Msg) at /home/sinan/.julia/packages/IJulia/a1SNk/src/execute_request.jl:86",
      " [5] #invokelatest#1 at ./essentials.jl:710 [inlined]",
      " [6] invokelatest at ./essentials.jl:709 [inlined]",
      " [7] eventloop(::ZMQ.Socket) at /home/sinan/.julia/packages/IJulia/a1SNk/src/eventloop.jl:8",
      " [8] (::IJulia.var\"#15#18\")() at ./task.jl:356"
     ]
    }
   ],
   "source": [
    "function TimeMarching.r₁(u::TU,t::Float64)\n",
    "    _,ċ,_,_,α̇,_ = oscil(t)\n",
    "    return zero(u[1]), TimeMarching.r₁(u[1],t,sys), lmul!(-1,curl(sys.L\\u[1])), lmul!(-1,curl(sys.L\\u[2])), [real(ċ),imag(ċ)]\n",
    "end"
   ]
  },
  {
   "cell_type": "markdown",
   "metadata": {},
   "source": [
    "The right-hand side of the first constraint equation is the unscaled rigid-body velocity, evaluated at the surface points. The right-hand side of the second constraint equation is $-\\hat{X}\\cdot\\nabla v_1$. The Eulerian displacement and the body update equations have no constraint, so these are set to an empty vector."
   ]
  },
  {
   "cell_type": "code",
   "execution_count": 23,
   "metadata": {},
   "outputs": [
    {
     "ename": "LoadError",
     "evalue": "UndefVarError: sys not defined",
     "output_type": "error",
     "traceback": [
      "UndefVarError: sys not defined",
      "",
      "Stacktrace:",
      " [1] top-level scope at In[23]:1",
      " [2] include_string(::Function, ::Module, ::String, ::String) at ./loading.jl:1091",
      " [3] execute_code(::String, ::String) at /home/sinan/.julia/packages/IJulia/a1SNk/src/execute_request.jl:27",
      " [4] execute_request(::ZMQ.Socket, ::IJulia.Msg) at /home/sinan/.julia/packages/IJulia/a1SNk/src/execute_request.jl:86",
      " [5] #invokelatest#1 at ./essentials.jl:710 [inlined]",
      " [6] invokelatest at ./essentials.jl:709 [inlined]",
      " [7] eventloop(::ZMQ.Socket) at /home/sinan/.julia/packages/IJulia/a1SNk/src/eventloop.jl:8",
      " [8] (::IJulia.var\"#15#18\")() at ./task.jl:356"
     ]
    }
   ],
   "source": [
    "gradopx = Regularize(sys.X̃,cellsize(sys);I0=origin(sys),issymmetric=true,ddftype=ddftype,graddir=1)\n",
    "gradopy = Regularize(sys.X̃,cellsize(sys);I0=origin(sys),issymmetric=true,ddftype=ddftype,graddir=2)\n",
    "dEx = InterpolationMatrix(gradopx,sys.Fq,sys.Vb)\n",
    "dEy = InterpolationMatrix(gradopy,sys.Fq,sys.Vb)\n",
    "nothing"
   ]
  },
  {
   "cell_type": "code",
   "execution_count": 24,
   "metadata": {},
   "outputs": [
    {
     "ename": "LoadError",
     "evalue": "UndefVarError: TimeMarching not defined",
     "output_type": "error",
     "traceback": [
      "UndefVarError: TimeMarching not defined",
      "",
      "Stacktrace:",
      " [1] top-level scope at In[24]:1",
      " [2] include_string(::Function, ::Module, ::String, ::String) at ./loading.jl:1091",
      " [3] execute_code(::String, ::String) at /home/sinan/.julia/packages/IJulia/a1SNk/src/execute_request.jl:27",
      " [4] execute_request(::ZMQ.Socket, ::IJulia.Msg) at /home/sinan/.julia/packages/IJulia/a1SNk/src/execute_request.jl:86",
      " [5] #invokelatest#1 at ./essentials.jl:710 [inlined]",
      " [6] invokelatest at ./essentials.jl:709 [inlined]",
      " [7] eventloop(::ZMQ.Socket) at /home/sinan/.julia/packages/IJulia/a1SNk/src/eventloop.jl:8",
      " [8] (::IJulia.var\"#15#18\")() at ./task.jl:356"
     ]
    }
   ],
   "source": [
    "function TimeMarching.r₂(u::TU,t::Float64)\n",
    "    fact = 2 # not sure how to explain this factor yet.\n",
    "    _,ċ,_,_,α̇,_ = oscil(t)\n",
    "    U = (real(ċ),imag(ċ))\n",
    "     # -ΔX̂⋅∇v₁\n",
    "    Δx⁻¹ = 1/cellsize(sys)\n",
    "\n",
    "    sys.Fq .= curl(sys.L\\u[1]) # -v₁        \n",
    "    sys.Vb .= dEx*sys.Fq # dv₁/dx*Δx\n",
    "    sys.Vb.u .*= -fact*Δx⁻¹*u[5][1]\n",
    "    sys.Vb.v .*= -fact*Δx⁻¹*u[5][1]\n",
    "    Vb = deepcopy(sys.Vb) # -X⋅dv₁/dx\n",
    "    sys.Vb .= dEy*sys.Fq # dv₁/dy*Δx\n",
    "    sys.Vb.u .*= -fact*Δx⁻¹*u[5][2]\n",
    "    sys.Vb.v .*= -fact*Δx⁻¹*u[5][2]\n",
    "    Vb .+= sys.Vb # -X⋅dv₁/dx - Y.⋅dv₁/dy\n",
    "    return U + α̇ × (sys.X̃ - body.cent), Vb, Vector{Float64}(), Vector{Float64}(), Vector{Float64}()\n",
    "    \n",
    "end"
   ]
  },
  {
   "cell_type": "markdown",
   "metadata": {},
   "source": [
    "The integrating factor for the first two equations is simply the one associated with the usual viscous term. The last three equations have no term that needs an integrating factor, so we set their integrating factor operators to the identity, I."
   ]
  },
  {
   "cell_type": "code",
   "execution_count": 25,
   "metadata": {},
   "outputs": [
    {
     "data": {
      "text/plain": [
       "(var\"#11#16\"(), var\"#12#17\"(), var\"#13#18\"(), var\"#14#19\"(), var\"#15#20\"())"
      ]
     },
     "execution_count": 25,
     "metadata": {},
     "output_type": "execute_result"
    }
   ],
   "source": [
    "using LinearAlgebra\n",
    "plans = ((t,u) -> Fields.plan_intfact(t,u,sys),(t,u) -> Fields.plan_intfact(t,u,sys),(t,u) -> Identity(),(t,u) -> Identity(),(t,u)-> I)    "
   ]
  },
  {
   "cell_type": "markdown",
   "metadata": {},
   "source": [
    "The constraint operators for the first two equations are the usual ones for a stationary body and are precomputed. There are no constraints or constraint forces for the last three equations."
   ]
  },
  {
   "cell_type": "code",
   "execution_count": 26,
   "metadata": {},
   "outputs": [
    {
     "ename": "LoadError",
     "evalue": "UndefVarError: TimeMarching not defined",
     "output_type": "error",
     "traceback": [
      "UndefVarError: TimeMarching not defined",
      "",
      "Stacktrace:",
      " [1] top-level scope at In[26]:1",
      " [2] include_string(::Function, ::Module, ::String, ::String) at ./loading.jl:1091",
      " [3] execute_code(::String, ::String) at /home/sinan/.julia/packages/IJulia/a1SNk/src/execute_request.jl:27",
      " [4] execute_request(::ZMQ.Socket, ::IJulia.Msg) at /home/sinan/.julia/packages/IJulia/a1SNk/src/execute_request.jl:86",
      " [5] #invokelatest#1 at ./essentials.jl:710 [inlined]",
      " [6] invokelatest at ./essentials.jl:709 [inlined]",
      " [7] eventloop(::ZMQ.Socket) at /home/sinan/.julia/packages/IJulia/a1SNk/src/eventloop.jl:8",
      " [8] (::IJulia.var\"#15#18\")() at ./task.jl:356"
     ]
    }
   ],
   "source": [
    "function TimeMarching.plan_constraints(u::TU,t::Float64)\n",
    "    B₁ᵀ, B₂ = TimeMarching.plan_constraints(u[1],t,sys) # These are used by both the first and second equations\n",
    "    return (B₁ᵀ,B₁ᵀ,f->zero(u[3]),f->zero(u[4]),f->zero(u[5])), (B₂,B₂,u->Vector{Float64}(),u->Vector{Float64}(),u->Vector{Float64}())\n",
    "end"
   ]
  },
  {
   "cell_type": "markdown",
   "metadata": {},
   "source": [
    "Set up the integrator here"
   ]
  },
  {
   "cell_type": "code",
   "execution_count": 27,
   "metadata": {},
   "outputs": [
    {
     "ename": "LoadError",
     "evalue": "UndefVarError: TimeMarching not defined",
     "output_type": "error",
     "traceback": [
      "UndefVarError: TimeMarching not defined",
      "",
      "Stacktrace:",
      " [1] top-level scope at ./timing.jl:174 [inlined]",
      " [2] top-level scope at ./In[27]:0",
      " [3] include_string(::Function, ::Module, ::String, ::String) at ./loading.jl:1091",
      " [4] execute_code(::String, ::String) at /home/sinan/.julia/packages/IJulia/a1SNk/src/execute_request.jl:27",
      " [5] execute_request(::ZMQ.Socket, ::IJulia.Msg) at /home/sinan/.julia/packages/IJulia/a1SNk/src/execute_request.jl:86",
      " [6] #invokelatest#1 at ./essentials.jl:710 [inlined]",
      " [7] invokelatest at ./essentials.jl:709 [inlined]",
      " [8] eventloop(::ZMQ.Socket) at /home/sinan/.julia/packages/IJulia/a1SNk/src/eventloop.jl:8",
      " [9] (::IJulia.var\"#15#18\")() at ./task.jl:356"
     ]
    }
   ],
   "source": [
    "@time ifherk = IFHERK(u,f,sys.Δt,plans,TimeMarching.plan_constraints,\n",
    "                                (TimeMarching.r₁,TimeMarching.r₂),rk=TimeMarching.RK31,isstored=true)"
   ]
  },
  {
   "cell_type": "markdown",
   "metadata": {},
   "source": [
    "### Advance the system!"
   ]
  },
  {
   "cell_type": "markdown",
   "metadata": {},
   "source": [
    "Initialize the state vector and the history vectors"
   ]
  },
  {
   "cell_type": "code",
   "execution_count": 28,
   "metadata": {},
   "outputs": [
    {
     "ename": "LoadError",
     "evalue": "UndefVarError: w₀ not defined",
     "output_type": "error",
     "traceback": [
      "UndefVarError: w₀ not defined",
      "",
      "Stacktrace:",
      " [1] top-level scope at In[28]:2",
      " [2] include_string(::Function, ::Module, ::String, ::String) at ./loading.jl:1091",
      " [3] execute_code(::String, ::String) at /home/sinan/.julia/packages/IJulia/a1SNk/src/execute_request.jl:27",
      " [4] execute_request(::ZMQ.Socket, ::IJulia.Msg) at /home/sinan/.julia/packages/IJulia/a1SNk/src/execute_request.jl:86",
      " [5] #invokelatest#1 at ./essentials.jl:710 [inlined]",
      " [6] invokelatest at ./essentials.jl:709 [inlined]",
      " [7] eventloop(::ZMQ.Socket) at /home/sinan/.julia/packages/IJulia/a1SNk/src/eventloop.jl:8",
      " [8] (::IJulia.var\"#15#18\")() at ./task.jl:356"
     ]
    }
   ],
   "source": [
    "t = 0.0\n",
    "u = (zero(w₀),zero(w₀),zero(ΔX),zero(ΔX),[0.0,0.0])\n",
    "\n",
    "thist = Float64[];\n",
    "\n",
    "w1hist = [];\n",
    "w2hist = [];\n",
    "dX1hist = [];\n",
    "dX2hist = [];\n",
    "X̂hist = [];\n",
    "tsample = Δt; # rate at which to store field data"
   ]
  },
  {
   "cell_type": "markdown",
   "metadata": {},
   "source": [
    "Set the time range to integrate over."
   ]
  },
  {
   "cell_type": "code",
   "execution_count": 29,
   "metadata": {},
   "outputs": [],
   "source": [
    "tf = 8π\n",
    "T = Δt:Δt:tf;"
   ]
  },
  {
   "cell_type": "code",
   "execution_count": 30,
   "metadata": {},
   "outputs": [
    {
     "ename": "LoadError",
     "evalue": "UndefVarError: ifherk not defined",
     "output_type": "error",
     "traceback": [
      "UndefVarError: ifherk not defined",
      "",
      "Stacktrace:",
      " [1] macro expansion at ./In[30]:2 [inlined]",
      " [2] top-level scope at ./timing.jl:174 [inlined]",
      " [3] top-level scope at ./In[30]:0",
      " [4] include_string(::Function, ::Module, ::String, ::String) at ./loading.jl:1091",
      " [5] execute_code(::String, ::String) at /home/sinan/.julia/packages/IJulia/a1SNk/src/execute_request.jl:27",
      " [6] execute_request(::ZMQ.Socket, ::IJulia.Msg) at /home/sinan/.julia/packages/IJulia/a1SNk/src/execute_request.jl:86",
      " [7] #invokelatest#1 at ./essentials.jl:710 [inlined]",
      " [8] invokelatest at ./essentials.jl:709 [inlined]",
      " [9] eventloop(::ZMQ.Socket) at /home/sinan/.julia/packages/IJulia/a1SNk/src/eventloop.jl:8",
      " [10] (::IJulia.var\"#15#18\")() at ./task.jl:356"
     ]
    }
   ],
   "source": [
    "@time for ti in T\n",
    "    global t, u, f = ifherk(t,u)\n",
    "\n",
    "    \n",
    "    push!(thist,t)\n",
    "    if (isapprox(mod(t,tsample),0,atol=1e-6) || isapprox(mod(t,tsample),tsample,atol=1e-6))\n",
    "        push!(w1hist,deepcopy(u[1]))\n",
    "        push!(w2hist,deepcopy(u[2]))\n",
    "        push!(dX1hist,deepcopy(u[3]))\n",
    "        push!(dX2hist,deepcopy(u[4]))\n",
    "        push!(X̂hist,deepcopy(u[5]))\n",
    "    end\n",
    "end\n",
    "println(\"solution completed through time t = \",t)"
   ]
  },
  {
   "cell_type": "markdown",
   "metadata": {},
   "source": [
    "#### Some functions to compute physical quantities"
   ]
  },
  {
   "cell_type": "code",
   "execution_count": 31,
   "metadata": {},
   "outputs": [
    {
     "ename": "LoadError",
     "evalue": "UndefVarError: Fields not defined",
     "output_type": "error",
     "traceback": [
      "UndefVarError: Fields not defined",
      "",
      "Stacktrace:",
      " [1] top-level scope at In[31]:1",
      " [2] include_string(::Function, ::Module, ::String, ::String) at ./loading.jl:1091",
      " [3] execute_code(::String, ::String) at /home/sinan/.julia/packages/IJulia/a1SNk/src/execute_request.jl:27",
      " [4] execute_request(::ZMQ.Socket, ::IJulia.Msg) at /home/sinan/.julia/packages/IJulia/a1SNk/src/execute_request.jl:86",
      " [5] #invokelatest#1 at ./essentials.jl:710 [inlined]",
      " [6] invokelatest at ./essentials.jl:709 [inlined]",
      " [7] eventloop(::ZMQ.Socket) at /home/sinan/.julia/packages/IJulia/a1SNk/src/eventloop.jl:8",
      " [8] (::IJulia.var\"#15#18\")() at ./task.jl:356"
     ]
    }
   ],
   "source": [
    "function vorticity(w::Nodes{Fields.Dual},sys)\n",
    "    ω = deepcopy(w)\n",
    "    return rmul!(ω,1/cellsize(sys))\n",
    "end\n",
    "function velocity(w::Nodes{Fields.Dual},sys)\n",
    "    return rmul!(curl(sys.L\\w),-1)\n",
    "end\n",
    "function streamfunction(w::Nodes{Fields.Dual},sys)\n",
    "    return rmul!(sys.L\\w,-cellsize(sys))\n",
    "end\n",
    "function nl(w::Nodes{Fields.Dual},sys)\n",
    "    return rmul!(TimeMarching.r₁(w,0.0,sys),1/cellsize(sys))\n",
    "end"
   ]
  },
  {
   "cell_type": "markdown",
   "metadata": {},
   "source": [
    "#### Compute an average over the previous period"
   ]
  },
  {
   "cell_type": "code",
   "execution_count": 32,
   "metadata": {},
   "outputs": [
    {
     "data": {
      "text/plain": [
       "average (generic function with 1 method)"
      ]
     },
     "execution_count": 32,
     "metadata": {},
     "output_type": "execute_result"
    }
   ],
   "source": [
    "function average(hist::Vector{Any},itr)\n",
    "    avg = zero(hist[1])\n",
    "    return avg .= mapreduce(x -> x/length(itr),+,hist[itr]);\n",
    "end"
   ]
  },
  {
   "cell_type": "markdown",
   "metadata": {},
   "source": [
    "#### Plotting first order solution"
   ]
  },
  {
   "cell_type": "code",
   "execution_count": 33,
   "metadata": {},
   "outputs": [
    {
     "ename": "LoadError",
     "evalue": "UndefVarError: w1hist not defined",
     "output_type": "error",
     "traceback": [
      "UndefVarError: w1hist not defined",
      "",
      "Stacktrace:",
      " [1] top-level scope at In[33]:1",
      " [2] include_string(::Function, ::Module, ::String, ::String) at ./loading.jl:1091",
      " [3] execute_code(::String, ::String) at /home/sinan/.julia/packages/IJulia/a1SNk/src/execute_request.jl:27",
      " [4] execute_request(::ZMQ.Socket, ::IJulia.Msg) at /home/sinan/.julia/packages/IJulia/a1SNk/src/execute_request.jl:86",
      " [5] #invokelatest#1 at ./essentials.jl:710 [inlined]",
      " [6] invokelatest at ./essentials.jl:709 [inlined]",
      " [7] eventloop(::ZMQ.Socket) at /home/sinan/.julia/packages/IJulia/a1SNk/src/eventloop.jl:8",
      " [8] (::IJulia.var\"#15#18\")() at ./task.jl:356"
     ]
    }
   ],
   "source": [
    "iplot = length(w1hist) # index of time step for plotting\n",
    "ω₁ = vorticity(w1hist[iplot],sys)\n",
    "q₁ = velocity(w1hist[iplot],sys)\n",
    "ψ₁ = streamfunction(w1hist[iplot],sys)\n",
    "nothing"
   ]
  },
  {
   "cell_type": "code",
   "execution_count": 34,
   "metadata": {},
   "outputs": [
    {
     "ename": "LoadError",
     "evalue": "UndefVarError: sys not defined",
     "output_type": "error",
     "traceback": [
      "UndefVarError: sys not defined",
      "",
      "Stacktrace:",
      " [1] top-level scope at In[34]:1",
      " [2] include_string(::Function, ::Module, ::String, ::String) at ./loading.jl:1091",
      " [3] execute_code(::String, ::String) at /home/sinan/.julia/packages/IJulia/a1SNk/src/execute_request.jl:27",
      " [4] execute_request(::ZMQ.Socket, ::IJulia.Msg) at /home/sinan/.julia/packages/IJulia/a1SNk/src/execute_request.jl:86",
      " [5] #invokelatest#1 at ./essentials.jl:710 [inlined]",
      " [6] invokelatest at ./essentials.jl:709 [inlined]",
      " [7] eventloop(::ZMQ.Socket) at /home/sinan/.julia/packages/IJulia/a1SNk/src/eventloop.jl:8",
      " [8] (::IJulia.var\"#15#18\")() at ./task.jl:356"
     ]
    }
   ],
   "source": [
    "xg,yg = coordinates(w₀,sys.grid)\n",
    "plot(xg,yg,ω₁,levels=range(-10,10,length=30),color=:RdBu)\n",
    "plot!(body)"
   ]
  },
  {
   "cell_type": "code",
   "execution_count": 35,
   "metadata": {},
   "outputs": [
    {
     "ename": "LoadError",
     "evalue": "UndefVarError: xg not defined",
     "output_type": "error",
     "traceback": [
      "UndefVarError: xg not defined",
      "",
      "Stacktrace:",
      " [1] top-level scope at In[35]:1",
      " [2] include_string(::Function, ::Module, ::String, ::String) at ./loading.jl:1091",
      " [3] execute_code(::String, ::String) at /home/sinan/.julia/packages/IJulia/a1SNk/src/execute_request.jl:27",
      " [4] execute_request(::ZMQ.Socket, ::IJulia.Msg) at /home/sinan/.julia/packages/IJulia/a1SNk/src/execute_request.jl:86",
      " [5] #invokelatest#1 at ./essentials.jl:710 [inlined]",
      " [6] invokelatest at ./essentials.jl:709 [inlined]",
      " [7] eventloop(::ZMQ.Socket) at /home/sinan/.julia/packages/IJulia/a1SNk/src/eventloop.jl:8",
      " [8] (::IJulia.var\"#15#18\")() at ./task.jl:356"
     ]
    }
   ],
   "source": [
    "plot(xg,yg,ψ₁,levels=range(-1,1,length=31),color=:RdBu)\n",
    "plot!(body,fill=:false)"
   ]
  },
  {
   "cell_type": "code",
   "execution_count": 36,
   "metadata": {},
   "outputs": [
    {
     "ename": "LoadError",
     "evalue": "UndefVarError: ω₁ not defined",
     "output_type": "error",
     "traceback": [
      "UndefVarError: ω₁ not defined",
      "",
      "Stacktrace:",
      " [1] top-level scope at In[36]:2",
      " [2] include_string(::Function, ::Module, ::String, ::String) at ./loading.jl:1091",
      " [3] execute_code(::String, ::String) at /home/sinan/.julia/packages/IJulia/a1SNk/src/execute_request.jl:27",
      " [4] execute_request(::ZMQ.Socket, ::IJulia.Msg) at /home/sinan/.julia/packages/IJulia/a1SNk/src/execute_request.jl:86",
      " [5] #invokelatest#1 at ./essentials.jl:710 [inlined]",
      " [6] invokelatest at ./essentials.jl:709 [inlined]",
      " [7] eventloop(::ZMQ.Socket) at /home/sinan/.julia/packages/IJulia/a1SNk/src/eventloop.jl:8",
      " [8] (::IJulia.var\"#15#18\")() at ./task.jl:356"
     ]
    }
   ],
   "source": [
    "ix = 201\n",
    "plot(yg,ω₁[ix,:],ylim=(-10,10),xlim=(1,4),label=\"DNS\",xlabel=\"y\")\n",
    "plot!(yg,map(y -> ω₁ex(xg[ix],y,thist[iplot]),abs.(yg)),label=\"Analytical\")\n",
    "#plot!(yg,-real(W₁.(abs.(yg))*exp(-im*thist[iplot])))"
   ]
  },
  {
   "cell_type": "markdown",
   "metadata": {},
   "source": [
    "#### History of DNS results at an observation point\n",
    "Not yet using interpolation, so we specify the indices of the observation point rather than x,y coordinates"
   ]
  },
  {
   "cell_type": "markdown",
   "metadata": {},
   "source": [
    "The following functions pick off the vorticity and velocity histories at an index pair. Note that u and v components that share the same indices are at different physical locations, and each are at different locations from vorticity."
   ]
  },
  {
   "cell_type": "code",
   "execution_count": 37,
   "metadata": {},
   "outputs": [
    {
     "data": {
      "text/plain": [
       "centroid_history (generic function with 1 method)"
      ]
     },
     "execution_count": 37,
     "metadata": {},
     "output_type": "execute_result"
    }
   ],
   "source": [
    "function vorticity_history(sample_index::Tuple{Int,Int},whist,sys)\n",
    "    i, j = sample_index\n",
    "    return map(x -> vorticity(x,sys)[i,j],whist)\n",
    "end\n",
    "function velocity_history(sample_index::Tuple{Int,Int},whist,sys)\n",
    "    i, j = sample_index\n",
    "    tmp = reshape(collect(Iterators.flatten(\n",
    "                map(x -> (q = velocity(x,sys); [q.u[i,j], q.v[i,j]]),whist))),\n",
    "                2,length(whist))\n",
    "    return tmp[1,:], tmp[2,:]\n",
    "end\n",
    "# This computes the history of the rhs of the second-order equation at the sample point\n",
    "function nl_history(sample_index::Tuple{Int,Int},whist,sys)\n",
    "    i, j = sample_index\n",
    "    return map(w1 -> TimeMarching.r₁(w1,0.0,sys)[i,j]/cellsize(sys),whist)\n",
    "end\n",
    "function centroid_history(Xhist)\n",
    "    tmp = reshape(collect(Iterators.flatten(Xhist)),2,length(Xhist))\n",
    "    return tmp[1,:], tmp[2,:]\n",
    "end"
   ]
  },
  {
   "cell_type": "code",
   "execution_count": 38,
   "metadata": {},
   "outputs": [
    {
     "data": {
      "text/plain": [
       "(201, 135)"
      ]
     },
     "execution_count": 38,
     "metadata": {},
     "output_type": "execute_result"
    }
   ],
   "source": [
    "sampij = (201,135) # indices of sample point"
   ]
  },
  {
   "cell_type": "code",
   "execution_count": 39,
   "metadata": {},
   "outputs": [
    {
     "ename": "LoadError",
     "evalue": "UndefVarError: w1hist not defined",
     "output_type": "error",
     "traceback": [
      "UndefVarError: w1hist not defined",
      "",
      "Stacktrace:",
      " [1] top-level scope at In[39]:1",
      " [2] include_string(::Function, ::Module, ::String, ::String) at ./loading.jl:1091",
      " [3] execute_code(::String, ::String) at /home/sinan/.julia/packages/IJulia/a1SNk/src/execute_request.jl:27",
      " [4] execute_request(::ZMQ.Socket, ::IJulia.Msg) at /home/sinan/.julia/packages/IJulia/a1SNk/src/execute_request.jl:86",
      " [5] #invokelatest#1 at ./essentials.jl:710 [inlined]",
      " [6] invokelatest at ./essentials.jl:709 [inlined]",
      " [7] eventloop(::ZMQ.Socket) at /home/sinan/.julia/packages/IJulia/a1SNk/src/eventloop.jl:8",
      " [8] (::IJulia.var\"#15#18\")() at ./task.jl:356"
     ]
    }
   ],
   "source": [
    "ω₁hist = vorticity_history(sampij,w1hist,sys);"
   ]
  },
  {
   "cell_type": "markdown",
   "metadata": {},
   "source": [
    "Get coordinates of sample point on dual node grid"
   ]
  },
  {
   "cell_type": "code",
   "execution_count": 40,
   "metadata": {},
   "outputs": [
    {
     "ename": "LoadError",
     "evalue": "UndefVarError: sys not defined",
     "output_type": "error",
     "traceback": [
      "UndefVarError: sys not defined",
      "",
      "Stacktrace:",
      " [1] top-level scope at In[40]:1",
      " [2] include_string(::Function, ::Module, ::String, ::String) at ./loading.jl:1091",
      " [3] execute_code(::String, ::String) at /home/sinan/.julia/packages/IJulia/a1SNk/src/execute_request.jl:27",
      " [4] execute_request(::ZMQ.Socket, ::IJulia.Msg) at /home/sinan/.julia/packages/IJulia/a1SNk/src/execute_request.jl:86",
      " [5] #invokelatest#1 at ./essentials.jl:710 [inlined]",
      " [6] invokelatest at ./essentials.jl:709 [inlined]",
      " [7] eventloop(::ZMQ.Socket) at /home/sinan/.julia/packages/IJulia/a1SNk/src/eventloop.jl:8",
      " [8] (::IJulia.var\"#15#18\")() at ./task.jl:356"
     ]
    }
   ],
   "source": [
    "xg, yg = coordinates(w₀,sys.grid)\n",
    "xeval = xg[sampij[1]]\n",
    "yeval = yg[sampij[2]]\n",
    "reval = sqrt(xeval^2+yeval^2)\n",
    "coseval = xeval/reval\n",
    "sineval = yeval/reval\n",
    "reval"
   ]
  },
  {
   "cell_type": "code",
   "execution_count": 41,
   "metadata": {},
   "outputs": [
    {
     "ename": "LoadError",
     "evalue": "UndefVarError: thist not defined",
     "output_type": "error",
     "traceback": [
      "UndefVarError: thist not defined",
      "",
      "Stacktrace:",
      " [1] top-level scope at In[41]:1",
      " [2] include_string(::Function, ::Module, ::String, ::String) at ./loading.jl:1091",
      " [3] execute_code(::String, ::String) at /home/sinan/.julia/packages/IJulia/a1SNk/src/execute_request.jl:27",
      " [4] execute_request(::ZMQ.Socket, ::IJulia.Msg) at /home/sinan/.julia/packages/IJulia/a1SNk/src/execute_request.jl:86",
      " [5] #invokelatest#1 at ./essentials.jl:710 [inlined]",
      " [6] invokelatest at ./essentials.jl:709 [inlined]",
      " [7] eventloop(::ZMQ.Socket) at /home/sinan/.julia/packages/IJulia/a1SNk/src/eventloop.jl:8",
      " [8] (::IJulia.var\"#15#18\")() at ./task.jl:356"
     ]
    }
   ],
   "source": [
    "plot(thist,ω₁hist,label=\"DNS\",ylim=(-10,10))\n",
    "plot!(thist,ω₁ex(xeval,yeval,thist),label=\"Analytical\") # note that we correct the sign of W₁ here\n",
    "#plot!(thist,real.(-W₁(reval)*sineval*exp.(-im*thist)),label=\"Analytical\") # note that we correct the sign of W₁ here"
   ]
  },
  {
   "cell_type": "code",
   "execution_count": 42,
   "metadata": {},
   "outputs": [
    {
     "ename": "LoadError",
     "evalue": "UndefVarError: w1hist not defined",
     "output_type": "error",
     "traceback": [
      "UndefVarError: w1hist not defined",
      "",
      "Stacktrace:",
      " [1] top-level scope at In[42]:1",
      " [2] include_string(::Function, ::Module, ::String, ::String) at ./loading.jl:1091",
      " [3] execute_code(::String, ::String) at /home/sinan/.julia/packages/IJulia/a1SNk/src/execute_request.jl:27",
      " [4] execute_request(::ZMQ.Socket, ::IJulia.Msg) at /home/sinan/.julia/packages/IJulia/a1SNk/src/execute_request.jl:86",
      " [5] #invokelatest#1 at ./essentials.jl:710 [inlined]",
      " [6] invokelatest at ./essentials.jl:709 [inlined]",
      " [7] eventloop(::ZMQ.Socket) at /home/sinan/.julia/packages/IJulia/a1SNk/src/eventloop.jl:8",
      " [8] (::IJulia.var\"#15#18\")() at ./task.jl:356"
     ]
    }
   ],
   "source": [
    "u₁hist, v₁hist = velocity_history(sampij,w1hist,sys);"
   ]
  },
  {
   "cell_type": "markdown",
   "metadata": {},
   "source": [
    "Get the coordinates of the sample point in the u-component edges for plotting this component"
   ]
  },
  {
   "cell_type": "code",
   "execution_count": 43,
   "metadata": {},
   "outputs": [
    {
     "ename": "LoadError",
     "evalue": "UndefVarError: w₀ not defined",
     "output_type": "error",
     "traceback": [
      "UndefVarError: w₀ not defined",
      "",
      "Stacktrace:",
      " [1] top-level scope at In[43]:1",
      " [2] include_string(::Function, ::Module, ::String, ::String) at ./loading.jl:1091",
      " [3] execute_code(::String, ::String) at /home/sinan/.julia/packages/IJulia/a1SNk/src/execute_request.jl:27",
      " [4] execute_request(::ZMQ.Socket, ::IJulia.Msg) at /home/sinan/.julia/packages/IJulia/a1SNk/src/execute_request.jl:86",
      " [5] #invokelatest#1 at ./essentials.jl:710 [inlined]",
      " [6] invokelatest at ./essentials.jl:709 [inlined]",
      " [7] eventloop(::ZMQ.Socket) at /home/sinan/.julia/packages/IJulia/a1SNk/src/eventloop.jl:8",
      " [8] (::IJulia.var\"#15#18\")() at ./task.jl:356"
     ]
    }
   ],
   "source": [
    "xuedge, yuedge, xvedge, yvedge = coordinates(Edges(Primal,w₀),sys.grid)\n",
    "xeval = xuedge[sampij[1]]\n",
    "yeval = yuedge[sampij[2]]\n",
    "reval = sqrt(xeval^2+yeval^2)\n",
    "coseval = xeval/reval\n",
    "sineval = yeval/reval"
   ]
  },
  {
   "cell_type": "code",
   "execution_count": 44,
   "metadata": {},
   "outputs": [
    {
     "ename": "LoadError",
     "evalue": "UndefVarError: thist not defined",
     "output_type": "error",
     "traceback": [
      "UndefVarError: thist not defined",
      "",
      "Stacktrace:",
      " [1] top-level scope at In[44]:1",
      " [2] include_string(::Function, ::Module, ::String, ::String) at ./loading.jl:1091",
      " [3] execute_code(::String, ::String) at /home/sinan/.julia/packages/IJulia/a1SNk/src/execute_request.jl:27",
      " [4] execute_request(::ZMQ.Socket, ::IJulia.Msg) at /home/sinan/.julia/packages/IJulia/a1SNk/src/execute_request.jl:86",
      " [5] #invokelatest#1 at ./essentials.jl:710 [inlined]",
      " [6] invokelatest at ./essentials.jl:709 [inlined]",
      " [7] eventloop(::ZMQ.Socket) at /home/sinan/.julia/packages/IJulia/a1SNk/src/eventloop.jl:8",
      " [8] (::IJulia.var\"#15#18\")() at ./task.jl:356"
     ]
    }
   ],
   "source": [
    "plot(thist,u₁hist,ylim=(-2,2),label=\"DNS\")\n",
    "plot!(thist,u₁ex(xeval,yeval,thist),xlim=(0,8π),label=\"Analytical\")"
   ]
  },
  {
   "cell_type": "markdown",
   "metadata": {},
   "source": [
    "Plot the centroid history"
   ]
  },
  {
   "cell_type": "code",
   "execution_count": 45,
   "metadata": {},
   "outputs": [
    {
     "ename": "LoadError",
     "evalue": "UndefVarError: X̂hist not defined",
     "output_type": "error",
     "traceback": [
      "UndefVarError: X̂hist not defined",
      "",
      "Stacktrace:",
      " [1] top-level scope at In[45]:1",
      " [2] include_string(::Function, ::Module, ::String, ::String) at ./loading.jl:1091",
      " [3] execute_code(::String, ::String) at /home/sinan/.julia/packages/IJulia/a1SNk/src/execute_request.jl:27",
      " [4] execute_request(::ZMQ.Socket, ::IJulia.Msg) at /home/sinan/.julia/packages/IJulia/a1SNk/src/execute_request.jl:86",
      " [5] #invokelatest#1 at ./essentials.jl:710 [inlined]",
      " [6] invokelatest at ./essentials.jl:709 [inlined]",
      " [7] eventloop(::ZMQ.Socket) at /home/sinan/.julia/packages/IJulia/a1SNk/src/eventloop.jl:8",
      " [8] (::IJulia.var\"#15#18\")() at ./task.jl:356"
     ]
    }
   ],
   "source": [
    "xhist, yhist = centroid_history(X̂hist)\n",
    "plot(thist,xhist,label=\"X̂c\")\n",
    "plot!(thist,yhist,label=\"Ŷc\")"
   ]
  },
  {
   "cell_type": "markdown",
   "metadata": {},
   "source": [
    "#### The second-order equation"
   ]
  },
  {
   "cell_type": "code",
   "execution_count": 46,
   "metadata": {},
   "outputs": [
    {
     "ename": "LoadError",
     "evalue": "UndefVarError: w2hist not defined",
     "output_type": "error",
     "traceback": [
      "UndefVarError: w2hist not defined",
      "",
      "Stacktrace:",
      " [1] top-level scope at In[46]:1",
      " [2] include_string(::Function, ::Module, ::String, ::String) at ./loading.jl:1091",
      " [3] execute_code(::String, ::String) at /home/sinan/.julia/packages/IJulia/a1SNk/src/execute_request.jl:27",
      " [4] execute_request(::ZMQ.Socket, ::IJulia.Msg) at /home/sinan/.julia/packages/IJulia/a1SNk/src/execute_request.jl:86",
      " [5] #invokelatest#1 at ./essentials.jl:710 [inlined]",
      " [6] invokelatest at ./essentials.jl:709 [inlined]",
      " [7] eventloop(::ZMQ.Socket) at /home/sinan/.julia/packages/IJulia/a1SNk/src/eventloop.jl:8",
      " [8] (::IJulia.var\"#15#18\")() at ./task.jl:356"
     ]
    }
   ],
   "source": [
    "iplot = length(w2hist)\n",
    "ω₂ = vorticity(w2hist[iplot],sys)\n",
    "q₂ = velocity(w2hist[iplot],sys)\n",
    "ψ₂ = streamfunction(w2hist[iplot],sys)\n",
    "nothing"
   ]
  },
  {
   "cell_type": "code",
   "execution_count": 47,
   "metadata": {},
   "outputs": [
    {
     "ename": "LoadError",
     "evalue": "UndefVarError: sys not defined",
     "output_type": "error",
     "traceback": [
      "UndefVarError: sys not defined",
      "",
      "Stacktrace:",
      " [1] top-level scope at In[47]:1",
      " [2] include_string(::Function, ::Module, ::String, ::String) at ./loading.jl:1091",
      " [3] execute_code(::String, ::String) at /home/sinan/.julia/packages/IJulia/a1SNk/src/execute_request.jl:27",
      " [4] execute_request(::ZMQ.Socket, ::IJulia.Msg) at /home/sinan/.julia/packages/IJulia/a1SNk/src/execute_request.jl:86",
      " [5] #invokelatest#1 at ./essentials.jl:710 [inlined]",
      " [6] invokelatest at ./essentials.jl:709 [inlined]",
      " [7] eventloop(::ZMQ.Socket) at /home/sinan/.julia/packages/IJulia/a1SNk/src/eventloop.jl:8",
      " [8] (::IJulia.var\"#15#18\")() at ./task.jl:356"
     ]
    }
   ],
   "source": [
    "xg,yg = coordinates(w₀,sys.grid)\n",
    "plot(xg,yg,ω₂,levels=range(-5,5,length=30),color=:RdBu,clim=(-5,5))\n",
    "plot!(body)"
   ]
  },
  {
   "cell_type": "markdown",
   "metadata": {},
   "source": [
    "Compute the average vorticity field over a period, $\\overline{w}_2$"
   ]
  },
  {
   "cell_type": "code",
   "execution_count": 48,
   "metadata": {},
   "outputs": [
    {
     "ename": "LoadError",
     "evalue": "UndefVarError: w2hist not defined",
     "output_type": "error",
     "traceback": [
      "UndefVarError: w2hist not defined",
      "",
      "Stacktrace:",
      " [1] top-level scope at In[48]:1",
      " [2] include_string(::Function, ::Module, ::String, ::String) at ./loading.jl:1091",
      " [3] execute_code(::String, ::String) at /home/sinan/.julia/packages/IJulia/a1SNk/src/execute_request.jl:27",
      " [4] execute_request(::ZMQ.Socket, ::IJulia.Msg) at /home/sinan/.julia/packages/IJulia/a1SNk/src/execute_request.jl:86",
      " [5] #invokelatest#1 at ./essentials.jl:710 [inlined]",
      " [6] invokelatest at ./essentials.jl:709 [inlined]",
      " [7] eventloop(::ZMQ.Socket) at /home/sinan/.julia/packages/IJulia/a1SNk/src/eventloop.jl:8",
      " [8] (::IJulia.var\"#15#18\")() at ./task.jl:356"
     ]
    }
   ],
   "source": [
    "iplot = length(w2hist)\n",
    "itr = iplot-floor(Int,2π/(Ω*Δt))+1:iplot\n",
    "w2avg = average(w2hist,itr)\n",
    "ω̄₂ = vorticity(w2avg,sys)\n",
    "ψ̄₂ = streamfunction(w2avg,sys);"
   ]
  },
  {
   "cell_type": "code",
   "execution_count": 49,
   "metadata": {},
   "outputs": [
    {
     "ename": "LoadError",
     "evalue": "UndefVarError: Fields not defined",
     "output_type": "error",
     "traceback": [
      "UndefVarError: Fields not defined",
      "",
      "Stacktrace:",
      " [1] top-level scope at In[49]:1",
      " [2] include_string(::Function, ::Module, ::String, ::String) at ./loading.jl:1091",
      " [3] execute_code(::String, ::String) at /home/sinan/.julia/packages/IJulia/a1SNk/src/execute_request.jl:27",
      " [4] execute_request(::ZMQ.Socket, ::IJulia.Msg) at /home/sinan/.julia/packages/IJulia/a1SNk/src/execute_request.jl:86",
      " [5] #invokelatest#1 at ./essentials.jl:710 [inlined]",
      " [6] invokelatest at ./essentials.jl:709 [inlined]",
      " [7] eventloop(::ZMQ.Socket) at /home/sinan/.julia/packages/IJulia/a1SNk/src/eventloop.jl:8",
      " [8] (::IJulia.var\"#15#18\")() at ./task.jl:356"
     ]
    }
   ],
   "source": [
    "ψ̄₂exfield = Nodes(Fields.Dual,w₀)\n",
    "ψ̄₂exfield .= [ψ̄₂ex(x,y) for x in xg, y in yg];"
   ]
  },
  {
   "cell_type": "code",
   "execution_count": 50,
   "metadata": {},
   "outputs": [
    {
     "ename": "LoadError",
     "evalue": "UndefVarError: xg not defined",
     "output_type": "error",
     "traceback": [
      "UndefVarError: xg not defined",
      "",
      "Stacktrace:",
      " [1] top-level scope at In[50]:1",
      " [2] include_string(::Function, ::Module, ::String, ::String) at ./loading.jl:1091",
      " [3] execute_code(::String, ::String) at /home/sinan/.julia/packages/IJulia/a1SNk/src/execute_request.jl:27",
      " [4] execute_request(::ZMQ.Socket, ::IJulia.Msg) at /home/sinan/.julia/packages/IJulia/a1SNk/src/execute_request.jl:86",
      " [5] #invokelatest#1 at ./essentials.jl:710 [inlined]",
      " [6] invokelatest at ./essentials.jl:709 [inlined]",
      " [7] eventloop(::ZMQ.Socket) at /home/sinan/.julia/packages/IJulia/a1SNk/src/eventloop.jl:8",
      " [8] (::IJulia.var\"#15#18\")() at ./task.jl:356"
     ]
    }
   ],
   "source": [
    "plot(xg,yg,ψ̄₂,levels=range(-0.2,0.1,length=31),clim=(1,2),xlim=(0,4),ylim=(0,4))\n",
    "#plot!(xg,yg,ψ̄₂exfield,levels=range(-0.2,0.1,length=31),clim=(-2,-2),xlim=(0,4),ylim=(0,4))\n",
    "plot!(body,fillcolor=:black,linecolor=:black)"
   ]
  },
  {
   "cell_type": "code",
   "execution_count": 51,
   "metadata": {},
   "outputs": [
    {
     "ename": "LoadError",
     "evalue": "UndefVarError: xg not defined",
     "output_type": "error",
     "traceback": [
      "UndefVarError: xg not defined",
      "",
      "Stacktrace:",
      " [1] top-level scope at In[51]:1",
      " [2] include_string(::Function, ::Module, ::String, ::String) at ./loading.jl:1091",
      " [3] execute_code(::String, ::String) at /home/sinan/.julia/packages/IJulia/a1SNk/src/execute_request.jl:27",
      " [4] execute_request(::ZMQ.Socket, ::IJulia.Msg) at /home/sinan/.julia/packages/IJulia/a1SNk/src/execute_request.jl:86",
      " [5] #invokelatest#1 at ./essentials.jl:710 [inlined]",
      " [6] invokelatest at ./essentials.jl:709 [inlined]",
      " [7] eventloop(::ZMQ.Socket) at /home/sinan/.julia/packages/IJulia/a1SNk/src/eventloop.jl:8",
      " [8] (::IJulia.var\"#15#18\")() at ./task.jl:356"
     ]
    }
   ],
   "source": [
    "sqrt(xg[119]^2+yg[119]^2)"
   ]
  },
  {
   "cell_type": "code",
   "execution_count": 52,
   "metadata": {},
   "outputs": [
    {
     "ename": "LoadError",
     "evalue": "UndefVarError: xg not defined",
     "output_type": "error",
     "traceback": [
      "UndefVarError: xg not defined",
      "",
      "Stacktrace:",
      " [1] top-level scope at In[52]:2",
      " [2] include_string(::Function, ::Module, ::String, ::String) at ./loading.jl:1091",
      " [3] execute_code(::String, ::String) at /home/sinan/.julia/packages/IJulia/a1SNk/src/execute_request.jl:27",
      " [4] execute_request(::ZMQ.Socket, ::IJulia.Msg) at /home/sinan/.julia/packages/IJulia/a1SNk/src/execute_request.jl:86",
      " [5] #invokelatest#1 at ./essentials.jl:710 [inlined]",
      " [6] invokelatest at ./essentials.jl:709 [inlined]",
      " [7] eventloop(::ZMQ.Socket) at /home/sinan/.julia/packages/IJulia/a1SNk/src/eventloop.jl:8",
      " [8] (::IJulia.var\"#15#18\")() at ./task.jl:356"
     ]
    }
   ],
   "source": [
    "ig = 120\n",
    "plot(sqrt.(xg[ig:end].^2+yg[ig:end].^2),map(i -> ψ̄₂[i,i],ig:length(xg)),ylim=(-1,1),xlim=(1,5),label=\"DNS\",xlabel=\"r\")\n",
    "plot!(sqrt.(xg[ig:end].^2+yg[ig:end].^2),map((x,y) -> ψ̄₂ex(x,y),xg[ig:end],yg[ig:end]),label=\"Analytical\",grid=:true)"
   ]
  },
  {
   "cell_type": "code",
   "execution_count": 53,
   "metadata": {},
   "outputs": [
    {
     "data": {
      "text/plain": [
       "(240, 240)"
      ]
     },
     "execution_count": 53,
     "metadata": {},
     "output_type": "execute_result"
    }
   ],
   "source": [
    "sampij = (240,240) # indices of sample point"
   ]
  },
  {
   "cell_type": "code",
   "execution_count": 54,
   "metadata": {},
   "outputs": [
    {
     "ename": "LoadError",
     "evalue": "UndefVarError: sys not defined",
     "output_type": "error",
     "traceback": [
      "UndefVarError: sys not defined",
      "",
      "Stacktrace:",
      " [1] top-level scope at In[54]:1",
      " [2] include_string(::Function, ::Module, ::String, ::String) at ./loading.jl:1091",
      " [3] execute_code(::String, ::String) at /home/sinan/.julia/packages/IJulia/a1SNk/src/execute_request.jl:27",
      " [4] execute_request(::ZMQ.Socket, ::IJulia.Msg) at /home/sinan/.julia/packages/IJulia/a1SNk/src/execute_request.jl:86",
      " [5] #invokelatest#1 at ./essentials.jl:710 [inlined]",
      " [6] invokelatest at ./essentials.jl:709 [inlined]",
      " [7] eventloop(::ZMQ.Socket) at /home/sinan/.julia/packages/IJulia/a1SNk/src/eventloop.jl:8",
      " [8] (::IJulia.var\"#15#18\")() at ./task.jl:356"
     ]
    }
   ],
   "source": [
    "xg, yg = coordinates(w₀,sys.grid)\n",
    "xeval = xg[sampij[1]]\n",
    "yeval = yg[sampij[2]]\n",
    "reval = sqrt(xeval^2+yeval^2)"
   ]
  },
  {
   "cell_type": "code",
   "execution_count": 55,
   "metadata": {},
   "outputs": [
    {
     "ename": "LoadError",
     "evalue": "UndefVarError: w2hist not defined",
     "output_type": "error",
     "traceback": [
      "UndefVarError: w2hist not defined",
      "",
      "Stacktrace:",
      " [1] top-level scope at In[55]:1",
      " [2] include_string(::Function, ::Module, ::String, ::String) at ./loading.jl:1091",
      " [3] execute_code(::String, ::String) at /home/sinan/.julia/packages/IJulia/a1SNk/src/execute_request.jl:27",
      " [4] execute_request(::ZMQ.Socket, ::IJulia.Msg) at /home/sinan/.julia/packages/IJulia/a1SNk/src/execute_request.jl:86",
      " [5] #invokelatest#1 at ./essentials.jl:710 [inlined]",
      " [6] invokelatest at ./essentials.jl:709 [inlined]",
      " [7] eventloop(::ZMQ.Socket) at /home/sinan/.julia/packages/IJulia/a1SNk/src/eventloop.jl:8",
      " [8] (::IJulia.var\"#15#18\")() at ./task.jl:356"
     ]
    }
   ],
   "source": [
    "ω₂hist = vorticity_history(sampij,w2hist,sys);"
   ]
  },
  {
   "cell_type": "code",
   "execution_count": 56,
   "metadata": {},
   "outputs": [
    {
     "ename": "LoadError",
     "evalue": "UndefVarError: thist not defined",
     "output_type": "error",
     "traceback": [
      "UndefVarError: thist not defined",
      "",
      "Stacktrace:",
      " [1] top-level scope at In[56]:1",
      " [2] include_string(::Function, ::Module, ::String, ::String) at ./loading.jl:1091",
      " [3] execute_code(::String, ::String) at /home/sinan/.julia/packages/IJulia/a1SNk/src/execute_request.jl:27",
      " [4] execute_request(::ZMQ.Socket, ::IJulia.Msg) at /home/sinan/.julia/packages/IJulia/a1SNk/src/execute_request.jl:86",
      " [5] #invokelatest#1 at ./essentials.jl:710 [inlined]",
      " [6] invokelatest at ./essentials.jl:709 [inlined]",
      " [7] eventloop(::ZMQ.Socket) at /home/sinan/.julia/packages/IJulia/a1SNk/src/eventloop.jl:8",
      " [8] (::IJulia.var\"#15#18\")() at ./task.jl:356"
     ]
    }
   ],
   "source": [
    "plot(thist,ω₂hist,label=\"DNS\",ylim=(-30,30))\n",
    "plot!(thist,ω₂ex(xeval,yeval,thist),label=\"Analytical\")"
   ]
  },
  {
   "cell_type": "code",
   "execution_count": 57,
   "metadata": {},
   "outputs": [
    {
     "ename": "LoadError",
     "evalue": "UndefVarError: w₀ not defined",
     "output_type": "error",
     "traceback": [
      "UndefVarError: w₀ not defined",
      "",
      "Stacktrace:",
      " [1] top-level scope at In[57]:1",
      " [2] include_string(::Function, ::Module, ::String, ::String) at ./loading.jl:1091",
      " [3] execute_code(::String, ::String) at /home/sinan/.julia/packages/IJulia/a1SNk/src/execute_request.jl:27",
      " [4] execute_request(::ZMQ.Socket, ::IJulia.Msg) at /home/sinan/.julia/packages/IJulia/a1SNk/src/execute_request.jl:86",
      " [5] #invokelatest#1 at ./essentials.jl:710 [inlined]",
      " [6] invokelatest at ./essentials.jl:709 [inlined]",
      " [7] eventloop(::ZMQ.Socket) at /home/sinan/.julia/packages/IJulia/a1SNk/src/eventloop.jl:8",
      " [8] (::IJulia.var\"#15#18\")() at ./task.jl:356"
     ]
    }
   ],
   "source": [
    "xuedge, yuedge, xvedge, yvedge = coordinates(Edges(Primal,w₀),sys.grid)\n",
    "xeval = xuedge[sampij[1]]\n",
    "yeval = yuedge[sampij[2]]\n",
    "reval = sqrt(xeval^2+yeval^2)"
   ]
  },
  {
   "cell_type": "code",
   "execution_count": 58,
   "metadata": {},
   "outputs": [
    {
     "ename": "LoadError",
     "evalue": "UndefVarError: w2hist not defined",
     "output_type": "error",
     "traceback": [
      "UndefVarError: w2hist not defined",
      "",
      "Stacktrace:",
      " [1] top-level scope at In[58]:1",
      " [2] include_string(::Function, ::Module, ::String, ::String) at ./loading.jl:1091",
      " [3] execute_code(::String, ::String) at /home/sinan/.julia/packages/IJulia/a1SNk/src/execute_request.jl:27",
      " [4] execute_request(::ZMQ.Socket, ::IJulia.Msg) at /home/sinan/.julia/packages/IJulia/a1SNk/src/execute_request.jl:86",
      " [5] #invokelatest#1 at ./essentials.jl:710 [inlined]",
      " [6] invokelatest at ./essentials.jl:709 [inlined]",
      " [7] eventloop(::ZMQ.Socket) at /home/sinan/.julia/packages/IJulia/a1SNk/src/eventloop.jl:8",
      " [8] (::IJulia.var\"#15#18\")() at ./task.jl:356"
     ]
    }
   ],
   "source": [
    "u₂hist, v₂hist = velocity_history(sampij,w2hist,sys);"
   ]
  },
  {
   "cell_type": "code",
   "execution_count": 59,
   "metadata": {},
   "outputs": [
    {
     "ename": "LoadError",
     "evalue": "UndefVarError: thist not defined",
     "output_type": "error",
     "traceback": [
      "UndefVarError: thist not defined",
      "",
      "Stacktrace:",
      " [1] top-level scope at In[59]:1",
      " [2] include_string(::Function, ::Module, ::String, ::String) at ./loading.jl:1091",
      " [3] execute_code(::String, ::String) at /home/sinan/.julia/packages/IJulia/a1SNk/src/execute_request.jl:27",
      " [4] execute_request(::ZMQ.Socket, ::IJulia.Msg) at /home/sinan/.julia/packages/IJulia/a1SNk/src/execute_request.jl:86",
      " [5] #invokelatest#1 at ./essentials.jl:710 [inlined]",
      " [6] invokelatest at ./essentials.jl:709 [inlined]",
      " [7] eventloop(::ZMQ.Socket) at /home/sinan/.julia/packages/IJulia/a1SNk/src/eventloop.jl:8",
      " [8] (::IJulia.var\"#15#18\")() at ./task.jl:356"
     ]
    }
   ],
   "source": [
    "plot(thist,u₂hist,ylim=(-2,2),label=\"DNS\")\n",
    "plot!(thist,u₂ex(xeval,yeval,thist),xlim=(0,8π),label=\"Analytical\")"
   ]
  },
  {
   "cell_type": "code",
   "execution_count": 60,
   "metadata": {},
   "outputs": [
    {
     "ename": "LoadError",
     "evalue": "UndefVarError: thist not defined",
     "output_type": "error",
     "traceback": [
      "UndefVarError: thist not defined",
      "",
      "Stacktrace:",
      " [1] top-level scope at In[60]:1",
      " [2] include_string(::Function, ::Module, ::String, ::String) at ./loading.jl:1091",
      " [3] execute_code(::String, ::String) at /home/sinan/.julia/packages/IJulia/a1SNk/src/execute_request.jl:27",
      " [4] execute_request(::ZMQ.Socket, ::IJulia.Msg) at /home/sinan/.julia/packages/IJulia/a1SNk/src/execute_request.jl:86",
      " [5] #invokelatest#1 at ./essentials.jl:710 [inlined]",
      " [6] invokelatest at ./essentials.jl:709 [inlined]",
      " [7] eventloop(::ZMQ.Socket) at /home/sinan/.julia/packages/IJulia/a1SNk/src/eventloop.jl:8",
      " [8] (::IJulia.var\"#15#18\")() at ./task.jl:356"
     ]
    }
   ],
   "source": [
    "plot(thist,v₂hist,ylim=(-2,2),label=\"DNS\")\n",
    "plot!(thist,v₂ex(xeval,yeval,thist),xlim=(0,8π),label=\"Analytical\")"
   ]
  },
  {
   "cell_type": "code",
   "execution_count": 61,
   "metadata": {},
   "outputs": [
    {
     "ename": "LoadError",
     "evalue": "UndefVarError: thist not defined",
     "output_type": "error",
     "traceback": [
      "UndefVarError: thist not defined",
      "",
      "Stacktrace:",
      " [1] top-level scope at In[61]:2",
      " [2] include_string(::Function, ::Module, ::String, ::String) at ./loading.jl:1091",
      " [3] execute_code(::String, ::String) at /home/sinan/.julia/packages/IJulia/a1SNk/src/execute_request.jl:27",
      " [4] execute_request(::ZMQ.Socket, ::IJulia.Msg) at /home/sinan/.julia/packages/IJulia/a1SNk/src/execute_request.jl:86",
      " [5] #invokelatest#1 at ./essentials.jl:710 [inlined]",
      " [6] invokelatest at ./essentials.jl:709 [inlined]",
      " [7] eventloop(::ZMQ.Socket) at /home/sinan/.julia/packages/IJulia/a1SNk/src/eventloop.jl:8",
      " [8] (::IJulia.var\"#15#18\")() at ./task.jl:356"
     ]
    }
   ],
   "source": [
    "iplot = 380\n",
    "println(\"Time/period = \",thist[iplot]/(2π))\n",
    "usamp = (w1hist[iplot],w2hist[iplot],dX1hist[iplot],dX2hist[iplot],X̂hist[iplot])\n",
    "rhs1samp = TimeMarching.r₁(usamp,thist[iplot])\n",
    "rhs2samp = TimeMarching.r₂(usamp,thist[iplot]);"
   ]
  },
  {
   "cell_type": "markdown",
   "metadata": {},
   "source": [
    "#### The right-hand side of the second-order constraint equation"
   ]
  },
  {
   "cell_type": "code",
   "execution_count": 62,
   "metadata": {},
   "outputs": [
    {
     "ename": "LoadError",
     "evalue": "type #coords has no field u",
     "output_type": "error",
     "traceback": [
      "type #coords has no field u",
      "",
      "Stacktrace:",
      " [1] getproperty(::Function, ::Symbol) at ./Base.jl:33",
      " [2] top-level scope at In[62]:1",
      " [3] include_string(::Function, ::Module, ::String, ::String) at ./loading.jl:1091",
      " [4] execute_code(::String, ::String) at /home/sinan/.julia/packages/IJulia/a1SNk/src/execute_request.jl:27",
      " [5] execute_request(::ZMQ.Socket, ::IJulia.Msg) at /home/sinan/.julia/packages/IJulia/a1SNk/src/execute_request.jl:86",
      " [6] #invokelatest#1 at ./essentials.jl:710 [inlined]",
      " [7] invokelatest at ./essentials.jl:709 [inlined]",
      " [8] eventloop(::ZMQ.Socket) at /home/sinan/.julia/packages/IJulia/a1SNk/src/eventloop.jl:8",
      " [9] (::IJulia.var\"#15#18\")() at ./task.jl:356"
     ]
    }
   ],
   "source": [
    "θ = range(0,2π,length=length(coords.u)+1)\n",
    "plot(θ[1:end-1],rhs2samp[2].u,xlim=(0,2π),ylim=(-2,2),label=\"DNS\",xlabel=\"θ\")\n",
    "plot!(θ[1:end-1],map((x,y) -> u₂ex(x,y,thist[iplot]),cos.(θ[1:end-1]),sin.(θ[1:end-1])),label=\"Analytical\")\n",
    "plot!(θ[1:end-1],rhs2samp[2].v,xlim=(0,2π),ylim=(-2,2),label=\"DNS\",xlabel=\"θ\")\n",
    "plot!(θ[1:end-1],map((x,y) -> v₂ex(x,y,thist[iplot]),cos.(θ[1:end-1]),sin.(θ[1:end-1])),label=\"Analytical\")"
   ]
  },
  {
   "cell_type": "markdown",
   "metadata": {},
   "source": [
    "#### History of RHS of second-order equation at sample point"
   ]
  },
  {
   "cell_type": "code",
   "execution_count": 63,
   "metadata": {},
   "outputs": [
    {
     "data": {
      "text/plain": [
       "(240, 240)"
      ]
     },
     "execution_count": 63,
     "metadata": {},
     "output_type": "execute_result"
    }
   ],
   "source": [
    "sampij = (240,240) # indices of sample point"
   ]
  },
  {
   "cell_type": "code",
   "execution_count": 64,
   "metadata": {},
   "outputs": [
    {
     "ename": "LoadError",
     "evalue": "UndefVarError: sys not defined",
     "output_type": "error",
     "traceback": [
      "UndefVarError: sys not defined",
      "",
      "Stacktrace:",
      " [1] top-level scope at In[64]:1",
      " [2] include_string(::Function, ::Module, ::String, ::String) at ./loading.jl:1091",
      " [3] execute_code(::String, ::String) at /home/sinan/.julia/packages/IJulia/a1SNk/src/execute_request.jl:27",
      " [4] execute_request(::ZMQ.Socket, ::IJulia.Msg) at /home/sinan/.julia/packages/IJulia/a1SNk/src/execute_request.jl:86",
      " [5] #invokelatest#1 at ./essentials.jl:710 [inlined]",
      " [6] invokelatest at ./essentials.jl:709 [inlined]",
      " [7] eventloop(::ZMQ.Socket) at /home/sinan/.julia/packages/IJulia/a1SNk/src/eventloop.jl:8",
      " [8] (::IJulia.var\"#15#18\")() at ./task.jl:356"
     ]
    }
   ],
   "source": [
    "xg, yg = coordinates(w₀,sys.grid)\n",
    "xeval = xg[sampij[1]]\n",
    "yeval = yg[sampij[2]]\n",
    "reval = sqrt(xeval^2+yeval^2)\n",
    "coseval = xeval/reval\n",
    "sineval = yeval/reval\n",
    "sin2eval = 2*sineval*coseval\n",
    "reval"
   ]
  },
  {
   "cell_type": "code",
   "execution_count": 65,
   "metadata": {},
   "outputs": [
    {
     "ename": "LoadError",
     "evalue": "UndefVarError: w1hist not defined",
     "output_type": "error",
     "traceback": [
      "UndefVarError: w1hist not defined",
      "",
      "Stacktrace:",
      " [1] top-level scope at In[65]:1",
      " [2] include_string(::Function, ::Module, ::String, ::String) at ./loading.jl:1091",
      " [3] execute_code(::String, ::String) at /home/sinan/.julia/packages/IJulia/a1SNk/src/execute_request.jl:27",
      " [4] execute_request(::ZMQ.Socket, ::IJulia.Msg) at /home/sinan/.julia/packages/IJulia/a1SNk/src/execute_request.jl:86",
      " [5] #invokelatest#1 at ./essentials.jl:710 [inlined]",
      " [6] invokelatest at ./essentials.jl:709 [inlined]",
      " [7] eventloop(::ZMQ.Socket) at /home/sinan/.julia/packages/IJulia/a1SNk/src/eventloop.jl:8",
      " [8] (::IJulia.var\"#15#18\")() at ./task.jl:356"
     ]
    }
   ],
   "source": [
    "rhshist = nl_history(sampij,w1hist,sys);"
   ]
  },
  {
   "cell_type": "code",
   "execution_count": 66,
   "metadata": {},
   "outputs": [
    {
     "ename": "LoadError",
     "evalue": "UndefVarError: thist not defined",
     "output_type": "error",
     "traceback": [
      "UndefVarError: thist not defined",
      "",
      "Stacktrace:",
      " [1] top-level scope at In[66]:1",
      " [2] include_string(::Function, ::Module, ::String, ::String) at ./loading.jl:1091",
      " [3] execute_code(::String, ::String) at /home/sinan/.julia/packages/IJulia/a1SNk/src/execute_request.jl:27",
      " [4] execute_request(::ZMQ.Socket, ::IJulia.Msg) at /home/sinan/.julia/packages/IJulia/a1SNk/src/execute_request.jl:86",
      " [5] #invokelatest#1 at ./essentials.jl:710 [inlined]",
      " [6] invokelatest at ./essentials.jl:709 [inlined]",
      " [7] eventloop(::ZMQ.Socket) at /home/sinan/.julia/packages/IJulia/a1SNk/src/eventloop.jl:8",
      " [8] (::IJulia.var\"#15#18\")() at ./task.jl:356"
     ]
    }
   ],
   "source": [
    "itr = length(thist)-floor(Int,2π/(Ω*Δt))+1:length(thist)\n",
    "println(\"Mean value of DNS-computed RHS = \",Statistics.mean(rhshist[itr]))\n",
    "println(\"Mean value analytical RHS = \",real(f₀(reval)/p.Re*sin2eval))"
   ]
  },
  {
   "cell_type": "code",
   "execution_count": 67,
   "metadata": {},
   "outputs": [
    {
     "ename": "LoadError",
     "evalue": "UndefVarError: thist not defined",
     "output_type": "error",
     "traceback": [
      "UndefVarError: thist not defined",
      "",
      "Stacktrace:",
      " [1] top-level scope at In[67]:1",
      " [2] include_string(::Function, ::Module, ::String, ::String) at ./loading.jl:1091",
      " [3] execute_code(::String, ::String) at /home/sinan/.julia/packages/IJulia/a1SNk/src/execute_request.jl:27",
      " [4] execute_request(::ZMQ.Socket, ::IJulia.Msg) at /home/sinan/.julia/packages/IJulia/a1SNk/src/execute_request.jl:86",
      " [5] #invokelatest#1 at ./essentials.jl:710 [inlined]",
      " [6] invokelatest at ./essentials.jl:709 [inlined]",
      " [7] eventloop(::ZMQ.Socket) at /home/sinan/.julia/packages/IJulia/a1SNk/src/eventloop.jl:8",
      " [8] (::IJulia.var\"#15#18\")() at ./task.jl:356"
     ]
    }
   ],
   "source": [
    "plot(thist,rhshist,label=\"DNS\")\n",
    "plot!(thist,real.(f₀(reval)/p.Re .+ g₀(reval)/p.Re*exp.(-2im*thist))*sin2eval,label=\"Analytical\")"
   ]
  },
  {
   "cell_type": "markdown",
   "metadata": {},
   "source": [
    "#### Compute the drift streamfunction\n",
    "\n",
    "$\\psi_d = \\frac{1}{2} \\overline{v_1 \\times \\Delta X_1}$"
   ]
  },
  {
   "cell_type": "code",
   "execution_count": 68,
   "metadata": {},
   "outputs": [
    {
     "ename": "LoadError",
     "evalue": "UndefVarError: thist not defined",
     "output_type": "error",
     "traceback": [
      "UndefVarError: thist not defined",
      "",
      "Stacktrace:",
      " [1] top-level scope at In[68]:1",
      " [2] include_string(::Function, ::Module, ::String, ::String) at ./loading.jl:1091",
      " [3] execute_code(::String, ::String) at /home/sinan/.julia/packages/IJulia/a1SNk/src/execute_request.jl:27",
      " [4] execute_request(::ZMQ.Socket, ::IJulia.Msg) at /home/sinan/.julia/packages/IJulia/a1SNk/src/execute_request.jl:86",
      " [5] #invokelatest#1 at ./essentials.jl:710 [inlined]",
      " [6] invokelatest at ./essentials.jl:709 [inlined]",
      " [7] eventloop(::ZMQ.Socket) at /home/sinan/.julia/packages/IJulia/a1SNk/src/eventloop.jl:8",
      " [8] (::IJulia.var\"#15#18\")() at ./task.jl:356"
     ]
    }
   ],
   "source": [
    "itr = length(thist)-floor(Int,2π/(Ω*Δt))+1:length(thist)\n",
    "vx = zero(w₀) \n",
    "vy = zero(w₀) \n",
    "Xx = zero(w₀) \n",
    "Xy = zero(w₀)\n",
    "ψd = zero(w₀)\n",
    "ψdhist = []\n",
    "for (i,dX) in enumerate(dX1hist)\n",
    "    cellshift!((vx,vy),curl(sys.L\\w1hist[i])) # -v₁, on the dual nodes\n",
    "    cellshift!((Xx,Xy),dX) # ΔX₁, on the dual nodes\n",
    "    ψd .= rmul!(Xx∘vy-Xy∘vx,0.5) # 0.5(v₁ × ΔX₁)\n",
    "    push!(ψdhist,ψd)\n",
    "end\n",
    "ψd .= average(ψdhist,itr);"
   ]
  },
  {
   "cell_type": "markdown",
   "metadata": {},
   "source": [
    "#### Plot the streamlines of the average"
   ]
  },
  {
   "cell_type": "code",
   "execution_count": 69,
   "metadata": {},
   "outputs": [
    {
     "ename": "LoadError",
     "evalue": "UndefVarError: sys not defined",
     "output_type": "error",
     "traceback": [
      "UndefVarError: sys not defined",
      "",
      "Stacktrace:",
      " [1] top-level scope at In[69]:1",
      " [2] include_string(::Function, ::Module, ::String, ::String) at ./loading.jl:1091",
      " [3] execute_code(::String, ::String) at /home/sinan/.julia/packages/IJulia/a1SNk/src/execute_request.jl:27",
      " [4] execute_request(::ZMQ.Socket, ::IJulia.Msg) at /home/sinan/.julia/packages/IJulia/a1SNk/src/execute_request.jl:86",
      " [5] #invokelatest#1 at ./essentials.jl:710 [inlined]",
      " [6] invokelatest at ./essentials.jl:709 [inlined]",
      " [7] eventloop(::ZMQ.Socket) at /home/sinan/.julia/packages/IJulia/a1SNk/src/eventloop.jl:8",
      " [8] (::IJulia.var\"#15#18\")() at ./task.jl:356"
     ]
    }
   ],
   "source": [
    "xg,yg = coordinates(w₀,sys.grid)\n",
    "ψ̄₂d = deepcopy(ψ̄₂)\n",
    "ψ̄₂d .+= ψd\n",
    "plot(xg,yg,ψ̄₂d,levels=range(-0.2,0.1,length=31),clim=(1,2),xlim=(0,4),ylim=(0,4))\n",
    "#plot!(xg,yg,ψ̄₂exfield,levels=range(-0.5,0.5,length=31),clim=(-2,-2),xlim=(0,4),ylim=(0,4))\n",
    "plot!(body,fillcolor=:black,linecolor=:black)"
   ]
  },
  {
   "cell_type": "code",
   "execution_count": null,
   "metadata": {},
   "outputs": [],
   "source": []
  }
 ],
 "metadata": {
  "kernelspec": {
   "display_name": "JuliaPro_v1.5.3-1 1.5.3",
   "language": "julia",
   "name": "juliapro_v1.5.3-1-1.5"
  },
  "language_info": {
   "file_extension": ".jl",
   "mimetype": "application/julia",
   "name": "julia",
   "version": "1.5.3"
  }
 },
 "nbformat": 4,
 "nbformat_minor": 2
}
