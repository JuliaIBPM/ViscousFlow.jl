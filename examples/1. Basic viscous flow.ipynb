{
 "cells": [
  {
   "cell_type": "markdown",
   "metadata": {},
   "source": [
    "# 1. Basic viscous flow\n",
    "In this example, we will simulate various examples of a basic *unbounded* viscous flow---a flow without boundaries. Our initial condition will be a distribution of *vorticity*."
   ]
  },
  {
   "cell_type": "code",
   "execution_count": null,
   "metadata": {},
   "outputs": [],
   "source": [
    "using ViscousFlow"
   ]
  },
  {
   "cell_type": "code",
   "execution_count": null,
   "metadata": {},
   "outputs": [],
   "source": [
    "using Plots"
   ]
  },
  {
   "cell_type": "markdown",
   "metadata": {},
   "source": [
    "### The basic steps\n",
    "To carry out any simulation in `ViscousFlow`, we need to carry out a few basic steps:\n",
    "* **Specify the problem**: Set the Reynolds number and free stream\n",
    "* **Discretize**: Set up a solution domain, grid cell size, time step size\n",
    "* **Construct the system structure**: Create the operators that will be used to perform the simulation\n",
    "* **Initialize**: Set the initial flow field and initialize the integrator\n",
    "* **Solve**: Solve the flow field\n",
    "* **Examine**: Examine the results\n",
    "\n",
    "We will go through all of these here. For the examples we will carry out in this notebook, the first three steps need only be carried out once."
   ]
  },
  {
   "cell_type": "markdown",
   "metadata": {},
   "source": [
    "### Problem specification\n",
    "We will set the Reynolds number to be 200 and no free stream"
   ]
  },
  {
   "cell_type": "code",
   "execution_count": null,
   "metadata": {},
   "outputs": [],
   "source": [
    "Re = 200"
   ]
  },
  {
   "cell_type": "markdown",
   "metadata": {},
   "source": [
    "### Discretize\n",
    "We will set up a domain from x = -2 to x = 2, and y = -2 to y = 2. The Reynolds number helps us determine the grid spacing `Δx` and time step size `Δt`. To set these, we set a target *grid Reynolds number*, `gridRe`. We will set this to 4 here; if we ignore it, it defaults to 2. Note that this choice is a compromise:\n",
    "* smaller grid Reynolds number means smaller grid spacing, and slower simulations\n",
    "* larger grid Reynolds number means less accurate results"
   ]
  },
  {
   "cell_type": "code",
   "execution_count": null,
   "metadata": {},
   "outputs": [],
   "source": [
    "xlim = (-2.0,2.0)\n",
    "ylim = (-2.0,2.0)\n",
    "\n",
    "Δx, Δt = setstepsizes(Re,gridRe=4)"
   ]
  },
  {
   "cell_type": "markdown",
   "metadata": {},
   "source": [
    "### Construct the system structure\n",
    "This part is easy - you just supply the parameters you have just set up. It returns a structure with all of the necessary mathematical operators:"
   ]
  },
  {
   "cell_type": "code",
   "execution_count": null,
   "metadata": {},
   "outputs": [],
   "source": [
    "sys = NavierStokes(Re,Δx,xlim,ylim,Δt)"
   ]
  },
  {
   "cell_type": "markdown",
   "metadata": {},
   "source": [
    "Now, we will solve a few different problems"
   ]
  },
  {
   "cell_type": "markdown",
   "metadata": {},
   "source": [
    "## A basic example: the Lamb-Oseen vortex\n",
    "This example starts with a single vortex with a Gaussian distribution of vorticity. To generate this, will use the `SpatialGaussian` function:"
   ]
  },
  {
   "cell_type": "code",
   "execution_count": null,
   "metadata": {},
   "outputs": [],
   "source": [
    "σ = 0.2\n",
    "x0 = 0.0\n",
    "y0 = 0.0\n",
    "A = 1\n",
    "gauss = SpatialGaussian(σ,x0,y0,A) # places a Gaussian with radius \\sigma at (0,0) with strength 1."
   ]
  },
  {
   "cell_type": "markdown",
   "metadata": {},
   "source": [
    "### Initialize\n",
    "Now, we create an instance of this vorticity distribution on the grid. "
   ]
  },
  {
   "cell_type": "code",
   "execution_count": null,
   "metadata": {
    "scrolled": true
   },
   "outputs": [],
   "source": [
    "u0 = newstate(gauss,sys)"
   ]
  },
  {
   "cell_type": "markdown",
   "metadata": {},
   "source": [
    "We use this initial condition to initialize the **integrator**. The integrator is the structure that holds all of our solution and operator information. With it, we can start the simulation, restart the simulation later, etc. We specify a range of time over which to advance the solution.\n",
    "\n",
    "**Note**: This initial range is not very important, and we can always add on to it later. There is no need to restart the problem."
   ]
  },
  {
   "cell_type": "code",
   "execution_count": null,
   "metadata": {},
   "outputs": [],
   "source": [
    "tspan = (0.0,1.0)\n",
    "integrator = init(u0,tspan,sys)"
   ]
  },
  {
   "cell_type": "markdown",
   "metadata": {},
   "source": [
    "### Solve\n",
    "Now we are ready to solve the problem. Let's advance the solution to $t = 1$:"
   ]
  },
  {
   "cell_type": "code",
   "execution_count": null,
   "metadata": {},
   "outputs": [],
   "source": [
    "step!(integrator,1.0)"
   ]
  },
  {
   "cell_type": "markdown",
   "metadata": {},
   "source": [
    "We can see now that the solution has been advanced in time:"
   ]
  },
  {
   "cell_type": "code",
   "execution_count": null,
   "metadata": {},
   "outputs": [],
   "source": [
    "integrator"
   ]
  },
  {
   "cell_type": "markdown",
   "metadata": {},
   "source": [
    "### Examine\n",
    "Let's examine the results. It is important to show a few different ways that we can do this. The most straightforward way is to just look at the flow fields at the current state of the integrator. For example, to get the current velocity field, type `velocity(integrator)`. We can do the same for `vorticity`, `streamfunction` (the streamlines), `scalarpotential`, `convective_derivative`, and `pressure`."
   ]
  },
  {
   "cell_type": "markdown",
   "metadata": {},
   "source": [
    "We will look at some of these at the current state:"
   ]
  },
  {
   "cell_type": "code",
   "execution_count": null,
   "metadata": {},
   "outputs": [],
   "source": [
    "plot(\n",
    "plot(vorticity(integrator),sys,title=\"Vorticity\"),\n",
    "plot(streamfunction(integrator),sys,title=\"Streamlines\"),\n",
    "plot(pressure(integrator),sys,title=\"Pressure\"),\n",
    "    plot(velocity(integrator),sys)\n",
    "    )"
   ]
  },
  {
   "cell_type": "markdown",
   "metadata": {},
   "source": [
    "For this problem, we can compare with the exact solution. The exact solution is also a Gaussian, but with a radius $\\sqrt{\\sigma^2+4t/Re}$"
   ]
  },
  {
   "cell_type": "code",
   "execution_count": null,
   "metadata": {},
   "outputs": [],
   "source": [
    "oseen_exact(t) = SpatialGaussian(sqrt(σ^2+4*t/Re),x0,y0,A)\n",
    "exactsol(t) = newstate(oseen_exact(t),sys)"
   ]
  },
  {
   "cell_type": "code",
   "execution_count": null,
   "metadata": {},
   "outputs": [],
   "source": [
    "plot(vorticity(integrator)[:,104],label=\"Numerical\")\n",
    "plot!(vorticity(exactsol(integrator.t),sys,integrator.t)[:,104],label=\"Exact\")\n",
    "plot!(title=string(\"Vorticity at t = \",round(integrator.t,digits=2)))"
   ]
  },
  {
   "cell_type": "markdown",
   "metadata": {},
   "source": [
    "## Second example: co-rotating vortices\n",
    "The previous example is not very exciting, because the convection of the flow is simply circular. The next example is more interesting, because we will start with two vortices that influence each other's motion:"
   ]
  },
  {
   "cell_type": "code",
   "execution_count": null,
   "metadata": {},
   "outputs": [],
   "source": [
    "σ = 0.1\n",
    "x01, y01 = 0.5, 0.0\n",
    "x02, y02 = -0.5, 0.0\n",
    "A = 1\n",
    "twogauss = SpatialGaussian(σ,x01,y01,A) + SpatialGaussian(σ,x02,y02,A)"
   ]
  },
  {
   "cell_type": "markdown",
   "metadata": {},
   "source": [
    "### Initialize\n",
    "Now, we create an instance of this vorticity distribution on the grid. "
   ]
  },
  {
   "cell_type": "code",
   "execution_count": null,
   "metadata": {
    "scrolled": true
   },
   "outputs": [],
   "source": [
    "u0 = newstate(twogauss,sys)"
   ]
  },
  {
   "cell_type": "code",
   "execution_count": null,
   "metadata": {},
   "outputs": [],
   "source": [
    "plot(vorticity(u0,sys,0.0),sys)"
   ]
  },
  {
   "cell_type": "markdown",
   "metadata": {},
   "source": [
    "We use this initial condition to initialize the **integrator**. The integrator is the structure that holds all of our solution and operator information. With it, we can start the simulation, restart the simulation later, etc. We specify a range of time over which to advance the solution.\n",
    "\n",
    "**Note**: This initial range is not very important, and we can always add on to it later. There is no need to restart the problem."
   ]
  },
  {
   "cell_type": "code",
   "execution_count": null,
   "metadata": {},
   "outputs": [],
   "source": [
    "tspan = (0.0,8.0)\n",
    "integrator = init(u0,tspan,sys)"
   ]
  },
  {
   "cell_type": "markdown",
   "metadata": {},
   "source": [
    "### Solve\n",
    "Now we are ready to solve the problem. Let's advance the solution to $t = 8$:"
   ]
  },
  {
   "cell_type": "code",
   "execution_count": null,
   "metadata": {},
   "outputs": [],
   "source": [
    "step!(integrator,8.0)"
   ]
  },
  {
   "cell_type": "markdown",
   "metadata": {},
   "source": [
    "### Examine\n",
    "In this case, it is best to view the results as an animation. In the previous example, we just looked at the final state of the integrator. Here, to animate, we will make use of the solution history that is held by the integrator, `integrator.sol`. Let's create an alias for this to shorten our commands:"
   ]
  },
  {
   "cell_type": "code",
   "execution_count": null,
   "metadata": {},
   "outputs": [],
   "source": [
    "sol = integrator.sol;"
   ]
  },
  {
   "cell_type": "markdown",
   "metadata": {},
   "source": [
    "Now we will animate the solution, plotting the vorticity every 5 steps"
   ]
  },
  {
   "cell_type": "code",
   "execution_count": null,
   "metadata": {},
   "outputs": [],
   "source": [
    "@gif for (u,t) in zip(sol.u,sol.t)\n",
    "    plot(vorticity(u,sys,t),sys)\n",
    "end every 5"
   ]
  },
  {
   "cell_type": "markdown",
   "metadata": {},
   "source": [
    "The vortices orbit each other and then eventually merge together. If we wish to make a nice figure, we can arrange snapshots on a grid:"
   ]
  },
  {
   "cell_type": "code",
   "execution_count": null,
   "metadata": {},
   "outputs": [],
   "source": [
    "plt = plot(layout = (2,4), size = (800, 400), legend=:false)\n",
    "frame = 1\n",
    "for i in 1:8\n",
    "    plot!(plt[i],vorticity(sol[frame],sys,sol.t[frame]),sys,levels=range(0.1,5,length=31))\n",
    "    frame += 100\n",
    "end\n",
    "savefig(plt,\"CoRotating.pdf\")\n",
    "plt"
   ]
  },
  {
   "cell_type": "markdown",
   "metadata": {},
   "source": [
    "**You are encouraged to try other examples**:\n",
    "* Make one or both of the vortices into elliptical shapes\n",
    "* Make one stronger than the other\n",
    "* Add other vortices into the initial distribution"
   ]
  },
  {
   "cell_type": "code",
   "execution_count": null,
   "metadata": {},
   "outputs": [],
   "source": []
  }
 ],
 "metadata": {
  "@webio": {
   "lastCommId": null,
   "lastKernelId": null
  },
  "kernelspec": {
   "display_name": "Julia 1.4.2",
   "language": "julia",
   "name": "julia-1.4"
  },
  "language_info": {
   "file_extension": ".jl",
   "mimetype": "application/julia",
   "name": "julia",
   "version": "1.4.2"
  }
 },
 "nbformat": 4,
 "nbformat_minor": 2
}
